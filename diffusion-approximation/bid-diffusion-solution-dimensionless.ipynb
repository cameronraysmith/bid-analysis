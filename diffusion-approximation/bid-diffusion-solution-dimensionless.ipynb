{
 "cells": [
  {
   "cell_type": "markdown",
   "id": "b820a5e6-028f-4082-bbda-1d65a692f822",
   "metadata": {},
   "source": [
    "# Solving the diffusion approximation to the dimensionless birth-immigration-death process\n",
    "\n",
    "<!-- <center><font size=\"+4\">Solving the diffusion approximation to the birth-immigration-death process</font></center> -->"
   ]
  },
  {
   "cell_type": "markdown",
   "id": "e15c5663-8e27-41c1-a512-1bf42e4b7c28",
   "metadata": {},
   "source": [
    "## Forward Laplace transform"
   ]
  },
  {
   "cell_type": "code",
   "execution_count": 1,
   "id": "94272d2a-31e3-456a-868b-f75d782ca03a",
   "metadata": {
    "execution": {
     "iopub.execute_input": "2021-09-01T20:11:25Z",
     "iopub.status.busy": "2021-09-01T20:11:25Z",
     "iopub.status.idle": "2021-09-01T20:11:25Z",
     "shell.execute_reply": "2021-09-01T20:11:25Z"
    },
    "tags": []
   },
   "outputs": [
    {
     "data": {
      "text/latex": [
       "\\[\\tag{${\\it \\%o}_{1}$}{\\it diffusioneqn}\\left(\\rho , s , M\\right):={\\it diff}\\left(\\rho , \\tau\\right)-\\frac{1}{2\\,s}\\,{\\it diff}\\left(x\\,\\rho , x , 2\\right)+{\\it diff}\\left(x\\,\\rho , x , 1\\right)+M\\,{\\it diff}\\left(\\rho , x\\right)\\]"
      ],
      "text/plain": [
       "                                                    1\n",
       "(%o1) diffusioneqn(rho, s, M) := diff(rho, tau) - (---) diff(x rho, x, 2)\n",
       "                                                   2 s\n",
       "                                           + diff(x rho, x, 1) + M diff(rho, x)"
      ],
      "text/x-maxima": [
       "diffusioneqn(rho,s,M):=diff(rho,tau)-(1/(2*s))*diff(x*rho,x,2)+diff(x*rho,x,1)\n",
       "             +M*diff(rho,x)"
      ]
     },
     "execution_count": 1,
     "metadata": {},
     "output_type": "execute_result"
    }
   ],
   "source": [
    "diffusioneqn (rho, s, M) := \n",
    "    diff (rho, tau) -\n",
    "    (1/(2*s)) * diff (x * rho, x, 2) +\n",
    "    diff (x * rho, x, 1) +\n",
    "    M * diff (rho, x);"
   ]
  },
  {
   "cell_type": "code",
   "execution_count": 2,
   "id": "41238674-c657-46e2-9999-3b82342847ca",
   "metadata": {
    "execution": {
     "iopub.execute_input": "2021-09-01T20:11:25Z",
     "iopub.status.busy": "2021-09-01T20:11:25Z",
     "iopub.status.idle": "2021-09-01T20:11:25Z",
     "shell.execute_reply": "2021-09-01T20:11:25Z"
    },
    "tags": []
   },
   "outputs": [
    {
     "data": {
      "text/latex": [
       "\\[\\tag{${\\it \\%o}_{2}$}{\\it cgfeqn}\\left({\\it gam} , s , M\\right):={\\it diff}\\left({\\it gam} , \\tau\\right)+\\left(\\frac{1}{2\\,s}\\,\\vartheta^2-\\vartheta\\right)\\,{\\it diff}\\left({\\it gam} , \\vartheta\\right)+\\left(-M\\right)\\,\\vartheta\\]"
      ],
      "text/plain": [
       "(%o2) cgfeqn(gam, s, M) := diff(gam, tau)\n",
       "                             1        2\n",
       "                        + ((---) theta  - theta) diff(gam, theta) + (- M) theta\n",
       "                            2 s"
      ],
      "text/x-maxima": [
       "cgfeqn(gam,s,M):=diff(gam,tau)+((1/(2*s))*theta^2-theta)*diff(gam,theta)\n",
       "       +(-M)*theta"
      ]
     },
     "execution_count": 2,
     "metadata": {},
     "output_type": "execute_result"
    }
   ],
   "source": [
    "cgfeqn (gam, s, M) := \n",
    "    diff (gam, tau) +\n",
    "    ((1/(2*s)) * theta^2 - theta) * diff (gam, theta) -\n",
    "    M * theta;"
   ]
  },
  {
   "cell_type": "code",
   "execution_count": 3,
   "id": "1099345e-22eb-43ba-8c75-810526ca7b4d",
   "metadata": {
    "execution": {
     "iopub.execute_input": "2021-09-01T20:11:25Z",
     "iopub.status.busy": "2021-09-01T20:11:25Z",
     "iopub.status.idle": "2021-09-01T20:11:25Z",
     "shell.execute_reply": "2021-09-01T20:11:25Z"
    },
    "tags": []
   },
   "outputs": [
    {
     "data": {
      "text/latex": [
       "\\[\\tag{${\\it \\%o}_{3}$}-\\frac{x\\,\\left(\\frac{d^2}{d\\,x^2}\\,\\rho_{0}\\left(x , \\tau\\right)\\right)-2\\,s\\,x\\,\\left(\\frac{d}{d\\,x}\\,\\rho_{0}\\left(x , \\tau\\right)\\right)-2\\,M\\,s\\,\\left(\\frac{d}{d\\,x}\\,\\rho_{0}\\left(x , \\tau\\right)\\right)+2\\,\\left(\\frac{d}{d\\,x}\\,\\rho_{0}\\left(x , \\tau\\right)\\right)-2\\,s\\,\\left(\\frac{d}{d\\,\\tau}\\,\\rho_{0}\\left(x , \\tau\\right)\\right)-2\\,s\\,\\rho_{0}\\left(x , \\tau\\right)}{2\\,s}\\]"
      ],
      "text/plain": [
       "             2\n",
       "            d                            d\n",
       "(%o3) - (x (--- (rho0(x, tau))) - 2 s x (-- (rho0(x, tau)))\n",
       "              2                          dx\n",
       "            dx\n",
       "          d                       d\n",
       " - 2 M s (-- (rho0(x, tau))) + 2 (-- (rho0(x, tau)))\n",
       "          dx                      dx\n",
       "         d\n",
       " - 2 s (---- (rho0(x, tau))) - 2 s rho0(x, tau))/(2 s)\n",
       "        dtau"
      ],
      "text/x-maxima": [
       "-(x*'diff(rho0(x,tau),x,2)-2*s*x*'diff(rho0(x,tau),x,1)\n",
       "                          -2*M*s*'diff(rho0(x,tau),x,1)\n",
       "                          +2*'diff(rho0(x,tau),x,1)\n",
       "                          -2*s*'diff(rho0(x,tau),tau,1)-2*s*rho0(x,tau))\n",
       " /(2*s)"
      ]
     },
     "execution_count": 3,
     "metadata": {},
     "output_type": "execute_result"
    }
   ],
   "source": [
    "factor(diffusioneqn (rho0(x,tau), s, M));"
   ]
  },
  {
   "cell_type": "markdown",
   "id": "df27b486-1699-4b06-a7be-9dce96c84997",
   "metadata": {},
   "source": [
    "## Characteristic equation"
   ]
  },
  {
   "cell_type": "markdown",
   "id": "89ff8f95-826b-4af6-be5e-f4b1a5466c13",
   "metadata": {},
   "source": [
    "Compute the integral for the implicit solution."
   ]
  },
  {
   "cell_type": "code",
   "execution_count": 4,
   "id": "d92edab9-69d5-4acc-9541-5d04b2e942dc",
   "metadata": {
    "execution": {
     "iopub.execute_input": "2021-09-01T20:11:25Z",
     "iopub.status.busy": "2021-09-01T20:11:25Z",
     "iopub.status.idle": "2021-09-01T20:11:25Z",
     "shell.execute_reply": "2021-09-01T20:11:25Z"
    },
    "tags": []
   },
   "outputs": [
    {
     "data": {
      "text/latex": [
       "\\[\\tag{${\\it \\%o}_{4}$}\\log \\left(\\frac{{\\it thp}-2\\,s}{{\\it thp}}\\right)\\]"
      ],
      "text/plain": [
       "                                    thp - 2 s\n",
       "(%o4)                           log(---------)\n",
       "                                       thp"
      ],
      "text/x-maxima": [
       "log((thp-2*s)/thp)"
      ]
     },
     "execution_count": 4,
     "metadata": {},
     "output_type": "execute_result"
    }
   ],
   "source": [
    "implicitint : logcontract(integrate(1/(thp^2/(2*s) -  thp), thp));"
   ]
  },
  {
   "cell_type": "code",
   "execution_count": 5,
   "id": "9dc3b80b-455a-42cd-ab58-523fd655f1b4",
   "metadata": {
    "execution": {
     "iopub.execute_input": "2021-09-01T20:11:25Z",
     "iopub.status.busy": "2021-09-01T20:11:25Z",
     "iopub.status.idle": "2021-09-01T20:11:25Z",
     "shell.execute_reply": "2021-09-01T20:11:25Z"
    }
   },
   "outputs": [
    {
     "data": {
      "text/latex": [
       "\\[\\tag{${\\it \\%o}_{5}$}\\frac{2\\,s}{{\\it thp}\\,\\left({\\it thp}-2\\,s\\right)}\\]"
      ],
      "text/plain": [
       "                                      2 s\n",
       "(%o5)                           ---------------\n",
       "                                thp (thp - 2 s)"
      ],
      "text/x-maxima": [
       "(2*s)/(thp*(thp-2*s))"
      ]
     },
     "execution_count": 5,
     "metadata": {},
     "output_type": "execute_result"
    }
   ],
   "source": [
    "factor(diff(implicitint, thp));"
   ]
  },
  {
   "cell_type": "code",
   "execution_count": 6,
   "id": "4501d6f9-1f8d-42bb-bf4f-3e50928791ca",
   "metadata": {
    "execution": {
     "iopub.execute_input": "2021-09-01T20:11:25Z",
     "iopub.status.busy": "2021-09-01T20:11:25Z",
     "iopub.status.idle": "2021-09-01T20:11:25Z",
     "shell.execute_reply": "2021-09-01T20:11:25Z"
    }
   },
   "outputs": [
    {
     "data": {
      "text/latex": [
       "\\[\\tag{${\\it \\%o}_{6}$}\\log \\left(\\frac{\\left(\\vartheta-2\\,s\\right)\\,\\vartheta_{0}}{\\vartheta\\,\\left(\\vartheta_{0}-2\\,s\\right)}\\right)\\]"
      ],
      "text/plain": [
       "                               (theta - 2 s) theta0\n",
       "(%o6)                      log(--------------------)\n",
       "                               theta (theta0 - 2 s)"
      ],
      "text/x-maxima": [
       "log(((theta-2*s)*theta0)/(theta*(theta0-2*s)))"
      ]
     },
     "execution_count": 6,
     "metadata": {},
     "output_type": "execute_result"
    }
   ],
   "source": [
    "logcontract(subst(theta, thp, implicitint) -\n",
    "    subst(theta0, thp, implicitint));"
   ]
  },
  {
   "cell_type": "code",
   "execution_count": 7,
   "id": "47bdd902-a6ba-4618-bf2d-f5e7dd1cc707",
   "metadata": {
    "execution": {
     "iopub.execute_input": "2021-09-01T20:11:25Z",
     "iopub.status.busy": "2021-09-01T20:11:25Z",
     "iopub.status.idle": "2021-09-01T20:11:25Z",
     "shell.execute_reply": "2021-09-01T20:11:25Z"
    },
    "tags": []
   },
   "outputs": [
    {
     "data": {
      "text/plain": [
       "((MTIMES SIMP) ((MPLUS SIMP) ((MTIMES SIMP) -2 $S) $THETA) $THETA0\n",
       " ((MEXPT SIMP) ((MPLUS SIMP) ((MTIMES SIMP) -2 $S) $THETA0) -1)\n",
       " ((MEXPT SIMP) $THETA -1))"
      ]
     },
     "execution_count": 7,
     "metadata": {},
     "output_type": "execute_result"
    }
   ],
   "source": [
    ":lisp (msetq $implicitsol '((MTIMES SIMP) ((MPLUS SIMP) ((MTIMES SIMP) -2 $S ) $THETA) $THETA0 ((MEXPT SIMP) ((MPLUS SIMP) ((MTIMES SIMP) -2 $S) $THETA0) -1) ((MEXPT SIMP) $THETA -1)))"
   ]
  },
  {
   "cell_type": "code",
   "execution_count": 8,
   "id": "117bb3ed-12fb-47a0-b2d9-191082ed85c9",
   "metadata": {
    "execution": {
     "iopub.execute_input": "2021-09-01T20:11:25Z",
     "iopub.status.busy": "2021-09-01T20:11:25Z",
     "iopub.status.idle": "2021-09-01T20:11:25Z",
     "shell.execute_reply": "2021-09-01T20:11:25Z"
    },
    "tags": []
   },
   "outputs": [
    {
     "data": {
      "text/latex": [
       "\\[\\tag{${\\it \\%o}_{8}$}0\\]"
      ],
      "text/plain": [
       "(%o8)                                  0"
      ],
      "text/x-maxima": [
       "0"
      ]
     },
     "execution_count": 8,
     "metadata": {},
     "output_type": "execute_result"
    }
   ],
   "source": [
    "logcontract(subst(theta, thp, implicitint) -\n",
    "    subst(theta0, thp, implicitint) -\n",
    "    log(implicitsol));"
   ]
  },
  {
   "cell_type": "markdown",
   "id": "7dbb70b1-934a-4110-b8d2-212222a1b5e0",
   "metadata": {},
   "source": [
    "Solve the implicit equation."
   ]
  },
  {
   "cell_type": "code",
   "execution_count": 9,
   "id": "9d0d1589-a072-4349-9c7b-a49cc3b9bf8f",
   "metadata": {
    "execution": {
     "iopub.execute_input": "2021-09-01T20:11:25Z",
     "iopub.status.busy": "2021-09-01T20:11:25Z",
     "iopub.status.idle": "2021-09-01T20:11:25Z",
     "shell.execute_reply": "2021-09-01T20:11:25Z"
    },
    "tags": []
   },
   "outputs": [
    {
     "data": {
      "text/latex": [
       "\\[\\tag{${\\it \\%o}_{9}$}\\vartheta=-\\frac{2\\,s\\,\\vartheta_{0}}{\\left(e^{\\tau}-1\\right)\\,\\vartheta_{0}-2\\,s\\,e^{\\tau}}\\]"
      ],
      "text/plain": [
       "                                       2 s theta0\n",
       "(%o9)              theta = - ------------------------------\n",
       "                                tau                     tau\n",
       "                             (%e    - 1) theta0 - 2 s %e"
      ],
      "text/x-maxima": [
       "theta = -(2*s*theta0)/((%e^tau-1)*theta0-2*s*%e^tau)"
      ]
     },
     "execution_count": 9,
     "metadata": {},
     "output_type": "execute_result"
    },
    {
     "data": {
      "text/latex": [
       "\\[\\tag{${\\it \\%o}_{10}$}\\vartheta_{0}=\\frac{2\\,s\\,e^{\\tau}\\,\\vartheta}{\\left(e^{\\tau}-1\\right)\\,\\vartheta+2\\,s}\\]"
      ],
      "text/plain": [
       "                                          tau\n",
       "                                    2 s %e    theta\n",
       "(%o10)                 theta0 = -----------------------\n",
       "                                   tau\n",
       "                                (%e    - 1) theta + 2 s"
      ],
      "text/x-maxima": [
       "theta0 = (2*s*%e^tau*theta)/((%e^tau-1)*theta+2*s)"
      ]
     },
     "execution_count": 9,
     "metadata": {},
     "output_type": "execute_result"
    }
   ],
   "source": [
    "thetasol : solve ([implicitsol = %e^(tau)], [theta])[1];\n",
    "theta0sol : solve ([implicitsol = %e^(tau)], [theta0])[1];"
   ]
  },
  {
   "cell_type": "markdown",
   "id": "f03d08a3-f0ca-4ff2-8b36-8ebec863da6f",
   "metadata": {},
   "source": [
    "Check the solution."
   ]
  },
  {
   "cell_type": "code",
   "execution_count": 10,
   "id": "7c80bf2f-1c18-4bf7-bf31-c75a637e1693",
   "metadata": {
    "execution": {
     "iopub.execute_input": "2021-09-01T20:11:25Z",
     "iopub.status.busy": "2021-09-01T20:11:25Z",
     "iopub.status.idle": "2021-09-01T20:11:25Z",
     "shell.execute_reply": "2021-09-01T20:11:25Z"
    },
    "tags": []
   },
   "outputs": [
    {
     "data": {
      "text/latex": [
       "\\[\\tag{${\\it \\%o}_{11}$}\\vartheta=\\vartheta_{0}\\]"
      ],
      "text/plain": [
       "(%o11)                          theta = theta0"
      ],
      "text/x-maxima": [
       "theta = theta0"
      ]
     },
     "execution_count": 10,
     "metadata": {},
     "output_type": "execute_result"
    }
   ],
   "source": [
    "subst(0, tau,  thetasol);"
   ]
  },
  {
   "cell_type": "code",
   "execution_count": 11,
   "id": "04ee9a2a-228b-43e9-bff7-8f64bcf682b6",
   "metadata": {
    "execution": {
     "iopub.execute_input": "2021-09-01T20:11:25Z",
     "iopub.status.busy": "2021-09-01T20:11:25Z",
     "iopub.status.idle": "2021-09-01T20:11:25Z",
     "shell.execute_reply": "2021-09-01T20:11:25Z"
    },
    "tags": []
   },
   "outputs": [
    {
     "data": {
      "text/latex": [
       "\\[\\tag{${\\it \\%o}_{12}$}{\\it chareqn}\\left(\\vartheta\\right):={\\it diff}\\left(\\vartheta , \\tau\\right)-\\frac{1}{2\\,s}\\,\\vartheta^2+\\vartheta\\]"
      ],
      "text/plain": [
       "                                                  1        2\n",
       "(%o12)     chareqn(theta) := diff(theta, tau) - (---) theta  + theta\n",
       "                                                 2 s"
      ],
      "text/x-maxima": [
       "chareqn(theta):=diff(theta,tau)-(1/(2*s))*theta^2+theta"
      ]
     },
     "execution_count": 11,
     "metadata": {},
     "output_type": "execute_result"
    }
   ],
   "source": [
    "chareqn(theta) := diff(theta, tau) - (1/(2*s)) * theta^2 + theta;"
   ]
  },
  {
   "cell_type": "code",
   "execution_count": 12,
   "id": "bba06860-3a68-404e-b5e7-f5666a4f8276",
   "metadata": {
    "execution": {
     "iopub.execute_input": "2021-09-01T20:11:25Z",
     "iopub.status.busy": "2021-09-01T20:11:25Z",
     "iopub.status.idle": "2021-09-01T20:11:25Z",
     "shell.execute_reply": "2021-09-01T20:11:25Z"
    },
    "tags": []
   },
   "outputs": [
    {
     "data": {
      "text/latex": [
       "\\[\\tag{${\\it \\%o}_{13}$}0\\]"
      ],
      "text/plain": [
       "(%o13)                                 0"
      ],
      "text/x-maxima": [
       "0"
      ]
     },
     "execution_count": 12,
     "metadata": {},
     "output_type": "execute_result"
    }
   ],
   "source": [
    "factor(chareqn(part(thetasol, 2)));"
   ]
  },
  {
   "cell_type": "markdown",
   "id": "aa5a1178-68db-4123-a851-ba0c6c086231",
   "metadata": {},
   "source": [
    "## Homogeneous solution"
   ]
  },
  {
   "cell_type": "markdown",
   "id": "b0d55572-084d-4d62-af14-e1d46d625c62",
   "metadata": {},
   "source": [
    "Re-expressing $u$ in terms of $\\tau$ and including the initial condition $P(x,0) = \\delta(x-x_0) \\Rightarrow \\Gamma_{\\mathrm{hom}}(\\theta, 0)=x_0 \\, \\theta$, where $\\Rightarrow$ indicates taking the logarithm of the Laplace transform, yields"
   ]
  },
  {
   "cell_type": "code",
   "execution_count": 13,
   "id": "f671651b-b490-4139-af6f-abf67169b395",
   "metadata": {
    "execution": {
     "iopub.execute_input": "2021-09-01T20:11:25Z",
     "iopub.status.busy": "2021-09-01T20:11:25Z",
     "iopub.status.idle": "2021-09-01T20:11:25Z",
     "shell.execute_reply": "2021-09-01T20:11:25Z"
    },
    "tags": []
   },
   "outputs": [
    {
     "data": {
      "text/latex": [
       "\\[\\tag{${\\it \\%o}_{14}$}\\frac{2\\,s\\,e^{\\tau}\\,\\vartheta\\,x_{0}}{\\left(e^{\\tau}-1\\right)\\,\\vartheta+2\\,s}\\]"
      ],
      "text/plain": [
       "                                    tau\n",
       "                              2 s %e    theta x0\n",
       "(%o14)                      -----------------------\n",
       "                               tau\n",
       "                            (%e    - 1) theta + 2 s"
      ],
      "text/x-maxima": [
       "(2*s*%e^tau*theta*x0)/((%e^tau-1)*theta+2*s)"
      ]
     },
     "execution_count": 13,
     "metadata": {},
     "output_type": "execute_result"
    }
   ],
   "source": [
    "gamhom : x0 * part(theta0sol, 2);"
   ]
  },
  {
   "cell_type": "markdown",
   "id": "d33e7bc9-4d51-4f9b-afcd-1422e320c2cb",
   "metadata": {},
   "source": [
    "Noting $M=0$ in the homogeneous case"
   ]
  },
  {
   "cell_type": "code",
   "execution_count": 14,
   "id": "4c6a314e-abf6-4706-9ab3-365ef8980c46",
   "metadata": {
    "execution": {
     "iopub.execute_input": "2021-09-01T20:11:25Z",
     "iopub.status.busy": "2021-09-01T20:11:25Z",
     "iopub.status.idle": "2021-09-01T20:11:25Z",
     "shell.execute_reply": "2021-09-01T20:11:25Z"
    },
    "tags": []
   },
   "outputs": [
    {
     "data": {
      "text/latex": [
       "\\[\\tag{${\\it \\%o}_{15}$}0\\]"
      ],
      "text/plain": [
       "(%o15)                                 0"
      ],
      "text/x-maxima": [
       "0"
      ]
     },
     "execution_count": 14,
     "metadata": {},
     "output_type": "execute_result"
    }
   ],
   "source": [
    "factor(cgfeqn (gamhom, s, 0));"
   ]
  },
  {
   "cell_type": "markdown",
   "id": "67e14a9b-5289-4db0-b20e-efb4bc212099",
   "metadata": {},
   "source": [
    "## Inhomogeneous solutions"
   ]
  },
  {
   "cell_type": "markdown",
   "id": "f43c8141-fba4-49ef-99c7-7299924fc7d9",
   "metadata": {},
   "source": [
    "Find the characteristic which passes through a given point (theta_f, tau_f)."
   ]
  },
  {
   "cell_type": "code",
   "execution_count": 15,
   "id": "978c89a1-5666-4b00-a11b-59eddfe6dd81",
   "metadata": {
    "execution": {
     "iopub.execute_input": "2021-09-01T20:11:25Z",
     "iopub.status.busy": "2021-09-01T20:11:25Z",
     "iopub.status.idle": "2021-09-01T20:11:25Z",
     "shell.execute_reply": "2021-09-01T20:11:25Z"
    },
    "tags": []
   },
   "outputs": [
    {
     "data": {
      "text/latex": [
       "\\[\\tag{${\\it \\%o}_{16}$}\\vartheta_{0}=\\frac{2\\,s\\,e^{{\\it tauf}}\\,{\\it thetaf}}{\\left(e^{{\\it tauf}}-1\\right)\\,{\\it thetaf}+2\\,s}\\]"
      ],
      "text/plain": [
       "                                         tauf\n",
       "                                   2 s %e     thetaf\n",
       "(%o16)                theta0 = -------------------------\n",
       "                                  tauf\n",
       "                               (%e     - 1) thetaf + 2 s"
      ],
      "text/x-maxima": [
       "theta0 = (2*s*%e^tauf*thetaf)/((%e^tauf-1)*thetaf+2*s)"
      ]
     },
     "execution_count": 15,
     "metadata": {},
     "output_type": "execute_result"
    }
   ],
   "source": [
    "th0sol : solve([thetaf = \n",
    "        subst(tauf, tau, part(thetasol, 2))], [theta0])[1];"
   ]
  },
  {
   "cell_type": "code",
   "execution_count": 16,
   "id": "35607b11-0949-44c2-96c6-c0ae8dbb1d16",
   "metadata": {
    "execution": {
     "iopub.execute_input": "2021-09-01T20:11:25Z",
     "iopub.status.busy": "2021-09-01T20:11:25Z",
     "iopub.status.idle": "2021-09-01T20:11:25Z",
     "shell.execute_reply": "2021-09-01T20:11:25Z"
    },
    "tags": []
   },
   "outputs": [
    {
     "data": {
      "text/latex": [
       "\\[\\tag{${\\it \\%o}_{17}$}\\vartheta=\\frac{2\\,s\\,e^{{\\it tauf}}\\,{\\it thetaf}}{e^{{\\it tauf}}\\,{\\it thetaf}-e^{\\tau}\\,{\\it thetaf}+2\\,s\\,e^{\\tau}}\\]"
      ],
      "text/plain": [
       "                                        tauf\n",
       "                                  2 s %e     thetaf\n",
       "(%o17)         theta = ----------------------------------------\n",
       "                         tauf            tau                tau\n",
       "                       %e     thetaf - %e    thetaf + 2 s %e"
      ],
      "text/x-maxima": [
       "theta = (2*s*%e^tauf*thetaf)/(%e^tauf*thetaf-%e^tau*thetaf+2*s*%e^tau)"
      ]
     },
     "execution_count": 16,
     "metadata": {},
     "output_type": "execute_result"
    }
   ],
   "source": [
    "thfsol : factor(psubst(th0sol, thetasol));"
   ]
  },
  {
   "cell_type": "code",
   "execution_count": 17,
   "id": "ef98c7ef-2be4-4869-b84a-32989a4894ab",
   "metadata": {
    "execution": {
     "iopub.execute_input": "2021-09-01T20:11:25Z",
     "iopub.status.busy": "2021-09-01T20:11:25Z",
     "iopub.status.idle": "2021-09-01T20:11:25Z",
     "shell.execute_reply": "2021-09-01T20:11:25Z"
    },
    "tags": []
   },
   "outputs": [
    {
     "data": {
      "text/latex": [
       "\\[\\tag{${\\it \\%o}_{18}$}\\vartheta={\\it thetaf}\\]"
      ],
      "text/plain": [
       "(%o18)                          theta = thetaf"
      ],
      "text/x-maxima": [
       "theta = thetaf"
      ]
     },
     "execution_count": 17,
     "metadata": {},
     "output_type": "execute_result"
    }
   ],
   "source": [
    "subst(tauf, tau, thfsol);"
   ]
  },
  {
   "cell_type": "markdown",
   "id": "c4f7b6fe-5b13-4cdb-8402-4c47df116aeb",
   "metadata": {},
   "source": [
    "Integrate along that characteristic."
   ]
  },
  {
   "cell_type": "code",
   "execution_count": 18,
   "id": "03cc3d62-17ed-450d-b363-b9631fb8ffed",
   "metadata": {
    "execution": {
     "iopub.execute_input": "2021-09-01T20:11:25Z",
     "iopub.status.busy": "2021-09-01T20:11:25Z",
     "iopub.status.idle": "2021-09-01T20:11:25Z",
     "shell.execute_reply": "2021-09-01T20:11:25Z"
    }
   },
   "outputs": [
    {
     "data": {
      "text/latex": [
       "\\[\\tag{${\\it \\%o}_{19}$}2\\,s\\,e^{{\\it tauf}}\\,{\\it thetaf}\\,\\left(\\frac{\\tau\\,e^ {- {\\it tauf} }}{{\\it thetaf}}-\\frac{e^ {- {\\it tauf} }\\,\\log \\left(e^{\\tau}\\,\\left({\\it thetaf}-2\\,s\\right)-e^{{\\it tauf}}\\,{\\it thetaf}\\right)}{{\\it thetaf}}\\right)\\]"
      ],
      "text/plain": [
       "                                - tauf\n",
       "             tauf         tau %e\n",
       "(%o19) 2 s %e     thetaf (------------\n",
       "                             thetaf\n",
       "                              - tauf       tau                    tauf\n",
       "                            %e       log(%e    (thetaf - 2 s) - %e     thetaf)\n",
       "                          - --------------------------------------------------)\n",
       "                                                  thetaf"
      ],
      "text/x-maxima": [
       "2*s*%e^tauf*thetaf\n",
       " *((tau*%e^-tauf)/thetaf-(%e^-tauf*log(%e^tau*(thetaf-2*s)-%e^tauf*thetaf))\n",
       "                         /thetaf)"
      ]
     },
     "execution_count": 18,
     "metadata": {},
     "output_type": "execute_result"
    }
   ],
   "source": [
    "ginhint : integrate(part(thfsol, 2), tau);"
   ]
  },
  {
   "cell_type": "code",
   "execution_count": 19,
   "id": "aa6034ee-ff06-4b12-908e-8cb413524fdb",
   "metadata": {
    "execution": {
     "iopub.execute_input": "2021-09-01T20:11:25Z",
     "iopub.status.busy": "2021-09-01T20:11:25Z",
     "iopub.status.idle": "2021-09-01T20:11:25Z",
     "shell.execute_reply": "2021-09-01T20:11:25Z"
    },
    "tags": []
   },
   "outputs": [
    {
     "data": {
      "text/latex": [
       "\\[\\tag{${\\it \\%o}_{20}$}s\\,{\\it thetaf}\\,e^{s\\,{\\it uf}}\\,\\left(\\frac{u\\,e^ {- s\\,{\\it uf} }}{D\\,{\\it thetaf}}-\\frac{e^ {- s\\,{\\it uf} }\\,\\log \\left(\\left(D\\,{\\it thetaf}-s\\right)\\,e^{s\\,u}-D\\,{\\it thetaf}\\,e^{s\\,{\\it uf}}\\right)}{D\\,s\\,{\\it thetaf}}\\right)\\]"
      ],
      "text/plain": [
       "                            - s uf\n",
       "                  s uf  u %e\n",
       "(%o20) s thetaf %e     (----------\n",
       "                         D thetaf\n",
       "                            - s uf                      s u              s uf\n",
       "                          %e       log((D thetaf - s) %e    - D thetaf %e    )\n",
       "                        - ----------------------------------------------------)\n",
       "                                               D s thetaf"
      ],
      "text/x-maxima": [
       "s*thetaf*%e^(s*uf)\n",
       " *((u*%e^-(s*uf))/(D*thetaf)-(%e^-(s*uf)\n",
       "                             *log((D*thetaf-s)*%e^(s*u)-D*thetaf*%e^(s*uf)))\n",
       "                             /(D*s*thetaf))"
      ]
     },
     "execution_count": 19,
     "metadata": {},
     "output_type": "execute_result"
    }
   ],
   "source": [
    "ginhint : integrate((thetaf*s*%e^(uf*s))/\n",
    "    (s*%e^(s*u)-D*thetaf*%e^(s*u)+D*thetaf*%e^(uf*s)), u);"
   ]
  },
  {
   "cell_type": "markdown",
   "id": "ca1674e5-854c-400a-ac74-59df329e9fe9",
   "metadata": {},
   "source": [
    "Check the solution."
   ]
  },
  {
   "cell_type": "code",
   "execution_count": 20,
   "id": "6a6bb760-5c6d-4951-8f0e-7fd21d81a0e1",
   "metadata": {
    "execution": {
     "iopub.execute_input": "2021-09-01T20:11:25Z",
     "iopub.status.busy": "2021-09-01T20:11:25Z",
     "iopub.status.idle": "2021-09-01T20:11:25Z",
     "shell.execute_reply": "2021-09-01T20:11:25Z"
    }
   },
   "outputs": [
    {
     "data": {
      "text/latex": [
       "\\[\\tag{${\\it \\%o}_{21}$}-M\\,\\vartheta\\]"
      ],
      "text/plain": [
       "(%o21)                             - M theta"
      ],
      "text/x-maxima": [
       "-M*theta"
      ]
     },
     "execution_count": 20,
     "metadata": {},
     "output_type": "execute_result"
    }
   ],
   "source": [
    "factor(cgfeqn (psubst([tauf = tau, thetaf = theta], gaminh), s, M));"
   ]
  },
  {
   "cell_type": "code",
   "execution_count": 21,
   "id": "e4055b01-d8e0-45e7-b0aa-b9d4bf6eb45b",
   "metadata": {
    "execution": {
     "iopub.execute_input": "2021-09-01T20:11:25Z",
     "iopub.status.busy": "2021-09-01T20:11:25Z",
     "iopub.status.idle": "2021-09-01T20:11:25Z",
     "shell.execute_reply": "2021-09-01T20:11:25Z"
    },
    "tags": []
   },
   "outputs": [
    {
     "data": {
      "text/latex": [
       "\\[\\tag{${\\it \\%o}_{22}$}0\\]"
      ],
      "text/plain": [
       "(%o22)                                 0"
      ],
      "text/x-maxima": [
       "0"
      ]
     },
     "execution_count": 21,
     "metadata": {},
     "output_type": "execute_result"
    }
   ],
   "source": [
    "gaminh : M *logcontract(ev(factor(subst(tauf, tau, ginhint) - \n",
    "            subst(0, tau, ginhint)), logexpand=super));"
   ]
  },
  {
   "cell_type": "markdown",
   "id": "0ac6e834-8fb0-472b-95cf-4742daf88cf6",
   "metadata": {},
   "source": [
    "## Inverse Laplace transform"
   ]
  },
  {
   "cell_type": "markdown",
   "id": "6ee0a3e9-645d-40fa-97fe-0c10eba75477",
   "metadata": {},
   "source": [
    "### Homogeneous solution"
   ]
  },
  {
   "cell_type": "markdown",
   "id": "dc9e462d-a63e-4f44-90d6-7d6fdcace870",
   "metadata": {},
   "source": [
    "We proceed by constructing a change of variable to place the inverse Laplace transform integral into a form enabling the identification of a Bessel function solution. Combining the form of the Laplace transform with the form of `gamhom` we have"
   ]
  },
  {
   "cell_type": "code",
   "execution_count": 22,
   "id": "ae04d055-ef3e-4261-b106-3f6b463f90a6",
   "metadata": {
    "execution": {
     "iopub.execute_input": "2021-09-01T20:11:25Z",
     "iopub.status.busy": "2021-09-01T20:11:25Z",
     "iopub.status.idle": "2021-09-01T20:11:25Z",
     "shell.execute_reply": "2021-09-01T20:11:25Z"
    },
    "tags": []
   },
   "outputs": [
    {
     "data": {
      "text/latex": [
       "\\[\\tag{${\\it \\%o}_{23}$}\\vartheta\\,x-\\frac{a\\,\\vartheta}{b\\,\\vartheta+1}\\]"
      ],
      "text/plain": [
       "                                         a theta\n",
       "(%o23)                       theta x - -----------\n",
       "                                       b theta + 1"
      ],
      "text/x-maxima": [
       "theta*x-(a*theta)/(b*theta+1)"
      ]
     },
     "execution_count": 22,
     "metadata": {},
     "output_type": "execute_result"
    }
   ],
   "source": [
    "schemintgr : x * theta  - a * theta / (b * theta + 1);"
   ]
  },
  {
   "cell_type": "markdown",
   "id": "be5a1636-383c-494a-8e83-a3a11aed1b62",
   "metadata": {},
   "source": [
    "The following change of variable $\\theta \\rightarrow \\theta'$ will render `shemintgr` a function of $\\theta' + \\frac{1}{\\theta'}$ as expected for a Bessel function"
   ]
  },
  {
   "cell_type": "code",
   "execution_count": 23,
   "id": "f9f40a79-b888-4e1c-bed7-d8636c0cfbae",
   "metadata": {
    "execution": {
     "iopub.execute_input": "2021-09-01T20:11:25Z",
     "iopub.status.busy": "2021-09-01T20:11:25Z",
     "iopub.status.idle": "2021-09-01T20:11:25Z",
     "shell.execute_reply": "2021-09-01T20:11:25Z"
    },
    "tags": []
   },
   "outputs": [
    {
     "data": {
      "text/latex": [
       "\\[\\tag{${\\it \\%o}_{24}$}c\\,{\\it thp}\\,x-\\frac{x}{b}+\\frac{a}{b^2\\,c\\,{\\it thp}}-\\frac{a}{b}\\]"
      ],
      "text/plain": [
       "                                    x      a       a\n",
       "(%o24)                    c thp x - - + -------- - -\n",
       "                                    b    2         b\n",
       "                                        b  c thp"
      ],
      "text/x-maxima": [
       "c*thp*x-x/b+a/(b^2*c*thp)-a/b"
      ]
     },
     "execution_count": 23,
     "metadata": {},
     "output_type": "execute_result"
    }
   ],
   "source": [
    "expand(subst(c * thp - 1/b, theta, schemintgr));"
   ]
  },
  {
   "cell_type": "markdown",
   "id": "352cf9bf-46a7-4ed0-8200-402d4d94d0d4",
   "metadata": {},
   "source": [
    "Since we are looking for a form that includes a single factor of $\\theta' + \\frac{1}{\\theta'}$ we look for $c x = \\frac{a}{b^2 c}$"
   ]
  },
  {
   "cell_type": "code",
   "execution_count": 24,
   "id": "037626dc-d661-4b0b-962c-0b8a60621d63",
   "metadata": {
    "execution": {
     "iopub.execute_input": "2021-09-01T20:11:25Z",
     "iopub.status.busy": "2021-09-01T20:11:25Z",
     "iopub.status.idle": "2021-09-01T20:11:25Z",
     "shell.execute_reply": "2021-09-01T20:11:25Z"
    },
    "tags": []
   },
   "outputs": [
    {
     "data": {
      "text/latex": [
       "\\[\\tag{${\\it \\%o}_{25}$}-\\frac{x}{b}+\\frac{\\sqrt{a}\\,{\\it thp}\\,\\sqrt{x}}{b}+\\frac{\\sqrt{a}\\,\\sqrt{x}}{b\\,{\\it thp}}-\\frac{a}{b}\\]"
      ],
      "text/plain": [
       "                  x    sqrt(a) thp sqrt(x)   sqrt(a) sqrt(x)   a\n",
       "(%o25)         (- -) + ------------------- + --------------- - -\n",
       "                  b             b                 b thp        b"
      ],
      "text/x-maxima": [
       "(-x/b)+(sqrt(a)*thp*sqrt(x))/b+(sqrt(a)*sqrt(x))/(b*thp)-a/b"
      ]
     },
     "execution_count": 24,
     "metadata": {},
     "output_type": "execute_result"
    }
   ],
   "source": [
    "expand(subst((a^(1/2) * x^(-1/2) * thp - 1)/b, theta, \n",
    "            schemintgr));"
   ]
  },
  {
   "cell_type": "markdown",
   "id": "3d13fd01-b9a9-4446-baf8-4d838e4e2785",
   "metadata": {},
   "source": [
    "To provide $\\theta$ in terms of $\\theta'$ we substitute the values of $a$ and $b$ given by the homogeneous solution `gamhom`. First we note that if we define $a = x_0  e^{\\tau}$ and $b = \\frac{1}{2s} (e^{s \\tau} -1)$"
   ]
  },
  {
   "cell_type": "code",
   "execution_count": 25,
   "id": "eb8f3ff1-c380-4441-a76a-cd2c10df8438",
   "metadata": {
    "execution": {
     "iopub.execute_input": "2021-09-01T20:11:25Z",
     "iopub.status.busy": "2021-09-01T20:11:25Z",
     "iopub.status.idle": "2021-09-01T20:11:25Z",
     "shell.execute_reply": "2021-09-01T20:11:25Z"
    },
    "tags": []
   },
   "outputs": [
    {
     "data": {
      "text/latex": [
       "\\[\\tag{${\\it \\%o}_{26}$}e^{\\tau}\\,x_{0}\\]"
      ],
      "text/plain": [
       "                                     tau\n",
       "(%o26)                             %e    x0"
      ],
      "text/x-maxima": [
       "%e^tau*x0"
      ]
     },
     "execution_count": 25,
     "metadata": {},
     "output_type": "execute_result"
    },
    {
     "data": {
      "text/latex": [
       "\\[\\tag{${\\it \\%o}_{27}$}\\frac{e^{\\tau}-1}{2\\,s}\\]"
      ],
      "text/plain": [
       "                                     tau\n",
       "                                   %e    - 1\n",
       "(%o27)                             ---------\n",
       "                                      2 s"
      ],
      "text/x-maxima": [
       "(%e^tau-1)/(2*s)"
      ]
     },
     "execution_count": 25,
     "metadata": {},
     "output_type": "execute_result"
    }
   ],
   "source": [
    "aquant : x0 * %e^(tau);\n",
    "bquant : (%e^(tau) - 1) / (2 * s);"
   ]
  },
  {
   "cell_type": "code",
   "execution_count": 26,
   "id": "d6e7f67c-4f99-4976-bb8b-fc44baff3c1f",
   "metadata": {
    "execution": {
     "iopub.execute_input": "2021-09-01T20:11:25Z",
     "iopub.status.busy": "2021-09-01T20:11:25Z",
     "iopub.status.idle": "2021-09-01T20:11:25Z",
     "shell.execute_reply": "2021-09-01T20:11:25Z"
    },
    "tags": []
   },
   "outputs": [
    {
     "data": {
      "text/latex": [
       "\\[\\tag{${\\it \\%o}_{28}$}\\frac{2\\,s\\,\\left(e^{\\frac{\\tau}{2}}\\,{\\it thp}\\,\\sqrt{x_{0}}-\\sqrt{x}\\right)}{\\left(e^{\\tau}-1\\right)\\,\\sqrt{x}}\\]"
      ],
      "text/plain": [
       "                            tau/2\n",
       "                     2 s (%e      thp sqrt(x0) - sqrt(x))\n",
       "(%o28)               ------------------------------------\n",
       "                                tau\n",
       "                             (%e    - 1) sqrt(x)"
      ],
      "text/x-maxima": [
       "(2*s*(%e^(tau/2)*thp*sqrt(x0)-sqrt(x)))/((%e^tau-1)*sqrt(x))"
      ]
     },
     "execution_count": 26,
     "metadata": {},
     "output_type": "execute_result"
    }
   ],
   "source": [
    "homthetasub: factor(psubst([a = aquant, b = bquant],\n",
    "(a^(1/2) * x^(-1/2) * thp - 1)/b));"
   ]
  },
  {
   "cell_type": "code",
   "execution_count": 27,
   "id": "15db0417-49c0-40ab-9cbe-50b0a446c3cc",
   "metadata": {
    "execution": {
     "iopub.execute_input": "2021-09-01T20:11:25Z",
     "iopub.status.busy": "2021-09-01T20:11:25Z",
     "iopub.status.idle": "2021-09-01T20:11:25Z",
     "shell.execute_reply": "2021-09-01T20:11:25Z"
    }
   },
   "outputs": [
    {
     "data": {
      "text/latex": [
       "\\[\\tag{${\\it \\%o}_{29}$}\\frac{2\\,s\\,e^{\\frac{\\tau}{2}}\\,\\sqrt{x_{0}}}{\\left(e^{\\tau}-1\\right)\\,\\sqrt{x}}\\]"
      ],
      "text/plain": [
       "                                   tau/2\n",
       "                             2 s %e      sqrt(x0)\n",
       "(%o29)                       --------------------\n",
       "                                tau\n",
       "                             (%e    - 1) sqrt(x)"
      ],
      "text/x-maxima": [
       "(2*s*%e^(tau/2)*sqrt(x0))/((%e^tau-1)*sqrt(x))"
      ]
     },
     "execution_count": 27,
     "metadata": {},
     "output_type": "execute_result"
    }
   ],
   "source": [
    "thetarecipcoeff : factor(psubst([a = aquant, b = bquant],\n",
    "(a^(1/2) * x^(-1/2) /b)));"
   ]
  },
  {
   "cell_type": "code",
   "execution_count": 28,
   "id": "5c005967-bae2-4698-8edc-7ddfc81cc618",
   "metadata": {
    "execution": {
     "iopub.execute_input": "2021-09-01T20:11:25Z",
     "iopub.status.busy": "2021-09-01T20:11:25Z",
     "iopub.status.idle": "2021-09-01T20:11:25Z",
     "shell.execute_reply": "2021-09-01T20:11:25Z"
    }
   },
   "outputs": [
    {
     "data": {
      "text/latex": [
       "\\[\\tag{${\\it \\%o}_{30}$}-\\frac{2\\,s\\,\\left(e^{\\tau}\\,x_{0}+x\\right)}{e^{\\tau}-1}\\]"
      ],
      "text/plain": [
       "                                      tau\n",
       "                               2 s (%e    x0 + x)\n",
       "(%o30)                       - ------------------\n",
       "                                     tau\n",
       "                                   %e    - 1"
      ],
      "text/x-maxima": [
       "-(2*s*(%e^tau*x0+x))/(%e^tau-1)"
      ]
     },
     "execution_count": 28,
     "metadata": {},
     "output_type": "execute_result"
    }
   ],
   "source": [
    "thetaexpconst : factor(psubst([a = aquant, b = bquant],\n",
    "-a/b - x/b));"
   ]
  },
  {
   "cell_type": "markdown",
   "id": "20a3ae30-69e1-4146-8d1f-79eee8709da4",
   "metadata": {},
   "source": [
    "### Inhomogeneous solution"
   ]
  },
  {
   "cell_type": "code",
   "execution_count": 29,
   "id": "20f9002f-2a35-4619-b102-7070a59c7097",
   "metadata": {
    "execution": {
     "iopub.execute_input": "2021-09-01T20:11:25Z",
     "iopub.status.busy": "2021-09-01T20:11:25Z",
     "iopub.status.idle": "2021-09-01T20:11:25Z",
     "shell.execute_reply": "2021-09-01T20:11:25Z"
    },
    "tags": []
   },
   "outputs": [
    {
     "data": {
      "text/latex": [
       "\\[\\tag{${\\it \\%o}_{31}$}\\vartheta=\\frac{{\\it thetap}}{x}-\\frac{2\\,s}{e^{\\tau}-1}\\]"
      ],
      "text/plain": [
       "                                  thetap      2 s\n",
       "(%o31)                    theta = ------ - ---------\n",
       "                                    x        tau\n",
       "                                           %e    - 1"
      ],
      "text/x-maxima": [
       "theta = thetap/x-(2*s)/(%e^tau-1)"
      ]
     },
     "execution_count": 29,
     "metadata": {},
     "output_type": "execute_result"
    }
   ],
   "source": [
    "invinhvarchange : theta = \n",
    "    thetap/x - 2 * s / (%e^(tau) - 1);"
   ]
  },
  {
   "cell_type": "code",
   "execution_count": 30,
   "id": "d3f73dea-af21-46b2-b082-bf960c11c7b8",
   "metadata": {
    "execution": {
     "iopub.execute_input": "2021-09-01T20:11:25Z",
     "iopub.status.busy": "2021-09-01T20:11:25Z",
     "iopub.status.idle": "2021-09-01T20:11:25Z",
     "shell.execute_reply": "2021-09-01T20:11:25Z"
    }
   },
   "outputs": [
    {
     "data": {
      "text/latex": [
       "\\[\\tag{${\\it \\%o}_{32}$}\\frac{\\left(e^{\\tau}-1\\right)\\,{\\it thetap}}{2\\,s\\,x}\\]"
      ],
      "text/plain": [
       "                                 tau\n",
       "                              (%e    - 1) thetap\n",
       "(%o32)                        ------------------\n",
       "                                    2 s x"
      ],
      "text/x-maxima": [
       "((%e^tau-1)*thetap)/(2*s*x)"
      ]
     },
     "execution_count": 30,
     "metadata": {},
     "output_type": "execute_result"
    }
   ],
   "source": [
    "factor(psubst(invinhvarchange, \n",
    "  (%e^(tau) - 1) * theta / (2 * s) + 1));"
   ]
  },
  {
   "cell_type": "code",
   "execution_count": 31,
   "id": "e5d6f448-6696-4ceb-a505-3705c6c4b465",
   "metadata": {
    "execution": {
     "iopub.execute_input": "2021-09-01T20:11:25Z",
     "iopub.status.busy": "2021-09-01T20:11:25Z",
     "iopub.status.idle": "2021-09-01T20:11:25Z",
     "shell.execute_reply": "2021-09-01T20:11:25Z"
    },
    "tags": []
   },
   "outputs": [
    {
     "data": {
      "text/latex": [
       "\\[\\tag{${\\it \\%o}_{33}$}\\frac{x^{2\\,M\\,s-1}\\,e^ {- \\frac{2\\,s\\,x}{e^{\\tau}-1} }}{\\left(e^{\\tau}-1\\right)^{2\\,M\\,s}}\\]"
      ],
      "text/plain": [
       "                                            2 s x\n",
       "                                        - ---------\n",
       "                                            tau\n",
       "                            2 M s - 1     %e    - 1\n",
       "                           x          %e\n",
       "(%o33)                     ------------------------\n",
       "                                  tau     2 M s\n",
       "                               (%e    - 1)"
      ],
      "text/x-maxima": [
       "(x^(2*M*s-1)*%e^-((2*s*x)/(%e^tau-1)))/(%e^tau-1)^(2*M*s)"
      ]
     },
     "execution_count": 31,
     "metadata": {},
     "output_type": "execute_result"
    }
   ],
   "source": [
    "inhdifsol : x^(2*M*s - 1) * \n",
    "    %e^(-2*s*x/(%e^(tau) - 1)) /\n",
    "    ((%e^(tau) - 1)^(2*M*s));"
   ]
  },
  {
   "cell_type": "code",
   "execution_count": 32,
   "id": "9a0e2811-f403-483d-b76b-801e6debd29e",
   "metadata": {
    "execution": {
     "iopub.execute_input": "2021-09-01T20:11:25Z",
     "iopub.status.busy": "2021-09-01T20:11:25Z",
     "iopub.status.idle": "2021-09-01T20:11:25Z",
     "shell.execute_reply": "2021-09-01T20:11:25Z"
    },
    "tags": []
   },
   "outputs": [
    {
     "data": {
      "text/latex": [
       "\\[\\tag{${\\it \\%o}_{34}$}0\\]"
      ],
      "text/plain": [
       "(%o34)                                 0"
      ],
      "text/x-maxima": [
       "0"
      ]
     },
     "execution_count": 32,
     "metadata": {},
     "output_type": "execute_result"
    }
   ],
   "source": [
    "factor(diffusioneqn (inhdifsol, s, M));"
   ]
  }
 ],
 "metadata": {
  "kernelspec": {
   "display_name": "Maxima",
   "language": "maxima",
   "name": "maxima"
  },
  "language_info": {
   "codemirror_mode": "maxima",
   "file_extension": ".mac",
   "mimetype": "text/x-maxima",
   "name": "maxima",
   "pygments_lexer": "maxima",
   "version": "5.45.1"
  }
 },
 "nbformat": 4,
 "nbformat_minor": 5
}
