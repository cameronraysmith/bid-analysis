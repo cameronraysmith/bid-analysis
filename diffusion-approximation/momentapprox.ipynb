{
 "cells": [
  {
   "cell_type": "markdown",
   "id": "324bb292-1b8f-4de4-bf51-954abc67690f",
   "metadata": {},
   "source": [
    "# Moment-based approximation to the BID process"
   ]
  },
  {
   "cell_type": "markdown",
   "id": "a9cb84a4-2e75-45e3-9b1e-e4a321c8d2a3",
   "metadata": {},
   "source": [
    "This is the exact generating function solution to the birth-immigration-death process."
   ]
  },
  {
   "cell_type": "code",
   "execution_count": 1,
   "id": "e069ccb8-efbe-4d44-92d7-c78203dd8fe0",
   "metadata": {
    "execution": {
     "iopub.execute_input": "2021-05-31T19:31:40Z",
     "iopub.status.busy": "2021-05-31T19:31:40Z",
     "iopub.status.idle": "2021-05-31T19:31:40Z",
     "shell.execute_reply": "2021-05-31T19:31:40Z"
    }
   },
   "outputs": [
    {
     "data": {
      "text/latex": [
       "\\[\\tag{${\\it \\%o}_{1}$}{\\it genfunc}\\left(x , t , n_{0} , {\\it kb} , {\\it kd}\\right):=\\left(\\frac{{\\it kd}\\,e^{\\left(-\\left({\\it kb}-{\\it kd}\\right)\\right)\\,t}-{\\it kd}+\\left({\\it kd}-{\\it kb}\\,e^{\\left(-\\left({\\it kb}-{\\it kd}\\right)\\right)\\,t}\\right)\\,x}{{\\it kd}\\,e^{\\left(-\\left({\\it kb}-{\\it kd}\\right)\\right)\\,t}-{\\it kb}+\\left({\\it kb}-{\\it kb}\\,e^{\\left(-\\left({\\it kb}-{\\it kd}\\right)\\right)\\,t}\\right)\\,x}\\right)^{n_{0}}\\]"
      ],
      "text/plain": [
       "(%o1) genfunc(x, t, n0, kb, kd) := \n",
       "                        (- (kb - kd)) t                   (- (kb - kd)) t\n",
       "                   kd %e                - kd + (kd - kb %e               ) x n0\n",
       "                  (---------------------------------------------------------)\n",
       "                        (- (kb - kd)) t                   (- (kb - kd)) t\n",
       "                   kd %e                - kb + (kb - kb %e               ) x"
      ],
      "text/x-maxima": [
       "genfunc(x,t,n0,kb,kd):=\n",
       "        ((kd*%e^((-(kb-kd))*t)-kd+(kd-kb*%e^((-(kb-kd))*t))*x)\n",
       "         /(kd*%e^((-(kb-kd))*t)-kb+(kb-kb*%e^((-(kb-kd))*t))*x))^n0"
      ]
     },
     "execution_count": 1,
     "metadata": {},
     "output_type": "execute_result"
    }
   ],
   "source": [
    "genfunc (x, t, n0, kb, kd) := \n",
    "    ((kd * %e^(- (kb - kd) * t) - kd + \n",
    "        (kd - kb * %e^(- (kb - kd) * t)) * x) / \n",
    "        (kd * %e^(- (kb - kd) * t) - kb + \n",
    "        (kb - kb * %e^(- (kb - kd) * t)) * x))^n0;"
   ]
  },
  {
   "cell_type": "code",
   "execution_count": 11,
   "id": "64f913d7-43d7-4003-8a04-ee5cb9922b7e",
   "metadata": {
    "execution": {
     "iopub.execute_input": "2021-05-31T19:43:57Z",
     "iopub.status.busy": "2021-05-31T19:43:57Z",
     "iopub.status.idle": "2021-05-31T19:43:57Z",
     "shell.execute_reply": "2021-05-31T19:43:57Z"
    },
    "tags": []
   },
   "outputs": [],
   "source": [
    "probdist (m, t, n0, kb, kd) :=\n",
    "block([gf],\n",
    "    gf : genfunc(z, t, n0, kb, kd),\n",
    "    makelist([j, subst (0, z, diff(gf, z, j) / (j!))],\n",
    "        j, 0, m))$"
   ]
  },
  {
   "cell_type": "markdown",
   "id": "8173cf6d-23af-4d04-a049-1ab7e11db3da",
   "metadata": {},
   "source": [
    "The trial distribution."
   ]
  },
  {
   "cell_type": "code",
   "execution_count": 7,
   "id": "44fcaadc-657b-4662-97b7-c1ba45f048a4",
   "metadata": {
    "execution": {
     "iopub.execute_input": "2021-05-31T19:40:54Z",
     "iopub.status.busy": "2021-05-31T19:40:54Z",
     "iopub.status.idle": "2021-05-31T19:40:54Z",
     "shell.execute_reply": "2021-05-31T19:40:54Z"
    }
   },
   "outputs": [
    {
     "data": {
      "text/latex": [
       "\\[\\tag{${\\it \\%o}_{7}$}\\left(c_{3}\\,x^3+c_{2}\\,x^2+c_{1}\\,x+c_{0}\\right)\\,e^ {- k\\,x }\\]"
      ],
      "text/plain": [
       "                           3       2                - k x\n",
       "(%o7)                 (c3 x  + c2 x  + c1 x + c0) %e"
      ],
      "text/x-maxima": [
       "(c3*x^3+c2*x^2+c1*x+c0)*%e^-(k*x)"
      ]
     },
     "execution_count": 7,
     "metadata": {},
     "output_type": "execute_result"
    }
   ],
   "source": [
    "trialdist : (c0 + c1*x + c2*x^2 + c3*x^3) * %e^(-k*x);"
   ]
  },
  {
   "cell_type": "markdown",
   "id": "b3e4fc8a-5665-42e0-94e8-1efe323a523e",
   "metadata": {},
   "source": [
    "The moments of the trial distribution."
   ]
  },
  {
   "cell_type": "code",
   "execution_count": 8,
   "id": "dc52b3cc-fcc8-41ab-995c-919857953b7f",
   "metadata": {
    "execution": {
     "iopub.execute_input": "2021-05-31T19:41:43Z",
     "iopub.status.busy": "2021-05-31T19:41:43Z",
     "iopub.status.idle": "2021-05-31T19:41:43Z",
     "shell.execute_reply": "2021-05-31T19:41:43Z"
    }
   },
   "outputs": [
    {
     "data": {
      "text/latex": [
       "\\[\\tag{${\\it \\%o}_{8}$}\\frac{c_{0}}{k}+\\frac{c_{1}}{k^2}+\\frac{2\\,c_{2}}{k^3}+\\frac{6\\,c_{3}}{k^4}\\]"
      ],
      "text/plain": [
       "                             c0   c1   2 c2   6 c3\n",
       "(%o8)                        -- + -- + ---- + ----\n",
       "                             k     2     3      4\n",
       "                                  k     k      k"
      ],
      "text/x-maxima": [
       "c0/k+c1/k^2+(2*c2)/k^3+(6*c3)/k^4"
      ]
     },
     "execution_count": 8,
     "metadata": {},
     "output_type": "execute_result"
    },
    {
     "data": {
      "text/latex": [
       "\\[\\tag{${\\it \\%o}_{9}$}\\frac{c_{0}}{k^2}+\\frac{2\\,c_{1}}{k^3}+\\frac{6\\,c_{2}}{k^4}+\\frac{24\\,c_{3}}{k^5}\\]"
      ],
      "text/plain": [
       "                           c0   2 c1   6 c2   24 c3\n",
       "(%o9)                      -- + ---- + ---- + -----\n",
       "                            2     3      4      5\n",
       "                           k     k      k      k"
      ],
      "text/x-maxima": [
       "c0/k^2+(2*c1)/k^3+(6*c2)/k^4+(24*c3)/k^5"
      ]
     },
     "execution_count": 8,
     "metadata": {},
     "output_type": "execute_result"
    },
    {
     "data": {
      "text/latex": [
       "\\[\\tag{${\\it \\%o}_{10}$}\\frac{2\\,c_{0}}{k^3}+\\frac{6\\,c_{1}}{k^4}+\\frac{24\\,c_{2}}{k^5}+\\frac{120\\,c_{3}}{k^6}\\]"
      ],
      "text/plain": [
       "                         2 c0   6 c1   24 c2   120 c3\n",
       "(%o10)                   ---- + ---- + ----- + ------\n",
       "                           3      4      5        6\n",
       "                          k      k      k        k"
      ],
      "text/x-maxima": [
       "(2*c0)/k^3+(6*c1)/k^4+(24*c2)/k^5+(120*c3)/k^6"
      ]
     },
     "execution_count": 8,
     "metadata": {},
     "output_type": "execute_result"
    },
    {
     "data": {
      "text/latex": [
       "\\[\\tag{${\\it \\%o}_{11}$}\\frac{6\\,c_{0}}{k^4}+\\frac{24\\,c_{1}}{k^5}+\\frac{120\\,c_{2}}{k^6}+\\frac{720\\,c_{3}}{k^7}\\]"
      ],
      "text/plain": [
       "                        6 c0   24 c1   120 c2   720 c3\n",
       "(%o11)                  ---- + ----- + ------ + ------\n",
       "                          4      5        6        7\n",
       "                         k      k        k        k"
      ],
      "text/x-maxima": [
       "(6*c0)/k^4+(24*c1)/k^5+(120*c2)/k^6+(720*c3)/k^7"
      ]
     },
     "execution_count": 8,
     "metadata": {},
     "output_type": "execute_result"
    },
    {
     "data": {
      "text/latex": [
       "\\[\\tag{${\\it \\%o}_{12}$}\\frac{24\\,c_{0}}{k^5}+\\frac{120\\,c_{1}}{k^6}+\\frac{720\\,c_{2}}{k^7}+\\frac{5040\\,c_{3}}{k^8}\\]"
      ],
      "text/plain": [
       "                       24 c0   120 c1   720 c2   5040 c3\n",
       "(%o12)                 ----- + ------ + ------ + -------\n",
       "                         5        6        7        8\n",
       "                        k        k        k        k"
      ],
      "text/x-maxima": [
       "(24*c0)/k^5+(120*c1)/k^6+(720*c2)/k^7+(5040*c3)/k^8"
      ]
     },
     "execution_count": 8,
     "metadata": {},
     "output_type": "execute_result"
    }
   ],
   "source": [
    "m0 : -subst(0, x, integrate(trialdist, x));\n",
    "m1 : -subst(0, x, integrate(x * trialdist, x));\n",
    "m2 : -subst(0, x, integrate(x^2 * trialdist, x));\n",
    "m3 : -subst(0, x, integrate(x^3 * trialdist, x));\n",
    "m4 : -subst(0, x, integrate(x^4 * trialdist, x));"
   ]
  },
  {
   "cell_type": "code",
   "execution_count": 23,
   "id": "6b083661-9577-4f13-9570-9f4f9a6a6408",
   "metadata": {
    "execution": {
     "iopub.execute_input": "2021-05-31T19:46:31Z",
     "iopub.status.busy": "2021-05-31T19:46:31Z",
     "iopub.status.idle": "2021-05-31T19:46:31Z",
     "shell.execute_reply": "2021-05-31T19:46:31Z"
    },
    "tags": []
   },
   "outputs": [],
   "source": [
    "simeqs: solve([m1 = v1, m2 = v2, m3 = v3, m4 = v4], [c0, c1, c2, c3])$"
   ]
  },
  {
   "cell_type": "code",
   "execution_count": 32,
   "id": "363bea2e-9dfc-4d8c-b9c1-3ca673d985c8",
   "metadata": {
    "execution": {
     "iopub.execute_input": "2021-05-31T19:50:39Z",
     "iopub.status.busy": "2021-05-31T19:50:39Z",
     "iopub.status.idle": "2021-05-31T19:50:39Z",
     "shell.execute_reply": "2021-05-31T19:50:39Z"
    },
    "tags": []
   },
   "outputs": [
    {
     "data": {
      "text/latex": [
       "\\[\\tag{${\\it \\%o}_{32}$}c_{0}=\\frac{-k^5\\,v_{4}+15\\,k^4\\,v_{3}-60\\,k^3\\,v_{2}+60\\,k^2\\,v_{1}}{6}\\]"
      ],
      "text/plain": [
       "                         5           4          3          2\n",
       "                     (- k  v4) + 15 k  v3 - 60 k  v2 + 60 k  v1\n",
       "(%o32)          c0 = ------------------------------------------\n",
       "                                         6"
      ],
      "text/x-maxima": [
       "c0 = ((-k^5*v4)+15*k^4*v3-60*k^3*v2+60*k^2*v1)/6"
      ]
     },
     "execution_count": 32,
     "metadata": {},
     "output_type": "execute_result"
    },
    {
     "data": {
      "text/latex": [
       "\\[\\tag{${\\it \\%o}_{33}$}c_{1}=-\\frac{-k^6\\,v_{4}+14\\,k^5\\,v_{3}-50\\,k^4\\,v_{2}+40\\,k^3\\,v_{1}}{4}\\]"
      ],
      "text/plain": [
       "                          6           5          4          3\n",
       "                      (- k  v4) + 14 k  v3 - 50 k  v2 + 40 k  v1\n",
       "(%o33)         c1 = - ------------------------------------------\n",
       "                                          4"
      ],
      "text/x-maxima": [
       "c1 = -((-k^6*v4)+14*k^5*v3-50*k^4*v2+40*k^3*v1)/4"
      ]
     },
     "execution_count": 32,
     "metadata": {},
     "output_type": "execute_result"
    },
    {
     "data": {
      "text/latex": [
       "\\[\\tag{${\\it \\%o}_{34}$}c_{2}=\\frac{-k^7\\,v_{4}+13\\,k^6\\,v_{3}-42\\,k^5\\,v_{2}+30\\,k^4\\,v_{1}}{12}\\]"
      ],
      "text/plain": [
       "                         7           6          5          4\n",
       "                     (- k  v4) + 13 k  v3 - 42 k  v2 + 30 k  v1\n",
       "(%o34)          c2 = ------------------------------------------\n",
       "                                         12"
      ],
      "text/x-maxima": [
       "c2 = ((-k^7*v4)+13*k^6*v3-42*k^5*v2+30*k^4*v1)/12"
      ]
     },
     "execution_count": 32,
     "metadata": {},
     "output_type": "execute_result"
    },
    {
     "data": {
      "text/latex": [
       "\\[\\tag{${\\it \\%o}_{35}$}c_{3}=-\\frac{-k^8\\,v_{4}+12\\,k^7\\,v_{3}-36\\,k^6\\,v_{2}+24\\,k^5\\,v_{1}}{144}\\]"
      ],
      "text/plain": [
       "                          8           7          6          5\n",
       "                      (- k  v4) + 12 k  v3 - 36 k  v2 + 24 k  v1\n",
       "(%o35)         c3 = - ------------------------------------------\n",
       "                                         144"
      ],
      "text/x-maxima": [
       "c3 = -((-k^8*v4)+12*k^7*v3-36*k^6*v2+24*k^5*v1)/144"
      ]
     },
     "execution_count": 32,
     "metadata": {},
     "output_type": "execute_result"
    }
   ],
   "source": [
    "simeqs[1][1];\n",
    "simeqs[1][2];\n",
    "simeqs[1][3];\n",
    "simeqs[1][4];"
   ]
  },
  {
   "cell_type": "markdown",
   "id": "4a088bd1-4c49-4d09-9769-5b6284f6e490",
   "metadata": {},
   "source": [
    "As an example, consider the parameters n0 = 3, t = 1, kb = 1.1, kd = 0.9"
   ]
  },
  {
   "cell_type": "code",
   "execution_count": 35,
   "id": "7297f76d-7221-4fc5-8918-11bd09856374",
   "metadata": {
    "execution": {
     "iopub.execute_input": "2021-05-31T19:53:14Z",
     "iopub.status.busy": "2021-05-31T19:53:14Z",
     "iopub.status.idle": "2021-05-31T19:53:14Z",
     "shell.execute_reply": "2021-05-31T19:53:14Z"
    },
    "tags": []
   },
   "outputs": [],
   "source": [
    "exdist : probdist(30, 1, 3, 1.1, 0.9)$"
   ]
  },
  {
   "cell_type": "code",
   "execution_count": 40,
   "id": "72db2064-6f6b-470c-ad32-05f653bfe49b",
   "metadata": {
    "execution": {
     "iopub.execute_input": "2021-05-31T19:54:01Z",
     "iopub.status.busy": "2021-05-31T19:54:01Z",
     "iopub.status.idle": "2021-05-31T19:54:01Z",
     "shell.execute_reply": "2021-05-31T19:54:01Z"
    },
    "tags": []
   },
   "outputs": [
    {
     "data": {
      "text/latex": [
       "\\[\\tag{${\\it \\%o}_{44}$}\\left[ 0 , 0.09067119098877184 \\right] \\]"
      ],
      "text/plain": [
       "(%o44)                     [0, 0.09067119098877184]"
      ],
      "text/x-maxima": [
       "[0,0.09067119098877184]"
      ]
     },
     "execution_count": 40,
     "metadata": {},
     "output_type": "execute_result"
    },
    {
     "data": {
      "text/latex": [
       "\\[\\tag{${\\it \\%o}_{45}$}\\left[ 1 , 0.1503654864396397 \\right] \\]"
      ],
      "text/plain": [
       "(%o45)                      [1, 0.1503654864396397]"
      ],
      "text/x-maxima": [
       "[1,0.1503654864396397]"
      ]
     },
     "execution_count": 40,
     "metadata": {},
     "output_type": "execute_result"
    },
    {
     "data": {
      "text/latex": [
       "\\[\\tag{${\\it \\%o}_{46}$}\\left[ 2 , 0.1656835449951194 \\right] \\]"
      ],
      "text/plain": [
       "(%o46)                      [2, 0.1656835449951194]"
      ],
      "text/x-maxima": [
       "[2,0.1656835449951194]"
      ]
     },
     "execution_count": 40,
     "metadata": {},
     "output_type": "execute_result"
    }
   ],
   "source": [
    "exdist[1];\n",
    "exdist[2];\n",
    "exdist[3];"
   ]
  },
  {
   "cell_type": "markdown",
   "id": "9e9d75f9-6c4e-44c2-b010-68e971be9733",
   "metadata": {},
   "source": [
    "Compute the moments for the exact distribution."
   ]
  },
  {
   "cell_type": "code",
   "execution_count": 43,
   "id": "40f20893-f407-406d-92fc-f18d1dfba590",
   "metadata": {
    "execution": {
     "iopub.execute_input": "2021-05-31T20:12:47Z",
     "iopub.status.busy": "2021-05-31T20:12:47Z",
     "iopub.status.idle": "2021-05-31T20:12:47Z",
     "shell.execute_reply": "2021-05-31T20:12:47Z"
    }
   },
   "outputs": [],
   "source": [
    "numop(n, gf) := \n",
    "    if n=0 then gf\n",
    "        else numop(n-1, z * diff(gf, z))$\n",
    "mom(m, t, n0, kb, kd) := \n",
    "    factor(subst(1, z, numop(m, genfunc(z, t, n0, kb, kd))))$"
   ]
  },
  {
   "cell_type": "code",
   "execution_count": 44,
   "id": "d1a328a7-e4e4-48cf-80de-f0aaaf9bc89a",
   "metadata": {
    "execution": {
     "iopub.execute_input": "2021-05-31T20:12:58Z",
     "iopub.status.busy": "2021-05-31T20:12:58Z",
     "iopub.status.idle": "2021-05-31T20:12:58Z",
     "shell.execute_reply": "2021-05-31T20:12:58Z"
    }
   },
   "outputs": [
    {
     "data": {
      "text/latex": [
       "\\[\\tag{${\\it \\%o}_{51}$}3.66420827448051\\]"
      ],
      "text/plain": [
       "(%o51)                         3.66420827448051"
      ],
      "text/x-maxima": [
       "3.66420827448051"
      ]
     },
     "execution_count": 44,
     "metadata": {},
     "output_type": "execute_result"
    },
    {
     "data": {
      "text/latex": [
       "\\[\\tag{${\\it \\%o}_{52}$}21.53908046320445\\]"
      ],
      "text/plain": [
       "(%o52)                         21.53908046320445"
      ],
      "text/x-maxima": [
       "21.53908046320445"
      ]
     },
     "execution_count": 44,
     "metadata": {},
     "output_type": "execute_result"
    },
    {
     "data": {
      "text/latex": [
       "\\[\\tag{${\\it \\%o}_{53}$}166.2201628868458\\]"
      ],
      "text/plain": [
       "(%o53)                         166.2201628868458"
      ],
      "text/x-maxima": [
       "166.2201628868458"
      ]
     },
     "execution_count": 44,
     "metadata": {},
     "output_type": "execute_result"
    },
    {
     "data": {
      "text/latex": [
       "\\[\\tag{${\\it \\%o}_{54}$}1578.74199416697\\]"
      ],
      "text/plain": [
       "(%o54)                         1578.74199416697"
      ],
      "text/x-maxima": [
       "1578.74199416697"
      ]
     },
     "execution_count": 44,
     "metadata": {},
     "output_type": "execute_result"
    }
   ],
   "source": [
    "psubst([kb = 1.1, kd = 0.9], mom(1, 1, 3, kb, kd));\n",
    "psubst([kb = 1.1, kd = 0.9], mom(2, 1, 3, kb, kd));\n",
    "psubst([kb = 1.1, kd = 0.9], mom(3, 1, 3, kb, kd));\n",
    "psubst([kb = 1.1, kd = 0.9], mom(4, 1, 3, kb, kd));"
   ]
  },
  {
   "cell_type": "code",
   "execution_count": 45,
   "id": "39b27983-e3d8-47a6-9bac-f6fd0535cbb6",
   "metadata": {
    "execution": {
     "iopub.execute_input": "2021-05-31T20:13:13Z",
     "iopub.status.busy": "2021-05-31T20:13:13Z",
     "iopub.status.idle": "2021-05-31T20:13:13Z",
     "shell.execute_reply": "2021-05-31T20:13:13Z"
    }
   },
   "outputs": [
    {
     "data": {
      "text/latex": [
       "\\[\\tag{${\\it \\%o}_{55}$}0.999999008987924\\]"
      ],
      "text/plain": [
       "(%o55)                         0.999999008987924"
      ],
      "text/x-maxima": [
       "0.999999008987924"
      ]
     },
     "execution_count": 45,
     "metadata": {},
     "output_type": "execute_result"
    },
    {
     "data": {
      "text/latex": [
       "\\[\\tag{${\\it \\%o}_{56}$}3.664176179760895\\]"
      ],
      "text/plain": [
       "(%o56)                         3.664176179760895"
      ],
      "text/x-maxima": [
       "3.664176179760895"
      ]
     },
     "execution_count": 45,
     "metadata": {},
     "output_type": "execute_result"
    },
    {
     "data": {
      "text/latex": [
       "\\[\\tag{${\\it \\%o}_{57}$}21.53803780407596\\]"
      ],
      "text/plain": [
       "(%o57)                         21.53803780407596"
      ],
      "text/x-maxima": [
       "21.53803780407596"
      ]
     },
     "execution_count": 45,
     "metadata": {},
     "output_type": "execute_result"
    },
    {
     "data": {
      "text/latex": [
       "\\[\\tag{${\\it \\%o}_{58}$}166.1861732620685\\]"
      ],
      "text/plain": [
       "(%o58)                         166.1861732620685"
      ],
      "text/x-maxima": [
       "166.1861732620685"
      ]
     },
     "execution_count": 45,
     "metadata": {},
     "output_type": "execute_result"
    },
    {
     "data": {
      "text/latex": [
       "\\[\\tag{${\\it \\%o}_{59}$}1577.629734070915\\]"
      ],
      "text/plain": [
       "(%o59)                         1577.629734070915"
      ],
      "text/x-maxima": [
       "1577.629734070915"
      ]
     },
     "execution_count": 45,
     "metadata": {},
     "output_type": "execute_result"
    }
   ],
   "source": [
    "sum(exdist[k][2], k, 1, 31);\n",
    "sum((k - 1) * exdist[k][2], k, 1, 31);\n",
    "sum((k - 1)^2 * exdist[k][2], k, 1, 31);\n",
    "sum((k - 1)^3 * exdist[k][2], k, 1, 31);\n",
    "sum((k - 1)^4 * exdist[k][2], k, 1, 31);"
   ]
  },
  {
   "cell_type": "markdown",
   "id": "a6b62ab6-5274-4746-bf1a-d548c42bfb78",
   "metadata": {
    "tags": []
   },
   "source": [
    "Solve for the parameters.  We frist solve for the c's because those equations are linear."
   ]
  },
  {
   "cell_type": "code",
   "execution_count": 47,
   "id": "939718af-9ab5-4680-89e0-bc14e95d88f1",
   "metadata": {
    "execution": {
     "iopub.execute_input": "2021-05-31T20:14:01Z",
     "iopub.status.busy": "2021-05-31T20:14:01Z",
     "iopub.status.idle": "2021-05-31T20:14:01Z",
     "shell.execute_reply": "2021-05-31T20:14:01Z"
    },
    "tags": []
   },
   "outputs": [
    {
     "name": "stdout",
     "output_type": "stream",
     "text": [
      "\n",
      "rat: replaced -3.664 by -458/125 = -3.664\n",
      "\n",
      "rat: replaced -21.54 by -1077/50 = -21.54\n",
      "\n",
      "rat: replaced -166.22 by -8311/50 = -166.22\n",
      "\n",
      "rat: replaced -1578.7 by -15787/10 = -1578.7\n"
     ]
    }
   ],
   "source": [
    "csol : solve([m1 = 3.664, m2 = 21.54, m3 = 166.22, m4 = 1578.7], [c0, c1, c2, c3])$"
   ]
  },
  {
   "cell_type": "code",
   "execution_count": 52,
   "id": "ffd72383-18ec-4c28-8488-b3dd128e40b9",
   "metadata": {
    "execution": {
     "iopub.execute_input": "2021-05-31T20:14:45Z",
     "iopub.status.busy": "2021-05-31T20:14:45Z",
     "iopub.status.idle": "2021-05-31T20:14:45Z",
     "shell.execute_reply": "2021-05-31T20:14:45Z"
    },
    "tags": []
   },
   "outputs": [
    {
     "data": {
      "text/latex": [
       "\\[\\tag{${\\it \\%o}_{67}$}c_{0}=-\\frac{78935\\,k^5-124665\\,k^4+64620\\,k^3-10992\\,k^2}{300}\\]"
      ],
      "text/plain": [
       "                             5           4          3          2\n",
       "                      78935 k  - 124665 k  + 64620 k  - 10992 k\n",
       "(%o67)         c0 = - ------------------------------------------\n",
       "                                         300"
      ],
      "text/x-maxima": [
       "c0 = -(78935*k^5-124665*k^4+64620*k^3-10992*k^2)/300"
      ]
     },
     "execution_count": 52,
     "metadata": {},
     "output_type": "execute_result"
    },
    {
     "data": {
      "text/latex": [
       "\\[\\tag{${\\it \\%o}_{68}$}c_{1}=\\frac{78935\\,k^6-116354\\,k^5+53850\\,k^4-7328\\,k^3}{200}\\]"
      ],
      "text/plain": [
       "                            6           5          4         3\n",
       "                     78935 k  - 116354 k  + 53850 k  - 7328 k\n",
       "(%o68)          c1 = -----------------------------------------\n",
       "                                        200"
      ],
      "text/x-maxima": [
       "c1 = (78935*k^6-116354*k^5+53850*k^4-7328*k^3)/200"
      ]
     },
     "execution_count": 52,
     "metadata": {},
     "output_type": "execute_result"
    },
    {
     "data": {
      "text/latex": [
       "\\[\\tag{${\\it \\%o}_{69}$}c_{2}=-\\frac{78935\\,k^7-108043\\,k^6+45234\\,k^5-5496\\,k^4}{600}\\]"
      ],
      "text/plain": [
       "                             7           6          5         4\n",
       "                      78935 k  - 108043 k  + 45234 k  - 5496 k\n",
       "(%o69)         c2 = - -----------------------------------------\n",
       "                                         600"
      ],
      "text/x-maxima": [
       "c2 = -(78935*k^7-108043*k^6+45234*k^5-5496*k^4)/600"
      ]
     },
     "execution_count": 52,
     "metadata": {},
     "output_type": "execute_result"
    },
    {
     "data": {
      "text/latex": [
       "\\[\\tag{${\\it \\%o}_{70}$}c_{3}=\\frac{394675\\,k^8-498660\\,k^7+193860\\,k^6-21984\\,k^5}{36000}\\]"
      ],
      "text/plain": [
       "                            8           7           6          5\n",
       "                    394675 k  - 498660 k  + 193860 k  - 21984 k\n",
       "(%o70)         c3 = --------------------------------------------\n",
       "                                       36000"
      ],
      "text/x-maxima": [
       "c3 = (394675*k^8-498660*k^7+193860*k^6-21984*k^5)/36000"
      ]
     },
     "execution_count": 52,
     "metadata": {},
     "output_type": "execute_result"
    }
   ],
   "source": [
    "csol[1][1];\n",
    "csol[1][2];\n",
    "csol[1][3];\n",
    "csol[1][4];"
   ]
  },
  {
   "cell_type": "markdown",
   "id": "004ac060-0c0e-4705-8be9-96aec8c0db10",
   "metadata": {},
   "source": [
    "We then solve a polynomial equation for k."
   ]
  },
  {
   "cell_type": "code",
   "execution_count": 60,
   "id": "f4cb40b1-2617-4cd6-a924-7b88b8ea64d4",
   "metadata": {
    "execution": {
     "iopub.execute_input": "2021-05-31T20:18:44Z",
     "iopub.status.busy": "2021-05-31T20:18:44Z",
     "iopub.status.idle": "2021-05-31T20:18:44Z",
     "shell.execute_reply": "2021-05-31T20:18:44Z"
    },
    "tags": []
   },
   "outputs": [
    {
     "data": {
      "text/latex": [
       "\\[\\tag{${\\it \\%o}_{79}$}-\\frac{394675\\,k^4-664880\\,k^3+387720\\,k^2-87936\\,k+6000}{6000}\\]"
      ],
      "text/plain": [
       "                       4           3           2\n",
       "               394675 k  - 664880 k  + 387720 k  - 87936 k + 6000\n",
       "(%o79)       - --------------------------------------------------\n",
       "                                      6000"
      ],
      "text/x-maxima": [
       "-(394675*k^4-664880*k^3+387720*k^2-87936*k+6000)/6000"
      ]
     },
     "execution_count": 60,
     "metadata": {},
     "output_type": "execute_result"
    },
    {
     "data": {
      "text/latex": [
       "\\[\\tag{${\\it \\%o}_{80}$}\\left[ k=0.1182905815725801 , k=0.3312641131423235 , k=0.08129861135120636\\,i+0.6175359483922156 , k=0.6175359483922156-0.08129861135120636\\,i \\right] \\]"
      ],
      "text/plain": [
       "(%o80) [k = 0.1182905815725801, k = 0.3312641131423235, \n",
       "k = 0.08129861135120636 %i + 0.6175359483922156, \n",
       "k = 0.6175359483922156 - 0.08129861135120636 %i]"
      ],
      "text/x-maxima": [
       "[k = 0.1182905815725801,k = 0.3312641131423235,\n",
       " k = 0.08129861135120636*%i+0.6175359483922156,\n",
       " k = 0.6175359483922156-0.08129861135120636*%i]"
      ]
     },
     "execution_count": 60,
     "metadata": {},
     "output_type": "execute_result"
    }
   ],
   "source": [
    "normer : factor(psubst(csol, m0) - 1);\n",
    "allroots(normer);"
   ]
  },
  {
   "cell_type": "code",
   "execution_count": 59,
   "id": "37c835d1-51a0-4c3e-b39f-d8531511a25c",
   "metadata": {
    "execution": {
     "iopub.execute_input": "2021-05-31T20:17:51Z",
     "iopub.status.busy": "2021-05-31T20:17:51Z",
     "iopub.status.idle": "2021-05-31T20:17:51Z",
     "shell.execute_reply": "2021-05-31T20:17:51Z"
    },
    "tags": []
   },
   "outputs": [
    {
     "data": {
      "text/latex": [
       "\\[\\tag{${\\it \\%o}_{78}$}\\left[ k=0.3313 , c_{0}=0.1449713066598004 , c_{1}=0.1112482952010575 , c_{2}=-0.0100714872419167 , c_{3}=2.062991279345664 \\times 10^{-4} \\right] \\]"
      ],
      "text/plain": [
       "(%o78) [k = 0.3313, c0 = 0.1449713066598004, c1 = 0.1112482952010575, \n",
       "                          c2 = - 0.0100714872419167, c3 = 2.062991279345664e-4]"
      ],
      "text/x-maxima": [
       "[k = 0.3313,c0 = 0.1449713066598004,c1 = 0.1112482952010575,\n",
       " c2 = -0.0100714872419167,c3 = 2.062991279345664e-4]"
      ]
     },
     "execution_count": 59,
     "metadata": {},
     "output_type": "execute_result"
    }
   ],
   "source": [
    "ccsol : cons(k = 0.3313, subst(0.3313 , k, csol[1]));"
   ]
  },
  {
   "cell_type": "markdown",
   "id": "3d04131d-c4c3-4560-8d8b-c4492225b814",
   "metadata": {},
   "source": [
    "\n",
    "\n",
    "Check the answer."
   ]
  },
  {
   "cell_type": "code",
   "execution_count": 61,
   "id": "dcf8bf72-b394-40ca-be12-0a3b4467bcf2",
   "metadata": {
    "execution": {
     "iopub.execute_input": "2021-05-31T20:20:50Z",
     "iopub.status.busy": "2021-05-31T20:20:50Z",
     "iopub.status.idle": "2021-05-31T20:20:50Z",
     "shell.execute_reply": "2021-05-31T20:20:50Z"
    }
   },
   "outputs": [
    {
     "data": {
      "text/latex": [
       "\\[\\tag{${\\it \\%o}_{81}$}\\left[ 0.999955479043132 , 3.663999999999999 , 21.54 , 166.2200000000001 , 1578.700000000009 \\right] \\]"
      ],
      "text/plain": [
       "(%o81) [0.999955479043132, 3.663999999999999, 21.54, 166.2200000000001, \n",
       "                                                             1578.700000000009]"
      ],
      "text/x-maxima": [
       "[0.999955479043132,3.663999999999999,21.54,166.2200000000001,\n",
       " 1578.700000000009]"
      ]
     },
     "execution_count": 61,
     "metadata": {},
     "output_type": "execute_result"
    }
   ],
   "source": [
    "psubst(ccsol, [m0, m1, m2, m3, m4]);"
   ]
  },
  {
   "cell_type": "markdown",
   "id": "1faa642c-7e53-4c49-83a5-cc723a2c658b",
   "metadata": {},
   "source": [
    "Substitute the numerical values into the trial distrbution."
   ]
  },
  {
   "cell_type": "code",
   "execution_count": 62,
   "id": "4f7be98c-b40b-48ae-a993-0ac4d8bc97ec",
   "metadata": {
    "execution": {
     "iopub.execute_input": "2021-05-31T20:20:52Z",
     "iopub.status.busy": "2021-05-31T20:20:52Z",
     "iopub.status.idle": "2021-05-31T20:20:52Z",
     "shell.execute_reply": "2021-05-31T20:20:52Z"
    }
   },
   "outputs": [
    {
     "data": {
      "text/latex": [
       "\\[\\tag{${\\it \\%o}_{82}$}\\left(2.062991279345664 \\times 10^{-4}\\,x^3-0.0100714872419167\\,x^2+0.1112482952010575\\,x+0.1449713066598004\\right)\\,e^ {- 0.3313\\,x }\\]"
      ],
      "text/plain": [
       "                              3                       2\n",
       "(%o82) (2.062991279345664e-4 x  - 0.0100714872419167 x  + 0.1112482952010575 x\n",
       "                                                                     - 0.3313 x\n",
       "                                             + 0.1449713066598004) %e"
      ],
      "text/x-maxima": [
       "(2.062991279345664e-4*x^3-0.0100714872419167*x^2+0.1112482952010575*x\n",
       "                         +0.1449713066598004)\n",
       " *%e^-(0.3313*x)"
      ]
     },
     "execution_count": 62,
     "metadata": {},
     "output_type": "execute_result"
    }
   ],
   "source": [
    "approxdist : psubst(ccsol, trialdist);"
   ]
  },
  {
   "cell_type": "markdown",
   "id": "1eca5449-54f5-4792-b904-0c5c1262ef9a",
   "metadata": {},
   "source": [
    "Plot against the exact solution."
   ]
  },
  {
   "cell_type": "code",
   "execution_count": 69,
   "id": "73c885cb-4c95-46e7-b8d8-8a164e5a1151",
   "metadata": {
    "execution": {
     "iopub.execute_input": "2021-05-31T20:27:20Z",
     "iopub.status.busy": "2021-05-31T20:27:20Z",
     "iopub.status.idle": "2021-05-31T20:27:20Z",
     "shell.execute_reply": "2021-05-31T20:27:20Z"
    },
    "tags": []
   },
   "outputs": [],
   "source": [
    "set_plot_option([svg_file, \"maxplot-moment-gen.svg\"])$"
   ]
  },
  {
   "cell_type": "code",
   "execution_count": 70,
   "id": "1acfbacb-201f-4da4-94c4-a494e2a2340b",
   "metadata": {
    "execution": {
     "iopub.execute_input": "2021-05-31T20:27:22Z",
     "iopub.status.busy": "2021-05-31T20:27:22Z",
     "iopub.status.idle": "2021-05-31T20:27:22Z",
     "shell.execute_reply": "2021-05-31T20:27:22Z"
    },
    "tags": []
   },
   "outputs": [
    {
     "data": {
      "image/svg+xml": [
       "<?xml version=\"1.0\" encoding=\"utf-8\"  standalone=\"no\"?>\n",
       "<svg \n",
       " width=\"600\" height=\"480\"\n",
       " viewBox=\"0 0 600 480\"\n",
       " xmlns=\"http://www.w3.org/2000/svg\"\n",
       " xmlns:xlink=\"http://www.w3.org/1999/xlink\"\n",
       ">\n",
       "\n",
       "<title>Gnuplot</title>\n",
       "<desc>Produced by GNUPLOT 5.4 patchlevel 1 </desc>\n",
       "\n",
       "<g id=\"gnuplot_canvas\">\n",
       "\n",
       "<rect x=\"0\" y=\"0\" width=\"600\" height=\"480\" fill=\"none\"/>\n",
       "<defs>\n",
       "\n",
       "\t<circle id='gpDot' r='0.5' stroke-width='0.5' stroke='currentColor'/>\n",
       "\t<path id='gpPt0' stroke-width='0.190' stroke='currentColor' d='M-1,0 h2 M0,-1 v2'/>\n",
       "\t<path id='gpPt1' stroke-width='0.190' stroke='currentColor' d='M-1,-1 L1,1 M1,-1 L-1,1'/>\n",
       "\t<path id='gpPt2' stroke-width='0.190' stroke='currentColor' d='M-1,0 L1,0 M0,-1 L0,1 M-1,-1 L1,1 M-1,1 L1,-1'/>\n",
       "\t<rect id='gpPt3' stroke-width='0.190' stroke='currentColor' x='-1' y='-1' width='2' height='2'/>\n",
       "\t<rect id='gpPt4' stroke-width='0.190' stroke='currentColor' fill='currentColor' x='-1' y='-1' width='2' height='2'/>\n",
       "\t<circle id='gpPt5' stroke-width='0.190' stroke='currentColor' cx='0' cy='0' r='1'/>\n",
       "\t<use xlink:href='#gpPt5' id='gpPt6' fill='currentColor' stroke='none'/>\n",
       "\t<path id='gpPt7' stroke-width='0.190' stroke='currentColor' d='M0,-1.33 L-1.33,0.67 L1.33,0.67 z'/>\n",
       "\t<use xlink:href='#gpPt7' id='gpPt8' fill='currentColor' stroke='none'/>\n",
       "\t<use xlink:href='#gpPt7' id='gpPt9' stroke='currentColor' transform='rotate(180)'/>\n",
       "\t<use xlink:href='#gpPt9' id='gpPt10' fill='currentColor' stroke='none'/>\n",
       "\t<use xlink:href='#gpPt3' id='gpPt11' stroke='currentColor' transform='rotate(45)'/>\n",
       "\t<use xlink:href='#gpPt11' id='gpPt12' fill='currentColor' stroke='none'/>\n",
       "\t<path id='gpPt13' stroke-width='0.190' stroke='currentColor' d='M0,1.330 L1.265,0.411 L0.782,-1.067 L-0.782,-1.076 L-1.265,0.411 z'/>\n",
       "\t<use xlink:href='#gpPt13' id='gpPt14' fill='currentColor' stroke='none'/>\n",
       "\t<filter id='textbox' filterUnits='objectBoundingBox' x='0' y='0' height='1' width='1'>\n",
       "\t  <feFlood flood-color='white' flood-opacity='1' result='bgnd'/>\n",
       "\t  <feComposite in='SourceGraphic' in2='bgnd' operator='atop'/>\n",
       "\t</filter>\n",
       "\t<filter id='greybox' filterUnits='objectBoundingBox' x='0' y='0' height='1' width='1'>\n",
       "\t  <feFlood flood-color='lightgrey' flood-opacity='1' result='grey'/>\n",
       "\t  <feComposite in='SourceGraphic' in2='grey' operator='atop'/>\n",
       "\t</filter>\n",
       "</defs>\n",
       "<g fill=\"none\" color=\"white\" stroke=\"currentColor\" stroke-width=\"1.00\" stroke-linecap=\"butt\" stroke-linejoin=\"miter\">\n",
       "</g>\n",
       "<g fill=\"none\" color=\"gray\" stroke=\"currentColor\" stroke-width=\"1.00\" stroke-linecap=\"butt\" stroke-linejoin=\"miter\">\n",
       "\t<path stroke='black' stroke-dasharray='2,4'  d='M73.42,386.41 L570.62,386.41  '/></g>\n",
       "<g fill=\"none\" color=\"black\" stroke=\"currentColor\" stroke-width=\"1.00\" stroke-linecap=\"butt\" stroke-linejoin=\"miter\">\n",
       "\t<path stroke='black'  d='M73.42,30.45 L73.42,403.36 L570.62,403.36 L570.62,30.45 L73.42,30.45 Z  '/></g>\n",
       "<g fill=\"none\" color=\"black\" stroke=\"currentColor\" stroke-width=\"1.00\" stroke-linecap=\"butt\" stroke-linejoin=\"miter\">\n",
       "\t<g transform=\"translate(322.02,460.41)\" stroke=\"none\" fill=\"black\" font-family=\"Arial\" font-size=\"14.00\"  text-anchor=\"middle\">\n",
       "\t\t<text>x</text>\n",
       "\t</g>\n",
       "</g>\n",
       "<g fill=\"none\" color=\"black\" stroke=\"currentColor\" stroke-width=\"1.00\" stroke-linecap=\"butt\" stroke-linejoin=\"miter\">\n",
       "</g>\n",
       "\t<g id=\"gnuplot_plot_1\" ><title>approx</title>\n",
       "<g fill=\"none\" color=\"black\" stroke=\"currentColor\" stroke-width=\"1.00\" stroke-linecap=\"butt\" stroke-linejoin=\"miter\">\n",
       "\t<g transform=\"translate(491.59,56.00)\" stroke=\"none\" fill=\"black\" font-family=\"Arial\" font-size=\"14.00\"  text-anchor=\"end\">\n",
       "\t\t<text>approx</text>\n",
       "\t</g>\n",
       "</g>\n",
       "<g fill=\"none\" color=\"black\" stroke=\"currentColor\" stroke-width=\"1.00\" stroke-linecap=\"butt\" stroke-linejoin=\"miter\">\n",
       "\t<path stroke='rgb(  0,   0, 255)'  d='M501.38,51.45 L551.04,51.45 M73.42,48.80 L73.96,48.59 L74.49,48.39 L75.03,48.22 L75.56,48.06 L76.10,47.91\n",
       "\t\tL76.63,47.79 L77.17,47.68 L77.71,47.60 L78.24,47.52 L78.78,47.47 L79.31,47.43 L79.85,47.41 L80.12,47.40\n",
       "\t\tL80.39,47.40 L80.65,47.40 L80.92,47.41 L81.19,47.42 L81.46,47.44 L81.72,47.45 L81.99,47.48 L82.53,47.53\n",
       "\t\tL83.06,47.60 L83.60,47.69 L84.14,47.79 L84.67,47.91 L85.21,48.04 L85.74,48.18 L86.28,48.34 L86.81,48.51\n",
       "\t\tL87.35,48.69 L87.89,48.89 L88.42,49.10 L88.96,49.33 L89.49,49.57 L90.03,49.82 L90.56,50.08 L91.10,50.35\n",
       "\t\tL91.64,50.64 L92.17,50.94 L92.71,51.25 L93.24,51.57 L93.78,51.91 L94.32,52.25 L94.85,52.61 L95.92,53.35\n",
       "\t\tL96.99,54.14 L98.07,54.97 L99.14,55.83 L100.21,56.74 L101.28,57.69 L102.35,58.67 L103.42,59.68 L104.50,60.73\n",
       "\t\tL105.57,61.82 L106.64,62.93 L107.71,64.08 L108.78,65.26 L109.85,66.46 L110.92,67.70 L112.00,68.96 L113.07,70.24\n",
       "\t\tL114.14,71.56 L115.21,72.89 L116.28,74.25 L117.35,75.64 L118.43,77.04 L119.50,78.47 L120.57,79.91 L121.64,81.38\n",
       "\t\tL122.71,82.86 L123.78,84.36 L124.85,85.88 L125.93,87.41 L127.00,88.96 L128.07,90.53 L129.14,92.11 L130.21,93.70\n",
       "\t\tL131.28,95.30 L132.36,96.92 L133.43,98.55 L134.50,100.19 L135.57,101.84 L136.64,103.51 L137.71,105.18 L138.78,106.86\n",
       "\t\tL139.86,108.54 L140.93,110.24 L142.00,111.94 L143.07,113.65 L144.14,115.37 L145.21,117.09 L146.29,118.81 L147.36,120.55\n",
       "\t\tL148.43,122.28 L149.50,124.02 L150.57,125.76 L151.64,127.51 L152.71,129.26 L153.79,131.01 L154.86,132.77 L155.93,134.52\n",
       "\t\tL157.00,136.28 L158.07,138.03 L159.14,139.79 L161.29,143.31 L163.43,146.82 L165.57,150.33 L167.72,153.83 L169.86,157.33\n",
       "\t\tL172.00,160.81 L174.15,164.28 L176.29,167.74 L178.43,171.18 L180.58,174.60 L182.72,178.00 L184.86,181.38 L187.00,184.74\n",
       "\t\tL189.15,188.07 L191.29,191.38 L193.43,194.66 L195.58,197.92 L197.72,201.15 L199.86,204.34 L202.01,207.51 L204.15,210.65\n",
       "\t\tL206.29,213.76 L208.44,216.83 L210.58,219.87 L214.86,225.86 L219.15,231.70 L223.44,237.41 L227.72,242.98 L232.01,248.40\n",
       "\t\tL236.30,253.68 L240.58,258.82 L244.87,263.81 L247.01,266.25 L249.15,268.65 L251.30,271.02 L253.44,273.35 L255.58,275.65\n",
       "\t\tL257.73,277.91 L259.87,280.14 L262.01,282.33 L264.16,284.48 L266.30,286.60 L268.44,288.69 L270.59,290.74 L272.73,292.76\n",
       "\t\tL274.87,294.74 L277.01,296.69 L279.16,298.61 L281.30,300.50 L283.44,302.35 L285.59,304.17 L287.73,305.95 L289.87,307.71\n",
       "\t\tL292.02,309.43 L294.16,311.13 L296.30,312.79 L298.45,314.42 L300.59,316.03 L302.73,317.60 L304.88,319.14 L307.02,320.66\n",
       "\t\tL309.16,322.15 L311.30,323.60 L313.45,325.03 L315.59,326.44 L317.73,327.81 L319.88,329.16 L322.02,330.49 L324.16,331.79\n",
       "\t\tL326.31,333.06 L328.45,334.30 L330.59,335.53 L332.74,336.72 L334.88,337.90 L337.02,339.05 L339.16,340.18 L341.31,341.28\n",
       "\t\tL343.45,342.36 L345.59,343.42 L347.74,344.46 L349.88,345.47 L352.02,346.47 L354.17,347.44 L356.31,348.39 L358.45,349.33\n",
       "\t\tL360.60,350.24 L362.74,351.13 L364.88,352.01 L367.03,352.86 L369.17,353.70 L371.31,354.52 L373.45,355.32 L375.60,356.11\n",
       "\t\tL377.74,356.87 L379.88,357.62 L382.03,358.36 L384.17,359.07 L386.31,359.77 L388.46,360.46 L390.60,361.13 L392.74,361.78\n",
       "\t\tL394.89,362.42 L397.03,363.05 L399.17,363.66 L401.31,364.26 L403.46,364.84 L405.60,365.41 L407.74,365.97 L409.89,366.51\n",
       "\t\tL412.03,367.05 L414.17,367.57 L416.32,368.07 L418.46,368.57 L420.60,369.05 L422.75,369.52 L424.89,369.98 L427.03,370.43\n",
       "\t\tL429.18,370.87 L431.32,371.30 L433.46,371.72 L435.60,372.13 L437.75,372.53 L439.89,372.91 L442.03,373.29 L444.18,373.66\n",
       "\t\tL446.32,374.02 L448.46,374.38 L450.61,374.72 L452.75,375.05 L454.89,375.38 L457.04,375.70 L459.18,376.01 L461.32,376.31\n",
       "\t\tL463.46,376.61 L465.61,376.89 L467.75,377.17 L469.89,377.45 L472.04,377.71 L474.18,377.97 L476.32,378.22 L478.47,378.47\n",
       "\t\tL480.61,378.71 L482.75,378.94 L484.90,379.17 L487.04,379.39 L489.18,379.60 L491.33,379.81 L493.47,380.02 L495.61,380.22\n",
       "\t\tL497.75,380.41 L499.90,380.60 L502.04,380.78 L504.18,380.96 L506.33,381.13 L508.47,381.30 L510.61,381.47 L512.76,381.63\n",
       "\t\tL514.90,381.78 L517.04,381.93 L519.19,382.08 L521.33,382.22 L523.47,382.36 L525.61,382.50 L527.76,382.63 L529.90,382.76\n",
       "\t\tL532.04,382.88 L534.19,383.00 L536.33,383.12 L537.40,383.17 L538.47,383.23 L539.55,383.29 L540.62,383.34 L541.69,383.39\n",
       "\t\tL542.76,383.45 L543.83,383.50 L544.90,383.55 L545.97,383.60 L547.05,383.65 L548.12,383.70 L549.19,383.75 L550.26,383.80\n",
       "\t\tL551.33,383.85 L552.40,383.89 L553.48,383.94 L554.55,383.98 L555.62,384.03 L556.69,384.07 L557.76,384.12 L558.83,384.16\n",
       "\t\tL559.90,384.20 L560.98,384.24 L562.05,384.28 L563.12,384.32 L564.19,384.36 L565.26,384.40 L566.33,384.44 L567.41,384.48\n",
       "\t\tL568.48,384.51 L569.55,384.55 L570.62,384.59  '/></g>\n",
       "\t</g>\n",
       "\t<g id=\"gnuplot_plot_2\" ><title>exact</title>\n",
       "<g fill=\"none\" color=\"black\" stroke=\"currentColor\" stroke-width=\"1.00\" stroke-linecap=\"butt\" stroke-linejoin=\"miter\">\n",
       "\t<g transform=\"translate(491.59,77.00)\" stroke=\"none\" fill=\"black\" font-family=\"Arial\" font-size=\"14.00\"  text-anchor=\"end\">\n",
       "\t\t<text>exact</text>\n",
       "\t</g>\n",
       "</g>\n",
       "<g fill=\"none\" color=\"black\" stroke=\"currentColor\" stroke-width=\"1.00\" stroke-linecap=\"butt\" stroke-linejoin=\"miter\">\n",
       "\t<use xlink:href='#gpPt4' transform='translate(73.42,99.41) scale(7.88)' color='rgb(255,   0,   0)'/>\n",
       "\t<use xlink:href='#gpPt4' transform='translate(106.57,70.17) scale(7.88)' color='rgb(255,   0,   0)'/>\n",
       "\t<use xlink:href='#gpPt4' transform='translate(139.71,96.42) scale(7.88)' color='rgb(255,   0,   0)'/>\n",
       "\t<use xlink:href='#gpPt4' transform='translate(172.86,147.25) scale(7.88)' color='rgb(255,   0,   0)'/>\n",
       "\t<use xlink:href='#gpPt4' transform='translate(206.01,202.39) scale(7.88)' color='rgb(255,   0,   0)'/>\n",
       "\t<use xlink:href='#gpPt4' transform='translate(239.15,251.59) scale(7.88)' color='rgb(255,   0,   0)'/>\n",
       "\t<use xlink:href='#gpPt4' transform='translate(272.30,291.18) scale(7.88)' color='rgb(255,   0,   0)'/>\n",
       "\t<use xlink:href='#gpPt4' transform='translate(305.45,321.02) scale(7.88)' color='rgb(255,   0,   0)'/>\n",
       "\t<use xlink:href='#gpPt4' transform='translate(338.59,342.51) scale(7.88)' color='rgb(255,   0,   0)'/>\n",
       "\t<use xlink:href='#gpPt4' transform='translate(371.74,357.47) scale(7.88)' color='rgb(255,   0,   0)'/>\n",
       "\t<use xlink:href='#gpPt4' transform='translate(404.89,367.63) scale(7.88)' color='rgb(255,   0,   0)'/>\n",
       "\t<use xlink:href='#gpPt4' transform='translate(438.03,374.38) scale(7.88)' color='rgb(255,   0,   0)'/>\n",
       "\t<use xlink:href='#gpPt4' transform='translate(471.18,378.78) scale(7.88)' color='rgb(255,   0,   0)'/>\n",
       "\t<use xlink:href='#gpPt4' transform='translate(504.33,381.62) scale(7.88)' color='rgb(255,   0,   0)'/>\n",
       "\t<use xlink:href='#gpPt4' transform='translate(537.47,383.43) scale(7.88)' color='rgb(255,   0,   0)'/>\n",
       "\t<use xlink:href='#gpPt4' transform='translate(570.62,384.57) scale(7.88)' color='rgb(255,   0,   0)'/>\n",
       "\t<use xlink:href='#gpPt4' transform='translate(526.21,72.45) scale(7.88)' color='rgb(255,   0,   0)'/>\n",
       "</g>\n",
       "\t</g>\n",
       "<g fill=\"none\" color=\"black\" stroke=\"currentColor\" stroke-width=\"1.00\" stroke-linecap=\"butt\" stroke-linejoin=\"miter\">\n",
       "\t<path stroke='black'  d='M73.42,386.41 L83.92,386.41 M570.62,386.41 L560.12,386.41  '/>\t<g transform=\"translate(63.63,390.96)\" stroke=\"none\" fill=\"black\" font-family=\"Arial\" font-size=\"14.00\"  text-anchor=\"end\">\n",
       "\t\t<text><tspan font-family=\"Arial\" > 0</tspan></text>\n",
       "\t</g>\n",
       "</g>\n",
       "<g fill=\"none\" color=\"black\" stroke=\"currentColor\" stroke-width=\"1.00\" stroke-linecap=\"butt\" stroke-linejoin=\"miter\">\n",
       "\t<path stroke='black'  d='M73.42,348.24 L83.92,348.24 M570.62,348.24 L560.12,348.24  '/>\t<g transform=\"translate(63.63,352.79)\" stroke=\"none\" fill=\"black\" font-family=\"Arial\" font-size=\"14.00\"  text-anchor=\"end\">\n",
       "\t\t<text><tspan font-family=\"Arial\" > 0.02</tspan></text>\n",
       "\t</g>\n",
       "</g>\n",
       "<g fill=\"none\" color=\"black\" stroke=\"currentColor\" stroke-width=\"1.00\" stroke-linecap=\"butt\" stroke-linejoin=\"miter\">\n",
       "\t<path stroke='black'  d='M73.42,310.06 L83.92,310.06 M570.62,310.06 L560.12,310.06  '/>\t<g transform=\"translate(63.63,314.61)\" stroke=\"none\" fill=\"black\" font-family=\"Arial\" font-size=\"14.00\"  text-anchor=\"end\">\n",
       "\t\t<text><tspan font-family=\"Arial\" > 0.04</tspan></text>\n",
       "\t</g>\n",
       "</g>\n",
       "<g fill=\"none\" color=\"black\" stroke=\"currentColor\" stroke-width=\"1.00\" stroke-linecap=\"butt\" stroke-linejoin=\"miter\">\n",
       "\t<path stroke='black'  d='M73.42,271.89 L83.92,271.89 M570.62,271.89 L560.12,271.89  '/>\t<g transform=\"translate(63.63,276.44)\" stroke=\"none\" fill=\"black\" font-family=\"Arial\" font-size=\"14.00\"  text-anchor=\"end\">\n",
       "\t\t<text><tspan font-family=\"Arial\" > 0.06</tspan></text>\n",
       "\t</g>\n",
       "</g>\n",
       "<g fill=\"none\" color=\"black\" stroke=\"currentColor\" stroke-width=\"1.00\" stroke-linecap=\"butt\" stroke-linejoin=\"miter\">\n",
       "\t<path stroke='black'  d='M73.42,233.72 L83.92,233.72 M570.62,233.72 L560.12,233.72  '/>\t<g transform=\"translate(63.63,238.27)\" stroke=\"none\" fill=\"black\" font-family=\"Arial\" font-size=\"14.00\"  text-anchor=\"end\">\n",
       "\t\t<text><tspan font-family=\"Arial\" > 0.08</tspan></text>\n",
       "\t</g>\n",
       "</g>\n",
       "<g fill=\"none\" color=\"black\" stroke=\"currentColor\" stroke-width=\"1.00\" stroke-linecap=\"butt\" stroke-linejoin=\"miter\">\n",
       "\t<path stroke='black'  d='M73.42,195.54 L83.92,195.54 M570.62,195.54 L560.12,195.54  '/>\t<g transform=\"translate(63.63,200.09)\" stroke=\"none\" fill=\"black\" font-family=\"Arial\" font-size=\"14.00\"  text-anchor=\"end\">\n",
       "\t\t<text><tspan font-family=\"Arial\" > 0.1</tspan></text>\n",
       "\t</g>\n",
       "</g>\n",
       "<g fill=\"none\" color=\"black\" stroke=\"currentColor\" stroke-width=\"1.00\" stroke-linecap=\"butt\" stroke-linejoin=\"miter\">\n",
       "\t<path stroke='black'  d='M73.42,157.37 L83.92,157.37 M570.62,157.37 L560.12,157.37  '/>\t<g transform=\"translate(63.63,161.92)\" stroke=\"none\" fill=\"black\" font-family=\"Arial\" font-size=\"14.00\"  text-anchor=\"end\">\n",
       "\t\t<text><tspan font-family=\"Arial\" > 0.12</tspan></text>\n",
       "\t</g>\n",
       "</g>\n",
       "<g fill=\"none\" color=\"black\" stroke=\"currentColor\" stroke-width=\"1.00\" stroke-linecap=\"butt\" stroke-linejoin=\"miter\">\n",
       "\t<path stroke='black'  d='M73.42,119.20 L83.92,119.20 M570.62,119.20 L560.12,119.20  '/>\t<g transform=\"translate(63.63,123.75)\" stroke=\"none\" fill=\"black\" font-family=\"Arial\" font-size=\"14.00\"  text-anchor=\"end\">\n",
       "\t\t<text><tspan font-family=\"Arial\" > 0.14</tspan></text>\n",
       "\t</g>\n",
       "</g>\n",
       "<g fill=\"none\" color=\"black\" stroke=\"currentColor\" stroke-width=\"1.00\" stroke-linecap=\"butt\" stroke-linejoin=\"miter\">\n",
       "\t<path stroke='black'  d='M73.42,81.02 L83.92,81.02 M570.62,81.02 L560.12,81.02  '/>\t<g transform=\"translate(63.63,85.57)\" stroke=\"none\" fill=\"black\" font-family=\"Arial\" font-size=\"14.00\"  text-anchor=\"end\">\n",
       "\t\t<text><tspan font-family=\"Arial\" > 0.16</tspan></text>\n",
       "\t</g>\n",
       "</g>\n",
       "<g fill=\"none\" color=\"black\" stroke=\"currentColor\" stroke-width=\"1.00\" stroke-linecap=\"butt\" stroke-linejoin=\"miter\">\n",
       "\t<path stroke='black'  d='M73.42,42.85 L83.92,42.85 M570.62,42.85 L560.12,42.85  '/>\t<g transform=\"translate(63.63,47.40)\" stroke=\"none\" fill=\"black\" font-family=\"Arial\" font-size=\"14.00\"  text-anchor=\"end\">\n",
       "\t\t<text><tspan font-family=\"Arial\" > 0.18</tspan></text>\n",
       "\t</g>\n",
       "</g>\n",
       "<g fill=\"none\" color=\"black\" stroke=\"currentColor\" stroke-width=\"1.00\" stroke-linecap=\"butt\" stroke-linejoin=\"miter\">\n",
       "\t<path stroke='black'  d='M106.57,403.36 L106.57,392.86 M106.57,30.45 L106.57,40.95  '/>\t<g transform=\"translate(106.57,428.91)\" stroke=\"none\" fill=\"black\" font-family=\"Arial\" font-size=\"14.00\"  text-anchor=\"middle\">\n",
       "\t\t<text><tspan font-family=\"Arial\" > 2</tspan></text>\n",
       "\t</g>\n",
       "</g>\n",
       "<g fill=\"none\" color=\"black\" stroke=\"currentColor\" stroke-width=\"1.00\" stroke-linecap=\"butt\" stroke-linejoin=\"miter\">\n",
       "\t<path stroke='black'  d='M172.86,403.36 L172.86,392.86 M172.86,30.45 L172.86,40.95  '/>\t<g transform=\"translate(172.86,428.91)\" stroke=\"none\" fill=\"black\" font-family=\"Arial\" font-size=\"14.00\"  text-anchor=\"middle\">\n",
       "\t\t<text><tspan font-family=\"Arial\" > 4</tspan></text>\n",
       "\t</g>\n",
       "</g>\n",
       "<g fill=\"none\" color=\"black\" stroke=\"currentColor\" stroke-width=\"1.00\" stroke-linecap=\"butt\" stroke-linejoin=\"miter\">\n",
       "\t<path stroke='black'  d='M239.15,403.36 L239.15,392.86 M239.15,30.45 L239.15,40.95  '/>\t<g transform=\"translate(239.15,428.91)\" stroke=\"none\" fill=\"black\" font-family=\"Arial\" font-size=\"14.00\"  text-anchor=\"middle\">\n",
       "\t\t<text><tspan font-family=\"Arial\" > 6</tspan></text>\n",
       "\t</g>\n",
       "</g>\n",
       "<g fill=\"none\" color=\"black\" stroke=\"currentColor\" stroke-width=\"1.00\" stroke-linecap=\"butt\" stroke-linejoin=\"miter\">\n",
       "\t<path stroke='black'  d='M305.45,403.36 L305.45,392.86 M305.45,30.45 L305.45,40.95  '/>\t<g transform=\"translate(305.45,428.91)\" stroke=\"none\" fill=\"black\" font-family=\"Arial\" font-size=\"14.00\"  text-anchor=\"middle\">\n",
       "\t\t<text><tspan font-family=\"Arial\" > 8</tspan></text>\n",
       "\t</g>\n",
       "</g>\n",
       "<g fill=\"none\" color=\"black\" stroke=\"currentColor\" stroke-width=\"1.00\" stroke-linecap=\"butt\" stroke-linejoin=\"miter\">\n",
       "\t<path stroke='black'  d='M371.74,403.36 L371.74,392.86 M371.74,30.45 L371.74,40.95  '/>\t<g transform=\"translate(371.74,428.91)\" stroke=\"none\" fill=\"black\" font-family=\"Arial\" font-size=\"14.00\"  text-anchor=\"middle\">\n",
       "\t\t<text><tspan font-family=\"Arial\" > 10</tspan></text>\n",
       "\t</g>\n",
       "</g>\n",
       "<g fill=\"none\" color=\"black\" stroke=\"currentColor\" stroke-width=\"1.00\" stroke-linecap=\"butt\" stroke-linejoin=\"miter\">\n",
       "\t<path stroke='black'  d='M438.03,403.36 L438.03,392.86 M438.03,30.45 L438.03,40.95  '/>\t<g transform=\"translate(438.03,428.91)\" stroke=\"none\" fill=\"black\" font-family=\"Arial\" font-size=\"14.00\"  text-anchor=\"middle\">\n",
       "\t\t<text><tspan font-family=\"Arial\" > 12</tspan></text>\n",
       "\t</g>\n",
       "</g>\n",
       "<g fill=\"none\" color=\"black\" stroke=\"currentColor\" stroke-width=\"1.00\" stroke-linecap=\"butt\" stroke-linejoin=\"miter\">\n",
       "\t<path stroke='black'  d='M504.33,403.36 L504.33,392.86 M504.33,30.45 L504.33,40.95  '/>\t<g transform=\"translate(504.33,428.91)\" stroke=\"none\" fill=\"black\" font-family=\"Arial\" font-size=\"14.00\"  text-anchor=\"middle\">\n",
       "\t\t<text><tspan font-family=\"Arial\" > 14</tspan></text>\n",
       "\t</g>\n",
       "</g>\n",
       "<g fill=\"none\" color=\"black\" stroke=\"currentColor\" stroke-width=\"1.00\" stroke-linecap=\"butt\" stroke-linejoin=\"miter\">\n",
       "\t<path stroke='black'  d='M570.62,403.36 L570.62,392.86 M570.62,30.45 L570.62,40.95  '/>\t<g transform=\"translate(570.62,428.91)\" stroke=\"none\" fill=\"black\" font-family=\"Arial\" font-size=\"14.00\"  text-anchor=\"middle\">\n",
       "\t\t<text><tspan font-family=\"Arial\" > 16</tspan></text>\n",
       "\t</g>\n",
       "</g>\n",
       "<g fill=\"none\" color=\"black\" stroke=\"currentColor\" stroke-width=\"1.00\" stroke-linecap=\"butt\" stroke-linejoin=\"miter\">\n",
       "</g>\n",
       "<g fill=\"none\" color=\"gray\" stroke=\"currentColor\" stroke-width=\"1.00\" stroke-linecap=\"butt\" stroke-linejoin=\"miter\">\n",
       "\t<path stroke='black' stroke-dasharray='2,4'  d='M73.42,386.41 L570.62,386.41  '/></g>\n",
       "<g fill=\"none\" color=\"gray\" stroke=\"black\" stroke-width=\"2.00\" stroke-linecap=\"butt\" stroke-linejoin=\"miter\">\n",
       "</g>\n",
       "<g fill=\"none\" color=\"black\" stroke=\"currentColor\" stroke-width=\"2.00\" stroke-linecap=\"butt\" stroke-linejoin=\"miter\">\n",
       "</g>\n",
       "<g fill=\"none\" color=\"black\" stroke=\"black\" stroke-width=\"1.00\" stroke-linecap=\"butt\" stroke-linejoin=\"miter\">\n",
       "</g>\n",
       "<g fill=\"none\" color=\"black\" stroke=\"currentColor\" stroke-width=\"1.00\" stroke-linecap=\"butt\" stroke-linejoin=\"miter\">\n",
       "\t<path stroke='black'  d='M73.42,30.45 L73.42,403.36 L570.62,403.36 L570.62,30.45 L73.42,30.45 Z  '/></g>\n",
       "<g fill=\"none\" color=\"black\" stroke=\"currentColor\" stroke-width=\"1.00\" stroke-linecap=\"butt\" stroke-linejoin=\"miter\">\n",
       "</g>\n",
       "</g>\n",
       "</svg>\n",
       "\n"
      ],
      "text/plain": [
       "/tmp/maxplot-moment-gen.svg"
      ]
     },
     "metadata": {},
     "output_type": "display_data"
    },
    {
     "data": {
      "text/latex": [
       "\\[\\tag{${\\it \\%o}_{90}$}\\left[ \\mbox{ /tmp/maxout66.gnuplot } , \\mbox{ /tmp/maxplot-moment-gen.svg } \\right] \\]"
      ],
      "text/plain": [
       "(%o90)       [/tmp/maxout66.gnuplot, /tmp/maxplot-moment-gen.svg]"
      ],
      "text/x-maxima": [
       "[\"/tmp/maxout66.gnuplot\",\"/tmp/maxplot-moment-gen.svg\"]"
      ]
     },
     "execution_count": 70,
     "metadata": {},
     "output_type": "execute_result"
    }
   ],
   "source": [
    "plot2d([approxdist, [discrete, exdist]], [x, 1, 16],\n",
    "[legend, \"approx\", \"exact\"], [style, lines, points]);"
   ]
  }
 ],
 "metadata": {
  "jupytext": {
   "formats": "ipynb,md"
  },
  "kernelspec": {
   "display_name": "Maxima",
   "language": "maxima",
   "name": "maxima"
  },
  "language_info": {
   "codemirror_mode": "maxima",
   "file_extension": ".mac",
   "mimetype": "text/x-maxima",
   "name": "maxima",
   "pygments_lexer": "maxima",
   "version": "5.45.0"
  },
  "toc-autonumbering": true
 },
 "nbformat": 4,
 "nbformat_minor": 5
}
