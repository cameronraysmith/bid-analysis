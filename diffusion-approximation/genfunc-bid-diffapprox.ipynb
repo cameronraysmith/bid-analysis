{
 "cells": [
  {
   "cell_type": "markdown",
   "id": "41b07f88-c587-43ce-af8e-17350ddbd7bb",
   "metadata": {},
   "source": [
    "<center><font size=\"+4\">Generating function analysis of the diffusion approximation to the birth-immigration-death process</font></center>"
   ]
  },
  {
   "cell_type": "markdown",
   "id": "42289aaf-60d5-4089-a93d-afecd8db5e68",
   "metadata": {
    "tags": []
   },
   "source": [
    "# Moment generating function"
   ]
  },
  {
   "cell_type": "code",
   "execution_count": 1,
   "id": "99477398-3ceb-4c21-a21b-f80be152a337",
   "metadata": {
    "execution": {
     "iopub.execute_input": "2021-05-07T20:43:15Z",
     "iopub.status.busy": "2021-05-07T20:43:15Z",
     "iopub.status.idle": "2021-05-07T20:43:15Z",
     "shell.execute_reply": "2021-05-07T20:43:15Z"
    },
    "tags": []
   },
   "outputs": [
    {
     "data": {
      "text/latex": [
       "\\[\\tag{${\\it \\%o}_{1}$}{\\it genfunc}\\left(x , t , n_{0} , {\\it kb} , {\\it kd}\\right):=\\left(\\frac{{\\it kd}\\,e^{\\left(-\\left({\\it kb}-{\\it kd}\\right)\\right)\\,t}-{\\it kd}+\\left({\\it kd}-{\\it kb}\\,e^{\\left(-\\left({\\it kb}-{\\it kd}\\right)\\right)\\,t}\\right)\\,x}{{\\it kd}\\,e^{\\left(-\\left({\\it kb}-{\\it kd}\\right)\\right)\\,t}-{\\it kb}+\\left({\\it kb}-{\\it kb}\\,e^{\\left(-\\left({\\it kb}-{\\it kd}\\right)\\right)\\,t}\\right)\\,x}\\right)^{n_{0}}\\]"
      ],
      "text/plain": [
       "(%o1) genfunc(x, t, n0, kb, kd) := \n",
       "                        (- (kb - kd)) t                   (- (kb - kd)) t\n",
       "                   kd %e                - kd + (kd - kb %e               ) x n0\n",
       "                  (---------------------------------------------------------)\n",
       "                        (- (kb - kd)) t                   (- (kb - kd)) t\n",
       "                   kd %e                - kb + (kb - kb %e               ) x"
      ],
      "text/x-maxima": [
       "genfunc(x,t,n0,kb,kd):=\n",
       "        ((kd*%e^((-(kb-kd))*t)-kd+(kd-kb*%e^((-(kb-kd))*t))*x)\n",
       "         /(kd*%e^((-(kb-kd))*t)-kb+(kb-kb*%e^((-(kb-kd))*t))*x))^n0"
      ]
     },
     "execution_count": 1,
     "metadata": {},
     "output_type": "execute_result"
    }
   ],
   "source": [
    "genfunc (x, t, n0, kb, kd) := \n",
    "    ((kd * %e^(- (kb - kd) * t) - kd + \n",
    "        (kd - kb * %e^(- (kb - kd) * t)) * x) / \n",
    "        (kd * %e^(- (kb - kd) * t) - kb + \n",
    "        (kb - kb * %e^(- (kb - kd) * t)) * x))^n0;"
   ]
  },
  {
   "cell_type": "markdown",
   "id": "ed5299f0-6720-4794-ae53-d84f1ad7b19e",
   "metadata": {},
   "source": [
    "Extract the probability distribution"
   ]
  },
  {
   "cell_type": "code",
   "execution_count": 2,
   "id": "88fc89ca-1730-4b26-a146-aa80a728800a",
   "metadata": {
    "execution": {
     "iopub.execute_input": "2021-05-07T20:43:17Z",
     "iopub.status.busy": "2021-05-07T20:43:17Z",
     "iopub.status.idle": "2021-05-07T20:43:17Z",
     "shell.execute_reply": "2021-05-07T20:43:17Z"
    },
    "tags": []
   },
   "outputs": [],
   "source": [
    "probdist (m, t, n0, kb, kd) :=\n",
    "block([gf],\n",
    "    gf : genfunc(z, t, n0, kb, kd),\n",
    "    makelist([j, subst (0, z, diff(gf, z, j) / (j!))],\n",
    "        j, 0, m))$"
   ]
  },
  {
   "cell_type": "markdown",
   "id": "320968dc-5343-4273-b077-0596a0fe4d5d",
   "metadata": {},
   "source": [
    "Reparameterize it according to the diffusion approximation."
   ]
  },
  {
   "cell_type": "code",
   "execution_count": 3,
   "id": "022ff381-ae5c-423d-90fd-29492e7158ae",
   "metadata": {
    "execution": {
     "iopub.execute_input": "2021-05-07T20:43:18Z",
     "iopub.status.busy": "2021-05-07T20:43:18Z",
     "iopub.status.idle": "2021-05-07T20:43:18Z",
     "shell.execute_reply": "2021-05-07T20:43:18Z"
    },
    "tags": []
   },
   "outputs": [
    {
     "data": {
      "text/latex": [
       "\\[\\tag{${\\it \\%o}_{3}$}\\left(-\\frac{\\left(\\left(s-2\\,D\\,N\\right)\\,e^{s\\,\\tau}+s+2\\,D\\,N\\right)\\,z+\\left(2\\,D\\,N^2-N\\,s\\right)\\,e^{s\\,\\tau}+N\\,s-2\\,D\\,N^2}{\\left(\\left(s+2\\,D\\,N\\right)\\,e^{s\\,\\tau}-s-2\\,D\\,N\\right)\\,z+\\left(-N\\,s-2\\,D\\,N^2\\right)\\,e^{s\\,\\tau}-N\\,s+2\\,D\\,N^2}\\right)^{N\\,x_{0}}\\]"
      ],
      "text/plain": [
       "                             s tau                        2          s tau\n",
       "(%o3) expt(- (((s - 2 D N) %e      + s + 2 D N) z + (2 D N  - N s) %e\n",
       "              2                  s tau\n",
       " + N s - 2 D N )/(((s + 2 D N) %e      - s - 2 D N) z\n",
       "                   2    s tau              2\n",
       " + ((- N s) - 2 D N ) %e      - N s + 2 D N ), N x0)"
      ],
      "text/x-maxima": [
       "(-(((s-2*D*N)*%e^(s*tau)+s+2*D*N)*z+(2*D*N^2-N*s)*%e^(s*tau)+N*s-2*D*N^2)\n",
       " /(((s+2*D*N)*%e^(s*tau)-s-2*D*N)*z+((-N*s)-2*D*N^2)*%e^(s*tau)-N*s+2*D*N^2))\n",
       " ^(N*x0)"
      ]
     },
     "execution_count": 3,
     "metadata": {},
     "output_type": "execute_result"
    }
   ],
   "source": [
    "\n",
    "factor(genfunc(z / N, N * tau, N * x0, D + s/(2*N), D - s/(2*N)));\n"
   ]
  },
  {
   "cell_type": "code",
   "execution_count": 4,
   "id": "370d7ed7-23fd-49e5-b4ae-74bd848c07b6",
   "metadata": {
    "execution": {
     "iopub.execute_input": "2021-05-07T20:43:19Z",
     "iopub.status.busy": "2021-05-07T20:43:19Z",
     "iopub.status.idle": "2021-05-07T20:43:19Z",
     "shell.execute_reply": "2021-05-07T20:43:19Z"
    },
    "tags": []
   },
   "outputs": [],
   "source": [
    "\n",
    "renoprob (m, N, tau, x0, D, s) :=\n",
    "    map (lambda ([pa], [pa[1] / N, pa[2] * N]),\n",
    "    probdist (m, N * tau, N * x0, D + s/(2*N), D - s/(2*N)))$\n"
   ]
  },
  {
   "cell_type": "markdown",
   "id": "f9ca3941-face-4a19-8bd8-af81d7a089aa",
   "metadata": {},
   "source": [
    "Plot with values tau = 1.0, x0 = 3.0, D = 1.0, s = 1.0"
   ]
  },
  {
   "cell_type": "code",
   "execution_count": 5,
   "id": "34e185e5-7b26-4cc5-abd5-2dc7ac0752d7",
   "metadata": {
    "execution": {
     "iopub.execute_input": "2021-05-07T20:44:13Z",
     "iopub.status.busy": "2021-05-07T20:44:13Z",
     "iopub.status.idle": "2021-05-07T20:44:13Z",
     "shell.execute_reply": "2021-05-07T20:44:13Z"
    }
   },
   "outputs": [],
   "source": [
    "set_plot_option([svg_file, \"maxplot.svg\"])$"
   ]
  },
  {
   "cell_type": "code",
   "execution_count": 6,
   "id": "2f5f6a97-d84b-412f-ab01-5e50479eb6ca",
   "metadata": {
    "execution": {
     "iopub.execute_input": "2021-05-07T20:44:22Z",
     "iopub.status.busy": "2021-05-07T20:44:15Z",
     "iopub.status.idle": "2021-05-07T20:44:22Z",
     "shell.execute_reply": "2021-05-07T20:44:22Z"
    }
   },
   "outputs": [
    {
     "data": {
      "image/svg+xml": [
       "<?xml version=\"1.0\" encoding=\"utf-8\"  standalone=\"no\"?>\n",
       "<svg \n",
       " width=\"600\" height=\"480\"\n",
       " viewBox=\"0 0 600 480\"\n",
       " xmlns=\"http://www.w3.org/2000/svg\"\n",
       " xmlns:xlink=\"http://www.w3.org/1999/xlink\"\n",
       ">\n",
       "\n",
       "<title>Gnuplot</title>\n",
       "<desc>Produced by GNUPLOT 5.4 patchlevel 1 </desc>\n",
       "\n",
       "<g id=\"gnuplot_canvas\">\n",
       "\n",
       "<rect x=\"0\" y=\"0\" width=\"600\" height=\"480\" fill=\"none\"/>\n",
       "<defs>\n",
       "\n",
       "\t<circle id='gpDot' r='0.5' stroke-width='0.5' stroke='currentColor'/>\n",
       "\t<path id='gpPt0' stroke-width='0.190' stroke='currentColor' d='M-1,0 h2 M0,-1 v2'/>\n",
       "\t<path id='gpPt1' stroke-width='0.190' stroke='currentColor' d='M-1,-1 L1,1 M1,-1 L-1,1'/>\n",
       "\t<path id='gpPt2' stroke-width='0.190' stroke='currentColor' d='M-1,0 L1,0 M0,-1 L0,1 M-1,-1 L1,1 M-1,1 L1,-1'/>\n",
       "\t<rect id='gpPt3' stroke-width='0.190' stroke='currentColor' x='-1' y='-1' width='2' height='2'/>\n",
       "\t<rect id='gpPt4' stroke-width='0.190' stroke='currentColor' fill='currentColor' x='-1' y='-1' width='2' height='2'/>\n",
       "\t<circle id='gpPt5' stroke-width='0.190' stroke='currentColor' cx='0' cy='0' r='1'/>\n",
       "\t<use xlink:href='#gpPt5' id='gpPt6' fill='currentColor' stroke='none'/>\n",
       "\t<path id='gpPt7' stroke-width='0.190' stroke='currentColor' d='M0,-1.33 L-1.33,0.67 L1.33,0.67 z'/>\n",
       "\t<use xlink:href='#gpPt7' id='gpPt8' fill='currentColor' stroke='none'/>\n",
       "\t<use xlink:href='#gpPt7' id='gpPt9' stroke='currentColor' transform='rotate(180)'/>\n",
       "\t<use xlink:href='#gpPt9' id='gpPt10' fill='currentColor' stroke='none'/>\n",
       "\t<use xlink:href='#gpPt3' id='gpPt11' stroke='currentColor' transform='rotate(45)'/>\n",
       "\t<use xlink:href='#gpPt11' id='gpPt12' fill='currentColor' stroke='none'/>\n",
       "\t<path id='gpPt13' stroke-width='0.190' stroke='currentColor' d='M0,1.330 L1.265,0.411 L0.782,-1.067 L-0.782,-1.076 L-1.265,0.411 z'/>\n",
       "\t<use xlink:href='#gpPt13' id='gpPt14' fill='currentColor' stroke='none'/>\n",
       "\t<filter id='textbox' filterUnits='objectBoundingBox' x='0' y='0' height='1' width='1'>\n",
       "\t  <feFlood flood-color='white' flood-opacity='1' result='bgnd'/>\n",
       "\t  <feComposite in='SourceGraphic' in2='bgnd' operator='atop'/>\n",
       "\t</filter>\n",
       "\t<filter id='greybox' filterUnits='objectBoundingBox' x='0' y='0' height='1' width='1'>\n",
       "\t  <feFlood flood-color='lightgrey' flood-opacity='1' result='grey'/>\n",
       "\t  <feComposite in='SourceGraphic' in2='grey' operator='atop'/>\n",
       "\t</filter>\n",
       "</defs>\n",
       "<g fill=\"none\" color=\"white\" stroke=\"currentColor\" stroke-width=\"1.00\" stroke-linecap=\"butt\" stroke-linejoin=\"miter\">\n",
       "</g>\n",
       "<g fill=\"none\" color=\"gray\" stroke=\"currentColor\" stroke-width=\"1.00\" stroke-linecap=\"butt\" stroke-linejoin=\"miter\">\n",
       "\t<path stroke='black' stroke-dasharray='2,4'  d='M73.42,403.36 L570.62,403.36  '/></g>\n",
       "<g fill=\"none\" color=\"gray\" stroke=\"currentColor\" stroke-width=\"1.00\" stroke-linecap=\"butt\" stroke-linejoin=\"miter\">\n",
       "\t<path stroke='black' stroke-dasharray='2,4'  d='M73.42,403.36 L73.42,30.45  '/></g>\n",
       "<g fill=\"none\" color=\"black\" stroke=\"currentColor\" stroke-width=\"1.00\" stroke-linecap=\"butt\" stroke-linejoin=\"miter\">\n",
       "\t<path stroke='black'  d='M73.42,30.45 L73.42,403.36 L570.62,403.36 L570.62,30.45 L73.42,30.45 Z  '/></g>\n",
       "<g fill=\"none\" color=\"black\" stroke=\"currentColor\" stroke-width=\"1.00\" stroke-linecap=\"butt\" stroke-linejoin=\"miter\">\n",
       "\t<g transform=\"translate(322.02,460.41)\" stroke=\"none\" fill=\"black\" font-family=\"Arial\" font-size=\"14.00\"  text-anchor=\"middle\">\n",
       "\t\t<text>x</text>\n",
       "\t</g>\n",
       "</g>\n",
       "<g fill=\"none\" color=\"black\" stroke=\"currentColor\" stroke-width=\"1.00\" stroke-linecap=\"butt\" stroke-linejoin=\"miter\">\n",
       "</g>\n",
       "\t<g id=\"gnuplot_plot_1\" ><title>N=1</title>\n",
       "<g fill=\"none\" color=\"black\" stroke=\"currentColor\" stroke-width=\"1.00\" stroke-linecap=\"butt\" stroke-linejoin=\"miter\">\n",
       "\t<g transform=\"translate(491.59,56.00)\" stroke=\"none\" fill=\"black\" font-family=\"Arial\" font-size=\"14.00\"  text-anchor=\"end\">\n",
       "\t\t<text>N=1</text>\n",
       "\t</g>\n",
       "</g>\n",
       "<g fill=\"none\" color=\"black\" stroke=\"currentColor\" stroke-width=\"1.00\" stroke-linecap=\"butt\" stroke-linejoin=\"miter\">\n",
       "\t<path stroke='rgb(  0,   0, 255)'  d='M501.38,51.45 L551.04,51.45 M73.42,345.97 L89.99,251.09 L106.57,158.98 L123.14,90.56 L139.71,50.88 L156.29,37.22\n",
       "\t\tL172.86,43.89 L189.43,64.74 L206.01,94.32 L222.58,128.26 L239.15,163.38 L255.73,197.48 L272.30,229.19 L288.87,257.76\n",
       "\t\tL305.45,282.89 L322.02,304.57 L338.59,322.98 L355.17,338.42 L371.74,351.22 L388.31,361.72 L404.89,370.28 L421.46,377.20\n",
       "\t\tL438.03,382.75 L454.61,387.19 L471.18,390.72 L487.75,393.51 L504.33,395.70 L520.90,397.43 L537.47,398.77 L554.05,399.82\n",
       "\t\tL570.62,400.64  '/></g>\n",
       "\t</g>\n",
       "\t<g id=\"gnuplot_plot_2\" ><title>N=2</title>\n",
       "<g fill=\"none\" color=\"black\" stroke=\"currentColor\" stroke-width=\"1.00\" stroke-linecap=\"butt\" stroke-linejoin=\"miter\">\n",
       "\t<g transform=\"translate(491.59,77.00)\" stroke=\"none\" fill=\"black\" font-family=\"Arial\" font-size=\"14.00\"  text-anchor=\"end\">\n",
       "\t\t<text>N=2</text>\n",
       "\t</g>\n",
       "</g>\n",
       "<g fill=\"none\" color=\"black\" stroke=\"currentColor\" stroke-width=\"1.00\" stroke-linecap=\"butt\" stroke-linejoin=\"miter\">\n",
       "\t<path stroke='rgb(255,   0,   0)'  d='M501.38,72.45 L551.04,72.45 M73.42,293.22 L81.71,271.75 L89.99,231.07 L98.28,193.05 L106.57,158.82 L114.85,129.14\n",
       "\t\tL123.14,104.47 L131.43,84.97 L139.71,70.60 L148.00,61.16 L156.29,56.32 L164.57,55.65 L172.86,58.70 L181.15,64.96\n",
       "\t\tL189.43,73.93 L197.72,85.13 L206.01,98.11 L214.29,112.42 L222.58,127.70 L230.87,143.59 L239.15,159.78 L247.44,176.04\n",
       "\t\tL255.73,192.13 L264.01,207.87 L272.30,223.13 L280.59,237.79 L288.87,251.77 L297.16,265.01 L305.45,277.47 L313.73,289.14\n",
       "\t\tL322.02,300.00 L330.31,310.07 L338.59,319.36 L346.88,327.90 L355.17,335.72 L363.45,342.86 L371.74,349.36 L380.03,355.25\n",
       "\t\tL388.31,360.57 L396.60,365.38 L404.89,369.70 L413.17,373.58 L421.46,377.05 L429.75,380.16 L438.03,382.93 L446.32,385.39\n",
       "\t\tL454.61,387.58 L462.89,389.52 L471.18,391.23 L479.47,392.75 L487.75,394.09 L496.04,395.26 L504.33,396.30 L512.61,397.21\n",
       "\t\tL520.90,398.01 L529.19,398.71 L537.47,399.32 L545.76,399.86 L554.05,400.32 L562.33,400.73 L570.62,401.09  '/></g>\n",
       "\t</g>\n",
       "\t<g id=\"gnuplot_plot_3\" ><title>N=3</title>\n",
       "<g fill=\"none\" color=\"black\" stroke=\"currentColor\" stroke-width=\"1.00\" stroke-linecap=\"butt\" stroke-linejoin=\"miter\">\n",
       "\t<g transform=\"translate(491.59,98.00)\" stroke=\"none\" fill=\"black\" font-family=\"Arial\" font-size=\"14.00\"  text-anchor=\"end\">\n",
       "\t\t<text>N=3</text>\n",
       "\t</g>\n",
       "</g>\n",
       "<g fill=\"none\" color=\"black\" stroke=\"currentColor\" stroke-width=\"1.00\" stroke-linecap=\"butt\" stroke-linejoin=\"miter\">\n",
       "\t<path stroke='rgb(  0, 255,   0)'  d='M501.38,93.45 L551.04,93.45 M73.42,252.66 L78.94,281.00 L84.47,254.29 L89.99,228.38 L95.52,203.67 L101.04,180.45\n",
       "\t\tL106.57,158.98 L112.09,139.45 L117.62,121.97 L123.14,106.65 L128.66,93.51 L134.19,82.55 L139.71,73.74 L145.24,67.03\n",
       "\t\tL150.76,62.32 L156.29,59.52 L161.81,58.51 L167.34,59.17 L172.86,61.36 L178.38,64.94 L183.91,69.79 L189.43,75.75\n",
       "\t\tL194.96,82.70 L200.48,90.50 L206.01,99.04 L211.53,108.18 L217.06,117.82 L222.58,127.84 L228.10,138.17 L233.63,148.69\n",
       "\t\tL239.15,159.33 L244.68,170.02 L250.20,180.69 L255.73,191.28 L261.25,201.74 L266.78,212.02 L272.30,222.08 L277.82,231.90\n",
       "\t\tL283.35,241.43 L288.87,250.67 L294.40,259.59 L299.92,268.18 L305.45,276.43 L310.97,284.34 L316.50,291.89 L322.02,299.09\n",
       "\t\tL327.54,305.94 L333.07,312.45 L338.59,318.61 L344.12,324.45 L349.64,329.95 L355.17,335.15 L360.69,340.04 L366.22,344.63\n",
       "\t\tL371.74,348.95 L377.26,352.99 L382.79,356.77 L388.31,360.31 L393.84,363.61 L399.36,366.69 L404.89,369.56 L410.41,372.23\n",
       "\t\tL415.94,374.71 L421.46,377.01 L426.98,379.14 L432.51,381.12 L438.03,382.95 L443.56,384.64 L449.08,386.20 L454.61,387.65\n",
       "\t\tL460.13,388.98 L465.66,390.20 L471.18,391.33 L476.70,392.37 L482.23,393.32 L487.75,394.20 L493.28,395.01 L498.80,395.75\n",
       "\t\tL504.33,396.42 L509.85,397.04 L515.38,397.61 L520.90,398.13 L526.42,398.60 L531.95,399.04 L537.47,399.43 L543.00,399.80\n",
       "\t\tL548.52,400.13 L554.05,400.43 L559.57,400.70 L565.10,400.95 L570.62,401.18  '/></g>\n",
       "\t</g>\n",
       "\t<g id=\"gnuplot_plot_4\" ><title>N=4</title>\n",
       "<g fill=\"none\" color=\"black\" stroke=\"currentColor\" stroke-width=\"1.00\" stroke-linecap=\"butt\" stroke-linejoin=\"miter\">\n",
       "\t<g transform=\"translate(491.59,119.00)\" stroke=\"none\" fill=\"black\" font-family=\"Arial\" font-size=\"14.00\"  text-anchor=\"end\">\n",
       "\t\t<text>N=4</text>\n",
       "\t</g>\n",
       "</g>\n",
       "<g fill=\"none\" color=\"black\" stroke=\"currentColor\" stroke-width=\"1.00\" stroke-linecap=\"butt\" stroke-linejoin=\"miter\">\n",
       "\t<path stroke='rgb(255,   0, 255)'  d='M501.38,114.45 L551.04,114.45 M73.42,214.63 L77.56,286.13 L81.71,266.18 L85.85,246.58 L89.99,227.50 L94.14,209.09\n",
       "\t\tL98.28,191.47 L102.42,174.76 L106.57,159.05 L110.71,144.41 L114.85,130.89 L119.00,118.54 L123.14,107.39 L127.28,97.44\n",
       "\t\tL131.43,88.70 L135.57,81.16 L139.71,74.81 L143.86,69.61 L148.00,65.54 L152.14,62.56 L156.29,60.61 L160.43,59.67\n",
       "\t\tL164.57,59.67 L168.72,60.55 L172.86,62.28 L177.00,64.78 L181.15,68.00 L185.29,71.89 L189.43,76.39 L193.58,81.44\n",
       "\t\tL197.72,86.99 L201.86,92.99 L206.01,99.38 L210.15,106.11 L214.29,113.14 L218.44,120.42 L222.58,127.91 L226.72,135.57\n",
       "\t\tL230.87,143.36 L235.01,151.24 L239.15,159.19 L243.30,167.16 L247.44,175.14 L251.58,183.09 L255.73,190.99 L259.87,198.83\n",
       "\t\tL264.01,206.57 L268.16,214.20 L272.30,221.71 L276.44,229.07 L280.59,236.31 L284.73,243.36 L288.87,250.28 L293.02,257.00\n",
       "\t\tL297.16,263.52 L301.30,269.88 L305.45,276.04 L309.59,282.01 L313.73,287.82 L317.88,293.36 L322.02,298.73 L326.16,303.94\n",
       "\t\tL330.31,308.95 L334.45,313.75 L338.59,318.35 L342.74,322.75 L346.88,326.98 L351.02,331.00 L355.17,334.95 L359.31,338.65\n",
       "\t\tL363.45,342.24 L367.60,345.57 L371.74,348.88 L375.88,351.89 L380.03,354.80 L384.17,357.56 L388.31,360.27 L392.46,362.71\n",
       "\t\tL396.60,365.13 L400.74,367.36 L404.89,369.53 L409.03,371.58 L413.17,373.51 L417.32,375.35 L421.46,377.06 L425.60,378.68\n",
       "\t\tL429.75,380.24 L433.89,381.65 L438.03,383.03 L442.18,384.35 L446.32,385.51 L450.46,386.67 L454.61,387.76 L458.75,388.80\n",
       "\t\tL462.89,389.75 L467.04,390.60 L471.18,391.43 L475.32,392.21 L479.47,392.97 L483.61,393.68 L487.75,394.28 L491.90,394.88\n",
       "\t\tL496.04,395.39 L500.18,396.02 L504.33,396.48 L508.47,397.01 L512.61,397.42 L516.76,397.79 L520.90,398.21 L525.04,398.50\n",
       "\t\tL529.19,398.91 L533.33,399.15 L537.47,399.49 L541.62,399.71 L545.76,399.97 L549.90,400.19 L554.05,400.41 L558.19,400.61\n",
       "\t\tL562.33,400.81 L566.48,401.00 L570.62,401.14  '/></g>\n",
       "\t</g>\n",
       "<g fill=\"none\" color=\"black\" stroke=\"currentColor\" stroke-width=\"1.00\" stroke-linecap=\"butt\" stroke-linejoin=\"miter\">\n",
       "\t<path stroke='black'  d='M73.42,403.36 L83.92,403.36 M570.62,403.36 L560.12,403.36  '/>\t<g transform=\"translate(63.63,407.91)\" stroke=\"none\" fill=\"black\" font-family=\"Arial\" font-size=\"14.00\"  text-anchor=\"end\">\n",
       "\t\t<text><tspan font-family=\"Arial\" > 0</tspan></text>\n",
       "\t</g>\n",
       "</g>\n",
       "<g fill=\"none\" color=\"black\" stroke=\"currentColor\" stroke-width=\"1.00\" stroke-linecap=\"butt\" stroke-linejoin=\"miter\">\n",
       "\t<path stroke='black'  d='M73.42,361.93 L83.92,361.93 M570.62,361.93 L560.12,361.93  '/>\t<g transform=\"translate(63.63,366.48)\" stroke=\"none\" fill=\"black\" font-family=\"Arial\" font-size=\"14.00\"  text-anchor=\"end\">\n",
       "\t\t<text><tspan font-family=\"Arial\" > 0.01</tspan></text>\n",
       "\t</g>\n",
       "</g>\n",
       "<g fill=\"none\" color=\"black\" stroke=\"currentColor\" stroke-width=\"1.00\" stroke-linecap=\"butt\" stroke-linejoin=\"miter\">\n",
       "\t<path stroke='black'  d='M73.42,320.49 L83.92,320.49 M570.62,320.49 L560.12,320.49  '/>\t<g transform=\"translate(63.63,325.04)\" stroke=\"none\" fill=\"black\" font-family=\"Arial\" font-size=\"14.00\"  text-anchor=\"end\">\n",
       "\t\t<text><tspan font-family=\"Arial\" > 0.02</tspan></text>\n",
       "\t</g>\n",
       "</g>\n",
       "<g fill=\"none\" color=\"black\" stroke=\"currentColor\" stroke-width=\"1.00\" stroke-linecap=\"butt\" stroke-linejoin=\"miter\">\n",
       "\t<path stroke='black'  d='M73.42,279.06 L83.92,279.06 M570.62,279.06 L560.12,279.06  '/>\t<g transform=\"translate(63.63,283.61)\" stroke=\"none\" fill=\"black\" font-family=\"Arial\" font-size=\"14.00\"  text-anchor=\"end\">\n",
       "\t\t<text><tspan font-family=\"Arial\" > 0.03</tspan></text>\n",
       "\t</g>\n",
       "</g>\n",
       "<g fill=\"none\" color=\"black\" stroke=\"currentColor\" stroke-width=\"1.00\" stroke-linecap=\"butt\" stroke-linejoin=\"miter\">\n",
       "\t<path stroke='black'  d='M73.42,237.62 L83.92,237.62 M570.62,237.62 L560.12,237.62  '/>\t<g transform=\"translate(63.63,242.17)\" stroke=\"none\" fill=\"black\" font-family=\"Arial\" font-size=\"14.00\"  text-anchor=\"end\">\n",
       "\t\t<text><tspan font-family=\"Arial\" > 0.04</tspan></text>\n",
       "\t</g>\n",
       "</g>\n",
       "<g fill=\"none\" color=\"black\" stroke=\"currentColor\" stroke-width=\"1.00\" stroke-linecap=\"butt\" stroke-linejoin=\"miter\">\n",
       "\t<path stroke='black'  d='M73.42,196.19 L83.92,196.19 M570.62,196.19 L560.12,196.19  '/>\t<g transform=\"translate(63.63,200.74)\" stroke=\"none\" fill=\"black\" font-family=\"Arial\" font-size=\"14.00\"  text-anchor=\"end\">\n",
       "\t\t<text><tspan font-family=\"Arial\" > 0.05</tspan></text>\n",
       "\t</g>\n",
       "</g>\n",
       "<g fill=\"none\" color=\"black\" stroke=\"currentColor\" stroke-width=\"1.00\" stroke-linecap=\"butt\" stroke-linejoin=\"miter\">\n",
       "\t<path stroke='black'  d='M73.42,154.75 L83.92,154.75 M570.62,154.75 L560.12,154.75  '/>\t<g transform=\"translate(63.63,159.30)\" stroke=\"none\" fill=\"black\" font-family=\"Arial\" font-size=\"14.00\"  text-anchor=\"end\">\n",
       "\t\t<text><tspan font-family=\"Arial\" > 0.06</tspan></text>\n",
       "\t</g>\n",
       "</g>\n",
       "<g fill=\"none\" color=\"black\" stroke=\"currentColor\" stroke-width=\"1.00\" stroke-linecap=\"butt\" stroke-linejoin=\"miter\">\n",
       "\t<path stroke='black'  d='M73.42,113.32 L83.92,113.32 M570.62,113.32 L560.12,113.32  '/>\t<g transform=\"translate(63.63,117.87)\" stroke=\"none\" fill=\"black\" font-family=\"Arial\" font-size=\"14.00\"  text-anchor=\"end\">\n",
       "\t\t<text><tspan font-family=\"Arial\" > 0.07</tspan></text>\n",
       "\t</g>\n",
       "</g>\n",
       "<g fill=\"none\" color=\"black\" stroke=\"currentColor\" stroke-width=\"1.00\" stroke-linecap=\"butt\" stroke-linejoin=\"miter\">\n",
       "\t<path stroke='black'  d='M73.42,71.88 L83.92,71.88 M570.62,71.88 L560.12,71.88  '/>\t<g transform=\"translate(63.63,76.43)\" stroke=\"none\" fill=\"black\" font-family=\"Arial\" font-size=\"14.00\"  text-anchor=\"end\">\n",
       "\t\t<text><tspan font-family=\"Arial\" > 0.08</tspan></text>\n",
       "\t</g>\n",
       "</g>\n",
       "<g fill=\"none\" color=\"black\" stroke=\"currentColor\" stroke-width=\"1.00\" stroke-linecap=\"butt\" stroke-linejoin=\"miter\">\n",
       "\t<path stroke='black'  d='M73.42,30.45 L83.92,30.45 M570.62,30.45 L560.12,30.45  '/>\t<g transform=\"translate(63.63,35.00)\" stroke=\"none\" fill=\"black\" font-family=\"Arial\" font-size=\"14.00\"  text-anchor=\"end\">\n",
       "\t\t<text><tspan font-family=\"Arial\" > 0.09</tspan></text>\n",
       "\t</g>\n",
       "</g>\n",
       "<g fill=\"none\" color=\"black\" stroke=\"currentColor\" stroke-width=\"1.00\" stroke-linecap=\"butt\" stroke-linejoin=\"miter\">\n",
       "\t<path stroke='black'  d='M73.42,403.36 L73.42,392.86 M73.42,30.45 L73.42,40.95  '/>\t<g transform=\"translate(73.42,428.91)\" stroke=\"none\" fill=\"black\" font-family=\"Arial\" font-size=\"14.00\"  text-anchor=\"middle\">\n",
       "\t\t<text><tspan font-family=\"Arial\" > 0</tspan></text>\n",
       "\t</g>\n",
       "</g>\n",
       "<g fill=\"none\" color=\"black\" stroke=\"currentColor\" stroke-width=\"1.00\" stroke-linecap=\"butt\" stroke-linejoin=\"miter\">\n",
       "\t<path stroke='black'  d='M156.29,403.36 L156.29,392.86 M156.29,30.45 L156.29,40.95  '/>\t<g transform=\"translate(156.29,428.91)\" stroke=\"none\" fill=\"black\" font-family=\"Arial\" font-size=\"14.00\"  text-anchor=\"middle\">\n",
       "\t\t<text><tspan font-family=\"Arial\" > 5</tspan></text>\n",
       "\t</g>\n",
       "</g>\n",
       "<g fill=\"none\" color=\"black\" stroke=\"currentColor\" stroke-width=\"1.00\" stroke-linecap=\"butt\" stroke-linejoin=\"miter\">\n",
       "\t<path stroke='black'  d='M239.15,403.36 L239.15,392.86 M239.15,30.45 L239.15,40.95  '/>\t<g transform=\"translate(239.15,428.91)\" stroke=\"none\" fill=\"black\" font-family=\"Arial\" font-size=\"14.00\"  text-anchor=\"middle\">\n",
       "\t\t<text><tspan font-family=\"Arial\" > 10</tspan></text>\n",
       "\t</g>\n",
       "</g>\n",
       "<g fill=\"none\" color=\"black\" stroke=\"currentColor\" stroke-width=\"1.00\" stroke-linecap=\"butt\" stroke-linejoin=\"miter\">\n",
       "\t<path stroke='black'  d='M322.02,403.36 L322.02,392.86 M322.02,30.45 L322.02,40.95  '/>\t<g transform=\"translate(322.02,428.91)\" stroke=\"none\" fill=\"black\" font-family=\"Arial\" font-size=\"14.00\"  text-anchor=\"middle\">\n",
       "\t\t<text><tspan font-family=\"Arial\" > 15</tspan></text>\n",
       "\t</g>\n",
       "</g>\n",
       "<g fill=\"none\" color=\"black\" stroke=\"currentColor\" stroke-width=\"1.00\" stroke-linecap=\"butt\" stroke-linejoin=\"miter\">\n",
       "\t<path stroke='black'  d='M404.89,403.36 L404.89,392.86 M404.89,30.45 L404.89,40.95  '/>\t<g transform=\"translate(404.89,428.91)\" stroke=\"none\" fill=\"black\" font-family=\"Arial\" font-size=\"14.00\"  text-anchor=\"middle\">\n",
       "\t\t<text><tspan font-family=\"Arial\" > 20</tspan></text>\n",
       "\t</g>\n",
       "</g>\n",
       "<g fill=\"none\" color=\"black\" stroke=\"currentColor\" stroke-width=\"1.00\" stroke-linecap=\"butt\" stroke-linejoin=\"miter\">\n",
       "\t<path stroke='black'  d='M487.75,403.36 L487.75,392.86 M487.75,30.45 L487.75,40.95  '/>\t<g transform=\"translate(487.75,428.91)\" stroke=\"none\" fill=\"black\" font-family=\"Arial\" font-size=\"14.00\"  text-anchor=\"middle\">\n",
       "\t\t<text><tspan font-family=\"Arial\" > 25</tspan></text>\n",
       "\t</g>\n",
       "</g>\n",
       "<g fill=\"none\" color=\"black\" stroke=\"currentColor\" stroke-width=\"1.00\" stroke-linecap=\"butt\" stroke-linejoin=\"miter\">\n",
       "\t<path stroke='black'  d='M570.62,403.36 L570.62,392.86 M570.62,30.45 L570.62,40.95  '/>\t<g transform=\"translate(570.62,428.91)\" stroke=\"none\" fill=\"black\" font-family=\"Arial\" font-size=\"14.00\"  text-anchor=\"middle\">\n",
       "\t\t<text><tspan font-family=\"Arial\" > 30</tspan></text>\n",
       "\t</g>\n",
       "</g>\n",
       "<g fill=\"none\" color=\"black\" stroke=\"currentColor\" stroke-width=\"1.00\" stroke-linecap=\"butt\" stroke-linejoin=\"miter\">\n",
       "</g>\n",
       "<g fill=\"none\" color=\"gray\" stroke=\"currentColor\" stroke-width=\"1.00\" stroke-linecap=\"butt\" stroke-linejoin=\"miter\">\n",
       "\t<path stroke='black' stroke-dasharray='2,4'  d='M73.42,403.36 L570.62,403.36  '/></g>\n",
       "<g fill=\"none\" color=\"gray\" stroke=\"currentColor\" stroke-width=\"1.00\" stroke-linecap=\"butt\" stroke-linejoin=\"miter\">\n",
       "\t<path stroke='black' stroke-dasharray='2,4'  d='M73.42,403.36 L73.42,30.45  '/></g>\n",
       "<g fill=\"none\" color=\"gray\" stroke=\"black\" stroke-width=\"2.00\" stroke-linecap=\"butt\" stroke-linejoin=\"miter\">\n",
       "</g>\n",
       "<g fill=\"none\" color=\"black\" stroke=\"currentColor\" stroke-width=\"2.00\" stroke-linecap=\"butt\" stroke-linejoin=\"miter\">\n",
       "</g>\n",
       "<g fill=\"none\" color=\"black\" stroke=\"black\" stroke-width=\"1.00\" stroke-linecap=\"butt\" stroke-linejoin=\"miter\">\n",
       "</g>\n",
       "<g fill=\"none\" color=\"black\" stroke=\"currentColor\" stroke-width=\"1.00\" stroke-linecap=\"butt\" stroke-linejoin=\"miter\">\n",
       "\t<path stroke='black'  d='M73.42,30.45 L73.42,403.36 L570.62,403.36 L570.62,30.45 L73.42,30.45 Z  '/></g>\n",
       "<g fill=\"none\" color=\"black\" stroke=\"currentColor\" stroke-width=\"1.00\" stroke-linecap=\"butt\" stroke-linejoin=\"miter\">\n",
       "</g>\n",
       "</g>\n",
       "</svg>\n",
       "\n"
      ],
      "text/plain": [
       "/tmp/maxplot.svg"
      ]
     },
     "metadata": {},
     "output_type": "display_data"
    },
    {
     "data": {
      "text/latex": [
       "\\[\\tag{${\\it \\%o}_{6}$}\\left[ \\mbox{ /tmp/maxout600.gnuplot } , \\mbox{ /tmp/maxplot.svg } \\right] \\]"
      ],
      "text/plain": [
       "(%o6)             [/tmp/maxout600.gnuplot, /tmp/maxplot.svg]"
      ],
      "text/x-maxima": [
       "[\"/tmp/maxout600.gnuplot\",\"/tmp/maxplot.svg\"]"
      ]
     },
     "execution_count": 6,
     "metadata": {},
     "output_type": "execute_result"
    }
   ],
   "source": [
    "plot2d([[discrete, renoprob(30, 1, 1.0, 3, 1.0, 1.0)],\n",
    "    [discrete, renoprob(60, 2, 1.0, 3, 1.0, 1.0)],\n",
    "    [discrete, renoprob(90, 3, 1.0, 3, 1.0, 1.0)],\n",
    "    [discrete, renoprob(120, 4, 1.0, 3, 1.0, 1.0)]],\n",
    "    [legend, \"N=1\", \"N=2\", \"N=3\", \"N=4\"],\n",
    "    [xlabel, \"x\"]);"
   ]
  },
  {
   "cell_type": "markdown",
   "id": "40e46f30-6239-4996-9d3c-83675833c6cd",
   "metadata": {},
   "source": [
    "Check that it is normalized and extract fixation probability."
   ]
  },
  {
   "cell_type": "code",
   "execution_count": 7,
   "id": "59ff4884-556e-4ce7-88d4-6fc667cd04be",
   "metadata": {
    "execution": {
     "iopub.execute_input": "2021-05-07T20:46:03Z",
     "iopub.status.busy": "2021-05-07T20:46:03Z",
     "iopub.status.idle": "2021-05-07T20:46:03Z",
     "shell.execute_reply": "2021-05-07T20:46:03Z"
    },
    "tags": []
   },
   "outputs": [
    {
     "data": {
      "text/latex": [
       "\\[\\tag{${\\it \\%o}_{7}$}\\left(\\frac{{\\it kd}\\,e^{\\left({\\it kd}-{\\it kb}\\right)\\,t}-{\\it kd}}{{\\it kd}\\,e^{\\left({\\it kd}-{\\it kb}\\right)\\,t}-{\\it kb}}\\right)^{n_{0}}\\]"
      ],
      "text/plain": [
       "                                 (kd - kb) t\n",
       "                            kd %e            - kd n0\n",
       "(%o7)                      (---------------------)\n",
       "                                 (kd - kb) t\n",
       "                            kd %e            - kb"
      ],
      "text/x-maxima": [
       "((kd*%e^((kd-kb)*t)-kd)/(kd*%e^((kd-kb)*t)-kb))^n0"
      ]
     },
     "execution_count": 7,
     "metadata": {},
     "output_type": "execute_result"
    },
    {
     "data": {
      "text/latex": [
       "\\[\\tag{${\\it \\%o}_{8}$}\\left(-\\frac{\\left(s-2\\,D\\,N\\right)\\,\\left(e^{s\\,\\tau}-1\\right)}{\\left(s+2\\,D\\,N\\right)\\,e^{s\\,\\tau}+s-2\\,D\\,N}\\right)^{N\\,x_{0}}\\]"
      ],
      "text/plain": [
       "                                         s tau\n",
       "                          (s - 2 D N) (%e      - 1)    N x0\n",
       "(%o8)               (- -------------------------------)\n",
       "                                     s tau\n",
       "                       (s + 2 D N) %e      + s - 2 D N"
      ],
      "text/x-maxima": [
       "(-((s-2*D*N)*(%e^(s*tau)-1))/((s+2*D*N)*%e^(s*tau)+s-2*D*N))^(N*x0)"
      ]
     },
     "execution_count": 7,
     "metadata": {},
     "output_type": "execute_result"
    },
    {
     "data": {
      "text/latex": [
       "\\[\\tag{${\\it \\%o}_{9}$}1\\]"
      ],
      "text/plain": [
       "(%o9)                                  1"
      ],
      "text/x-maxima": [
       "1"
      ]
     },
     "execution_count": 7,
     "metadata": {},
     "output_type": "execute_result"
    }
   ],
   "source": [
    "genfunc(0, t, n0, kb, kd);\n",
    "factor(genfunc(0, N * tau, N * x0, D + s/(2*N), D - s/(2*N)));\n",
    "genfunc(1, t, n0, kb, kd);"
   ]
  },
  {
   "cell_type": "markdown",
   "id": "226a2144-ae9a-4ab5-89ab-def922bf29ef",
   "metadata": {
    "tags": [],
    "toc-hr-collapsed": true
   },
   "source": [
    "# Functions to compute moments"
   ]
  },
  {
   "cell_type": "code",
   "execution_count": 8,
   "id": "2e3e15f4-238a-4879-9543-f26b7e63b0c1",
   "metadata": {
    "execution": {
     "iopub.execute_input": "2021-05-07T20:46:08Z",
     "iopub.status.busy": "2021-05-07T20:46:08Z",
     "iopub.status.idle": "2021-05-07T20:46:08Z",
     "shell.execute_reply": "2021-05-07T20:46:08Z"
    },
    "tags": []
   },
   "outputs": [],
   "source": [
    "numop(n, gf) := \n",
    "    if n=0 then gf\n",
    "        else numop(n-1, z * diff(gf, z))$\n",
    "mom(m, t, n0, kb, kd) := \n",
    "    factor(subst(1, z, numop(m, genfunc(z, t, n0, kb, kd))))$\n",
    "momren(m, t, n0, kb, kd) := \n",
    "                factor(psubst([t = N * tau, \n",
    "                        n0 = N * x0,\n",
    "                        kb = D + s/(2*N), \n",
    "                        kd = D - s/(2*N)], \n",
    "                mom(m, t, n0, kb, kd) / N^m))$\n",
    "cumu(m, t, n0, kb, kd) := \n",
    "    factor(subst(1, z, numop(m, \n",
    "            log(genfunc(z, t, n0, kb, kd)))))$\n",
    "cumuren(m, zt, n0, kb, kd) := \n",
    "                factor(psubst([t = N * tau, \n",
    "                        n0 = N * x0,\n",
    "                        kb = D + s/(2*N), \n",
    "                        kd = D - s/(2*N)], \n",
    "                cumu(m, t, n0, kb, kd) / N^m))$"
   ]
  },
  {
   "cell_type": "markdown",
   "id": "5506218d-74ac-4f96-a668-3c662545e795",
   "metadata": {
    "tags": [],
    "toc-hr-collapsed": true
   },
   "source": [
    "# Compute cumulants"
   ]
  },
  {
   "cell_type": "code",
   "execution_count": 9,
   "id": "25ecb6e6-df36-4eb8-8215-f9be49a06af7",
   "metadata": {
    "execution": {
     "iopub.execute_input": "2021-05-07T20:46:10Z",
     "iopub.status.busy": "2021-05-07T20:46:10Z",
     "iopub.status.idle": "2021-05-07T20:46:10Z",
     "shell.execute_reply": "2021-05-07T20:46:10Z"
    },
    "tags": []
   },
   "outputs": [
    {
     "data": {
      "text/latex": [
       "\\[\\tag{${\\it \\%o}_{15}$}n_{0}\\,e^{{\\it kb}\\,t-{\\it kd}\\,t}\\]"
      ],
      "text/plain": [
       "                                    kb t - kd t\n",
       "(%o15)                         n0 %e"
      ],
      "text/x-maxima": [
       "n0*%e^(kb*t-kd*t)"
      ]
     },
     "execution_count": 9,
     "metadata": {},
     "output_type": "execute_result"
    },
    {
     "data": {
      "text/latex": [
       "\\[\\tag{${\\it \\%o}_{16}$}\\frac{\\left({\\it kd}+{\\it kb}\\right)\\,n_{0}\\,\\left(e^{{\\it kd}\\,t}-e^{{\\it kb}\\,t}\\right)\\,e^{{\\it kb}\\,t-2\\,{\\it kd}\\,t}}{{\\it kd}-{\\it kb}}\\]"
      ],
      "text/plain": [
       "                                kd t     kb t    kb t - 2 kd t\n",
       "                (kd + kb) n0 (%e     - %e    ) %e\n",
       "(%o16)          ----------------------------------------------\n",
       "                                   kd - kb"
      ],
      "text/x-maxima": [
       "((kd+kb)*n0*(%e^(kd*t)-%e^(kb*t))*%e^(kb*t-2*kd*t))/(kd-kb)"
      ]
     },
     "execution_count": 9,
     "metadata": {},
     "output_type": "execute_result"
    },
    {
     "data": {
      "text/latex": [
       "\\[\\tag{${\\it \\%o}_{17}$}\\frac{n_{0}\\,\\left(e^{{\\it kd}\\,t}-e^{{\\it kb}\\,t}\\right)\\,\\left({\\it kd}^2\\,e^{{\\it kd}\\,t}+4\\,{\\it kb}\\,{\\it kd}\\,e^{{\\it kd}\\,t}+{\\it kb}^2\\,e^{{\\it kd}\\,t}-2\\,{\\it kd}^2\\,e^{{\\it kb}\\,t}-2\\,{\\it kb}\\,{\\it kd}\\,e^{{\\it kb}\\,t}-2\\,{\\it kb}^2\\,e^{{\\it kb}\\,t}\\right)\\,e^{{\\it kb}\\,t-3\\,{\\it kd}\\,t}}{\\left({\\it kd}-{\\it kb}\\right)^2}\\]"
      ],
      "text/plain": [
       "              kd t     kb t     2   kd t             kd t     2   kd t\n",
       "(%o17) (n0 (%e     - %e    ) (kd  %e     + 4 kb kd %e     + kb  %e\n",
       "          2   kb t             kb t       2   kb t    kb t - 3 kd t           2\n",
       "    - 2 kd  %e     - 2 kb kd %e     - 2 kb  %e    ) %e             )/(kd - kb)"
      ],
      "text/x-maxima": [
       "(n0*(%e^(kd*t)-%e^(kb*t))\n",
       "   *(kd^2*%e^(kd*t)+4*kb*kd*%e^(kd*t)+kb^2*%e^(kd*t)-2*kd^2*%e^(kb*t)\n",
       "                   -2*kb*kd*%e^(kb*t)-2*kb^2*%e^(kb*t))*%e^(kb*t-3*kd*t))\n",
       " /(kd-kb)^2"
      ]
     },
     "execution_count": 9,
     "metadata": {},
     "output_type": "execute_result"
    },
    {
     "data": {
      "text/latex": [
       "\\[\\tag{${\\it \\%o}_{18}$}\\frac{\\left({\\it kd}+{\\it kb}\\right)\\,n_{0}\\,\\left(e^{{\\it kd}\\,t}-e^{{\\it kb}\\,t}\\right)\\,e^{{\\it kb}\\,t-4\\,{\\it kd}\\,t}\\,\\left(-6\\,{\\it kd}^2\\,e^{{\\it kd}\\,t+{\\it kb}\\,t}-12\\,{\\it kb}\\,{\\it kd}\\,e^{{\\it kd}\\,t+{\\it kb}\\,t}-6\\,{\\it kb}^2\\,e^{{\\it kd}\\,t+{\\it kb}\\,t}+{\\it kd}^2\\,e^{2\\,{\\it kd}\\,t}+10\\,{\\it kb}\\,{\\it kd}\\,e^{2\\,{\\it kd}\\,t}+{\\it kb}^2\\,e^{2\\,{\\it kd}\\,t}+6\\,{\\it kd}^2\\,e^{2\\,{\\it kb}\\,t}+6\\,{\\it kb}^2\\,e^{2\\,{\\it kb}\\,t}\\right)}{\\left({\\it kd}-{\\it kb}\\right)^3}\\]"
      ],
      "text/plain": [
       "                        kd t     kb t    kb t - 4 kd t\n",
       "(%o18) ((kd + kb) n0 (%e     - %e    ) %e\n",
       "         2   kd t + kb t               kd t + kb t       2   kd t + kb t\n",
       " ((- 6 kd  %e           ) - 12 kb kd %e            - 6 kb  %e\n",
       "     2   2 kd t              2 kd t     2   2 kd t       2   2 kb t\n",
       " + kd  %e       + 10 kb kd %e       + kb  %e       + 6 kd  %e\n",
       "       2   2 kb t            3\n",
       " + 6 kb  %e      ))/(kd - kb)"
      ],
      "text/x-maxima": [
       "((kd+kb)*n0*(%e^(kd*t)-%e^(kb*t))*%e^(kb*t-4*kd*t)\n",
       "        *((-6*kd^2*%e^(kd*t+kb*t))-12*kb*kd*%e^(kd*t+kb*t)\n",
       "                                  -6*kb^2*%e^(kd*t+kb*t)+kd^2*%e^(2*kd*t)\n",
       "                                  +10*kb*kd*%e^(2*kd*t)+kb^2*%e^(2*kd*t)\n",
       "                                  +6*kd^2*%e^(2*kb*t)+6*kb^2*%e^(2*kb*t)))\n",
       " /(kd-kb)^3"
      ]
     },
     "execution_count": 9,
     "metadata": {},
     "output_type": "execute_result"
    }
   ],
   "source": [
    "cumu(1, t, n0, kb, kd);\n",
    "cumu(2, t, n0, kb, kd);\n",
    "cumu(3, t, n0, kb, kd);\n",
    "cumu(4, t, n0, kb, kd);\n"
   ]
  },
  {
   "cell_type": "markdown",
   "id": "170bc18f-dea5-423f-904a-c47a10d1a498",
   "metadata": {},
   "source": [
    "Reparameterize cumulants and collect powers of N."
   ]
  },
  {
   "cell_type": "code",
   "execution_count": 10,
   "id": "702d9950-02b5-4f2d-9c16-0b2848cce09a",
   "metadata": {
    "execution": {
     "iopub.execute_input": "2021-05-07T20:46:14Z",
     "iopub.status.busy": "2021-05-07T20:46:14Z",
     "iopub.status.idle": "2021-05-07T20:46:14Z",
     "shell.execute_reply": "2021-05-07T20:46:14Z"
    },
    "tags": []
   },
   "outputs": [
    {
     "data": {
      "text/latex": [
       "\\[\\tag{${\\it \\%o}_{19}$}e^{s\\,\\tau}\\,x_{0}\\]"
      ],
      "text/plain": [
       "                                    s tau\n",
       "(%o19)                            %e      x0"
      ],
      "text/x-maxima": [
       "%e^(s*tau)*x0"
      ]
     },
     "execution_count": 10,
     "metadata": {},
     "output_type": "execute_result"
    },
    {
     "data": {
      "text/latex": [
       "\\[\\tag{${\\it \\%o}_{20}$}\\frac{2\\,D\\,\\left(e^{s\\,\\tau}-1\\right)\\,e^{s\\,\\tau}\\,x_{0}}{s}\\]"
      ],
      "text/plain": [
       "                                s tau        s tau\n",
       "                         2 D (%e      - 1) %e      x0\n",
       "(%o20)                   ----------------------------\n",
       "                                      s"
      ],
      "text/x-maxima": [
       "(2*D*(%e^(s*tau)-1)*%e^(s*tau)*x0)/s"
      ]
     },
     "execution_count": 10,
     "metadata": {},
     "output_type": "execute_result"
    }
   ],
   "source": [
    "\n",
    "cumuren(1, t, n0, kb, kd);\n",
    "cumuren(2, t, n0, kb, kd);\n"
   ]
  },
  {
   "cell_type": "code",
   "execution_count": 11,
   "id": "c8c1a059-8a06-403e-87ad-4802da946610",
   "metadata": {
    "execution": {
     "iopub.execute_input": "2021-05-07T05:02:44Z",
     "iopub.status.busy": "2021-05-07T05:02:44Z",
     "iopub.status.idle": "2021-05-07T05:02:44Z",
     "shell.execute_reply": "2021-05-07T05:02:44Z"
    },
    "tags": []
   },
   "outputs": [
    {
     "data": {
      "text/latex": [
       "\\[\\tag{${\\it \\%o}_{20}$}\\frac{\\left(e^{s\\,\\tau}-1\\right)\\,e^{s\\,\\tau}\\,\\left(e^{s\\,\\tau}+1\\right)\\,x_{0}}{2\\,N^2}+\\frac{6\\,D^2\\,\\left(e^{s\\,\\tau}-1\\right)^2\\,e^{s\\,\\tau}\\,x_{0}}{s^2}\\]"
      ],
      "text/plain": [
       "          s tau        s tau    s tau              2    s tau     2   s tau\n",
       "       (%e      - 1) %e      (%e      + 1) x0   6 D  (%e      - 1)  %e      x0\n",
       "(%o20) -------------------------------------- + ------------------------------\n",
       "                           2                                   2\n",
       "                        2 N                                   s"
      ],
      "text/x-maxima": [
       "((%e^(s*tau)-1)*%e^(s*tau)*(%e^(s*tau)+1)*x0)/(2*N^2)\n",
       " +(6*D^2*(%e^(s*tau)-1)^2*%e^(s*tau)*x0)/s^2"
      ]
     },
     "execution_count": 11,
     "metadata": {},
     "output_type": "execute_result"
    },
    {
     "data": {
      "text/latex": [
       "\\[\\tag{${\\it \\%o}_{21}$}\\frac{2\\,D\\,\\left(e^{s\\,\\tau}-1\\right)\\,e^{s\\,\\tau}\\,\\left(3\\,e^{2\\,s\\,\\tau}-2\\right)\\,x_{0}}{N^2\\,s}+\\frac{24\\,D^3\\,\\left(e^{s\\,\\tau}-1\\right)^3\\,e^{s\\,\\tau}\\,x_{0}}{s^3}\\]"
      ],
      "text/plain": [
       "              s tau        s tau      2 s tau\n",
       "       2 D (%e      - 1) %e      (3 %e        - 2) x0\n",
       "(%o21) ----------------------------------------------\n",
       "                             2\n",
       "                            N  s\n",
       "                                                    3    s tau     3   s tau\n",
       "                                                24 D  (%e      - 1)  %e      x0\n",
       "                                              + -------------------------------\n",
       "                                                               3\n",
       "                                                              s"
      ],
      "text/x-maxima": [
       "(2*D*(%e^(s*tau)-1)*%e^(s*tau)*(3*%e^(2*s*tau)-2)*x0)/(N^2*s)\n",
       " +(24*D^3*(%e^(s*tau)-1)^3*%e^(s*tau)*x0)/s^3"
      ]
     },
     "execution_count": 11,
     "metadata": {},
     "output_type": "execute_result"
    }
   ],
   "source": [
    "block([mo],\n",
    "    mo : expand(cumuren(3, t, n0, kb, kd)),\n",
    "    factor(coeff (mo, N, 0)) +\n",
    "    factor(coeff (mo, N, -2)) / N^2);\n",
    "block([mo],\n",
    "    mo : expand(cumuren(4, t, n0, kb, kd)),\n",
    "    factor(coeff (mo, N, 0)) +\n",
    "    factor(coeff (mo, N, -2)) / N^2);\n"
   ]
  },
  {
   "cell_type": "code",
   "execution_count": 11,
   "id": "628dcbdf-f5d8-40a8-b4f0-873635c1c949",
   "metadata": {
    "execution": {
     "iopub.execute_input": "2021-05-07T20:49:54Z",
     "iopub.status.busy": "2021-05-07T20:49:53Z",
     "iopub.status.idle": "2021-05-07T20:49:54Z",
     "shell.execute_reply": "2021-05-07T20:49:54Z"
    }
   },
   "outputs": [
    {
     "data": {
      "image/svg+xml": [
       "<?xml version=\"1.0\" encoding=\"utf-8\"  standalone=\"no\"?>\n",
       "<svg \n",
       " width=\"600\" height=\"480\"\n",
       " viewBox=\"0 0 600 480\"\n",
       " xmlns=\"http://www.w3.org/2000/svg\"\n",
       " xmlns:xlink=\"http://www.w3.org/1999/xlink\"\n",
       ">\n",
       "\n",
       "<title>Gnuplot</title>\n",
       "<desc>Produced by GNUPLOT 5.4 patchlevel 1 </desc>\n",
       "\n",
       "<g id=\"gnuplot_canvas\">\n",
       "\n",
       "<rect x=\"0\" y=\"0\" width=\"600\" height=\"480\" fill=\"none\"/>\n",
       "<defs>\n",
       "\n",
       "\t<circle id='gpDot' r='0.5' stroke-width='0.5' stroke='currentColor'/>\n",
       "\t<path id='gpPt0' stroke-width='0.190' stroke='currentColor' d='M-1,0 h2 M0,-1 v2'/>\n",
       "\t<path id='gpPt1' stroke-width='0.190' stroke='currentColor' d='M-1,-1 L1,1 M1,-1 L-1,1'/>\n",
       "\t<path id='gpPt2' stroke-width='0.190' stroke='currentColor' d='M-1,0 L1,0 M0,-1 L0,1 M-1,-1 L1,1 M-1,1 L1,-1'/>\n",
       "\t<rect id='gpPt3' stroke-width='0.190' stroke='currentColor' x='-1' y='-1' width='2' height='2'/>\n",
       "\t<rect id='gpPt4' stroke-width='0.190' stroke='currentColor' fill='currentColor' x='-1' y='-1' width='2' height='2'/>\n",
       "\t<circle id='gpPt5' stroke-width='0.190' stroke='currentColor' cx='0' cy='0' r='1'/>\n",
       "\t<use xlink:href='#gpPt5' id='gpPt6' fill='currentColor' stroke='none'/>\n",
       "\t<path id='gpPt7' stroke-width='0.190' stroke='currentColor' d='M0,-1.33 L-1.33,0.67 L1.33,0.67 z'/>\n",
       "\t<use xlink:href='#gpPt7' id='gpPt8' fill='currentColor' stroke='none'/>\n",
       "\t<use xlink:href='#gpPt7' id='gpPt9' stroke='currentColor' transform='rotate(180)'/>\n",
       "\t<use xlink:href='#gpPt9' id='gpPt10' fill='currentColor' stroke='none'/>\n",
       "\t<use xlink:href='#gpPt3' id='gpPt11' stroke='currentColor' transform='rotate(45)'/>\n",
       "\t<use xlink:href='#gpPt11' id='gpPt12' fill='currentColor' stroke='none'/>\n",
       "\t<path id='gpPt13' stroke-width='0.190' stroke='currentColor' d='M0,1.330 L1.265,0.411 L0.782,-1.067 L-0.782,-1.076 L-1.265,0.411 z'/>\n",
       "\t<use xlink:href='#gpPt13' id='gpPt14' fill='currentColor' stroke='none'/>\n",
       "\t<filter id='textbox' filterUnits='objectBoundingBox' x='0' y='0' height='1' width='1'>\n",
       "\t  <feFlood flood-color='white' flood-opacity='1' result='bgnd'/>\n",
       "\t  <feComposite in='SourceGraphic' in2='bgnd' operator='atop'/>\n",
       "\t</filter>\n",
       "\t<filter id='greybox' filterUnits='objectBoundingBox' x='0' y='0' height='1' width='1'>\n",
       "\t  <feFlood flood-color='lightgrey' flood-opacity='1' result='grey'/>\n",
       "\t  <feComposite in='SourceGraphic' in2='grey' operator='atop'/>\n",
       "\t</filter>\n",
       "</defs>\n",
       "<g fill=\"none\" color=\"white\" stroke=\"currentColor\" stroke-width=\"1.00\" stroke-linecap=\"butt\" stroke-linejoin=\"miter\">\n",
       "</g>\n",
       "<g fill=\"none\" color=\"gray\" stroke=\"currentColor\" stroke-width=\"1.00\" stroke-linecap=\"butt\" stroke-linejoin=\"miter\">\n",
       "\t<path stroke='black' stroke-dasharray='2,4'  d='M65.05,406.49 L570.62,406.49  '/></g>\n",
       "<g fill=\"none\" color=\"gray\" stroke=\"currentColor\" stroke-width=\"1.00\" stroke-linecap=\"butt\" stroke-linejoin=\"miter\">\n",
       "\t<path stroke='black' stroke-dasharray='2,4'  d='M65.05,406.49 L65.05,27.32  '/></g>\n",
       "<g fill=\"none\" color=\"black\" stroke=\"currentColor\" stroke-width=\"1.00\" stroke-linecap=\"butt\" stroke-linejoin=\"miter\">\n",
       "\t<path stroke='black'  d='M65.05,27.32 L65.05,406.49 L570.62,406.49 L570.62,27.32 L65.05,27.32 Z  '/></g>\n",
       "<g fill=\"none\" color=\"black\" stroke=\"currentColor\" stroke-width=\"1.00\" stroke-linecap=\"butt\" stroke-linejoin=\"miter\">\n",
       "\t<g transform=\"translate(22.38,216.91) rotate(270)\" stroke=\"none\" fill=\"black\" font-family=\"Arial\" font-size=\"14.00\"  text-anchor=\"middle\">\n",
       "\t\t<text>((%e^(1.0*tau)-1)*%e^(1.0*tau)*(%e^(1.0*tau)+1))/2</text>\n",
       "\t</g>\n",
       "</g>\n",
       "<g fill=\"none\" color=\"black\" stroke=\"currentColor\" stroke-width=\"1.00\" stroke-linecap=\"butt\" stroke-linejoin=\"miter\">\n",
       "\t<g transform=\"translate(317.83,463.54)\" stroke=\"none\" fill=\"black\" font-family=\"Arial\" font-size=\"14.00\"  text-anchor=\"middle\">\n",
       "\t\t<text>tau</text>\n",
       "\t</g>\n",
       "</g>\n",
       "<g fill=\"none\" color=\"black\" stroke=\"currentColor\" stroke-width=\"1.00\" stroke-linecap=\"butt\" stroke-linejoin=\"miter\">\n",
       "</g>\n",
       "\t<g id=\"gnuplot_plot_1\" ><title>gnuplot_plot_1</title>\n",
       "<g fill=\"none\" color=\"black\" stroke=\"currentColor\" stroke-width=\"1.00\" stroke-linecap=\"butt\" stroke-linejoin=\"miter\">\n",
       "\t<path stroke='rgb(  0,   0, 255)'  d='M65.05,406.49 L67.23,406.31 L69.41,406.12 L71.59,405.93 L73.77,405.74 L75.95,405.54 L78.13,405.34 L80.30,405.14\n",
       "\t\tL82.48,404.93 L84.66,404.72 L86.84,404.51 L89.02,404.29 L91.20,404.07 L93.38,403.85 L95.56,403.62 L97.74,403.39\n",
       "\t\tL99.92,403.15 L102.10,402.91 L104.28,402.67 L106.45,402.42 L108.63,402.17 L110.81,401.91 L112.99,401.65 L115.17,401.39\n",
       "\t\tL117.35,401.12 L119.53,400.85 L121.71,400.57 L123.89,400.29 L126.07,400.00 L128.25,399.71 L130.43,399.41 L132.60,399.11\n",
       "\t\tL134.78,398.81 L136.96,398.50 L139.14,398.18 L141.32,397.86 L143.50,397.54 L145.68,397.21 L147.86,396.87 L150.04,396.53\n",
       "\t\tL152.22,396.18 L154.40,395.83 L156.58,395.48 L158.75,395.11 L160.93,394.74 L163.11,394.37 L165.29,393.99 L167.47,393.60\n",
       "\t\tL169.65,393.21 L171.83,392.81 L174.01,392.41 L176.19,392.00 L178.37,391.58 L180.55,391.16 L182.73,390.73 L184.90,390.29\n",
       "\t\tL187.08,389.85 L189.26,389.40 L191.44,388.94 L193.62,388.48 L195.80,388.01 L197.98,387.53 L200.16,387.05 L202.34,386.55\n",
       "\t\tL204.52,386.05 L206.70,385.55 L208.88,385.03 L211.06,384.51 L213.23,383.98 L215.41,383.44 L217.59,382.89 L219.77,382.34\n",
       "\t\tL221.95,381.78 L224.13,381.20 L226.31,380.62 L228.49,380.04 L230.67,379.44 L232.85,378.83 L235.03,378.22 L237.21,377.59\n",
       "\t\tL239.38,376.96 L241.56,376.32 L243.74,375.66 L245.92,375.00 L248.10,374.33 L250.28,373.65 L252.46,372.96 L254.64,372.25\n",
       "\t\tL256.82,371.54 L259.00,370.82 L261.18,370.09 L263.36,369.34 L265.53,368.59 L267.71,367.82 L269.89,367.05 L272.07,366.26\n",
       "\t\tL274.25,365.46 L276.43,364.65 L278.61,363.82 L280.79,362.99 L282.97,362.14 L285.15,361.28 L287.33,360.41 L289.51,359.53\n",
       "\t\tL291.68,358.63 L293.86,357.72 L296.04,356.80 L298.22,355.86 L300.40,354.91 L302.58,353.95 L304.76,352.97 L306.94,351.98\n",
       "\t\tL309.12,350.98 L311.30,349.96 L313.48,348.93 L315.66,347.88 L317.84,346.81 L320.01,345.73 L322.19,344.64 L324.37,343.53\n",
       "\t\tL326.55,342.41 L328.73,341.26 L330.91,340.11 L333.09,338.93 L335.27,337.74 L337.45,336.54 L339.63,335.31 L341.81,334.07\n",
       "\t\tL343.99,332.81 L346.16,331.53 L348.34,330.24 L350.52,328.93 L352.70,327.59 L354.88,326.24 L357.06,324.87 L359.24,323.48\n",
       "\t\tL361.42,322.08 L363.60,320.65 L365.78,319.20 L367.96,317.73 L370.14,316.24 L372.31,314.74 L374.49,313.20 L376.67,311.65\n",
       "\t\tL378.85,310.08 L381.03,308.48 L383.21,306.87 L385.39,305.23 L387.57,303.56 L389.75,301.88 L391.93,300.17 L394.11,298.43\n",
       "\t\tL396.29,296.68 L398.46,294.89 L400.64,293.09 L402.82,291.26 L405.00,289.40 L407.18,287.52 L409.36,285.61 L411.54,283.67\n",
       "\t\tL413.72,281.71 L415.90,279.72 L418.08,277.70 L420.26,275.66 L422.44,273.59 L424.61,271.49 L426.79,269.36 L428.97,267.20\n",
       "\t\tL431.15,265.01 L433.33,262.79 L435.51,260.54 L437.69,258.26 L439.87,255.95 L442.05,253.60 L444.23,251.23 L446.41,248.82\n",
       "\t\tL448.59,246.38 L450.77,243.90 L452.94,241.39 L455.12,238.85 L457.30,236.27 L459.48,233.66 L461.66,231.01 L463.84,228.32\n",
       "\t\tL466.02,225.60 L468.20,222.84 L470.38,220.04 L472.56,217.21 L474.74,214.34 L476.92,211.42 L479.09,208.47 L481.27,205.48\n",
       "\t\tL483.45,202.44 L485.63,199.37 L487.81,196.25 L489.99,193.09 L492.17,189.89 L494.35,186.65 L496.53,183.36 L498.71,180.02\n",
       "\t\tL500.89,176.64 L503.07,173.22 L505.24,169.75 L507.42,166.23 L509.60,162.66 L511.78,159.05 L513.96,155.38 L516.14,151.67\n",
       "\t\tL518.32,147.91 L520.50,144.09 L522.68,140.23 L524.86,136.31 L527.04,132.34 L529.22,128.31 L531.39,124.23 L533.57,120.10\n",
       "\t\tL535.75,115.91 L537.93,111.66 L540.11,107.36 L542.29,103.00 L544.47,98.58 L546.65,94.10 L548.83,89.55 L551.01,84.95\n",
       "\t\tL553.19,80.29 L555.37,75.56 L557.54,70.77 L559.72,65.92 L561.90,61.00 L564.08,56.01 L566.26,50.96 L568.44,45.84\n",
       "\t\tL570.62,40.65  '/></g>\n",
       "\t</g>\n",
       "<g fill=\"none\" color=\"black\" stroke=\"currentColor\" stroke-width=\"1.00\" stroke-linecap=\"butt\" stroke-linejoin=\"miter\">\n",
       "\t<path stroke='black'  d='M65.05,406.49 L75.55,406.49 M570.62,406.49 L560.12,406.49  '/>\t<g transform=\"translate(55.26,411.04)\" stroke=\"none\" fill=\"black\" font-family=\"Arial\" font-size=\"14.00\"  text-anchor=\"end\">\n",
       "\t\t<text><tspan font-family=\"Arial\" > 0</tspan></text>\n",
       "\t</g>\n",
       "</g>\n",
       "<g fill=\"none\" color=\"black\" stroke=\"currentColor\" stroke-width=\"1.00\" stroke-linecap=\"butt\" stroke-linejoin=\"miter\">\n",
       "\t<path stroke='black'  d='M65.05,364.36 L75.55,364.36 M570.62,364.36 L560.12,364.36  '/>\t<g transform=\"translate(55.26,368.91)\" stroke=\"none\" fill=\"black\" font-family=\"Arial\" font-size=\"14.00\"  text-anchor=\"end\">\n",
       "\t\t<text><tspan font-family=\"Arial\" > 1</tspan></text>\n",
       "\t</g>\n",
       "</g>\n",
       "<g fill=\"none\" color=\"black\" stroke=\"currentColor\" stroke-width=\"1.00\" stroke-linecap=\"butt\" stroke-linejoin=\"miter\">\n",
       "\t<path stroke='black'  d='M65.05,322.23 L75.55,322.23 M570.62,322.23 L560.12,322.23  '/>\t<g transform=\"translate(55.26,326.78)\" stroke=\"none\" fill=\"black\" font-family=\"Arial\" font-size=\"14.00\"  text-anchor=\"end\">\n",
       "\t\t<text><tspan font-family=\"Arial\" > 2</tspan></text>\n",
       "\t</g>\n",
       "</g>\n",
       "<g fill=\"none\" color=\"black\" stroke=\"currentColor\" stroke-width=\"1.00\" stroke-linecap=\"butt\" stroke-linejoin=\"miter\">\n",
       "\t<path stroke='black'  d='M65.05,280.10 L75.55,280.10 M570.62,280.10 L560.12,280.10  '/>\t<g transform=\"translate(55.26,284.65)\" stroke=\"none\" fill=\"black\" font-family=\"Arial\" font-size=\"14.00\"  text-anchor=\"end\">\n",
       "\t\t<text><tspan font-family=\"Arial\" > 3</tspan></text>\n",
       "\t</g>\n",
       "</g>\n",
       "<g fill=\"none\" color=\"black\" stroke=\"currentColor\" stroke-width=\"1.00\" stroke-linecap=\"butt\" stroke-linejoin=\"miter\">\n",
       "\t<path stroke='black'  d='M65.05,237.97 L75.55,237.97 M570.62,237.97 L560.12,237.97  '/>\t<g transform=\"translate(55.26,242.52)\" stroke=\"none\" fill=\"black\" font-family=\"Arial\" font-size=\"14.00\"  text-anchor=\"end\">\n",
       "\t\t<text><tspan font-family=\"Arial\" > 4</tspan></text>\n",
       "\t</g>\n",
       "</g>\n",
       "<g fill=\"none\" color=\"black\" stroke=\"currentColor\" stroke-width=\"1.00\" stroke-linecap=\"butt\" stroke-linejoin=\"miter\">\n",
       "\t<path stroke='black'  d='M65.05,195.84 L75.55,195.84 M570.62,195.84 L560.12,195.84  '/>\t<g transform=\"translate(55.26,200.39)\" stroke=\"none\" fill=\"black\" font-family=\"Arial\" font-size=\"14.00\"  text-anchor=\"end\">\n",
       "\t\t<text><tspan font-family=\"Arial\" > 5</tspan></text>\n",
       "\t</g>\n",
       "</g>\n",
       "<g fill=\"none\" color=\"black\" stroke=\"currentColor\" stroke-width=\"1.00\" stroke-linecap=\"butt\" stroke-linejoin=\"miter\">\n",
       "\t<path stroke='black'  d='M65.05,153.71 L75.55,153.71 M570.62,153.71 L560.12,153.71  '/>\t<g transform=\"translate(55.26,158.26)\" stroke=\"none\" fill=\"black\" font-family=\"Arial\" font-size=\"14.00\"  text-anchor=\"end\">\n",
       "\t\t<text><tspan font-family=\"Arial\" > 6</tspan></text>\n",
       "\t</g>\n",
       "</g>\n",
       "<g fill=\"none\" color=\"black\" stroke=\"currentColor\" stroke-width=\"1.00\" stroke-linecap=\"butt\" stroke-linejoin=\"miter\">\n",
       "\t<path stroke='black'  d='M65.05,111.58 L75.55,111.58 M570.62,111.58 L560.12,111.58  '/>\t<g transform=\"translate(55.26,116.13)\" stroke=\"none\" fill=\"black\" font-family=\"Arial\" font-size=\"14.00\"  text-anchor=\"end\">\n",
       "\t\t<text><tspan font-family=\"Arial\" > 7</tspan></text>\n",
       "\t</g>\n",
       "</g>\n",
       "<g fill=\"none\" color=\"black\" stroke=\"currentColor\" stroke-width=\"1.00\" stroke-linecap=\"butt\" stroke-linejoin=\"miter\">\n",
       "\t<path stroke='black'  d='M65.05,69.45 L75.55,69.45 M570.62,69.45 L560.12,69.45  '/>\t<g transform=\"translate(55.26,74.00)\" stroke=\"none\" fill=\"black\" font-family=\"Arial\" font-size=\"14.00\"  text-anchor=\"end\">\n",
       "\t\t<text><tspan font-family=\"Arial\" > 8</tspan></text>\n",
       "\t</g>\n",
       "</g>\n",
       "<g fill=\"none\" color=\"black\" stroke=\"currentColor\" stroke-width=\"1.00\" stroke-linecap=\"butt\" stroke-linejoin=\"miter\">\n",
       "\t<path stroke='black'  d='M65.05,27.32 L75.55,27.32 M570.62,27.32 L560.12,27.32  '/>\t<g transform=\"translate(55.26,31.87)\" stroke=\"none\" fill=\"black\" font-family=\"Arial\" font-size=\"14.00\"  text-anchor=\"end\">\n",
       "\t\t<text><tspan font-family=\"Arial\" > 9</tspan></text>\n",
       "\t</g>\n",
       "</g>\n",
       "<g fill=\"none\" color=\"black\" stroke=\"currentColor\" stroke-width=\"1.00\" stroke-linecap=\"butt\" stroke-linejoin=\"miter\">\n",
       "\t<path stroke='black'  d='M65.05,406.49 L65.05,395.99 M65.05,27.32 L65.05,37.82  '/>\t<g transform=\"translate(65.05,432.04)\" stroke=\"none\" fill=\"black\" font-family=\"Arial\" font-size=\"14.00\"  text-anchor=\"middle\">\n",
       "\t\t<text><tspan font-family=\"Arial\" > 0</tspan></text>\n",
       "\t</g>\n",
       "</g>\n",
       "<g fill=\"none\" color=\"black\" stroke=\"currentColor\" stroke-width=\"1.00\" stroke-linecap=\"butt\" stroke-linejoin=\"miter\">\n",
       "\t<path stroke='black'  d='M166.16,406.49 L166.16,395.99 M166.16,27.32 L166.16,37.82  '/>\t<g transform=\"translate(166.16,432.04)\" stroke=\"none\" fill=\"black\" font-family=\"Arial\" font-size=\"14.00\"  text-anchor=\"middle\">\n",
       "\t\t<text><tspan font-family=\"Arial\" > 0.2</tspan></text>\n",
       "\t</g>\n",
       "</g>\n",
       "<g fill=\"none\" color=\"black\" stroke=\"currentColor\" stroke-width=\"1.00\" stroke-linecap=\"butt\" stroke-linejoin=\"miter\">\n",
       "\t<path stroke='black'  d='M267.28,406.49 L267.28,395.99 M267.28,27.32 L267.28,37.82  '/>\t<g transform=\"translate(267.28,432.04)\" stroke=\"none\" fill=\"black\" font-family=\"Arial\" font-size=\"14.00\"  text-anchor=\"middle\">\n",
       "\t\t<text><tspan font-family=\"Arial\" > 0.4</tspan></text>\n",
       "\t</g>\n",
       "</g>\n",
       "<g fill=\"none\" color=\"black\" stroke=\"currentColor\" stroke-width=\"1.00\" stroke-linecap=\"butt\" stroke-linejoin=\"miter\">\n",
       "\t<path stroke='black'  d='M368.39,406.49 L368.39,395.99 M368.39,27.32 L368.39,37.82  '/>\t<g transform=\"translate(368.39,432.04)\" stroke=\"none\" fill=\"black\" font-family=\"Arial\" font-size=\"14.00\"  text-anchor=\"middle\">\n",
       "\t\t<text><tspan font-family=\"Arial\" > 0.6</tspan></text>\n",
       "\t</g>\n",
       "</g>\n",
       "<g fill=\"none\" color=\"black\" stroke=\"currentColor\" stroke-width=\"1.00\" stroke-linecap=\"butt\" stroke-linejoin=\"miter\">\n",
       "\t<path stroke='black'  d='M469.51,406.49 L469.51,395.99 M469.51,27.32 L469.51,37.82  '/>\t<g transform=\"translate(469.51,432.04)\" stroke=\"none\" fill=\"black\" font-family=\"Arial\" font-size=\"14.00\"  text-anchor=\"middle\">\n",
       "\t\t<text><tspan font-family=\"Arial\" > 0.8</tspan></text>\n",
       "\t</g>\n",
       "</g>\n",
       "<g fill=\"none\" color=\"black\" stroke=\"currentColor\" stroke-width=\"1.00\" stroke-linecap=\"butt\" stroke-linejoin=\"miter\">\n",
       "\t<path stroke='black'  d='M570.62,406.49 L570.62,395.99 M570.62,27.32 L570.62,37.82  '/>\t<g transform=\"translate(570.62,432.04)\" stroke=\"none\" fill=\"black\" font-family=\"Arial\" font-size=\"14.00\"  text-anchor=\"middle\">\n",
       "\t\t<text><tspan font-family=\"Arial\" > 1</tspan></text>\n",
       "\t</g>\n",
       "</g>\n",
       "<g fill=\"none\" color=\"black\" stroke=\"currentColor\" stroke-width=\"1.00\" stroke-linecap=\"butt\" stroke-linejoin=\"miter\">\n",
       "</g>\n",
       "<g fill=\"none\" color=\"gray\" stroke=\"currentColor\" stroke-width=\"1.00\" stroke-linecap=\"butt\" stroke-linejoin=\"miter\">\n",
       "\t<path stroke='black' stroke-dasharray='2,4'  d='M65.05,406.49 L570.62,406.49  '/></g>\n",
       "<g fill=\"none\" color=\"gray\" stroke=\"currentColor\" stroke-width=\"1.00\" stroke-linecap=\"butt\" stroke-linejoin=\"miter\">\n",
       "\t<path stroke='black' stroke-dasharray='2,4'  d='M65.05,406.49 L65.05,27.32  '/></g>\n",
       "<g fill=\"none\" color=\"gray\" stroke=\"black\" stroke-width=\"2.00\" stroke-linecap=\"butt\" stroke-linejoin=\"miter\">\n",
       "</g>\n",
       "<g fill=\"none\" color=\"black\" stroke=\"currentColor\" stroke-width=\"2.00\" stroke-linecap=\"butt\" stroke-linejoin=\"miter\">\n",
       "</g>\n",
       "<g fill=\"none\" color=\"black\" stroke=\"black\" stroke-width=\"1.00\" stroke-linecap=\"butt\" stroke-linejoin=\"miter\">\n",
       "</g>\n",
       "<g fill=\"none\" color=\"black\" stroke=\"currentColor\" stroke-width=\"1.00\" stroke-linecap=\"butt\" stroke-linejoin=\"miter\">\n",
       "\t<path stroke='black'  d='M65.05,27.32 L65.05,406.49 L570.62,406.49 L570.62,27.32 L65.05,27.32 Z  '/></g>\n",
       "<g fill=\"none\" color=\"black\" stroke=\"currentColor\" stroke-width=\"1.00\" stroke-linecap=\"butt\" stroke-linejoin=\"miter\">\n",
       "</g>\n",
       "</g>\n",
       "</svg>\n",
       "\n"
      ],
      "text/plain": [
       "/tmp/maxplot.svg"
      ]
     },
     "metadata": {},
     "output_type": "display_data"
    },
    {
     "data": {
      "text/latex": [
       "\\[\\tag{${\\it \\%o}_{21}$}\\left[ \\mbox{ /tmp/maxout600.gnuplot } , \\mbox{ /tmp/maxplot.svg } \\right] \\]"
      ],
      "text/plain": [
       "(%o21)            [/tmp/maxout600.gnuplot, /tmp/maxplot.svg]"
      ],
      "text/x-maxima": [
       "[\"/tmp/maxout600.gnuplot\",\"/tmp/maxplot.svg\"]"
      ]
     },
     "execution_count": 11,
     "metadata": {},
     "output_type": "execute_result"
    }
   ],
   "source": [
    "plot2d(\n",
    "    subst(1.0, s, \n",
    "        (%e^(s*tau)-1)*%e^(s*tau)*(%e^(s*tau)+1)/2),\n",
    "[tau, 0, 1]);"
   ]
  },
  {
   "cell_type": "markdown",
   "id": "58878bf2-624c-43bd-b61a-6c42375f19ae",
   "metadata": {
    "tags": [],
    "toc-hr-collapsed": true
   },
   "source": [
    "# Appendix"
   ]
  },
  {
   "cell_type": "markdown",
   "id": "a5a97bb0-0200-4419-96b4-1fc956dfb02b",
   "metadata": {
    "tags": []
   },
   "source": [
    "## Original maxima code"
   ]
  },
  {
   "cell_type": "markdown",
   "id": "1c457689-1008-49ac-b5bb-7f1db8149a13",
   "metadata": {},
   "source": [
    "```maxima\n",
    "/* [wxMaxima batch file version 1] [ DO NOT EDIT BY HAND! ]*/\n",
    "/* [ Created with wxMaxima version 18.02.0 ] */\n",
    "/* [wxMaxima: comment start ]\n",
    "Moment generating function.\n",
    "   [wxMaxima: comment end   ] */\n",
    "\n",
    "\n",
    "/* [wxMaxima: input   start ] */\n",
    "genfunc (x, t, n0, kb, kd) := \n",
    "    ((kd * %e^(- (kb - kd) * t) - kd + \n",
    "        (kd - kb * %e^(- (kb - kd) * t)) * x) / \n",
    "        (kd * %e^(- (kb - kd) * t) - kb + \n",
    "        (kb - kb * %e^(- (kb - kd) * t)) * x))^n0;\n",
    "/* [wxMaxima: input   end   ] */\n",
    "\n",
    "\n",
    "/* [wxMaxima: comment start ]\n",
    "Extract the probability distribution.\n",
    "   [wxMaxima: comment end   ] */\n",
    "\n",
    "\n",
    "/* [wxMaxima: input   start ] */\n",
    "probdist (m, t, n0, kb, kd) :=\n",
    "block([gf],\n",
    "    gf : genfunc(z, t, n0, kb, kd),\n",
    "    makelist([j, subst (0, z, diff(gf, z, j) / (j!))],\n",
    "        j, 0, m))$\n",
    "/* [wxMaxima: input   end   ] */\n",
    "\n",
    "\n",
    "/* [wxMaxima: comment start ]\n",
    "Reparameterize it according to diffusion approximation.\n",
    "   [wxMaxima: comment end   ] */\n",
    "\n",
    "\n",
    "/* [wxMaxima: input   start ] */\n",
    "factor(genfunc(z / N, N * tau, N * x0, D + s/(2*N), D - s/(2*N)));\n",
    "/* [wxMaxima: input   end   ] */\n",
    "\n",
    "\n",
    "/* [wxMaxima: input   start ] */\n",
    "renoprob (m, N, tau, x0, D, s) :=\n",
    "    map (lambda ([pa], [pa[1] / N, pa[2] * N]),\n",
    "    probdist (m, N * tau, N * x0, D + s/(2*N), D - s/(2*N)))$\n",
    "/* [wxMaxima: input   end   ] */\n",
    "\n",
    "\n",
    "/* [wxMaxima: comment start ]\n",
    "Plot with values tau = 1.0, x0 = 3.0, D = 1.0, s = 1.0\n",
    "   [wxMaxima: comment end   ] */\n",
    "\n",
    "\n",
    "/* [wxMaxima: input   start ] */\n",
    "wxplot2d([[discrete, renoprob(30, 1, 1.0, 3, 1.0, 1.0)],\n",
    "    [discrete, renoprob(60, 2, 1.0, 3, 1.0, 1.0)],\n",
    "    [discrete, renoprob(90, 3, 1.0, 3, 1.0, 1.0)],\n",
    "    [discrete, renoprob(120, 4, 1.0, 3, 1.0, 1.0)]],\n",
    "    [legend, \"N=1\", \"N=2\", \"N=3\", \"N=4\"],\n",
    "    [xlabel, \"x\"]);\n",
    "/* [wxMaxima: input   end   ] */\n",
    "\n",
    "\n",
    "/* [wxMaxima: comment start ]\n",
    "Check that it is normalized and extract\n",
    "fixation probability.\n",
    "   [wxMaxima: comment end   ] */\n",
    "\n",
    "\n",
    "/* [wxMaxima: input   start ] */\n",
    "genfunc(0, t, n0, kb, kd);\n",
    "factor(genfunc(0, N * tau, N * x0, D + s/(2*N), D - s/(2*N)));\n",
    "genfunc(1, t, n0, kb, kd);\n",
    "/* [wxMaxima: input   end   ] */\n",
    "\n",
    "\n",
    "/* [wxMaxima: comment start ]\n",
    "Functions to compute moments.\n",
    "   [wxMaxima: comment end   ] */\n",
    "\n",
    "\n",
    "/* [wxMaxima: input   start ] */\n",
    "numop(n, gf) := \n",
    "    if n=0 then gf\n",
    "        else numop(n-1, z * diff(gf, z))$\n",
    "mom(m, t, n0, kb, kd) := \n",
    "    factor(subst(1, z, numop(m, genfunc(z, t, n0, kb, kd))))$\n",
    "momren(m, t, n0, kb, kd) := \n",
    "                factor(psubst([t = N * tau, \n",
    "                        n0 = N * x0,\n",
    "                        kb = D + s/(2*N), \n",
    "                        kd = D - s/(2*N)], \n",
    "                mom(m, t, n0, kb, kd) / N^m))$\n",
    "cumu(m, t, n0, kb, kd) := \n",
    "    factor(subst(1, z, numop(m, \n",
    "            log(genfunc(z, t, n0, kb, kd)))))$\n",
    "cumuren(m, zt, n0, kb, kd) := \n",
    "                factor(psubst([t = N * tau, \n",
    "                        n0 = N * x0,\n",
    "                        kb = D + s/(2*N), \n",
    "                        kd = D - s/(2*N)], \n",
    "                cumu(m, t, n0, kb, kd) / N^m))$\n",
    "/* [wxMaxima: input   end   ] */\n",
    "\n",
    "\n",
    "/* [wxMaxima: comment start ]\n",
    "Have a look at the cumulants.\n",
    "   [wxMaxima: comment end   ] */\n",
    "\n",
    "\n",
    "/* [wxMaxima: input   start ] */\n",
    "cumu(1, t, n0, kb, kd);\n",
    "cumu(2, t, n0, kb, kd);\n",
    "cumu(3, t, n0, kb, kd);\n",
    "cumu(4, t, n0, kb, kd);\n",
    "/* [wxMaxima: input   end   ] */\n",
    "\n",
    "\n",
    "/* [wxMaxima: comment start ]\n",
    "Reparameterize the cumulants and collect \n",
    "powers of N.\n",
    "   [wxMaxima: comment end   ] */\n",
    "\n",
    "\n",
    "/* [wxMaxima: input   start ] */\n",
    "cumuren(1, t, n0, kb, kd);\n",
    "cumuren(2, t, n0, kb, kd);\n",
    "/* [wxMaxima: input   end   ] */\n",
    "\n",
    "\n",
    "/* [wxMaxima: input   start ] */\n",
    "block([mo],\n",
    "    mo : expand(cumuren(3, t, n0, kb, kd)),\n",
    "    factor(coeff (mo, N, 0)) +\n",
    "    factor(coeff (mo, N, -2)) / N^2);\n",
    "block([mo],\n",
    "    mo : expand(cumuren(4, t, n0, kb, kd)),\n",
    "    factor(coeff (mo, N, 0)) +\n",
    "    factor(coeff (mo, N, -2)) / N^2);\n",
    "/* [wxMaxima: input   end   ] */\n",
    "\n",
    "\n",
    "/* [wxMaxima: input   start ] */\n",
    "wxplot2d(\n",
    "    subst(1.0, s, \n",
    "        (%e^(s*tau)-1)*%e^(s*tau)*(%e^(s*tau)+1)/2),\n",
    "[tau, 0, 1]);\n",
    "/* [wxMaxima: input   end   ] */\n",
    "\n",
    "\"Created with wxMaxima 18.02.0\"$\n",
    "```"
   ]
  },
  {
   "cell_type": "markdown",
   "id": "0c5ddfc5",
   "metadata": {},
   "source": [
    "```maxima\n",
    "\n",
    "```"
   ]
  }
 ],
 "metadata": {
  "jupytext": {
   "formats": "ipynb,md"
  },
  "kernelspec": {
   "display_name": "Maxima",
   "language": "maxima",
   "name": "maxima"
  },
  "language_info": {
   "codemirror_mode": "maxima",
   "file_extension": ".mac",
   "mimetype": "text/x-maxima",
   "name": "maxima",
   "pygments_lexer": "maxima",
   "version": "5.45.0"
  },
  "toc-showcode": true,
  "toc-showmarkdowntxt": true
 },
 "nbformat": 4,
 "nbformat_minor": 5
}
