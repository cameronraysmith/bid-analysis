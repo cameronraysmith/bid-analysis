{
 "cells": [
  {
   "cell_type": "markdown",
   "id": "b820a5e6-028f-4082-bbda-1d65a692f822",
   "metadata": {},
   "source": [
    "<center><font size=\"+4\">Comparing the exact solution and diffusion approximation to the birth-immigration-death process</font></center>"
   ]
  },
  {
   "cell_type": "markdown",
   "id": "e15c5663-8e27-41c1-a512-1bf42e4b7c28",
   "metadata": {},
   "source": [
    "# Diffusion limit via generating function"
   ]
  },
  {
   "cell_type": "markdown",
   "id": "b1c268d7-6734-46b1-b4b1-64dae2db3b6d",
   "metadata": {},
   "source": [
    "Define the moment generating function."
   ]
  },
  {
   "cell_type": "code",
   "execution_count": 1,
   "id": "bb30ccce-0cf8-46c4-9239-f74c96274e0c",
   "metadata": {
    "execution": {
     "iopub.execute_input": "2021-08-12T23:53:44Z",
     "iopub.status.busy": "2021-08-12T23:53:44Z",
     "iopub.status.idle": "2021-08-12T23:53:44Z",
     "shell.execute_reply": "2021-08-12T23:53:44Z"
    },
    "tags": []
   },
   "outputs": [
    {
     "data": {
      "text/latex": [
       "\\[\\tag{${\\it \\%o}_{1}$}{\\it genfunc}\\left(x , t , n_{0} , {\\it kb} , {\\it kd}\\right):=\\left(\\frac{{\\it kd}\\,e^{\\left(-\\left({\\it kb}-{\\it kd}\\right)\\right)\\,t}-{\\it kd}+\\left({\\it kd}-{\\it kb}\\,e^{\\left(-\\left({\\it kb}-{\\it kd}\\right)\\right)\\,t}\\right)\\,x}{{\\it kd}\\,e^{\\left(-\\left({\\it kb}-{\\it kd}\\right)\\right)\\,t}-{\\it kb}+\\left({\\it kb}-{\\it kb}\\,e^{\\left(-\\left({\\it kb}-{\\it kd}\\right)\\right)\\,t}\\right)\\,x}\\right)^{n_{0}}\\]"
      ],
      "text/plain": [
       "(%o1) genfunc(x, t, n0, kb, kd) := \n",
       "                        (- (kb - kd)) t                   (- (kb - kd)) t\n",
       "                   kd %e                - kd + (kd - kb %e               ) x n0\n",
       "                  (---------------------------------------------------------)\n",
       "                        (- (kb - kd)) t                   (- (kb - kd)) t\n",
       "                   kd %e                - kb + (kb - kb %e               ) x"
      ],
      "text/x-maxima": [
       "genfunc(x,t,n0,kb,kd):=\n",
       "        ((kd*%e^((-(kb-kd))*t)-kd+(kd-kb*%e^((-(kb-kd))*t))*x)\n",
       "         /(kd*%e^((-(kb-kd))*t)-kb+(kb-kb*%e^((-(kb-kd))*t))*x))^n0"
      ]
     },
     "execution_count": 1,
     "metadata": {},
     "output_type": "execute_result"
    }
   ],
   "source": [
    "genfunc (x, t, n0, kb, kd) := \n",
    "    ((kd * %e^(- (kb - kd) * t) - kd + \n",
    "        (kd - kb * %e^(- (kb - kd) * t)) * x) / \n",
    "        (kd * %e^(- (kb - kd) * t) - kb + \n",
    "        (kb - kb * %e^(- (kb - kd) * t)) * x))^n0;"
   ]
  },
  {
   "cell_type": "markdown",
   "id": "f3f0b303-bea6-4171-bb97-c05cf81ec6f4",
   "metadata": {
    "execution": {
     "iopub.execute_input": "2021-08-12T02:05:35Z",
     "iopub.status.busy": "2021-08-12T02:05:35Z",
     "iopub.status.idle": "2021-08-12T02:05:35Z",
     "shell.execute_reply": "2021-08-12T02:05:35Z"
    }
   },
   "source": [
    "Reparameterize it according to the diffusion approximation."
   ]
  },
  {
   "cell_type": "code",
   "execution_count": 14,
   "id": "78b0a963-d238-40f5-ada4-53db57522f40",
   "metadata": {
    "execution": {
     "iopub.execute_input": "2021-08-12T23:57:31Z",
     "iopub.status.busy": "2021-08-12T23:57:31Z",
     "iopub.status.idle": "2021-08-12T23:57:31Z",
     "shell.execute_reply": "2021-08-12T23:57:31Z"
    },
    "tags": []
   },
   "outputs": [
    {
     "data": {
      "text/latex": [
       "\\[\\tag{${\\it \\%o}_{28}$}\\left(-\\frac{\\left(\\left(s-2\\,D\\,N\\right)\\,e^{s\\,\\tau}-s+2\\,D\\,N\\right)\\,e^{\\vartheta}+\\left(2\\,D\\,N-s\\right)\\,e^{s\\,\\tau}-s-2\\,D\\,N}{\\left(\\left(s+2\\,D\\,N\\right)\\,e^{s\\,\\tau}+s-2\\,D\\,N\\right)\\,e^{\\vartheta}+\\left(-s-2\\,D\\,N\\right)\\,e^{s\\,\\tau}+s+2\\,D\\,N}\\right)^{N\\,x_{0}}\\]"
      ],
      "text/plain": [
       "                              s tau                theta                 s tau\n",
       "(%o28) expt(- (((s - 2 D N) %e      - s + 2 D N) %e      + (2 D N - s) %e\n",
       "                              s tau                theta\n",
       " - s - 2 D N)/(((s + 2 D N) %e      + s - 2 D N) %e\n",
       "                     s tau\n",
       " + ((- s) - 2 D N) %e      + s + 2 D N), N x0)"
      ],
      "text/x-maxima": [
       "(-(((s-2*D*N)*%e^(s*tau)-s+2*D*N)*%e^theta+(2*D*N-s)*%e^(s*tau)-s-2*D*N)\n",
       " /(((s+2*D*N)*%e^(s*tau)+s-2*D*N)*%e^theta+((-s)-2*D*N)*%e^(s*tau)+s+2*D*N))\n",
       " ^(N*x0)"
      ]
     },
     "execution_count": 14,
     "metadata": {},
     "output_type": "execute_result"
    }
   ],
   "source": [
    "genreparam : factor(genfunc(%e^(-theta), tau*N, N * x0, D + s/(2*N), D - s/(2*N)));"
   ]
  },
  {
   "cell_type": "markdown",
   "id": "83667c1f-bf4f-433c-bf82-71521484bb0f",
   "metadata": {},
   "source": [
    "Introduce epsilon = 1/N so as to make system size expansion."
   ]
  },
  {
   "cell_type": "code",
   "execution_count": 15,
   "id": "ceced421-a6ba-4c34-9184-ad8ca98635e2",
   "metadata": {
    "execution": {
     "iopub.execute_input": "2021-08-12T23:57:33Z",
     "iopub.status.busy": "2021-08-12T23:57:33Z",
     "iopub.status.idle": "2021-08-12T23:57:33Z",
     "shell.execute_reply": "2021-08-12T23:57:33Z"
    },
    "tags": []
   },
   "outputs": [
    {
     "data": {
      "text/latex": [
       "\\[\\tag{${\\it \\%o}_{29}$}\\frac{\\left(-\\left(\\frac{\\varepsilon\\,s}{2}+D\\right)\\,e^ {- s\\,\\tau }-\\frac{\\varepsilon\\,s}{2}+D\\right)\\,e^ {- \\varepsilon\\,\\vartheta }+\\left(D-\\frac{\\varepsilon\\,s}{2}\\right)\\,e^ {- s\\,\\tau }+\\frac{\\varepsilon\\,s}{2}-D}{\\left(-\\left(\\frac{\\varepsilon\\,s}{2}+D\\right)\\,e^ {- s\\,\\tau }+\\frac{\\varepsilon\\,s}{2}+D\\right)\\,e^ {- \\varepsilon\\,\\vartheta }+\\left(D-\\frac{\\varepsilon\\,s}{2}\\right)\\,e^ {- s\\,\\tau }-\\frac{\\varepsilon\\,s}{2}-D}\\]"
      ],
      "text/plain": [
       "             epsilon s        - s tau    epsilon s        - epsilon theta\n",
       "(%o29) (((- (--------- + D) %e       ) - --------- + D) %e\n",
       "                 2                           2\n",
       "        epsilon s    - s tau   epsilon s\n",
       " + (D - ---------) %e        + --------- - D)\n",
       "            2                      2\n",
       "       epsilon s        - s tau    epsilon s        - epsilon theta\n",
       "/(((- (--------- + D) %e       ) + --------- + D) %e\n",
       "           2                           2\n",
       "        epsilon s    - s tau   epsilon s\n",
       " + (D - ---------) %e        - --------- - D)\n",
       "            2                      2"
      ],
      "text/x-maxima": [
       "(((-((epsilon*s)/2+D)*%e^-(s*tau))-(epsilon*s)/2+D)*%e^-(epsilon*theta)\n",
       " +(D-(epsilon*s)/2)*%e^-(s*tau)+(epsilon*s)/2-D)\n",
       " /(((-((epsilon*s)/2+D)*%e^-(s*tau))+(epsilon*s)/2+D)*%e^-(epsilon*theta)\n",
       "  +(D-(epsilon*s)/2)*%e^-(s*tau)-(epsilon*s)/2-D)"
      ]
     },
     "execution_count": 15,
     "metadata": {},
     "output_type": "execute_result"
    }
   ],
   "source": [
    "geneps : genfunc(%e^(-theta * epsilon), tau / epsilon, 1, \n",
    "    D + s * epsilon/2, D - s* epsilon /2);"
   ]
  },
  {
   "cell_type": "markdown",
   "id": "d09c04c2-8587-4bbe-a04e-b85563f6ee2f",
   "metadata": {},
   "source": [
    "Expand the cumulant generating function."
   ]
  },
  {
   "cell_type": "code",
   "execution_count": 16,
   "id": "d005785c-5650-4216-a0f5-7d665f134252",
   "metadata": {
    "execution": {
     "iopub.execute_input": "2021-08-12T23:57:34Z",
     "iopub.status.busy": "2021-08-12T23:57:34Z",
     "iopub.status.idle": "2021-08-12T23:57:34Z",
     "shell.execute_reply": "2021-08-12T23:57:34Z"
    },
    "tags": []
   },
   "outputs": [
    {
     "data": {
      "text/latex": [
       "\\[\\tag{${\\it \\%o}_{30}$}-\\frac{s\\,e^{s\\,\\tau}\\,\\vartheta\\,x_{0}}{D\\,e^{s\\,\\tau}\\,\\vartheta-D\\,\\vartheta+s}-\\frac{\\varepsilon^2\\,\\left(s^2\\,\\left(D\\,e^{s\\,\\tau}\\,\\vartheta^4-D\\,e^{2\\,s\\,\\tau}\\,\\vartheta^4\\right)+s^3\\,\\left(e^{3\\,s\\,\\tau}\\,\\vartheta^3-e^{s\\,\\tau}\\,\\vartheta^3\\right)\\right)\\,x_{0}}{12\\,D^3\\,e^{3\\,s\\,\\tau}\\,\\vartheta^3-36\\,D^3\\,e^{2\\,s\\,\\tau}\\,\\vartheta^3+36\\,D^3\\,e^{s\\,\\tau}\\,\\vartheta^3-12\\,D^3\\,\\vartheta^3+s\\,\\left(36\\,D^2\\,e^{2\\,s\\,\\tau}\\,\\vartheta^2-72\\,D^2\\,e^{s\\,\\tau}\\,\\vartheta^2+36\\,D^2\\,\\vartheta^2\\right)+s^2\\,\\left(36\\,D\\,e^{s\\,\\tau}\\,\\vartheta-36\\,D\\,\\vartheta\\right)+12\\,s^3}\\]"
      ],
      "text/plain": [
       "                   s tau\n",
       "               s %e      theta x0\n",
       "(%o30) (- -----------------------------)\n",
       "              s tau\n",
       "          D %e      theta - D theta + s\n",
       "           2   2      s tau      4       2 s tau      4\n",
       " - (epsilon  (s  (D %e      theta  - D %e        theta )\n",
       "    3    3 s tau      3     s tau      3\n",
       " + s  (%e        theta  - %e      theta )) x0)\n",
       "      3   3 s tau      3       3   2 s tau      3       3   s tau      3\n",
       "/(12 D  %e        theta  - 36 D  %e        theta  + 36 D  %e      theta\n",
       "       3      3          2   2 s tau      2       2   s tau      2\n",
       " - 12 D  theta  + s (36 D  %e        theta  - 72 D  %e      theta\n",
       "       2      2     2         s tau                           3\n",
       " + 36 D  theta ) + s  (36 D %e      theta - 36 D theta) + 12 s )"
      ],
      "text/x-maxima": [
       "(-(s*%e^(s*tau)*theta*x0)/(D*%e^(s*tau)*theta-D*theta+s))\n",
       " -(epsilon^2*(s^2*(D*%e^(s*tau)*theta^4-D*%e^(2*s*tau)*theta^4)\n",
       "             +s^3*(%e^(3*s*tau)*theta^3-%e^(s*tau)*theta^3))*x0)\n",
       "  /(12*D^3*%e^(3*s*tau)*theta^3-36*D^3*%e^(2*s*tau)*theta^3\n",
       "                               +36*D^3*%e^(s*tau)*theta^3-12*D^3*theta^3\n",
       "                               +s*(36*D^2*%e^(2*s*tau)*theta^2\n",
       "                                  -72*D^2*%e^(s*tau)*theta^2+36*D^2*theta^2)\n",
       "                               +s^2*(36*D*%e^(s*tau)*theta-36*D*theta)+12*s^3)"
      ]
     },
     "execution_count": 16,
     "metadata": {},
     "output_type": "execute_result"
    }
   ],
   "source": [
    "cgfexpansion : (x0/epsilon)*taylor(log(geneps), epsilon, 0, 3);"
   ]
  },
  {
   "cell_type": "code",
   "execution_count": 17,
   "id": "d5b4a2d0-32d7-4f8f-a0f7-6be91bfb65d3",
   "metadata": {
    "execution": {
     "iopub.execute_input": "2021-08-12T23:58:29Z",
     "iopub.status.busy": "2021-08-12T23:58:29Z",
     "iopub.status.idle": "2021-08-12T23:58:29Z",
     "shell.execute_reply": "2021-08-12T23:58:29Z"
    }
   },
   "outputs": [
    {
     "data": {
      "text/latex": [
       "\\[\\tag{${\\it \\%o}_{31}$}-\\frac{s\\,e^{s\\,\\tau}\\,\\vartheta\\,x_{0}}{D\\,e^{s\\,\\tau}\\,\\vartheta-D\\,\\vartheta+s}\\]"
      ],
      "text/plain": [
       "                                   s tau\n",
       "                               s %e      theta x0\n",
       "(%o31)                  - -----------------------------\n",
       "                              s tau\n",
       "                          D %e      theta - D theta + s"
      ],
      "text/x-maxima": [
       "-(s*%e^(s*tau)*theta*x0)/(D*%e^(s*tau)*theta-D*theta+s)"
      ]
     },
     "execution_count": 17,
     "metadata": {},
     "output_type": "execute_result"
    }
   ],
   "source": [
    "coeff(cgfexpansion, epsilon, 0);"
   ]
  },
  {
   "cell_type": "code",
   "execution_count": null,
   "id": "97a8c35f-ea08-4051-8168-07942658f23a",
   "metadata": {
    "tags": []
   },
   "outputs": [],
   "source": [
    "texput(theta, \"\\\\theta\");\n",
    "texput(tau, \"(\\\\tau - \\\\tau_{0})\");"
   ]
  },
  {
   "cell_type": "code",
   "execution_count": null,
   "id": "b4886a21-4da1-4580-87ce-ae177741a108",
   "metadata": {
    "tags": []
   },
   "outputs": [],
   "source": [
    "tex(genreparam);"
   ]
  },
  {
   "cell_type": "code",
   "execution_count": null,
   "id": "0923b652-d565-43dd-b0d6-ac3ba230d62b",
   "metadata": {
    "tags": []
   },
   "outputs": [],
   "source": [
    "tex(factor(coeff(cgfexpansion, epsilon, 0)));"
   ]
  },
  {
   "cell_type": "code",
   "execution_count": null,
   "id": "ed03bf6e-6923-40c0-9e75-be179ce2df88",
   "metadata": {
    "tags": []
   },
   "outputs": [],
   "source": [
    "tex(factor(coeff(cgfexpansion, epsilon, 2)));"
   ]
  },
  {
   "cell_type": "code",
   "execution_count": null,
   "id": "3c9dd944-b32e-406e-96f1-a8118ec9959e",
   "metadata": {
    "tags": []
   },
   "outputs": [],
   "source": [
    "tex(factor(coeff(cgfexpansion, epsilon, 4)));"
   ]
  },
  {
   "cell_type": "markdown",
   "id": "e1ba2066-bbc5-4139-b1bc-b2300b188bbd",
   "metadata": {},
   "source": [
    "# Compute cumulants for exact and diffusion of the BD process"
   ]
  },
  {
   "cell_type": "code",
   "execution_count": 7,
   "id": "7cf2b7e5-107c-4ffa-9c10-41175579f136",
   "metadata": {
    "execution": {
     "iopub.execute_input": "2021-08-12T23:54:06Z",
     "iopub.status.busy": "2021-08-12T23:54:06Z",
     "iopub.status.idle": "2021-08-12T23:54:06Z",
     "shell.execute_reply": "2021-08-12T23:54:06Z"
    },
    "tags": []
   },
   "outputs": [],
   "source": [
    "numop(n, gf) := \n",
    "    if n=0 then gf\n",
    "        else numop(n-1, z * diff(gf, z))$\n",
    "cumu(m, t, n0, kb, kd) := \n",
    "    factor(subst(1, z, numop(m, \n",
    "            log(genfunc(z, t, n0, kb, kd)))))$"
   ]
  },
  {
   "cell_type": "code",
   "execution_count": 8,
   "id": "e4b4043f-4dc7-4ca0-b5b9-21ea172b71cb",
   "metadata": {
    "execution": {
     "iopub.execute_input": "2021-08-12T23:54:07Z",
     "iopub.status.busy": "2021-08-12T23:54:07Z",
     "iopub.status.idle": "2021-08-12T23:54:07Z",
     "shell.execute_reply": "2021-08-12T23:54:07Z"
    },
    "tags": []
   },
   "outputs": [
    {
     "data": {
      "text/latex": [
       "\\[\\tag{${\\it \\%o}_{9}$}0\\]"
      ],
      "text/plain": [
       "(%o9)                                  0"
      ],
      "text/x-maxima": [
       "0"
      ]
     },
     "execution_count": 8,
     "metadata": {},
     "output_type": "execute_result"
    }
   ],
   "source": [
    "cumu(0, t, n0, kb, kd);"
   ]
  },
  {
   "cell_type": "code",
   "execution_count": 9,
   "id": "024c7358-0568-43d2-8eeb-63922c028b44",
   "metadata": {
    "execution": {
     "iopub.execute_input": "2021-08-12T23:54:08Z",
     "iopub.status.busy": "2021-08-12T23:54:08Z",
     "iopub.status.idle": "2021-08-12T23:54:08Z",
     "shell.execute_reply": "2021-08-12T23:54:08Z"
    },
    "tags": []
   },
   "outputs": [
    {
     "data": {
      "text/latex": [
       "\\[\\tag{${\\it \\%o}_{10}$}n_{0}\\,e^{{\\it kb}\\,t-{\\it kd}\\,t}\\]"
      ],
      "text/plain": [
       "                                    kb t - kd t\n",
       "(%o10)                         n0 %e"
      ],
      "text/x-maxima": [
       "n0*%e^(kb*t-kd*t)"
      ]
     },
     "execution_count": 9,
     "metadata": {},
     "output_type": "execute_result"
    },
    {
     "data": {
      "text/latex": [
       "\\[\\tag{${\\it \\%o}_{11}$}\\frac{\\left({\\it kd}+{\\it kb}\\right)\\,n_{0}\\,\\left(e^{{\\it kd}\\,t}-e^{{\\it kb}\\,t}\\right)\\,e^{{\\it kb}\\,t-2\\,{\\it kd}\\,t}}{{\\it kd}-{\\it kb}}\\]"
      ],
      "text/plain": [
       "                                kd t     kb t    kb t - 2 kd t\n",
       "                (kd + kb) n0 (%e     - %e    ) %e\n",
       "(%o11)          ----------------------------------------------\n",
       "                                   kd - kb"
      ],
      "text/x-maxima": [
       "((kd+kb)*n0*(%e^(kd*t)-%e^(kb*t))*%e^(kb*t-2*kd*t))/(kd-kb)"
      ]
     },
     "execution_count": 9,
     "metadata": {},
     "output_type": "execute_result"
    },
    {
     "data": {
      "text/latex": [
       "\\[\\tag{${\\it \\%o}_{12}$}\\frac{n_{0}\\,\\left(e^{{\\it kd}\\,t}-e^{{\\it kb}\\,t}\\right)\\,\\left({\\it kd}^2\\,e^{{\\it kd}\\,t}+4\\,{\\it kb}\\,{\\it kd}\\,e^{{\\it kd}\\,t}+{\\it kb}^2\\,e^{{\\it kd}\\,t}-2\\,{\\it kd}^2\\,e^{{\\it kb}\\,t}-2\\,{\\it kb}\\,{\\it kd}\\,e^{{\\it kb}\\,t}-2\\,{\\it kb}^2\\,e^{{\\it kb}\\,t}\\right)\\,e^{{\\it kb}\\,t-3\\,{\\it kd}\\,t}}{\\left({\\it kd}-{\\it kb}\\right)^2}\\]"
      ],
      "text/plain": [
       "              kd t     kb t     2   kd t             kd t     2   kd t\n",
       "(%o12) (n0 (%e     - %e    ) (kd  %e     + 4 kb kd %e     + kb  %e\n",
       "          2   kb t             kb t       2   kb t    kb t - 3 kd t           2\n",
       "    - 2 kd  %e     - 2 kb kd %e     - 2 kb  %e    ) %e             )/(kd - kb)"
      ],
      "text/x-maxima": [
       "(n0*(%e^(kd*t)-%e^(kb*t))\n",
       "   *(kd^2*%e^(kd*t)+4*kb*kd*%e^(kd*t)+kb^2*%e^(kd*t)-2*kd^2*%e^(kb*t)\n",
       "                   -2*kb*kd*%e^(kb*t)-2*kb^2*%e^(kb*t))*%e^(kb*t-3*kd*t))\n",
       " /(kd-kb)^2"
      ]
     },
     "execution_count": 9,
     "metadata": {},
     "output_type": "execute_result"
    },
    {
     "data": {
      "text/latex": [
       "\\[\\tag{${\\it \\%o}_{13}$}\\frac{\\left({\\it kd}+{\\it kb}\\right)\\,n_{0}\\,\\left(e^{{\\it kd}\\,t}-e^{{\\it kb}\\,t}\\right)\\,e^{{\\it kb}\\,t-4\\,{\\it kd}\\,t}\\,\\left(-6\\,{\\it kd}^2\\,e^{{\\it kd}\\,t+{\\it kb}\\,t}-12\\,{\\it kb}\\,{\\it kd}\\,e^{{\\it kd}\\,t+{\\it kb}\\,t}-6\\,{\\it kb}^2\\,e^{{\\it kd}\\,t+{\\it kb}\\,t}+{\\it kd}^2\\,e^{2\\,{\\it kd}\\,t}+10\\,{\\it kb}\\,{\\it kd}\\,e^{2\\,{\\it kd}\\,t}+{\\it kb}^2\\,e^{2\\,{\\it kd}\\,t}+6\\,{\\it kd}^2\\,e^{2\\,{\\it kb}\\,t}+6\\,{\\it kb}^2\\,e^{2\\,{\\it kb}\\,t}\\right)}{\\left({\\it kd}-{\\it kb}\\right)^3}\\]"
      ],
      "text/plain": [
       "                        kd t     kb t    kb t - 4 kd t\n",
       "(%o13) ((kd + kb) n0 (%e     - %e    ) %e\n",
       "         2   kd t + kb t               kd t + kb t       2   kd t + kb t\n",
       " ((- 6 kd  %e           ) - 12 kb kd %e            - 6 kb  %e\n",
       "     2   2 kd t              2 kd t     2   2 kd t       2   2 kb t\n",
       " + kd  %e       + 10 kb kd %e       + kb  %e       + 6 kd  %e\n",
       "       2   2 kb t            3\n",
       " + 6 kb  %e      ))/(kd - kb)"
      ],
      "text/x-maxima": [
       "((kd+kb)*n0*(%e^(kd*t)-%e^(kb*t))*%e^(kb*t-4*kd*t)\n",
       "        *((-6*kd^2*%e^(kd*t+kb*t))-12*kb*kd*%e^(kd*t+kb*t)\n",
       "                                  -6*kb^2*%e^(kd*t+kb*t)+kd^2*%e^(2*kd*t)\n",
       "                                  +10*kb*kd*%e^(2*kd*t)+kb^2*%e^(2*kd*t)\n",
       "                                  +6*kd^2*%e^(2*kb*t)+6*kb^2*%e^(2*kb*t)))\n",
       " /(kd-kb)^3"
      ]
     },
     "execution_count": 9,
     "metadata": {},
     "output_type": "execute_result"
    }
   ],
   "source": [
    "cumu(1, t, n0, kb, kd);\n",
    "cumu(2, t, n0, kb, kd);\n",
    "cumu(3, t, n0, kb, kd);\n",
    "cumu(4, t, n0, kb, kd);"
   ]
  },
  {
   "cell_type": "markdown",
   "id": "b4fa5603-51a1-4c05-8d5a-4e3cba25593b",
   "metadata": {},
   "source": [
    "## First order terms"
   ]
  },
  {
   "cell_type": "code",
   "execution_count": 27,
   "id": "be0febb0-2674-48c4-8ac0-f740dd49e9da",
   "metadata": {
    "execution": {
     "iopub.execute_input": "2021-08-13T00:28:39Z",
     "iopub.status.busy": "2021-08-13T00:28:39Z",
     "iopub.status.idle": "2021-08-13T00:28:39Z",
     "shell.execute_reply": "2021-08-13T00:28:39Z"
    },
    "tags": []
   },
   "outputs": [
    {
     "data": {
      "text/latex": [
       "\\[\\tag{${\\it \\%o}_{42}$}e^{s\\,t}\\,x_{0}\\]"
      ],
      "text/plain": [
       "                                     s t\n",
       "(%o42)                             %e    x0"
      ],
      "text/x-maxima": [
       "%e^(s*t)*x0"
      ]
     },
     "execution_count": 27,
     "metadata": {},
     "output_type": "execute_result"
    },
    {
     "data": {
      "text/latex": [
       "\\[\\tag{${\\it \\%o}_{43}$}\\frac{\\left(2\\,D\\,e^{2\\,s\\,t}-2\\,D\\,e^{s\\,t}\\right)\\,x_{0}}{s}\\]"
      ],
      "text/plain": [
       "                                2 s t         s t\n",
       "                         (2 D %e      - 2 D %e   ) x0\n",
       "(%o43)                   ----------------------------\n",
       "                                      s"
      ],
      "text/x-maxima": [
       "((2*D*%e^(2*s*t)-2*D*%e^(s*t))*x0)/s"
      ]
     },
     "execution_count": 27,
     "metadata": {},
     "output_type": "execute_result"
    },
    {
     "data": {
      "text/latex": [
       "\\[\\tag{${\\it \\%o}_{44}$}\\frac{\\left(6\\,D^2\\,e^{3\\,s\\,t}-12\\,D^2\\,e^{2\\,s\\,t}+6\\,D^2\\,e^{s\\,t}\\right)\\,x_{0}}{s^2}+\\frac{\\varepsilon^2\\,\\left(e^{3\\,s\\,t}-e^{s\\,t}\\right)\\,x_{0}}{2}\\]"
      ],
      "text/plain": [
       "           2   3 s t       2   2 s t      2   s t\n",
       "       (6 D  %e      - 12 D  %e      + 6 D  %e   ) x0\n",
       "(%o44) ----------------------------------------------\n",
       "                              2\n",
       "                             s\n",
       "                                                         2    3 s t     s t\n",
       "                                                  epsilon  (%e      - %e   ) x0\n",
       "                                                + -----------------------------\n",
       "                                                                2"
      ],
      "text/x-maxima": [
       "((6*D^2*%e^(3*s*t)-12*D^2*%e^(2*s*t)+6*D^2*%e^(s*t))*x0)/s^2\n",
       " +(epsilon^2*(%e^(3*s*t)-%e^(s*t))*x0)/2"
      ]
     },
     "execution_count": 27,
     "metadata": {},
     "output_type": "execute_result"
    },
    {
     "data": {
      "text/latex": [
       "\\[\\tag{${\\it \\%o}_{45}$}\\frac{\\left(24\\,D^3\\,e^{4\\,s\\,t}-72\\,D^3\\,e^{3\\,s\\,t}+72\\,D^3\\,e^{2\\,s\\,t}-24\\,D^3\\,e^{s\\,t}\\right)\\,x_{0}}{s^3}+\\frac{\\varepsilon^2\\,\\left(6\\,D\\,e^{4\\,s\\,t}-6\\,D\\,e^{3\\,s\\,t}-4\\,D\\,e^{2\\,s\\,t}+4\\,D\\,e^{s\\,t}\\right)\\,x_{0}}{s}\\]"
      ],
      "text/plain": [
       "            3   4 s t       3   3 s t       3   2 s t       3   s t\n",
       "       (24 D  %e      - 72 D  %e      + 72 D  %e      - 24 D  %e   ) x0\n",
       "(%o45) ----------------------------------------------------------------\n",
       "                                       3\n",
       "                                      s\n",
       "                     2        4 s t         3 s t         2 s t         s t\n",
       "              epsilon  (6 D %e      - 6 D %e      - 4 D %e      + 4 D %e   ) x0\n",
       "            + -----------------------------------------------------------------\n",
       "                                              s"
      ],
      "text/x-maxima": [
       "((24*D^3*%e^(4*s*t)-72*D^3*%e^(3*s*t)+72*D^3*%e^(2*s*t)-24*D^3*%e^(s*t))*x0)\n",
       " /s^3\n",
       " +(epsilon^2*(6*D*%e^(4*s*t)-6*D*%e^(3*s*t)-4*D*%e^(2*s*t)+4*D*%e^(s*t))*x0)/s"
      ]
     },
     "execution_count": 27,
     "metadata": {},
     "output_type": "execute_result"
    }
   ],
   "source": [
    "difcum1 : taylor(epsilon * cumu(1, t / epsilon, x0 / epsilon, \n",
    "        D + s * epsilon / 2, D - s * epsilon / 2), epsilon, 0, 2);\n",
    "difcum2 : taylor(epsilon^2 * cumu(2, t / epsilon, x0 / epsilon, \n",
    "        D + s * epsilon / 2, D - s * epsilon / 2), epsilon, 0, 2);\n",
    "difcum3 : taylor(epsilon^3 * cumu(3, t / epsilon, x0 / epsilon, \n",
    "        D + s * epsilon / 2, D - s * epsilon / 2), epsilon, 0, 2);\n",
    "difcum4 : taylor(epsilon^4 * cumu(4, t / epsilon, x0 / epsilon, \n",
    "        D + s * epsilon / 2, D - s * epsilon / 2), epsilon, 0, 2);"
   ]
  },
  {
   "cell_type": "code",
   "execution_count": 11,
   "id": "305154ac-fa72-4d14-9f9b-23aec95dddcf",
   "metadata": {
    "execution": {
     "iopub.execute_input": "2021-08-12T23:54:13Z",
     "iopub.status.busy": "2021-08-12T23:54:13Z",
     "iopub.status.idle": "2021-08-12T23:54:13Z",
     "shell.execute_reply": "2021-08-12T23:54:13Z"
    },
    "tags": []
   },
   "outputs": [
    {
     "data": {
      "text/latex": [
       "\\[\\tag{${\\it \\%o}_{18}$}e^{s\\,t}\\,x_{0}\\]"
      ],
      "text/plain": [
       "                                     s t\n",
       "(%o18)                             %e    x0"
      ],
      "text/x-maxima": [
       "%e^(s*t)*x0"
      ]
     },
     "execution_count": 11,
     "metadata": {},
     "output_type": "execute_result"
    },
    {
     "data": {
      "text/latex": [
       "\\[\\tag{${\\it \\%o}_{19}$}\\frac{2\\,D\\,\\left(e^{s\\,t}-1\\right)\\,e^{s\\,t}\\,x_{0}}{s}\\]"
      ],
      "text/plain": [
       "                                  s t        s t\n",
       "                           2 D (%e    - 1) %e    x0\n",
       "(%o19)                     ------------------------\n",
       "                                      s"
      ],
      "text/x-maxima": [
       "(2*D*(%e^(s*t)-1)*%e^(s*t)*x0)/s"
      ]
     },
     "execution_count": 11,
     "metadata": {},
     "output_type": "execute_result"
    },
    {
     "data": {
      "text/latex": [
       "\\[\\tag{${\\it \\%o}_{20}$}\\frac{6\\,D^2\\,\\left(e^{s\\,t}-1\\right)^2\\,e^{s\\,t}\\,x_{0}}{s^2}\\]"
      ],
      "text/plain": [
       "                             2    s t     2   s t\n",
       "                          6 D  (%e    - 1)  %e    x0\n",
       "(%o20)                    --------------------------\n",
       "                                       2\n",
       "                                      s"
      ],
      "text/x-maxima": [
       "(6*D^2*(%e^(s*t)-1)^2*%e^(s*t)*x0)/s^2"
      ]
     },
     "execution_count": 11,
     "metadata": {},
     "output_type": "execute_result"
    },
    {
     "data": {
      "text/latex": [
       "\\[\\tag{${\\it \\%o}_{21}$}\\frac{24\\,D^3\\,\\left(e^{s\\,t}-1\\right)^3\\,e^{s\\,t}\\,x_{0}}{s^3}\\]"
      ],
      "text/plain": [
       "                              3    s t     3   s t\n",
       "                          24 D  (%e    - 1)  %e    x0\n",
       "(%o21)                    ---------------------------\n",
       "                                       3\n",
       "                                      s"
      ],
      "text/x-maxima": [
       "(24*D^3*(%e^(s*t)-1)^3*%e^(s*t)*x0)/s^3"
      ]
     },
     "execution_count": 11,
     "metadata": {},
     "output_type": "execute_result"
    }
   ],
   "source": [
    "difcum1first : factor(taylor(epsilon * cumu(1, t / epsilon, x0 / epsilon, \n",
    "        D + s * epsilon / 2, D - s * epsilon / 2), epsilon, 0, 1));\n",
    "difcum2first : factor(taylor(epsilon^2 * cumu(2, t / epsilon, x0 / epsilon, \n",
    "        D + s * epsilon / 2, D - s * epsilon / 2), epsilon, 0, 1));\n",
    "difcum3first : factor(taylor(epsilon^3 * cumu(3, t / epsilon, x0 / epsilon, \n",
    "        D + s * epsilon / 2, D - s * epsilon / 2), epsilon, 0, 1));\n",
    "difcum4first : factor(taylor(epsilon^4 * cumu(4, t / epsilon, x0 / epsilon, \n",
    "        D + s * epsilon / 2, D - s * epsilon / 2), epsilon, 0, 1));"
   ]
  },
  {
   "cell_type": "code",
   "execution_count": 12,
   "id": "daeb1e48-a723-4780-8146-dc40c2745b1c",
   "metadata": {
    "execution": {
     "iopub.execute_input": "2021-08-12T23:54:17Z",
     "iopub.status.busy": "2021-08-12T23:54:17Z",
     "iopub.status.idle": "2021-08-12T23:54:17Z",
     "shell.execute_reply": "2021-08-12T23:54:17Z"
    },
    "tags": []
   },
   "outputs": [
    {
     "data": {
      "text/latex": [
       "\\[\\tag{${\\it \\%o}_{22}$}e^{s\\,t}\\,x_{0}\\]"
      ],
      "text/plain": [
       "                                     s t\n",
       "(%o22)                             %e    x0"
      ],
      "text/x-maxima": [
       "%e^(s*t)*x0"
      ]
     },
     "execution_count": 12,
     "metadata": {},
     "output_type": "execute_result"
    },
    {
     "data": {
      "text/latex": [
       "\\[\\tag{${\\it \\%o}_{23}$}\\frac{2\\,D\\,\\left(e^{s\\,t}-1\\right)\\,e^{s\\,t}\\,x_{0}}{s}\\]"
      ],
      "text/plain": [
       "                                  s t        s t\n",
       "                           2 D (%e    - 1) %e    x0\n",
       "(%o23)                     ------------------------\n",
       "                                      s"
      ],
      "text/x-maxima": [
       "(2*D*(%e^(s*t)-1)*%e^(s*t)*x0)/s"
      ]
     },
     "execution_count": 12,
     "metadata": {},
     "output_type": "execute_result"
    },
    {
     "data": {
      "text/latex": [
       "\\[\\tag{${\\it \\%o}_{24}$}\\frac{\\left(e^{s\\,t}-1\\right)\\,e^{s\\,t}\\,\\left(12\\,D^2\\,e^{s\\,t}-12\\,D^2\\right)\\,x_{0}}{2\\,s^2}\\]"
      ],
      "text/plain": [
       "                     s t        s t      2   s t       2\n",
       "                  (%e    - 1) %e    (12 D  %e    - 12 D ) x0\n",
       "(%o24)            ------------------------------------------\n",
       "                                        2\n",
       "                                     2 s"
      ],
      "text/x-maxima": [
       "((%e^(s*t)-1)*%e^(s*t)*(12*D^2*%e^(s*t)-12*D^2)*x0)/(2*s^2)"
      ]
     },
     "execution_count": 12,
     "metadata": {},
     "output_type": "execute_result"
    },
    {
     "data": {
      "text/latex": [
       "\\[\\tag{${\\it \\%o}_{25}$}\\frac{2\\,D\\,\\left(e^{s\\,t}-1\\right)\\,e^{s\\,t}\\,\\left(12\\,D^2\\,e^{2\\,s\\,t}-24\\,D^2\\,e^{s\\,t}+12\\,D^2\\right)\\,x_{0}}{s^3}\\]"
      ],
      "text/plain": [
       "               s t        s t      2   2 s t       2   s t       2\n",
       "        2 D (%e    - 1) %e    (12 D  %e      - 24 D  %e    + 12 D ) x0\n",
       "(%o25)  --------------------------------------------------------------\n",
       "                                       3\n",
       "                                      s"
      ],
      "text/x-maxima": [
       "(2*D*(%e^(s*t)-1)*%e^(s*t)*(12*D^2*%e^(2*s*t)-24*D^2*%e^(s*t)+12*D^2)*x0)/s^3"
      ]
     },
     "execution_count": 12,
     "metadata": {},
     "output_type": "execute_result"
    }
   ],
   "source": [
    "difcum1 : subst(0, epsilon, epsilon * cumu(1, t / epsilon, x0 / epsilon, \n",
    "        D + s * epsilon / 2, D - s * epsilon / 2));\n",
    "difcum2 : subst(0, epsilon, epsilon^2 * cumu(2, t / epsilon, x0 / epsilon, \n",
    "        D + s * epsilon / 2, D - s * epsilon / 2));\n",
    "difcum3 : subst(0, epsilon, epsilon^3 * cumu(3, t / epsilon, x0 / epsilon, \n",
    "        D + s * epsilon / 2, D - s * epsilon / 2));\n",
    "difcum4 : subst(0, epsilon, epsilon^4 * cumu(4, t / epsilon, x0 / epsilon, \n",
    "        D + s * epsilon / 2, D - s * epsilon / 2));"
   ]
  },
  {
   "cell_type": "markdown",
   "id": "b9d9ca3c-8427-4e30-ba24-c7f3e4253b1d",
   "metadata": {
    "tags": []
   },
   "source": [
    "## Second order terms"
   ]
  },
  {
   "cell_type": "code",
   "execution_count": 28,
   "id": "506ae8e4-1450-41cc-a032-69b2981eadc4",
   "metadata": {
    "execution": {
     "iopub.execute_input": "2021-08-13T00:28:46Z",
     "iopub.status.busy": "2021-08-13T00:28:46Z",
     "iopub.status.idle": "2021-08-13T00:28:46Z",
     "shell.execute_reply": "2021-08-13T00:28:46Z"
    },
    "tags": []
   },
   "outputs": [
    {
     "data": {
      "text/latex": [
       "\\[\\tag{${\\it \\%o}_{46}$}\\frac{\\left(e^{s\\,t}-1\\right)\\,e^{s\\,t}\\,\\left(e^{s\\,t}+1\\right)\\,x_{0}}{2}\\]"
      ],
      "text/plain": [
       "                          s t        s t    s t\n",
       "                       (%e    - 1) %e    (%e    + 1) x0\n",
       "(%o46)                 --------------------------------\n",
       "                                      2"
      ],
      "text/x-maxima": [
       "((%e^(s*t)-1)*%e^(s*t)*(%e^(s*t)+1)*x0)/2"
      ]
     },
     "execution_count": 28,
     "metadata": {},
     "output_type": "execute_result"
    }
   ],
   "source": [
    "factor(coeff(difcum3, epsilon, 2));"
   ]
  },
  {
   "cell_type": "code",
   "execution_count": 29,
   "id": "dea00b74-c206-4e8b-82a0-54287d501bcb",
   "metadata": {
    "execution": {
     "iopub.execute_input": "2021-08-13T00:28:48Z",
     "iopub.status.busy": "2021-08-13T00:28:48Z",
     "iopub.status.idle": "2021-08-13T00:28:48Z",
     "shell.execute_reply": "2021-08-13T00:28:48Z"
    },
    "tags": []
   },
   "outputs": [
    {
     "data": {
      "text/latex": [
       "\\[\\tag{${\\it \\%o}_{47}$}\\frac{2\\,D\\,\\left(e^{s\\,t}-1\\right)\\,e^{s\\,t}\\,\\left(3\\,e^{2\\,s\\,t}-2\\right)\\,x_{0}}{s}\\]"
      ],
      "text/plain": [
       "                          s t        s t      2 s t\n",
       "                   2 D (%e    - 1) %e    (3 %e      - 2) x0\n",
       "(%o47)             ----------------------------------------\n",
       "                                      s"
      ],
      "text/x-maxima": [
       "(2*D*(%e^(s*t)-1)*%e^(s*t)*(3*%e^(2*s*t)-2)*x0)/s"
      ]
     },
     "execution_count": 29,
     "metadata": {},
     "output_type": "execute_result"
    }
   ],
   "source": [
    "factor(coeff(difcum4, epsilon, 2));"
   ]
  },
  {
   "cell_type": "markdown",
   "id": "803d6f3a-07fb-4563-8822-fc2d10d31959",
   "metadata": {},
   "source": [
    "## Relations among terms"
   ]
  },
  {
   "cell_type": "code",
   "execution_count": 13,
   "id": "f8d154e7-d472-4fee-8142-d738c8b9ff2f",
   "metadata": {
    "execution": {
     "iopub.execute_input": "2021-08-12T23:54:21Z",
     "iopub.status.busy": "2021-08-12T23:54:21Z",
     "iopub.status.idle": "2021-08-12T23:54:21Z",
     "shell.execute_reply": "2021-08-12T23:54:21Z"
    },
    "tags": []
   },
   "outputs": [
    {
     "data": {
      "text/latex": [
       "\\[\\tag{${\\it \\%o}_{26}$}0\\]"
      ],
      "text/plain": [
       "(%o26)                                 0"
      ],
      "text/x-maxima": [
       "0"
      ]
     },
     "execution_count": 13,
     "metadata": {},
     "output_type": "execute_result"
    },
    {
     "data": {
      "text/latex": [
       "\\[\\tag{${\\it \\%o}_{27}$}0\\]"
      ],
      "text/plain": [
       "(%o27)                                 0"
      ],
      "text/x-maxima": [
       "0"
      ]
     },
     "execution_count": 13,
     "metadata": {},
     "output_type": "execute_result"
    }
   ],
   "source": [
    "factor(2 * difcum3 * difcum1 - 3 * difcum2^2);\n",
    "factor(difcum4 * difcum1^2 - 3 * difcum2^3 );"
   ]
  },
  {
   "cell_type": "markdown",
   "id": "d8835e5e-9a1e-45d7-963e-c5acf773bcaf",
   "metadata": {},
   "source": [
    "# Compute cumulants for inhomogeneous component of BID process"
   ]
  },
  {
   "cell_type": "markdown",
   "id": "e2dc5001-5241-4b00-af73-9d1d815275ef",
   "metadata": {
    "execution": {
     "iopub.execute_input": "2021-08-14T20:00:37Z",
     "iopub.status.busy": "2021-08-14T20:00:37Z",
     "iopub.status.idle": "2021-08-14T20:00:37Z",
     "shell.execute_reply": "2021-08-14T20:00:37Z"
    }
   },
   "source": [
    "Cumulant generating function for inhomogenous equation."
   ]
  },
  {
   "cell_type": "code",
   "execution_count": 19,
   "id": "3c290a24-63b4-4307-bc8f-9df3f11a9ca0",
   "metadata": {
    "execution": {
     "iopub.execute_input": "2021-08-14T20:00:47Z",
     "iopub.status.busy": "2021-08-14T20:00:47Z",
     "iopub.status.idle": "2021-08-14T20:00:47Z",
     "shell.execute_reply": "2021-08-14T20:00:47Z"
    }
   },
   "outputs": [
    {
     "data": {
      "text/latex": [
       "\\[\\tag{${\\it \\%o}_{18}$}\\frac{e^ {- \\left({\\it kd}-{\\it kb}\\right)\\,t }\\,\\left({\\it kb}-{\\it kd}\\,e^{\\left({\\it kd}-{\\it kb}\\right)\\,t}\\right)}{{\\it kb}-{\\it kd}}\\]"
      ],
      "text/plain": [
       "                      - (kd - kb) t            (kd - kb) t\n",
       "                    %e              (kb - kd %e           )\n",
       "(%o18)              ---------------------------------------\n",
       "                                    kb - kd"
      ],
      "text/x-maxima": [
       "(%e^-((kd-kb)*t)*(kb-kd*%e^((kd-kb)*t)))/(kb-kd)"
      ]
     },
     "execution_count": 19,
     "metadata": {},
     "output_type": "execute_result"
    },
    {
     "data": {
      "text/latex": [
       "\\[\\tag{${\\it \\%o}_{19}$}\\frac{{\\it kb}-{\\it kb}\\,e^{\\left({\\it kd}-{\\it kb}\\right)\\,t}}{{\\it kb}-{\\it kd}\\,e^{\\left({\\it kd}-{\\it kb}\\right)\\,t}}\\]"
      ],
      "text/plain": [
       "                                       (kd - kb) t\n",
       "                             kb - kb %e\n",
       "(%o19)                       ---------------------\n",
       "                                       (kd - kb) t\n",
       "                             kb - kd %e"
      ],
      "text/x-maxima": [
       "(kb-kb*%e^((kd-kb)*t))/(kb-kd*%e^((kd-kb)*t))"
      ]
     },
     "execution_count": 19,
     "metadata": {},
     "output_type": "execute_result"
    }
   ],
   "source": [
    "frac1 : (kb - kd * %e^(-(kb-kd)*t)) / ((kb - kd) * %e^(-(kb-kd)*t));\n",
    "frac2 : (kb - kb * %e^(-(kb-kd)*t)) / (kb - kd * %e^(-(kb-kd)*t));"
   ]
  },
  {
   "cell_type": "code",
   "execution_count": 20,
   "id": "9dca6c96-4410-4db6-b0de-a11f4beb3b32",
   "metadata": {
    "execution": {
     "iopub.execute_input": "2021-08-14T20:00:55Z",
     "iopub.status.busy": "2021-08-14T20:00:55Z",
     "iopub.status.idle": "2021-08-14T20:00:55Z",
     "shell.execute_reply": "2021-08-14T20:00:55Z"
    }
   },
   "outputs": [
    {
     "data": {
      "text/latex": [
       "\\[\\tag{${\\it \\%o}_{20}$}\\frac{e^ {- \\left({\\it kd}-{\\it kb}\\right)\\,t }\\,\\left({\\it kb}-{\\it kd}\\,e^{\\left({\\it kd}-{\\it kb}\\right)\\,t}\\right)\\,\\left(1-\\frac{\\left({\\it kb}-{\\it kb}\\,e^{\\left({\\it kd}-{\\it kb}\\right)\\,t}\\right)\\,e^{\\varepsilon\\,\\theta}}{{\\it kb}-{\\it kd}\\,e^{\\left({\\it kd}-{\\it kb}\\right)\\,t}}\\right)}{{\\it kb}-{\\it kd}}\\]"
      ],
      "text/plain": [
       "          - (kd - kb) t            (kd - kb) t\n",
       "(%o20) (%e              (kb - kd %e           )\n",
       "                                       (kd - kb) t    epsilon theta\n",
       "                            (kb - kb %e           ) %e\n",
       "                       (1 - ---------------------------------------))/(kb - kd)\n",
       "                                               (kd - kb) t\n",
       "                                     kb - kd %e"
      ],
      "text/x-maxima": [
       "(%e^-((kd-kb)*t)*(kb-kd*%e^((kd-kb)*t))\n",
       "                *(1-((kb-kb*%e^((kd-kb)*t))*%e^(epsilon*theta))\n",
       "                    /(kb-kd*%e^((kd-kb)*t))))\n",
       " /(kb-kd)"
      ]
     },
     "execution_count": 20,
     "metadata": {},
     "output_type": "execute_result"
    }
   ],
   "source": [
    "inhfrac : frac1 * (1 - frac2 * %e^(theta * epsilon));"
   ]
  },
  {
   "cell_type": "code",
   "execution_count": 21,
   "id": "5849ef4a-974b-49cb-82d7-c80d39d0053a",
   "metadata": {
    "execution": {
     "iopub.execute_input": "2021-08-14T20:01:04Z",
     "iopub.status.busy": "2021-08-14T20:01:04Z",
     "iopub.status.idle": "2021-08-14T20:01:04Z",
     "shell.execute_reply": "2021-08-14T20:01:04Z"
    }
   },
   "outputs": [
    {
     "data": {
      "text/latex": [
       "\\[\\tag{${\\it \\%o}_{21}$}\\frac{N\\,\\left(-\\left(D-\\frac{s}{2\\,N}\\right)\\,e^ {- s\\,\\tau }+\\frac{s}{2\\,N}+D\\right)\\,e^{s\\,\\tau}}{s}\\]"
      ],
      "text/plain": [
       "                             s     - s tau     s         s tau\n",
       "                 N ((- (D - ---) %e       ) + --- + D) %e\n",
       "                            2 N               2 N\n",
       "(%o21)           ---------------------------------------------\n",
       "                                       s"
      ],
      "text/x-maxima": [
       "(N*((-(D-s/(2*N))*%e^-(s*tau))+s/(2*N)+D)*%e^(s*tau))/s"
      ]
     },
     "execution_count": 21,
     "metadata": {},
     "output_type": "execute_result"
    },
    {
     "data": {
      "text/latex": [
       "\\[\\tag{${\\it \\%o}_{22}$}\\frac{-\\left(\\frac{s}{2\\,N}+D\\right)\\,e^ {- s\\,\\tau }+\\frac{s}{2\\,N}+D}{-\\left(D-\\frac{s}{2\\,N}\\right)\\,e^ {- s\\,\\tau }+\\frac{s}{2\\,N}+D}\\]"
      ],
      "text/plain": [
       "                            s         - s tau     s\n",
       "                       (- (--- + D) %e       ) + --- + D\n",
       "                           2 N                   2 N\n",
       "(%o22)                 ---------------------------------\n",
       "                                s     - s tau     s\n",
       "                       (- (D - ---) %e       ) + --- + D\n",
       "                               2 N               2 N"
      ],
      "text/x-maxima": [
       "((-(s/(2*N)+D)*%e^-(s*tau))+s/(2*N)+D)/((-(D-s/(2*N))*%e^-(s*tau))+s/(2*N)+D)"
      ]
     },
     "execution_count": 21,
     "metadata": {},
     "output_type": "execute_result"
    }
   ],
   "source": [
    "psubst([kb = D + s/(2*N), kd = D - s/(2*N), t = N*tau], frac1);\n",
    "psubst([kb = D + s/(2*N), kd = D - s/(2*N), t = N*tau], frac2);"
   ]
  },
  {
   "cell_type": "code",
   "execution_count": 22,
   "id": "038914cc-5a40-4144-ae56-85eaefe787a1",
   "metadata": {
    "execution": {
     "iopub.execute_input": "2021-08-14T20:01:11Z",
     "iopub.status.busy": "2021-08-14T20:01:11Z",
     "iopub.status.idle": "2021-08-14T20:01:11Z",
     "shell.execute_reply": "2021-08-14T20:01:11Z"
    }
   },
   "outputs": [
    {
     "data": {
      "text/latex": [
       "\\[\\tag{${\\it \\%o}_{23}$}\\frac{N\\,\\left(-\\left(D-\\frac{s}{2\\,N}\\right)\\,e^ {- s\\,\\tau }+\\frac{s}{2\\,N}+D\\right)\\,e^{s\\,\\tau}\\,\\left(1-\\frac{\\left(-\\left(\\frac{s}{2\\,N}+D\\right)\\,e^ {- s\\,\\tau }+\\frac{s}{2\\,N}+D\\right)\\,e^{\\varepsilon\\,\\theta}}{-\\left(D-\\frac{s}{2\\,N}\\right)\\,e^ {- s\\,\\tau }+\\frac{s}{2\\,N}+D}\\right)}{s}\\]"
      ],
      "text/plain": [
       "                    s     - s tau     s         s tau\n",
       "(%o23) (N ((- (D - ---) %e       ) + --- + D) %e\n",
       "                   2 N               2 N\n",
       "                              s         - s tau     s         epsilon theta\n",
       "                        ((- (--- + D) %e       ) + --- + D) %e\n",
       "                             2 N                   2 N\n",
       "                   (1 - ---------------------------------------------------))/s\n",
       "                                          s     - s tau     s\n",
       "                                 (- (D - ---) %e       ) + --- + D\n",
       "                                         2 N               2 N"
      ],
      "text/x-maxima": [
       "(N*((-(D-s/(2*N))*%e^-(s*tau))+s/(2*N)+D)*%e^(s*tau)\n",
       "  *(1-(((-(s/(2*N)+D)*%e^-(s*tau))+s/(2*N)+D)*%e^(epsilon*theta))\n",
       "      /((-(D-s/(2*N))*%e^-(s*tau))+s/(2*N)+D)))\n",
       " /s"
      ]
     },
     "execution_count": 22,
     "metadata": {},
     "output_type": "execute_result"
    }
   ],
   "source": [
    "psubst([kb = D + s/(2*N), kd = D - s/(2*N), t = N*tau], inhfrac);"
   ]
  },
  {
   "cell_type": "code",
   "execution_count": 23,
   "id": "2458b776-76f6-4ffb-8cca-018005ec68b5",
   "metadata": {
    "execution": {
     "iopub.execute_input": "2021-08-14T20:01:21Z",
     "iopub.status.busy": "2021-08-14T20:01:21Z",
     "iopub.status.idle": "2021-08-14T20:01:21Z",
     "shell.execute_reply": "2021-08-14T20:01:21Z"
    }
   },
   "outputs": [
    {
     "data": {
      "text/latex": [
       "\\[\\tag{${\\it \\%o}_{24}$}\\frac{M\\,\\log \\left(\\frac{\\left(-\\left(D-\\frac{\\varepsilon\\,s}{2}\\right)\\,e^ {- s\\,\\tau }+\\frac{\\varepsilon\\,s}{2}+D\\right)\\,e^{s\\,\\tau}\\,\\left(1-\\frac{\\left(-\\left(\\frac{\\varepsilon\\,s}{2}+D\\right)\\,e^ {- s\\,\\tau }+\\frac{\\varepsilon\\,s}{2}+D\\right)\\,e^{\\varepsilon\\,\\theta}}{-\\left(D-\\frac{\\varepsilon\\,s}{2}\\right)\\,e^ {- s\\,\\tau }+\\frac{\\varepsilon\\,s}{2}+D}\\right)}{\\varepsilon\\,s}\\right)}{\\frac{\\varepsilon\\,s}{2}+D}\\]"
      ],
      "text/plain": [
       "                        epsilon s    - s tau    epsilon s        s tau\n",
       "(%o24) (M log((((- (D - ---------) %e       ) + --------- + D) %e\n",
       "                            2                       2\n",
       "           epsilon s        - s tau    epsilon s        epsilon theta\n",
       "      ((- (--------- + D) %e       ) + --------- + D) %e\n",
       "               2                           2\n",
       " (1 - ---------------------------------------------------------------))\n",
       "                       epsilon s    - s tau    epsilon s\n",
       "               (- (D - ---------) %e       ) + --------- + D\n",
       "                           2                       2\n",
       "                epsilon s\n",
       "/(epsilon s)))/(--------- + D)\n",
       "                    2"
      ],
      "text/x-maxima": [
       "(M*log((((-(D-(epsilon*s)/2)*%e^-(s*tau))+(epsilon*s)/2+D)\n",
       "        *%e^(s*tau)\n",
       "        *(1-(((-((epsilon*s)/2+D)*%e^-(s*tau))+(epsilon*s)/2+D)\n",
       "            *%e^(epsilon*theta))\n",
       "            /((-(D-(epsilon*s)/2)*%e^-(s*tau))+(epsilon*s)/2+D)))\n",
       "        /(epsilon*s)))\n",
       " /((epsilon*s)/2+D)"
      ]
     },
     "execution_count": 23,
     "metadata": {},
     "output_type": "execute_result"
    }
   ],
   "source": [
    "inhgenf : psubst([kb = D + s * epsilon/2, kd = D - s * epsilon/2, \n",
    "         t = tau/epsilon], (M/kb) * log(inhfrac));"
   ]
  },
  {
   "cell_type": "code",
   "execution_count": 26,
   "id": "68b84ba1-b4ae-4131-ad58-7f0201a89df9",
   "metadata": {
    "execution": {
     "iopub.execute_input": "2021-08-14T20:01:43Z",
     "iopub.status.busy": "2021-08-14T20:01:43Z",
     "iopub.status.idle": "2021-08-14T20:01:43Z",
     "shell.execute_reply": "2021-08-14T20:01:43Z"
    },
    "tags": []
   },
   "outputs": [
    {
     "data": {
      "text/latex": [
       "\\[\\tag{${\\it \\%o}_{27}$}\\frac{\\varepsilon^2\\,\\left(D\\,M\\,s^3\\,\\left(\\theta\\,\\left(12\\,\\log \\left(\\left(D-D\\,e^{s\\,\\tau}\\right)\\,\\theta+s\\right)-12\\,\\log s-6\\right)+e^{s\\,\\tau}\\,\\theta\\,\\left(-12\\,\\log \\left(\\left(D-D\\,e^{s\\,\\tau}\\right)\\,\\theta+s\\right)+12\\,\\log s+6\\right)\\right)+D^2\\,M\\,s^2\\,\\left(e^{2\\,s\\,\\tau}\\,\\theta^2\\,\\left(6\\,\\log \\left(\\left(D-D\\,e^{s\\,\\tau}\\right)\\,\\theta+s\\right)-6\\,\\log s-9\\right)+\\theta^2\\,\\left(6\\,\\log \\left(\\left(D-D\\,e^{s\\,\\tau}\\right)\\,\\theta+s\\right)-6\\,\\log s-9\\right)+e^{s\\,\\tau}\\,\\theta^2\\,\\left(-12\\,\\log \\left(\\left(D-D\\,e^{s\\,\\tau}\\right)\\,\\theta+s\\right)+12\\,\\log s+18\\right)\\right)+M\\,s^4\\,\\left(6\\,\\log \\left(\\left(D-D\\,e^{s\\,\\tau}\\right)\\,\\theta+s\\right)-6\\,\\log s\\right)+D^4\\,M\\,\\left(e^{2\\,s\\,\\tau}\\,\\theta^4-2\\,e^{s\\,\\tau}\\,\\theta^4+\\theta^4\\right)+D^3\\,M\\,s\\,\\left(-6\\,e^{2\\,s\\,\\tau}\\,\\theta^3+8\\,e^{s\\,\\tau}\\,\\theta^3-2\\,\\theta^3\\right)\\right)}{D^5\\,\\left(24\\,e^{2\\,s\\,\\tau}\\,\\theta^2-48\\,e^{s\\,\\tau}\\,\\theta^2+24\\,\\theta^2\\right)+D^4\\,s\\,\\left(48\\,\\theta-48\\,e^{s\\,\\tau}\\,\\theta\\right)+24\\,D^3\\,s^2}-\\frac{\\varepsilon\\,\\left(D\\,M\\,s\\,\\left(\\theta\\,\\left(\\log \\left(\\left(D-D\\,e^{s\\,\\tau}\\right)\\,\\theta+s\\right)-\\log s-1\\right)+e^{s\\,\\tau}\\,\\theta\\,\\left(-\\log \\left(\\left(D-D\\,e^{s\\,\\tau}\\right)\\,\\theta+s\\right)+\\log s+1\\right)\\right)+M\\,s^2\\,\\left(\\log \\left(\\left(D-D\\,e^{s\\,\\tau}\\right)\\,\\theta+s\\right)-\\log s\\right)+D^2\\,M\\,\\left(e^{s\\,\\tau}\\,\\theta^2-\\theta^2\\right)\\right)}{D^3\\,\\left(2\\,\\theta-2\\,e^{s\\,\\tau}\\,\\theta\\right)+2\\,D^2\\,s}+\\frac{M\\,\\left(\\log \\left(\\left(D-D\\,e^{s\\,\\tau}\\right)\\,\\theta+s\\right)-\\log s\\right)}{D}\\]"
      ],
      "text/plain": [
       "               2       3                         s tau\n",
       "(%o27) (epsilon  (D M s  (theta (12 log((D - D %e     ) theta + s) - 12 log(s)\n",
       "          s tau                           s tau\n",
       " - 6) + %e      theta ((- 12 log((D - D %e     ) theta + s)) + 12 log(s) + 6))\n",
       "    2    2    2 s tau      2                 s tau\n",
       " + D  M s  (%e        theta  (6 log((D - D %e     ) theta + s) - 6 log(s) - 9)\n",
       "        2                 s tau\n",
       " + theta  (6 log((D - D %e     ) theta + s) - 6 log(s) - 9)\n",
       "     s tau      2                     s tau\n",
       " + %e      theta  ((- 12 log((D - D %e     ) theta + s)) + 12 log(s) + 18))\n",
       "      4                 s tau\n",
       " + M s  (6 log((D - D %e     ) theta + s) - 6 log(s))\n",
       "    4      2 s tau      4       s tau      4        4\n",
       " + D  M (%e        theta  - 2 %e      theta  + theta )\n",
       "    3             2 s tau      3        s tau      3          3\n",
       " + D  M s ((- 6 %e        theta ) + 8 %e      theta  - 2 theta )))\n",
       "   5       2 s tau      2        s tau      2           2\n",
       "/(D  (24 %e        theta  - 48 %e      theta  + 24 theta )\n",
       "    4                    s tau              3  2\n",
       " + D  s (48 theta - 48 %e      theta) + 24 D  s )\n",
       "                                        s tau\n",
       " - (epsilon (D M s (theta (log((D - D %e     ) theta + s) - log(s) - 1)\n",
       "     s tau                        s tau\n",
       " + %e      theta ((- log((D - D %e     ) theta + s)) + log(s) + 1))\n",
       "      2               s tau\n",
       " + M s  (log((D - D %e     ) theta + s) - log(s))\n",
       "    2      s tau      2        2      3                s tau             2\n",
       " + D  M (%e      theta  - theta )))/(D  (2 theta - 2 %e      theta) + 2 D  s)\n",
       "                   s tau\n",
       "   M (log((D - D %e     ) theta + s) - log(s))\n",
       " + -------------------------------------------\n",
       "                        D"
      ],
      "text/x-maxima": [
       "(epsilon^2*(D*M*s^3\n",
       "             *(theta*(12*log((D-D*%e^(s*tau))*theta+s)-12*log(s)-6)\n",
       "              +%e^(s*tau)*theta\n",
       "                         *((-12*log((D-D*%e^(s*tau))*theta+s))+12*log(s)+6))\n",
       "           +D^2*M*s^2\n",
       "               *(%e^(2*s*tau)*theta^2\n",
       "                             *(6*log((D-D*%e^(s*tau))*theta+s)-6*log(s)-9)\n",
       "                +theta^2*(6*log((D-D*%e^(s*tau))*theta+s)-6*log(s)-9)\n",
       "                +%e^(s*tau)*theta^2\n",
       "                           *((-12*log((D-D*%e^(s*tau))*theta+s))\n",
       "                            +12*log(s)+18))\n",
       "           +M*s^4*(6*log((D-D*%e^(s*tau))*theta+s)-6*log(s))\n",
       "           +D^4*M*(%e^(2*s*tau)*theta^4-2*%e^(s*tau)*theta^4+theta^4)\n",
       "           +D^3*M*s\n",
       "               *((-6*%e^(2*s*tau)*theta^3)+8*%e^(s*tau)*theta^3-2*theta^3)))\n",
       " /(D^5*(24*%e^(2*s*tau)*theta^2-48*%e^(s*tau)*theta^2+24*theta^2)\n",
       "  +D^4*s*(48*theta-48*%e^(s*tau)*theta)+24*D^3*s^2)\n",
       " -(epsilon*(D*M*s\n",
       "             *(theta*(log((D-D*%e^(s*tau))*theta+s)-log(s)-1)\n",
       "              +%e^(s*tau)*theta*((-log((D-D*%e^(s*tau))*theta+s))+log(s)+1))\n",
       "           +M*s^2*(log((D-D*%e^(s*tau))*theta+s)-log(s))\n",
       "           +D^2*M*(%e^(s*tau)*theta^2-theta^2)))\n",
       "  /(D^3*(2*theta-2*%e^(s*tau)*theta)+2*D^2*s)\n",
       " +(M*(log((D-D*%e^(s*tau))*theta+s)-log(s)))/D"
      ]
     },
     "execution_count": 26,
     "metadata": {},
     "output_type": "execute_result"
    }
   ],
   "source": [
    "inhgenser : taylor(psubst([kb = D + s * epsilon/2, kd = D - s * epsilon/2, \n",
    "         t = tau/epsilon], (M/kb) * log(inhfrac)), epsilon, 0, 2);"
   ]
  },
  {
   "cell_type": "code",
   "execution_count": 27,
   "id": "63927a20-01a2-478c-a2bc-0f2090892889",
   "metadata": {
    "execution": {
     "iopub.execute_input": "2021-08-14T20:02:06Z",
     "iopub.status.busy": "2021-08-14T20:02:06Z",
     "iopub.status.idle": "2021-08-14T20:02:06Z",
     "shell.execute_reply": "2021-08-14T20:02:06Z"
    }
   },
   "outputs": [
    {
     "data": {
      "text/latex": [
       "\\[\\tag{${\\it \\%o}_{28}$}\\frac{M\\,\\log \\left(-\\frac{\\left(D\\,e^{s\\,\\tau}-D\\right)\\,\\theta-s}{s}\\right)}{D}\\]"
      ],
      "text/plain": [
       "                                   s tau\n",
       "                              (D %e      - D) theta - s\n",
       "                      M log(- -------------------------)\n",
       "                                          s\n",
       "(%o28)                ----------------------------------\n",
       "                                      D"
      ],
      "text/x-maxima": [
       "(M*log(-((D*%e^(s*tau)-D)*theta-s)/s))/D"
      ]
     },
     "execution_count": 27,
     "metadata": {},
     "output_type": "execute_result"
    }
   ],
   "source": [
    "logcontract(coeff(inhgenser, epsilon, 0));"
   ]
  },
  {
   "cell_type": "code",
   "execution_count": 28,
   "id": "2f5c9400-c3b1-4713-b933-6c1dd7470934",
   "metadata": {
    "execution": {
     "iopub.execute_input": "2021-08-14T20:02:14Z",
     "iopub.status.busy": "2021-08-14T20:02:14Z",
     "iopub.status.idle": "2021-08-14T20:02:14Z",
     "shell.execute_reply": "2021-08-14T20:02:14Z"
    }
   },
   "outputs": [
    {
     "data": {
      "text/latex": [
       "\\[\\tag{${\\it \\%o}_{29}$}\\frac{\\theta\\,\\left(D\\,M\\,s\\,e^{s\\,\\tau}\\,\\left(\\log \\left(-\\frac{s}{\\left(D\\,e^{s\\,\\tau}-D\\right)\\,\\theta-s}\\right)+1\\right)+D\\,M\\,s\\,\\left(\\log \\left(-\\frac{\\left(D\\,e^{s\\,\\tau}-D\\right)\\,\\theta-s}{s}\\right)-1\\right)\\right)+M\\,s^2\\,\\log \\left(-\\frac{\\left(D\\,e^{s\\,\\tau}-D\\right)\\,\\theta-s}{s}\\right)+\\left(D^2\\,M\\,e^{s\\,\\tau}-D^2\\,M\\right)\\,\\theta^2}{\\left(2\\,D^3\\,e^{s\\,\\tau}-2\\,D^3\\right)\\,\\theta-2\\,D^2\\,s}\\]"
      ],
      "text/plain": [
       "                       s tau                    s\n",
       "(%o29) (theta (D M s %e      (log(- -------------------------) + 1)\n",
       "                                         s tau\n",
       "                                    (D %e      - D) theta - s\n",
       "                     s tau\n",
       "                (D %e      - D) theta - s\n",
       " + D M s (log(- -------------------------) - 1))\n",
       "                            s\n",
       "                   s tau\n",
       "      2       (D %e      - D) theta - s      2     s tau    2         2\n",
       " + M s  log(- -------------------------) + (D  M %e      - D  M) theta )\n",
       "                          s\n",
       "      3   s tau      3             2\n",
       "/((2 D  %e      - 2 D ) theta - 2 D  s)"
      ],
      "text/x-maxima": [
       "(theta*(D*M*s*%e^(s*tau)*(log(-s/((D*%e^(s*tau)-D)*theta-s))+1)\n",
       "       +D*M*s*(log(-((D*%e^(s*tau)-D)*theta-s)/s)-1))\n",
       " +M*s^2*log(-((D*%e^(s*tau)-D)*theta-s)/s)+(D^2*M*%e^(s*tau)-D^2*M)*theta^2)\n",
       " /((2*D^3*%e^(s*tau)-2*D^3)*theta-2*D^2*s)"
      ]
     },
     "execution_count": 28,
     "metadata": {},
     "output_type": "execute_result"
    }
   ],
   "source": [
    "logcontract(coeff(inhgenser, epsilon, 1));"
   ]
  },
  {
   "cell_type": "code",
   "execution_count": 29,
   "id": "14c591e4-cbb1-43b0-a89a-102db5c4531d",
   "metadata": {
    "execution": {
     "iopub.execute_input": "2021-08-14T20:02:24Z",
     "iopub.status.busy": "2021-08-14T20:02:24Z",
     "iopub.status.idle": "2021-08-14T20:02:24Z",
     "shell.execute_reply": "2021-08-14T20:02:24Z"
    }
   },
   "outputs": [
    {
     "data": {
      "text/latex": [
       "\\[\\tag{${\\it \\%o}_{30}$}\\frac{D\\,M\\,s\\,e^{s\\,\\tau}\\,\\theta\\,\\log \\left(-\\frac{s}{D\\,e^{s\\,\\tau}\\,\\theta-D\\,\\theta-s}\\right)}{2\\,D^3\\,e^{s\\,\\tau}\\,\\theta-2\\,D^3\\,\\theta-2\\,D^2\\,s}+\\frac{D\\,M\\,s\\,\\theta\\,\\log \\left(-\\frac{D\\,e^{s\\,\\tau}\\,\\theta}{s}+\\frac{D\\,\\theta}{s}+1\\right)}{2\\,D^3\\,e^{s\\,\\tau}\\,\\theta-2\\,D^3\\,\\theta-2\\,D^2\\,s}+\\frac{M\\,s^2\\,\\log \\left(-\\frac{D\\,e^{s\\,\\tau}\\,\\theta}{s}+\\frac{D\\,\\theta}{s}+1\\right)}{2\\,D^3\\,e^{s\\,\\tau}\\,\\theta-2\\,D^3\\,\\theta-2\\,D^2\\,s}+\\frac{D^2\\,M\\,e^{s\\,\\tau}\\,\\theta^2}{2\\,D^3\\,e^{s\\,\\tau}\\,\\theta-2\\,D^3\\,\\theta-2\\,D^2\\,s}-\\frac{D^2\\,M\\,\\theta^2}{2\\,D^3\\,e^{s\\,\\tau}\\,\\theta-2\\,D^3\\,\\theta-2\\,D^2\\,s}+\\frac{D\\,M\\,s\\,e^{s\\,\\tau}\\,\\theta}{2\\,D^3\\,e^{s\\,\\tau}\\,\\theta-2\\,D^3\\,\\theta-2\\,D^2\\,s}-\\frac{D\\,M\\,s\\,\\theta}{2\\,D^3\\,e^{s\\,\\tau}\\,\\theta-2\\,D^3\\,\\theta-2\\,D^2\\,s}\\]"
      ],
      "text/plain": [
       "               s tau                           s\n",
       "       D M s %e      theta log(- -----------------------------)\n",
       "                                     s tau\n",
       "                                 D %e      theta - D theta - s\n",
       "(%o30) --------------------------------------------------------\n",
       "                  3   s tau            3            2\n",
       "               2 D  %e      theta - 2 D  theta - 2 D  s\n",
       "                          s tau\n",
       "                      D %e      theta    D theta\n",
       "   D M s theta log((- ---------------) + ------- + 1)\n",
       "                             s              s\n",
       " + --------------------------------------------------\n",
       "           3   s tau            3            2\n",
       "        2 D  %e      theta - 2 D  theta - 2 D  s\n",
       "                   s tau\n",
       "      2        D %e      theta    D theta\n",
       "   M s  log((- ---------------) + ------- + 1)\n",
       "                      s              s\n",
       " + -------------------------------------------\n",
       "       3   s tau            3            2\n",
       "    2 D  %e      theta - 2 D  theta - 2 D  s\n",
       "              2     s tau      2\n",
       "             D  M %e      theta\n",
       " + ----------------------------------------\n",
       "      3   s tau            3            2\n",
       "   2 D  %e      theta - 2 D  theta - 2 D  s\n",
       "                  2        2\n",
       "                 D  M theta\n",
       " - ----------------------------------------\n",
       "      3   s tau            3            2\n",
       "   2 D  %e      theta - 2 D  theta - 2 D  s\n",
       "                     s tau\n",
       "             D M s %e      theta\n",
       " + ----------------------------------------\n",
       "      3   s tau            3            2\n",
       "   2 D  %e      theta - 2 D  theta - 2 D  s\n",
       "                 D M s theta\n",
       " - ----------------------------------------\n",
       "      3   s tau            3            2\n",
       "   2 D  %e      theta - 2 D  theta - 2 D  s"
      ],
      "text/x-maxima": [
       "(D*M*s*%e^(s*tau)*theta*log(-s/(D*%e^(s*tau)*theta-D*theta-s)))\n",
       " /(2*D^3*%e^(s*tau)*theta-2*D^3*theta-2*D^2*s)\n",
       " +(D*M*s*theta*log((-(D*%e^(s*tau)*theta)/s)+(D*theta)/s+1))\n",
       "  /(2*D^3*%e^(s*tau)*theta-2*D^3*theta-2*D^2*s)\n",
       " +(M*s^2*log((-(D*%e^(s*tau)*theta)/s)+(D*theta)/s+1))\n",
       "  /(2*D^3*%e^(s*tau)*theta-2*D^3*theta-2*D^2*s)\n",
       " +(D^2*M*%e^(s*tau)*theta^2)/(2*D^3*%e^(s*tau)*theta-2*D^3*theta-2*D^2*s)\n",
       " -(D^2*M*theta^2)/(2*D^3*%e^(s*tau)*theta-2*D^3*theta-2*D^2*s)\n",
       " +(D*M*s*%e^(s*tau)*theta)/(2*D^3*%e^(s*tau)*theta-2*D^3*theta-2*D^2*s)\n",
       " -(D*M*s*theta)/(2*D^3*%e^(s*tau)*theta-2*D^3*theta-2*D^2*s)"
      ]
     },
     "execution_count": 29,
     "metadata": {},
     "output_type": "execute_result"
    }
   ],
   "source": [
    "expand(logcontract(coeff(inhgenser, epsilon, 1)));"
   ]
  },
  {
   "cell_type": "code",
   "execution_count": 30,
   "id": "534e7181-54f3-4c45-ae2a-e25d3cb853e3",
   "metadata": {
    "execution": {
     "iopub.execute_input": "2021-08-14T20:02:51Z",
     "iopub.status.busy": "2021-08-14T20:02:51Z",
     "iopub.status.idle": "2021-08-14T20:02:51Z",
     "shell.execute_reply": "2021-08-14T20:02:51Z"
    },
    "tags": []
   },
   "outputs": [
    {
     "data": {
      "text/latex": [
       "\\[\\tag{${\\it \\%o}_{31}$}\\frac{D\\,M\\,s\\,e^{s\\,\\tau}\\,\\theta\\,\\log \\left(-\\frac{s}{D\\,e^{s\\,\\tau}\\,\\theta-D\\,\\theta-s}\\right)}{2\\,D^3\\,e^{s\\,\\tau}\\,\\theta-2\\,D^3\\,\\theta-2\\,D^2\\,s}+\\frac{D\\,M\\,s\\,\\theta\\,\\log \\left(-\\frac{D\\,e^{s\\,\\tau}\\,\\theta}{s}+\\frac{D\\,\\theta}{s}+1\\right)}{2\\,D^3\\,e^{s\\,\\tau}\\,\\theta-2\\,D^3\\,\\theta-2\\,D^2\\,s}+\\frac{M\\,s^2\\,\\log \\left(-\\frac{D\\,e^{s\\,\\tau}\\,\\theta}{s}+\\frac{D\\,\\theta}{s}+1\\right)}{2\\,D^3\\,e^{s\\,\\tau}\\,\\theta-2\\,D^3\\,\\theta-2\\,D^2\\,s}\\]"
      ],
      "text/plain": [
       "               s tau                           s\n",
       "       D M s %e      theta log(- -----------------------------)\n",
       "                                     s tau\n",
       "                                 D %e      theta - D theta - s\n",
       "(%o31) --------------------------------------------------------\n",
       "                  3   s tau            3            2\n",
       "               2 D  %e      theta - 2 D  theta - 2 D  s\n",
       "                          s tau\n",
       "                      D %e      theta    D theta\n",
       "   D M s theta log((- ---------------) + ------- + 1)\n",
       "                             s              s\n",
       " + --------------------------------------------------\n",
       "           3   s tau            3            2\n",
       "        2 D  %e      theta - 2 D  theta - 2 D  s\n",
       "                   s tau\n",
       "      2        D %e      theta    D theta\n",
       "   M s  log((- ---------------) + ------- + 1)\n",
       "                      s              s\n",
       " + -------------------------------------------\n",
       "       3   s tau            3            2\n",
       "    2 D  %e      theta - 2 D  theta - 2 D  s"
      ],
      "text/x-maxima": [
       "(D*M*s*%e^(s*tau)*theta*log(-s/(D*%e^(s*tau)*theta-D*theta-s)))\n",
       " /(2*D^3*%e^(s*tau)*theta-2*D^3*theta-2*D^2*s)\n",
       " +(D*M*s*theta*log((-(D*%e^(s*tau)*theta)/s)+(D*theta)/s+1))\n",
       "  /(2*D^3*%e^(s*tau)*theta-2*D^3*theta-2*D^2*s)\n",
       " +(M*s^2*log((-(D*%e^(s*tau)*theta)/s)+(D*theta)/s+1))\n",
       "  /(2*D^3*%e^(s*tau)*theta-2*D^3*theta-2*D^2*s)"
      ]
     },
     "execution_count": 30,
     "metadata": {},
     "output_type": "execute_result"
    },
    {
     "data": {
      "text/latex": [
       "\\[\\tag{${\\it \\%o}_{32}$}\\frac{D^2\\,M\\,e^{s\\,\\tau}\\,\\theta^2}{2\\,D^3\\,e^{s\\,\\tau}\\,\\theta-2\\,D^3\\,\\theta-2\\,D^2\\,s}-\\frac{D^2\\,M\\,\\theta^2}{2\\,D^3\\,e^{s\\,\\tau}\\,\\theta-2\\,D^3\\,\\theta-2\\,D^2\\,s}+\\frac{D\\,M\\,s\\,e^{s\\,\\tau}\\,\\theta}{2\\,D^3\\,e^{s\\,\\tau}\\,\\theta-2\\,D^3\\,\\theta-2\\,D^2\\,s}-\\frac{D\\,M\\,s\\,\\theta}{2\\,D^3\\,e^{s\\,\\tau}\\,\\theta-2\\,D^3\\,\\theta-2\\,D^2\\,s}\\]"
      ],
      "text/plain": [
       "                  2     s tau      2\n",
       "                 D  M %e      theta\n",
       "(%o32) ----------------------------------------\n",
       "          3   s tau            3            2\n",
       "       2 D  %e      theta - 2 D  theta - 2 D  s\n",
       "                  2        2\n",
       "                 D  M theta\n",
       " - ----------------------------------------\n",
       "      3   s tau            3            2\n",
       "   2 D  %e      theta - 2 D  theta - 2 D  s\n",
       "                     s tau\n",
       "             D M s %e      theta\n",
       " + ----------------------------------------\n",
       "      3   s tau            3            2\n",
       "   2 D  %e      theta - 2 D  theta - 2 D  s\n",
       "                 D M s theta\n",
       " - ----------------------------------------\n",
       "      3   s tau            3            2\n",
       "   2 D  %e      theta - 2 D  theta - 2 D  s"
      ],
      "text/x-maxima": [
       "(D^2*M*%e^(s*tau)*theta^2)/(2*D^3*%e^(s*tau)*theta-2*D^3*theta-2*D^2*s)\n",
       " -(D^2*M*theta^2)/(2*D^3*%e^(s*tau)*theta-2*D^3*theta-2*D^2*s)\n",
       " +(D*M*s*%e^(s*tau)*theta)/(2*D^3*%e^(s*tau)*theta-2*D^3*theta-2*D^2*s)\n",
       " -(D*M*s*theta)/(2*D^3*%e^(s*tau)*theta-2*D^3*theta-2*D^2*s)"
      ]
     },
     "execution_count": 30,
     "metadata": {},
     "output_type": "execute_result"
    }
   ],
   "source": [
    "piece1 : (D*M*s*%e^(s*tau)*theta*log(-s/(D*%e^(s*tau)*theta-D*theta-s)))/(2*D^3*%e^(s*tau)*theta-2*D^3*theta-2*D^2*s)+(D*M*s*theta*log(-(D*%e^(s*tau)*theta)/s+(D*theta)/s+1))/(2*D^3*%e^(s*tau)*theta-2*D^3*theta-2*D^2*s)+(M*s^2*log(-(D*%e^(s*tau)*theta)/s+(D*theta)/s+1))/(2*D^3*%e^(s*tau)*theta-2*D^3*theta-2*D^2*s);\n",
    "piece2 : (D^2*M*%e^(s*tau)*theta^2)/(2*D^3*%e^(s*tau)*theta-2*D^3*theta-2*D^2*s)-(D^2*M*theta^2)/(2*D^3*%e^(s*tau)*theta-2*D^3*theta-2*D^2*s)+(D*M*s*%e^(s*tau)*theta)/(2*D^3*%e^(s*tau)*theta-2*D^3*theta-2*D^2*s)-(D*M*s*theta)/(2*D^3*%e^(s*tau)*theta-2*D^3*theta-2*D^2*s);"
   ]
  },
  {
   "cell_type": "code",
   "execution_count": 31,
   "id": "d481da1a-5a11-47a1-8609-e193d7cf1895",
   "metadata": {
    "execution": {
     "iopub.execute_input": "2021-08-14T20:03:06Z",
     "iopub.status.busy": "2021-08-14T20:03:06Z",
     "iopub.status.idle": "2021-08-14T20:03:06Z",
     "shell.execute_reply": "2021-08-14T20:03:06Z"
    }
   },
   "outputs": [
    {
     "data": {
      "text/latex": [
       "\\[\\tag{${\\it \\%o}_{33}$}\\frac{M\\,s\\,\\left(D\\,e^{s\\,\\tau}\\,\\theta\\,\\log \\left(-\\frac{s}{\\left(D\\,e^{s\\,\\tau}-D\\right)\\,\\theta-s}\\right)+D\\,\\theta\\,\\log \\left(-\\frac{\\left(D\\,e^{s\\,\\tau}-D\\right)\\,\\theta-s}{s}\\right)+s\\,\\log \\left(-\\frac{\\left(D\\,e^{s\\,\\tau}-D\\right)\\,\\theta-s}{s}\\right)\\right)}{2\\,D^2\\,\\left(D\\,e^{s\\,\\tau}\\,\\theta-D\\,\\theta-s\\right)}\\]"
      ],
      "text/plain": [
       "                 s tau                         s\n",
       "(%o33) (M s (D %e      theta log(- -------------------------)\n",
       "                                        s tau\n",
       "                                   (D %e      - D) theta - s\n",
       "                      s tau\n",
       "                 (D %e      - D) theta - s\n",
       " + D theta log(- -------------------------)\n",
       "                             s\n",
       "                s tau\n",
       "           (D %e      - D) theta - s        2      s tau\n",
       " + s log(- -------------------------)))/(2 D  (D %e      theta - D theta - s))\n",
       "                       s"
      ],
      "text/x-maxima": [
       "(M*s\n",
       "  *(D*%e^(s*tau)*theta*log(-s/((D*%e^(s*tau)-D)*theta-s))\n",
       "   +D*theta*log(-((D*%e^(s*tau)-D)*theta-s)/s)\n",
       "   +s*log(-((D*%e^(s*tau)-D)*theta-s)/s)))\n",
       " /(2*D^2*(D*%e^(s*tau)*theta-D*theta-s))"
      ]
     },
     "execution_count": 31,
     "metadata": {},
     "output_type": "execute_result"
    }
   ],
   "source": [
    "factor(piece1);"
   ]
  },
  {
   "cell_type": "code",
   "execution_count": 32,
   "id": "c4a090fa-9334-4933-8529-be506a862d2b",
   "metadata": {
    "execution": {
     "iopub.execute_input": "2021-08-14T20:03:15Z",
     "iopub.status.busy": "2021-08-14T20:03:15Z",
     "iopub.status.idle": "2021-08-14T20:03:15Z",
     "shell.execute_reply": "2021-08-14T20:03:15Z"
    }
   },
   "outputs": [
    {
     "data": {
      "text/latex": [
       "\\[\\tag{${\\it \\%o}_{34}$}\\frac{M\\,\\left(e^{s\\,\\tau}-1\\right)\\,\\theta\\,\\left(D\\,\\theta+s\\right)}{2\\,D\\,\\left(D\\,e^{s\\,\\tau}\\,\\theta-D\\,\\theta-s\\right)}\\]"
      ],
      "text/plain": [
       "                           s tau\n",
       "                      M (%e      - 1) theta (D theta + s)\n",
       "(%o34)                -----------------------------------\n",
       "                               s tau\n",
       "                      2 D (D %e      theta - D theta - s)"
      ],
      "text/x-maxima": [
       "(M*(%e^(s*tau)-1)*theta*(D*theta+s))/(2*D*(D*%e^(s*tau)*theta-D*theta-s))"
      ]
     },
     "execution_count": 32,
     "metadata": {},
     "output_type": "execute_result"
    }
   ],
   "source": [
    "factor(piece2);"
   ]
  },
  {
   "cell_type": "code",
   "execution_count": 33,
   "id": "aad1ddf5-efb5-4418-81ba-14b249bc98d1",
   "metadata": {
    "execution": {
     "iopub.execute_input": "2021-08-14T20:03:26Z",
     "iopub.status.busy": "2021-08-14T20:03:26Z",
     "iopub.status.idle": "2021-08-14T20:03:26Z",
     "shell.execute_reply": "2021-08-14T20:03:26Z"
    }
   },
   "outputs": [
    {
     "data": {
      "text/latex": [
       "\\[\\tag{${\\it \\%o}_{35}$}\\frac{M\\,s\\,\\left(-D\\,e^{s\\,\\tau}\\,\\theta+D\\,\\theta+s\\right)}{2\\,D^2\\,\\left(D\\,e^{s\\,\\tau}\\,\\theta-D\\,\\theta-s\\right)}\\]"
      ],
      "text/plain": [
       "                                s tau\n",
       "                    M s ((- D %e      theta) + D theta + s)\n",
       "(%o35)              ---------------------------------------\n",
       "                        2      s tau\n",
       "                     2 D  (D %e      theta - D theta - s)"
      ],
      "text/x-maxima": [
       "(M*s*((-D*%e^(s*tau)*theta)+D*theta+s))/(2*D^2*(D*%e^(s*tau)*theta-D*theta-s))"
      ]
     },
     "execution_count": 33,
     "metadata": {},
     "output_type": "execute_result"
    }
   ],
   "source": [
    "(M*s/(2*D^2*(D*%e^(s*tau)*theta-D*theta-s))) *\n",
    "(- D * %e^(s*\\tau) * theta + D*theta + s);"
   ]
  },
  {
   "cell_type": "code",
   "execution_count": 34,
   "id": "6a75bdbd-0819-4db6-a6af-a071bd837ad1",
   "metadata": {
    "execution": {
     "iopub.execute_input": "2021-08-14T20:03:38Z",
     "iopub.status.busy": "2021-08-14T20:03:38Z",
     "iopub.status.idle": "2021-08-14T20:03:38Z",
     "shell.execute_reply": "2021-08-14T20:03:38Z"
    }
   },
   "outputs": [
    {
     "data": {
      "text/latex": [
       "\\[\\tag{${\\it \\%o}_{36}$}-\\frac{M\\,s}{2\\,D^2}\\]"
      ],
      "text/plain": [
       "                                      M s\n",
       "(%o36)                              - ----\n",
       "                                         2\n",
       "                                      2 D"
      ],
      "text/x-maxima": [
       "-(M*s)/(2*D^2)"
      ]
     },
     "execution_count": 34,
     "metadata": {},
     "output_type": "execute_result"
    }
   ],
   "source": [
    "factor((M*s/(2*D^2*(D*%e^(s*tau)*theta-D*theta-s))) *\n",
    "(- D * %e^(s*\\tau) * theta + D*theta + s));"
   ]
  },
  {
   "cell_type": "code",
   "execution_count": 35,
   "id": "91b3eb53-b14e-4c6e-8d93-1aae8190116a",
   "metadata": {
    "execution": {
     "iopub.execute_input": "2021-08-14T20:03:46Z",
     "iopub.status.busy": "2021-08-14T20:03:46Z",
     "iopub.status.idle": "2021-08-14T20:03:46Z",
     "shell.execute_reply": "2021-08-14T20:03:46Z"
    }
   },
   "outputs": [
    {
     "data": {
      "text/latex": [
       "\\[\\tag{${\\it \\%o}_{37}$}-\\frac{3\\,D\\,M\\,\\varepsilon^2\\,e^{4\\,s\\,\\tau}\\,\\theta^4}{16\\,s^2}-\\frac{3\\,D^2\\,M\\,\\varepsilon\\,e^{4\\,s\\,\\tau}\\,\\theta^4}{8\\,s^3}-\\frac{D^3\\,M\\,e^{4\\,s\\,\\tau}\\,\\theta^4}{4\\,s^4}+\\frac{D\\,M\\,\\varepsilon^2\\,e^{3\\,s\\,\\tau}\\,\\theta^4}{4\\,s^2}+\\frac{D^2\\,M\\,\\varepsilon\\,e^{3\\,s\\,\\tau}\\,\\theta^4}{s^3}+\\frac{D^3\\,M\\,e^{3\\,s\\,\\tau}\\,\\theta^4}{s^4}+\\frac{D\\,M\\,\\varepsilon^2\\,e^{2\\,s\\,\\tau}\\,\\theta^4}{12\\,s^2}-\\frac{3\\,D^2\\,M\\,\\varepsilon\\,e^{2\\,s\\,\\tau}\\,\\theta^4}{4\\,s^3}-\\frac{3\\,D^3\\,M\\,e^{2\\,s\\,\\tau}\\,\\theta^4}{2\\,s^4}-\\frac{D\\,M\\,\\varepsilon^2\\,e^{s\\,\\tau}\\,\\theta^4}{6\\,s^2}+\\frac{D^3\\,M\\,e^{s\\,\\tau}\\,\\theta^4}{s^4}+\\frac{D\\,M\\,\\varepsilon^2\\,\\theta^4}{48\\,s^2}+\\frac{D^2\\,M\\,\\varepsilon\\,\\theta^4}{8\\,s^3}-\\frac{D^3\\,M\\,\\theta^4}{4\\,s^4}-\\frac{M\\,\\varepsilon^2\\,e^{3\\,s\\,\\tau}\\,\\theta^3}{12\\,s}-\\frac{D\\,M\\,\\varepsilon\\,e^{3\\,s\\,\\tau}\\,\\theta^3}{3\\,s^2}-\\frac{D^2\\,M\\,e^{3\\,s\\,\\tau}\\,\\theta^3}{3\\,s^3}+\\frac{D\\,M\\,\\varepsilon\\,e^{2\\,s\\,\\tau}\\,\\theta^3}{2\\,s^2}+\\frac{D^2\\,M\\,e^{2\\,s\\,\\tau}\\,\\theta^3}{s^3}+\\frac{M\\,\\varepsilon^2\\,e^{s\\,\\tau}\\,\\theta^3}{12\\,s}-\\frac{D^2\\,M\\,e^{s\\,\\tau}\\,\\theta^3}{s^3}-\\frac{D\\,M\\,\\varepsilon\\,\\theta^3}{6\\,s^2}+\\frac{D^2\\,M\\,\\theta^3}{3\\,s^3}-\\frac{M\\,\\varepsilon\\,e^{2\\,s\\,\\tau}\\,\\theta^2}{4\\,s}-\\frac{D\\,M\\,e^{2\\,s\\,\\tau}\\,\\theta^2}{2\\,s^2}+\\frac{D\\,M\\,e^{s\\,\\tau}\\,\\theta^2}{s^2}+\\frac{M\\,\\varepsilon\\,\\theta^2}{4\\,s}-\\frac{D\\,M\\,\\theta^2}{2\\,s^2}-\\frac{M\\,e^{s\\,\\tau}\\,\\theta}{s}+\\frac{M\\,\\theta}{s}\\]"
      ],
      "text/plain": [
       "                       2   4 s tau      4       2             4 s tau      4\n",
       "          3 D M epsilon  %e        theta     3 D  M epsilon %e        theta\n",
       "(%o37) (- -------------------------------) - -------------------------------\n",
       "                           2                                 3\n",
       "                       16 s                               8 s\n",
       "    3     4 s tau      4              2   3 s tau      4\n",
       "   D  M %e        theta    D M epsilon  %e        theta\n",
       " - --------------------- + -----------------------------\n",
       "              4                           2\n",
       "           4 s                         4 s\n",
       "    2             3 s tau      4    3     3 s tau      4\n",
       "   D  M epsilon %e        theta    D  M %e        theta\n",
       " + ----------------------------- + ---------------------\n",
       "                 3                           4\n",
       "                s                           s\n",
       "              2   2 s tau      4      2             2 s tau      4\n",
       "   D M epsilon  %e        theta    3 D  M epsilon %e        theta\n",
       " + ----------------------------- - -------------------------------\n",
       "                   2                               3\n",
       "               12 s                             4 s\n",
       "      3     2 s tau      4              2   s tau      4    3     s tau      4\n",
       "   3 D  M %e        theta    D M epsilon  %e      theta    D  M %e      theta\n",
       " - ----------------------- - --------------------------- + -------------------\n",
       "               4                           2                        4\n",
       "            2 s                         6 s                        s\n",
       "              2      4    2                4    3        4\n",
       "   D M epsilon  theta    D  M epsilon theta    D  M theta\n",
       " + ------------------- + ------------------- - -----------\n",
       "              2                    3                 4\n",
       "          48 s                  8 s               4 s\n",
       "            2   3 s tau      3                 3 s tau      3\n",
       "   M epsilon  %e        theta    D M epsilon %e        theta\n",
       " - --------------------------- - ----------------------------\n",
       "              12 s                              2\n",
       "                                             3 s\n",
       "    2     3 s tau      3                 2 s tau      3    2     2 s tau      3\n",
       "   D  M %e        theta    D M epsilon %e        theta    D  M %e        theta\n",
       " - --------------------- + ---------------------------- + ---------------------\n",
       "              3                           2                         3\n",
       "           3 s                         2 s                         s\n",
       "            2   s tau      3    2     s tau      3                    3\n",
       "   M epsilon  %e      theta    D  M %e      theta    D M epsilon theta\n",
       " + ------------------------- - ------------------- - ------------------\n",
       "             12 s                       3                      2\n",
       "                                       s                    6 s\n",
       "    2        3               2 s tau      2         2 s tau      2\n",
       "   D  M theta    M epsilon %e        theta    D M %e        theta\n",
       " + ----------- - -------------------------- - --------------------\n",
       "         3                  4 s                          2\n",
       "      3 s                                             2 s\n",
       "         s tau      2                  2            2       s tau\n",
       "   D M %e      theta    M epsilon theta    D M theta    M %e      theta\n",
       " + ------------------ + ---------------- - ---------- - ---------------\n",
       "            2                 4 s                2             s\n",
       "           s                                  2 s\n",
       "   M theta\n",
       " + -------\n",
       "      s"
      ],
      "text/x-maxima": [
       "(-(3*D*M*epsilon^2*%e^(4*s*tau)*theta^4)/(16*s^2))\n",
       " -(3*D^2*M*epsilon*%e^(4*s*tau)*theta^4)/(8*s^3)\n",
       " -(D^3*M*%e^(4*s*tau)*theta^4)/(4*s^4)\n",
       " +(D*M*epsilon^2*%e^(3*s*tau)*theta^4)/(4*s^2)\n",
       " +(D^2*M*epsilon*%e^(3*s*tau)*theta^4)/s^3+(D^3*M*%e^(3*s*tau)*theta^4)/s^4\n",
       " +(D*M*epsilon^2*%e^(2*s*tau)*theta^4)/(12*s^2)\n",
       " -(3*D^2*M*epsilon*%e^(2*s*tau)*theta^4)/(4*s^3)\n",
       " -(3*D^3*M*%e^(2*s*tau)*theta^4)/(2*s^4)\n",
       " -(D*M*epsilon^2*%e^(s*tau)*theta^4)/(6*s^2)+(D^3*M*%e^(s*tau)*theta^4)/s^4\n",
       " +(D*M*epsilon^2*theta^4)/(48*s^2)+(D^2*M*epsilon*theta^4)/(8*s^3)\n",
       " -(D^3*M*theta^4)/(4*s^4)-(M*epsilon^2*%e^(3*s*tau)*theta^3)/(12*s)\n",
       " -(D*M*epsilon*%e^(3*s*tau)*theta^3)/(3*s^2)\n",
       " -(D^2*M*%e^(3*s*tau)*theta^3)/(3*s^3)\n",
       " +(D*M*epsilon*%e^(2*s*tau)*theta^3)/(2*s^2)+(D^2*M*%e^(2*s*tau)*theta^3)/s^3\n",
       " +(M*epsilon^2*%e^(s*tau)*theta^3)/(12*s)-(D^2*M*%e^(s*tau)*theta^3)/s^3\n",
       " -(D*M*epsilon*theta^3)/(6*s^2)+(D^2*M*theta^3)/(3*s^3)\n",
       " -(M*epsilon*%e^(2*s*tau)*theta^2)/(4*s)-(D*M*%e^(2*s*tau)*theta^2)/(2*s^2)\n",
       " +(D*M*%e^(s*tau)*theta^2)/s^2+(M*epsilon*theta^2)/(4*s)-(D*M*theta^2)/(2*s^2)\n",
       " -(M*%e^(s*tau)*theta)/s+(M*theta)/s"
      ]
     },
     "execution_count": 35,
     "metadata": {},
     "output_type": "execute_result"
    }
   ],
   "source": [
    "inhgenexpanded : expand(taylor(inhgenser, theta, 0, 4));"
   ]
  },
  {
   "cell_type": "code",
   "execution_count": 36,
   "id": "c5e323f0-5d54-4cc4-b23e-f7f3407a0e37",
   "metadata": {
    "execution": {
     "iopub.execute_input": "2021-08-14T20:03:57Z",
     "iopub.status.busy": "2021-08-14T20:03:57Z",
     "iopub.status.idle": "2021-08-14T20:03:57Z",
     "shell.execute_reply": "2021-08-14T20:03:57Z"
    },
    "tags": []
   },
   "outputs": [
    {
     "data": {
      "text/latex": [
       "\\[\\tag{${\\it \\%o}_{38}$}-\\frac{M\\,\\left(e^{s\\,\\tau}-1\\right)}{s}\\]"
      ],
      "text/plain": [
       "                                      s tau\n",
       "                                 M (%e      - 1)\n",
       "(%o38)                         - ---------------\n",
       "                                        s"
      ],
      "text/x-maxima": [
       "-(M*(%e^(s*tau)-1))/s"
      ]
     },
     "execution_count": 36,
     "metadata": {},
     "output_type": "execute_result"
    },
    {
     "data": {
      "text/latex": [
       "\\[\\tag{${\\it \\%o}_{39}$}-\\frac{M\\,\\left(e^{s\\,\\tau}-1\\right)\\,\\left(e^{s\\,\\tau}+1\\right)}{4\\,N\\,s}-\\frac{D\\,M\\,\\left(e^{s\\,\\tau}-1\\right)^2}{2\\,s^2}\\]"
      ],
      "text/plain": [
       "                    s tau         s tau                s tau     2\n",
       "               M (%e      - 1) (%e      + 1)    D M (%e      - 1)\n",
       "(%o39)      (- -----------------------------) - ------------------\n",
       "                           4 N s                          2\n",
       "                                                       2 s"
      ],
      "text/x-maxima": [
       "(-(M*(%e^(s*tau)-1)*(%e^(s*tau)+1))/(4*N*s))-(D*M*(%e^(s*tau)-1)^2)/(2*s^2)"
      ]
     },
     "execution_count": 36,
     "metadata": {},
     "output_type": "execute_result"
    },
    {
     "data": {
      "text/latex": [
       "\\[\\tag{${\\it \\%o}_{40}$}-\\frac{D\\,M\\,\\left(e^{s\\,\\tau}-1\\right)^2\\,\\left(2\\,e^{s\\,\\tau}+1\\right)}{6\\,N\\,s^2}-\\frac{D^2\\,M\\,\\left(e^{s\\,\\tau}-1\\right)^3}{3\\,s^3}\\]"
      ],
      "text/plain": [
       "                   s tau     2      s tau          2      s tau     3\n",
       "            D M (%e      - 1)  (2 %e      + 1)    D  M (%e      - 1)\n",
       "(%o40)   (- ----------------------------------) - -------------------\n",
       "                               2                            3\n",
       "                          6 N s                          3 s"
      ],
      "text/x-maxima": [
       "(-(D*M*(%e^(s*tau)-1)^2*(2*%e^(s*tau)+1))/(6*N*s^2))\n",
       " -(D^2*M*(%e^(s*tau)-1)^3)/(3*s^3)"
      ]
     },
     "execution_count": 36,
     "metadata": {},
     "output_type": "execute_result"
    },
    {
     "data": {
      "text/latex": [
       "\\[\\tag{${\\it \\%o}_{41}$}-\\frac{D^2\\,M\\,\\left(e^{s\\,\\tau}-1\\right)^3\\,\\left(3\\,e^{s\\,\\tau}+1\\right)}{8\\,N\\,s^3}-\\frac{D^3\\,M\\,\\left(e^{s\\,\\tau}-1\\right)^4}{4\\,s^4}\\]"
      ],
      "text/plain": [
       "             2      s tau     3      s tau          3      s tau     4\n",
       "            D  M (%e      - 1)  (3 %e      + 1)    D  M (%e      - 1)\n",
       "(%o41)   (- -----------------------------------) - -------------------\n",
       "                               3                             4\n",
       "                          8 N s                           4 s"
      ],
      "text/x-maxima": [
       "(-(D^2*M*(%e^(s*tau)-1)^3*(3*%e^(s*tau)+1))/(8*N*s^3))\n",
       " -(D^3*M*(%e^(s*tau)-1)^4)/(4*s^4)"
      ]
     },
     "execution_count": 36,
     "metadata": {},
     "output_type": "execute_result"
    }
   ],
   "source": [
    "kap1 : factor(coeff(inhgenexpanded, theta, 1));\n",
    "kap2 : factor(coeff(coeff(inhgenexpanded, theta, 2), epsilon, 0)) +\n",
    "    (1/N) * factor(coeff(coeff(inhgenexpanded, theta, 2), epsilon, 1));\n",
    "kap3 : factor(coeff(coeff(inhgenexpanded, theta, 3), epsilon, 0)) +\n",
    "    (1/N) * factor(coeff(coeff(inhgenexpanded, theta, 3), epsilon, 1));\n",
    "kap4 : factor(coeff(coeff(inhgenexpanded, theta, 4), epsilon, 0)) +\n",
    "    (1/N) * factor(coeff(coeff(inhgenexpanded, theta, 4), epsilon, 1));"
   ]
  },
  {
   "cell_type": "markdown",
   "id": "4a59ffe6-d7bc-4afc-b71e-61658bb7100f",
   "metadata": {},
   "source": [
    "# Compare exact and approximate cumulants"
   ]
  },
  {
   "cell_type": "code",
   "execution_count": 2,
   "id": "064d3ca6-e6b0-49c9-afb5-cf4648b93f36",
   "metadata": {
    "execution": {
     "iopub.execute_input": "2021-08-14T19:48:42Z",
     "iopub.status.busy": "2021-08-14T19:48:42Z",
     "iopub.status.idle": "2021-08-14T19:48:42Z",
     "shell.execute_reply": "2021-08-14T19:48:42Z"
    },
    "tags": []
   },
   "outputs": [
    {
     "data": {
      "text/latex": [
       "\\[\\tag{${\\it \\%o}_{2}$}{\\it kap}_{2}\\left(D , \\tau , \\varepsilon\\right):=2\\,D\\,\\left(1-e^ {- \\tau }\\right)\\]"
      ],
      "text/plain": [
       "                                                      - tau\n",
       "(%o2)             kap2(D, tau, epsilon) := 2 D (1 - %e     )"
      ],
      "text/x-maxima": [
       "kap2(D,tau,epsilon):=2*D*(1-%e^-tau)"
      ]
     },
     "execution_count": 2,
     "metadata": {},
     "output_type": "execute_result"
    },
    {
     "data": {
      "text/latex": [
       "\\[\\tag{${\\it \\%o}_{3}$}{\\it kap}_{3}\\left(D , \\tau , \\varepsilon\\right):=6\\,D^2\\,\\left(1-e^ {- \\tau }\\right)^2+\\frac{\\varepsilon}{2}\\,\\left(1-e^{\\left(-2\\right)\\,\\tau}\\right)\\]"
      ],
      "text/plain": [
       "                                  2        - tau 2\n",
       "(%o3) kap3(D, tau, epsilon) := 6 D  (1 - %e     )\n",
       "                                                     epsilon         (- 2) tau\n",
       "                                                  + (-------) (1 - %e         )\n",
       "                                                        2"
      ],
      "text/x-maxima": [
       "kap3(D,tau,epsilon):=6*D^2*(1-%e^-tau)^2+(epsilon/2)*(1-%e^((-2)*tau))"
      ]
     },
     "execution_count": 2,
     "metadata": {},
     "output_type": "execute_result"
    }
   ],
   "source": [
    "kap2 (D, tau, epsilon) := 2* D * (1 - %e^(-tau));\n",
    "kap3 (D, tau, epsilon) := 6* D^2 * (1 - %e^(-tau))^2 +\n",
    "    (epsilon/2) * (1 - %e^(-2*tau));"
   ]
  },
  {
   "cell_type": "code",
   "execution_count": 6,
   "id": "3517382e-3df5-45d1-b4a3-ef7992d0a150",
   "metadata": {
    "execution": {
     "iopub.execute_input": "2021-08-14T19:49:52Z",
     "iopub.status.busy": "2021-08-14T19:49:51Z",
     "iopub.status.idle": "2021-08-14T19:49:52Z",
     "shell.execute_reply": "2021-08-14T19:49:52Z"
    },
    "tags": []
   },
   "outputs": [
    {
     "data": {
      "application/pdf": "[encoded data removed]",
      "text/plain": [
       "fig/exact-cumulants-test.pdf"
      ]
     },
     "metadata": {},
     "output_type": "display_data"
    },
    {
     "data": {
      "text/latex": [
       "\\[\\tag{${\\it \\%o}_{7}$}\\left[ \\mbox{ /tmp/maxout55.gnuplot } , \\mbox{ fig/exact-cumulants-test.pdf } \\right] \\]"
      ],
      "text/plain": [
       "(%o7)        [/tmp/maxout55.gnuplot, fig/exact-cumulants-test.pdf]"
      ],
      "text/x-maxima": [
       "[\"/tmp/maxout55.gnuplot\",\"fig/exact-cumulants-test.pdf\"]"
      ]
     },
     "execution_count": 6,
     "metadata": {},
     "output_type": "execute_result"
    }
   ],
   "source": [
    "plot2d([[parametric, kap2(1, tau, 1), kap3(1, tau, 1), [tau, 0, 10]],\n",
    "    [parametric, kap2(1, tau, 0.5), kap3(1, tau, 0.5), [tau, 0, 10]],\n",
    "    [parametric, kap2(1, tau, 0), kap3(1, tau, 0), [tau, 0, 10]]],\n",
    "    [legend, \"N=1\", \"N=2\", \"N=inf\"], [xlabel, \"k_2/k_1^2\"],\n",
    "    [ylabel, \"k_3/k_1^3\"],\n",
    "    [pdf_file, \"fig/exact-cumulants-test.pdf\"],\n",
    "    [gnuplot_preamble, \"set key left\"],\n",
    "    [gnuplot_pdf_term_command, \"set term pdfcairo lw 3 size 17.2 cm, 12.9 cm font 'Latin Modern Roman,20'\"]);"
   ]
  },
  {
   "cell_type": "markdown",
   "id": "499b490e-37e4-4d98-bb14-03be27f385b9",
   "metadata": {
    "execution": {
     "iopub.execute_input": "2021-08-14T19:36:58Z",
     "iopub.status.busy": "2021-08-14T19:36:58Z",
     "iopub.status.idle": "2021-08-14T19:36:58Z",
     "shell.execute_reply": "2021-08-14T19:36:58Z"
    },
    "tags": []
   },
   "source": [
    "```lisp\n",
    "plot2d([[parametric, kap2(1, tau, 1), kap3(1, tau, 1), [tau, 0, 10]],\n",
    "    [parametric, kap2(1, tau, 0.5), kap3(1, tau, 0.5), [tau, 0, 10]],\n",
    "    [parametric, kap2(1, tau, 0), kap3(1, tau, 0), [tau, 0, 10]]],\n",
    "    [legend, \"$N=1$\", \"$N=2$\", \"$N=\\\\infty$\"], [xlabel, \"$\\\\frac{\\\\kappa_2}{\\\\kappa_1^2}$\"],\n",
    "    [ylabel, \"$\\\\frac{\\\\kappa_3}{\\\\kappa_1^3}$\"],\n",
    "    [gnuplot_preamble, \"set key top left\"],\n",
    "    [gnuplot_term, \"cairolatex pdf lw 3 size 17.2 cm, 12.9 cm font 'Latin Modern Roman,20'\"], \n",
    "    [gnuplot_out_file, \"fig/exact-cumulants-test.tex\"]);\n",
    "```"
   ]
  }
 ],
 "metadata": {
  "kernelspec": {
   "display_name": "Maxima",
   "language": "maxima",
   "name": "maxima"
  },
  "language_info": {
   "codemirror_mode": "maxima",
   "file_extension": ".mac",
   "mimetype": "text/x-maxima",
   "name": "maxima",
   "pygments_lexer": "maxima",
   "version": "5.45.1"
  }
 },
 "nbformat": 4,
 "nbformat_minor": 5
}
