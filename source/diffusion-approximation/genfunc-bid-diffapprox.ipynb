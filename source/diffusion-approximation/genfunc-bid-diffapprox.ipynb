{
 "cells": [
  {
   "cell_type": "markdown",
   "id": "41b07f88-c587-43ce-af8e-17350ddbd7bb",
   "metadata": {},
   "source": [
    "<center><font size=\"+4\">Generating function analysis of the diffusion approximation to the birth-immigration-death process</font></center>"
   ]
  },
  {
   "cell_type": "markdown",
   "id": "42289aaf-60d5-4089-a93d-afecd8db5e68",
   "metadata": {
    "tags": []
   },
   "source": [
    "# Moment generating function"
   ]
  },
  {
   "cell_type": "code",
   "execution_count": 1,
   "id": "b176342b-270f-4809-a689-9e30a23546d4",
   "metadata": {
    "execution": {
     "iopub.execute_input": "2021-06-29T20:35:53Z",
     "iopub.status.busy": "2021-06-29T20:35:53Z",
     "iopub.status.idle": "2021-06-29T20:35:53Z",
     "shell.execute_reply": "2021-06-29T20:35:53Z"
    },
    "tags": []
   },
   "outputs": [
    {
     "data": {
      "text/latex": [
       "\\[\\tag{${\\it \\%o}_{1}$}{\\it genfunc}\\left(x , t , n_{0} , {\\it kb} , {\\it kd}\\right):=\\left(\\frac{{\\it kd}\\,e^{\\left(-\\left({\\it kb}-{\\it kd}\\right)\\right)\\,t}-{\\it kd}+\\left({\\it kd}-{\\it kb}\\,e^{\\left(-\\left({\\it kb}-{\\it kd}\\right)\\right)\\,t}\\right)\\,x}{{\\it kd}\\,e^{\\left(-\\left({\\it kb}-{\\it kd}\\right)\\right)\\,t}-{\\it kb}+\\left({\\it kb}-{\\it kb}\\,e^{\\left(-\\left({\\it kb}-{\\it kd}\\right)\\right)\\,t}\\right)\\,x}\\right)^{n_{0}}\\]"
      ],
      "text/plain": [
       "(%o1) genfunc(x, t, n0, kb, kd) := \n",
       "                        (- (kb - kd)) t                   (- (kb - kd)) t\n",
       "                   kd %e                - kd + (kd - kb %e               ) x n0\n",
       "                  (---------------------------------------------------------)\n",
       "                        (- (kb - kd)) t                   (- (kb - kd)) t\n",
       "                   kd %e                - kb + (kb - kb %e               ) x"
      ],
      "text/x-maxima": [
       "genfunc(x,t,n0,kb,kd):=\n",
       "        ((kd*%e^((-(kb-kd))*t)-kd+(kd-kb*%e^((-(kb-kd))*t))*x)\n",
       "         /(kd*%e^((-(kb-kd))*t)-kb+(kb-kb*%e^((-(kb-kd))*t))*x))^n0"
      ]
     },
     "execution_count": 1,
     "metadata": {},
     "output_type": "execute_result"
    }
   ],
   "source": [
    "genfunc (x, t, n0, kb, kd) := \n",
    "    ((kd * %e^(- (kb - kd) * t) - kd + \n",
    "        (kd - kb * %e^(- (kb - kd) * t)) * x) / \n",
    "        (kd * %e^(- (kb - kd) * t) - kb + \n",
    "        (kb - kb * %e^(- (kb - kd) * t)) * x))^n0;"
   ]
  },
  {
   "cell_type": "markdown",
   "id": "3be75cbb-3635-4615-aa31-034be65904cf",
   "metadata": {},
   "source": [
    "Extract the probability distribution"
   ]
  },
  {
   "cell_type": "code",
   "execution_count": 2,
   "id": "6dcec942-7735-40b7-aae6-ea359728a4b7",
   "metadata": {
    "execution": {
     "iopub.execute_input": "2021-06-29T20:35:58Z",
     "iopub.status.busy": "2021-06-29T20:35:58Z",
     "iopub.status.idle": "2021-06-29T20:35:58Z",
     "shell.execute_reply": "2021-06-29T20:35:58Z"
    },
    "tags": []
   },
   "outputs": [],
   "source": [
    "probdist (m, t, n0, kb, kd) :=\n",
    "block([gf],\n",
    "    gf : genfunc(z, t, n0, kb, kd),\n",
    "    makelist([j, subst (0, z, diff(gf, z, j) / (j!))],\n",
    "        j, 0, m))$"
   ]
  },
  {
   "cell_type": "markdown",
   "id": "73f05d0f-8743-4740-95db-1ea7f2be794f",
   "metadata": {},
   "source": [
    "Reparameterize it according to the diffusion approximation."
   ]
  },
  {
   "cell_type": "code",
   "execution_count": 3,
   "id": "bb797a25-f904-4612-8e8a-953b2433007b",
   "metadata": {
    "execution": {
     "iopub.execute_input": "2021-06-29T20:36:00Z",
     "iopub.status.busy": "2021-06-29T20:36:00Z",
     "iopub.status.idle": "2021-06-29T20:36:00Z",
     "shell.execute_reply": "2021-06-29T20:36:00Z"
    },
    "tags": []
   },
   "outputs": [
    {
     "data": {
      "text/latex": [
       "\\[\\tag{${\\it \\%o}_{3}$}\\left(-\\frac{\\left(\\left(s-2\\,D\\,N\\right)\\,e^{s\\,\\tau}+s+2\\,D\\,N\\right)\\,z+\\left(2\\,D\\,N^2-N\\,s\\right)\\,e^{s\\,\\tau}+N\\,s-2\\,D\\,N^2}{\\left(\\left(s+2\\,D\\,N\\right)\\,e^{s\\,\\tau}-s-2\\,D\\,N\\right)\\,z+\\left(-N\\,s-2\\,D\\,N^2\\right)\\,e^{s\\,\\tau}-N\\,s+2\\,D\\,N^2}\\right)^{N\\,x_{0}}\\]"
      ],
      "text/plain": [
       "                             s tau                        2          s tau\n",
       "(%o3) expt(- (((s - 2 D N) %e      + s + 2 D N) z + (2 D N  - N s) %e\n",
       "              2                  s tau\n",
       " + N s - 2 D N )/(((s + 2 D N) %e      - s - 2 D N) z\n",
       "                   2    s tau              2\n",
       " + ((- N s) - 2 D N ) %e      - N s + 2 D N ), N x0)"
      ],
      "text/x-maxima": [
       "(-(((s-2*D*N)*%e^(s*tau)+s+2*D*N)*z+(2*D*N^2-N*s)*%e^(s*tau)+N*s-2*D*N^2)\n",
       " /(((s+2*D*N)*%e^(s*tau)-s-2*D*N)*z+((-N*s)-2*D*N^2)*%e^(s*tau)-N*s+2*D*N^2))\n",
       " ^(N*x0)"
      ]
     },
     "execution_count": 3,
     "metadata": {},
     "output_type": "execute_result"
    }
   ],
   "source": [
    "factor(genfunc(z / N, N * tau, N * x0, D + s/(2*N), D - s/(2*N)));"
   ]
  },
  {
   "cell_type": "code",
   "execution_count": 4,
   "id": "48d0898f-159e-478e-a6f5-66d7d8987147",
   "metadata": {
    "execution": {
     "iopub.execute_input": "2021-06-29T20:36:01Z",
     "iopub.status.busy": "2021-06-29T20:36:01Z",
     "iopub.status.idle": "2021-06-29T20:36:01Z",
     "shell.execute_reply": "2021-06-29T20:36:01Z"
    },
    "tags": []
   },
   "outputs": [],
   "source": [
    "renoprob (m, N, tau, x0, D, s) :=\n",
    "    map (lambda ([pa], [pa[1] / N, pa[2] * N]),\n",
    "    probdist (m, N * tau, N * x0, D + s/(2*N), D - s/(2*N)))$"
   ]
  },
  {
   "cell_type": "markdown",
   "id": "0fc50a7e-41ae-4aca-8c0a-635538cff996",
   "metadata": {},
   "source": [
    "Plot with values $\\tau = 1.0, x_0 = 3.0, D = 1.0, s = 1.0$"
   ]
  },
  {
   "cell_type": "code",
   "execution_count": 5,
   "id": "b665d97e-3c06-40ac-bfa4-4ec2767b478f",
   "metadata": {
    "execution": {
     "iopub.execute_input": "2021-06-29T20:36:02Z",
     "iopub.status.busy": "2021-06-29T20:36:02Z",
     "iopub.status.idle": "2021-06-29T20:36:02Z",
     "shell.execute_reply": "2021-06-29T20:36:02Z"
    },
    "tags": []
   },
   "outputs": [],
   "source": [
    "set_plot_option([svg_file, \"maxplot.svg\"])$"
   ]
  },
  {
   "cell_type": "code",
   "execution_count": 6,
   "id": "e655ece6-075f-4d34-aec1-46fac5ce38cb",
   "metadata": {
    "execution": {
     "iopub.execute_input": "2021-06-29T20:36:06Z",
     "iopub.status.busy": "2021-06-29T20:36:03Z",
     "iopub.status.idle": "2021-06-29T20:36:06Z",
     "shell.execute_reply": "2021-06-29T20:36:06Z"
    },
    "tags": []
   },
   "outputs": [
    {
     "data": {
      "image/svg+xml": [
       "<?xml version=\"1.0\" encoding=\"utf-8\"  standalone=\"no\"?>\n",
       "<svg \n",
       " width=\"600\" height=\"480\"\n",
       " viewBox=\"0 0 600 480\"\n",
       " xmlns=\"http://www.w3.org/2000/svg\"\n",
       " xmlns:xlink=\"http://www.w3.org/1999/xlink\"\n",
       ">\n",
       "\n",
       "<title>Gnuplot</title>\n",
       "<desc>Produced by GNUPLOT 5.4 patchlevel 2 </desc>\n",
       "\n",
       "<g id=\"gnuplot_canvas\">\n",
       "\n",
       "<rect x=\"0\" y=\"0\" width=\"600\" height=\"480\" fill=\"none\"/>\n",
       "<defs>\n",
       "\n",
       "\t<circle id='gpDot' r='0.5' stroke-width='0.5' stroke='currentColor'/>\n",
       "\t<path id='gpPt0' stroke-width='0.190' stroke='currentColor' d='M-1,0 h2 M0,-1 v2'/>\n",
       "\t<path id='gpPt1' stroke-width='0.190' stroke='currentColor' d='M-1,-1 L1,1 M1,-1 L-1,1'/>\n",
       "\t<path id='gpPt2' stroke-width='0.190' stroke='currentColor' d='M-1,0 L1,0 M0,-1 L0,1 M-1,-1 L1,1 M-1,1 L1,-1'/>\n",
       "\t<rect id='gpPt3' stroke-width='0.190' stroke='currentColor' x='-1' y='-1' width='2' height='2'/>\n",
       "\t<rect id='gpPt4' stroke-width='0.190' stroke='currentColor' fill='currentColor' x='-1' y='-1' width='2' height='2'/>\n",
       "\t<circle id='gpPt5' stroke-width='0.190' stroke='currentColor' cx='0' cy='0' r='1'/>\n",
       "\t<use xlink:href='#gpPt5' id='gpPt6' fill='currentColor' stroke='none'/>\n",
       "\t<path id='gpPt7' stroke-width='0.190' stroke='currentColor' d='M0,-1.33 L-1.33,0.67 L1.33,0.67 z'/>\n",
       "\t<use xlink:href='#gpPt7' id='gpPt8' fill='currentColor' stroke='none'/>\n",
       "\t<use xlink:href='#gpPt7' id='gpPt9' stroke='currentColor' transform='rotate(180)'/>\n",
       "\t<use xlink:href='#gpPt9' id='gpPt10' fill='currentColor' stroke='none'/>\n",
       "\t<use xlink:href='#gpPt3' id='gpPt11' stroke='currentColor' transform='rotate(45)'/>\n",
       "\t<use xlink:href='#gpPt11' id='gpPt12' fill='currentColor' stroke='none'/>\n",
       "\t<path id='gpPt13' stroke-width='0.190' stroke='currentColor' d='M0,1.330 L1.265,0.411 L0.782,-1.067 L-0.782,-1.076 L-1.265,0.411 z'/>\n",
       "\t<use xlink:href='#gpPt13' id='gpPt14' fill='currentColor' stroke='none'/>\n",
       "\t<filter id='textbox' filterUnits='objectBoundingBox' x='0' y='0' height='1' width='1'>\n",
       "\t  <feFlood flood-color='white' flood-opacity='1' result='bgnd'/>\n",
       "\t  <feComposite in='SourceGraphic' in2='bgnd' operator='atop'/>\n",
       "\t</filter>\n",
       "\t<filter id='greybox' filterUnits='objectBoundingBox' x='0' y='0' height='1' width='1'>\n",
       "\t  <feFlood flood-color='lightgrey' flood-opacity='1' result='grey'/>\n",
       "\t  <feComposite in='SourceGraphic' in2='grey' operator='atop'/>\n",
       "\t</filter>\n",
       "</defs>\n",
       "<g fill=\"none\" color=\"white\" stroke=\"currentColor\" stroke-width=\"1.00\" stroke-linecap=\"butt\" stroke-linejoin=\"miter\">\n",
       "</g>\n",
       "<g fill=\"none\" color=\"gray\" stroke=\"currentColor\" stroke-width=\"1.00\" stroke-linecap=\"butt\" stroke-linejoin=\"miter\">\n",
       "\t<path stroke='black' stroke-dasharray='2,4'  d='M73.42,388.44 L570.62,388.44  '/></g>\n",
       "<g fill=\"none\" color=\"gray\" stroke=\"currentColor\" stroke-width=\"1.00\" stroke-linecap=\"butt\" stroke-linejoin=\"miter\">\n",
       "\t<path stroke='black' stroke-dasharray='2,4'  d='M73.42,403.36 L73.42,30.45  '/></g>\n",
       "<g fill=\"none\" color=\"black\" stroke=\"currentColor\" stroke-width=\"1.00\" stroke-linecap=\"butt\" stroke-linejoin=\"miter\">\n",
       "\t<path stroke='black'  d='M73.42,30.45 L73.42,403.36 L570.62,403.36 L570.62,30.45 L73.42,30.45 Z  '/></g>\n",
       "<g fill=\"none\" color=\"black\" stroke=\"currentColor\" stroke-width=\"1.00\" stroke-linecap=\"butt\" stroke-linejoin=\"miter\">\n",
       "\t<g transform=\"translate(322.02,460.41)\" stroke=\"none\" fill=\"black\" font-family=\"Arial\" font-size=\"14.00\"  text-anchor=\"middle\">\n",
       "\t\t<text>x</text>\n",
       "\t</g>\n",
       "</g>\n",
       "<g fill=\"none\" color=\"black\" stroke=\"currentColor\" stroke-width=\"1.00\" stroke-linecap=\"butt\" stroke-linejoin=\"miter\">\n",
       "</g>\n",
       "\t<g id=\"gnuplot_plot_1\" ><title>N=1</title>\n",
       "<g fill=\"none\" color=\"black\" stroke=\"currentColor\" stroke-width=\"1.00\" stroke-linecap=\"butt\" stroke-linejoin=\"miter\">\n",
       "\t<g transform=\"translate(491.59,56.00)\" stroke=\"none\" fill=\"black\" font-family=\"Arial\" font-size=\"14.00\"  text-anchor=\"end\">\n",
       "\t\t<text>N=1</text>\n",
       "\t</g>\n",
       "</g>\n",
       "<g fill=\"none\" color=\"black\" stroke=\"currentColor\" stroke-width=\"1.00\" stroke-linecap=\"butt\" stroke-linejoin=\"miter\">\n",
       "\t<path stroke='rgb(  0,   0, 255)'  d='M501.38,51.45 L551.04,51.45 M73.42,334.99 L89.99,246.61 L106.57,160.81 L123.14,97.08 L139.71,60.13 L156.29,47.40\n",
       "\t\tL172.86,53.61 L189.43,73.04 L206.01,100.58 L222.58,132.20 L239.15,164.91 L255.73,196.67 L272.30,226.21 L288.87,252.82\n",
       "\t\tL305.45,276.23 L322.02,296.43 L338.59,313.58 L355.17,327.95 L371.74,339.87 L388.31,349.66 L404.89,357.63 L421.46,364.07\n",
       "\t\tL438.03,369.25 L454.61,373.38 L471.18,376.67 L487.75,379.27 L504.33,381.31 L520.90,382.92 L537.47,384.17 L554.05,385.15\n",
       "\t\tL570.62,385.91  '/></g>\n",
       "\t</g>\n",
       "\t<g id=\"gnuplot_plot_2\" ><title>N=2</title>\n",
       "<g fill=\"none\" color=\"black\" stroke=\"currentColor\" stroke-width=\"1.00\" stroke-linecap=\"butt\" stroke-linejoin=\"miter\">\n",
       "\t<g transform=\"translate(491.59,77.00)\" stroke=\"none\" fill=\"black\" font-family=\"Arial\" font-size=\"14.00\"  text-anchor=\"end\">\n",
       "\t\t<text>N=2</text>\n",
       "\t</g>\n",
       "</g>\n",
       "<g fill=\"none\" color=\"black\" stroke=\"currentColor\" stroke-width=\"1.00\" stroke-linecap=\"butt\" stroke-linejoin=\"miter\">\n",
       "\t<path stroke='rgb(255,   0,   0)'  d='M501.38,72.45 L551.04,72.45 M73.42,285.85 L81.71,265.85 L89.99,227.97 L98.28,192.55 L106.57,160.67 L114.85,133.03\n",
       "\t\tL123.14,110.04 L131.43,91.88 L139.71,78.49 L148.00,69.70 L156.29,65.19 L164.57,64.57 L172.86,67.41 L181.15,73.24\n",
       "\t\tL189.43,81.60 L197.72,92.03 L206.01,104.12 L214.29,117.45 L222.58,131.68 L230.87,146.48 L239.15,161.57 L247.44,176.70\n",
       "\t\tL255.73,191.69 L264.01,206.36 L272.30,220.57 L280.59,234.23 L288.87,247.25 L297.16,259.58 L305.45,271.19 L313.73,282.05\n",
       "\t\tL322.02,292.17 L330.31,301.54 L338.59,310.20 L346.88,318.15 L355.17,325.44 L363.45,332.09 L371.74,338.14 L380.03,343.63\n",
       "\t\tL388.31,348.59 L396.60,353.07 L404.89,357.09 L413.17,360.71 L421.46,363.94 L429.75,366.83 L438.03,369.41 L446.32,371.70\n",
       "\t\tL454.61,373.74 L462.89,375.55 L471.18,377.15 L479.47,378.56 L487.75,379.81 L496.04,380.90 L504.33,381.87 L512.61,382.72\n",
       "\t\tL520.90,383.46 L529.19,384.11 L537.47,384.68 L545.76,385.18 L554.05,385.62 L562.33,385.99 L570.62,386.32  '/></g>\n",
       "\t</g>\n",
       "\t<g id=\"gnuplot_plot_3\" ><title>N=3</title>\n",
       "<g fill=\"none\" color=\"black\" stroke=\"currentColor\" stroke-width=\"1.00\" stroke-linecap=\"butt\" stroke-linejoin=\"miter\">\n",
       "\t<g transform=\"translate(491.59,98.00)\" stroke=\"none\" fill=\"black\" font-family=\"Arial\" font-size=\"14.00\"  text-anchor=\"end\">\n",
       "\t\t<text>N=3</text>\n",
       "\t</g>\n",
       "</g>\n",
       "<g fill=\"none\" color=\"black\" stroke=\"currentColor\" stroke-width=\"1.00\" stroke-linecap=\"butt\" stroke-linejoin=\"miter\">\n",
       "\t<path stroke='rgb(  0, 255,   0)'  d='M501.38,93.45 L551.04,93.45 M73.42,248.08 L78.94,274.47 L84.47,249.59 L89.99,225.46 L95.52,202.44 L101.04,180.82\n",
       "\t\tL106.57,160.82 L112.09,142.62 L117.62,126.35 L123.14,112.07 L128.66,99.83 L134.19,89.62 L139.71,81.42 L145.24,75.17\n",
       "\t\tL150.76,70.78 L156.29,68.17 L161.81,67.23 L167.34,67.84 L172.86,69.88 L178.38,73.22 L183.91,77.74 L189.43,83.29\n",
       "\t\tL194.96,89.77 L200.48,97.03 L206.01,104.98 L211.53,113.50 L217.06,122.47 L222.58,131.82 L228.10,141.43 L233.63,151.23\n",
       "\t\tL239.15,161.14 L244.68,171.10 L250.20,181.04 L255.73,190.90 L261.25,200.64 L266.78,210.22 L272.30,219.59 L277.82,228.73\n",
       "\t\tL283.35,237.62 L288.87,246.22 L294.40,254.53 L299.92,262.53 L305.45,270.22 L310.97,277.58 L316.50,284.61 L322.02,291.32\n",
       "\t\tL327.54,297.70 L333.07,303.76 L338.59,309.50 L344.12,314.94 L349.64,320.07 L355.17,324.91 L360.69,329.46 L366.22,333.74\n",
       "\t\tL371.74,337.76 L377.26,341.53 L382.79,345.05 L388.31,348.35 L393.84,351.42 L399.36,354.29 L404.89,356.96 L410.41,359.44\n",
       "\t\tL415.94,361.75 L421.46,363.90 L426.98,365.88 L432.51,367.73 L438.03,369.43 L443.56,371.01 L449.08,372.46 L454.61,373.81\n",
       "\t\tL460.13,375.05 L465.66,376.19 L471.18,377.24 L476.70,378.21 L482.23,379.10 L487.75,379.91 L493.28,380.66 L498.80,381.35\n",
       "\t\tL504.33,381.98 L509.85,382.56 L515.38,383.09 L520.90,383.57 L526.42,384.01 L531.95,384.42 L537.47,384.79 L543.00,385.12\n",
       "\t\tL548.52,385.43 L554.05,385.71 L559.57,385.97 L565.10,386.20 L570.62,386.41  '/></g>\n",
       "\t</g>\n",
       "\t<g id=\"gnuplot_plot_4\" ><title>N=4</title>\n",
       "<g fill=\"none\" color=\"black\" stroke=\"currentColor\" stroke-width=\"1.00\" stroke-linecap=\"butt\" stroke-linejoin=\"miter\">\n",
       "\t<g transform=\"translate(491.59,119.00)\" stroke=\"none\" fill=\"black\" font-family=\"Arial\" font-size=\"14.00\"  text-anchor=\"end\">\n",
       "\t\t<text>N=4</text>\n",
       "\t</g>\n",
       "</g>\n",
       "<g fill=\"none\" color=\"black\" stroke=\"currentColor\" stroke-width=\"1.00\" stroke-linecap=\"butt\" stroke-linejoin=\"miter\">\n",
       "\t<path stroke='rgb(255,   0, 255)'  d='M501.38,114.45 L551.04,114.45 M73.42,212.65 L77.56,279.25 L81.71,260.67 L85.85,242.41 L89.99,224.64 L94.14,207.49\n",
       "\t\tL98.28,191.08 L102.42,175.52 L106.57,160.88 L110.71,147.24 L114.85,134.65 L119.00,123.15 L123.14,112.76 L127.28,103.50\n",
       "\t\tL131.43,95.36 L135.57,88.33 L139.71,82.42 L143.86,77.58 L148.00,73.78 L152.14,71.00 L156.29,69.19 L160.43,68.31\n",
       "\t\tL164.57,68.31 L168.72,69.14 L172.86,70.74 L177.00,73.07 L181.15,76.08 L185.29,79.70 L189.43,83.89 L193.58,88.59\n",
       "\t\tL197.72,93.76 L201.86,99.35 L206.01,105.30 L210.15,111.57 L214.29,118.12 L218.44,124.90 L222.58,131.88 L226.72,139.01\n",
       "\t\tL230.87,146.26 L235.01,153.61 L239.15,161.01 L243.30,168.43 L247.44,175.87 L251.58,183.27 L255.73,190.63 L259.87,197.93\n",
       "\t\tL264.01,205.14 L268.16,212.25 L272.30,219.25 L276.44,226.10 L280.59,232.84 L284.73,239.42 L288.87,245.86 L293.02,252.12\n",
       "\t\tL297.16,258.19 L301.30,264.12 L305.45,269.85 L309.59,275.42 L313.73,280.82 L317.88,285.98 L322.02,290.99 L326.16,295.84\n",
       "\t\tL330.31,300.51 L334.45,304.98 L338.59,309.26 L342.74,313.36 L346.88,317.30 L351.02,321.04 L355.17,324.72 L359.31,328.17\n",
       "\t\tL363.45,331.51 L367.60,334.62 L371.74,337.70 L375.88,340.50 L380.03,343.21 L384.17,345.78 L388.31,348.31 L392.46,350.58\n",
       "\t\tL396.60,352.83 L400.74,354.91 L404.89,356.94 L409.03,358.85 L413.17,360.64 L417.32,362.35 L421.46,363.94 L425.60,365.46\n",
       "\t\tL429.75,366.90 L433.89,368.22 L438.03,369.51 L442.18,370.73 L446.32,371.82 L450.46,372.89 L454.61,373.92 L458.75,374.88\n",
       "\t\tL462.89,375.76 L467.04,376.56 L471.18,377.33 L475.32,378.06 L479.47,378.77 L483.61,379.43 L487.75,379.99 L491.90,380.54\n",
       "\t\tL496.04,381.02 L500.18,381.60 L504.33,382.03 L508.47,382.53 L512.61,382.91 L516.76,383.26 L520.90,383.65 L525.04,383.92\n",
       "\t\tL529.19,384.30 L533.33,384.52 L537.47,384.84 L541.62,385.05 L545.76,385.29 L549.90,385.49 L554.05,385.69 L558.19,385.88\n",
       "\t\tL562.33,386.07 L566.48,386.25 L570.62,386.38  '/></g>\n",
       "\t</g>\n",
       "<g fill=\"none\" color=\"black\" stroke=\"currentColor\" stroke-width=\"1.00\" stroke-linecap=\"butt\" stroke-linejoin=\"miter\">\n",
       "\t<path stroke='black'  d='M73.42,388.44 L83.92,388.44 M570.62,388.44 L560.12,388.44  '/>\t<g transform=\"translate(63.63,392.99)\" stroke=\"none\" fill=\"black\" font-family=\"Arial\" font-size=\"14.00\"  text-anchor=\"end\">\n",
       "\t\t<text><tspan font-family=\"Arial\" > 0</tspan></text>\n",
       "\t</g>\n",
       "</g>\n",
       "<g fill=\"none\" color=\"black\" stroke=\"currentColor\" stroke-width=\"1.00\" stroke-linecap=\"butt\" stroke-linejoin=\"miter\">\n",
       "\t<path stroke='black'  d='M73.42,349.85 L83.92,349.85 M570.62,349.85 L560.12,349.85  '/>\t<g transform=\"translate(63.63,354.40)\" stroke=\"none\" fill=\"black\" font-family=\"Arial\" font-size=\"14.00\"  text-anchor=\"end\">\n",
       "\t\t<text><tspan font-family=\"Arial\" > 0.01</tspan></text>\n",
       "\t</g>\n",
       "</g>\n",
       "<g fill=\"none\" color=\"black\" stroke=\"currentColor\" stroke-width=\"1.00\" stroke-linecap=\"butt\" stroke-linejoin=\"miter\">\n",
       "\t<path stroke='black'  d='M73.42,311.26 L83.92,311.26 M570.62,311.26 L560.12,311.26  '/>\t<g transform=\"translate(63.63,315.81)\" stroke=\"none\" fill=\"black\" font-family=\"Arial\" font-size=\"14.00\"  text-anchor=\"end\">\n",
       "\t\t<text><tspan font-family=\"Arial\" > 0.02</tspan></text>\n",
       "\t</g>\n",
       "</g>\n",
       "<g fill=\"none\" color=\"black\" stroke=\"currentColor\" stroke-width=\"1.00\" stroke-linecap=\"butt\" stroke-linejoin=\"miter\">\n",
       "\t<path stroke='black'  d='M73.42,272.66 L83.92,272.66 M570.62,272.66 L560.12,272.66  '/>\t<g transform=\"translate(63.63,277.21)\" stroke=\"none\" fill=\"black\" font-family=\"Arial\" font-size=\"14.00\"  text-anchor=\"end\">\n",
       "\t\t<text><tspan font-family=\"Arial\" > 0.03</tspan></text>\n",
       "\t</g>\n",
       "</g>\n",
       "<g fill=\"none\" color=\"black\" stroke=\"currentColor\" stroke-width=\"1.00\" stroke-linecap=\"butt\" stroke-linejoin=\"miter\">\n",
       "\t<path stroke='black'  d='M73.42,234.07 L83.92,234.07 M570.62,234.07 L560.12,234.07  '/>\t<g transform=\"translate(63.63,238.62)\" stroke=\"none\" fill=\"black\" font-family=\"Arial\" font-size=\"14.00\"  text-anchor=\"end\">\n",
       "\t\t<text><tspan font-family=\"Arial\" > 0.04</tspan></text>\n",
       "\t</g>\n",
       "</g>\n",
       "<g fill=\"none\" color=\"black\" stroke=\"currentColor\" stroke-width=\"1.00\" stroke-linecap=\"butt\" stroke-linejoin=\"miter\">\n",
       "\t<path stroke='black'  d='M73.42,195.47 L83.92,195.47 M570.62,195.47 L560.12,195.47  '/>\t<g transform=\"translate(63.63,200.02)\" stroke=\"none\" fill=\"black\" font-family=\"Arial\" font-size=\"14.00\"  text-anchor=\"end\">\n",
       "\t\t<text><tspan font-family=\"Arial\" > 0.05</tspan></text>\n",
       "\t</g>\n",
       "</g>\n",
       "<g fill=\"none\" color=\"black\" stroke=\"currentColor\" stroke-width=\"1.00\" stroke-linecap=\"butt\" stroke-linejoin=\"miter\">\n",
       "\t<path stroke='black'  d='M73.42,156.88 L83.92,156.88 M570.62,156.88 L560.12,156.88  '/>\t<g transform=\"translate(63.63,161.43)\" stroke=\"none\" fill=\"black\" font-family=\"Arial\" font-size=\"14.00\"  text-anchor=\"end\">\n",
       "\t\t<text><tspan font-family=\"Arial\" > 0.06</tspan></text>\n",
       "\t</g>\n",
       "</g>\n",
       "<g fill=\"none\" color=\"black\" stroke=\"currentColor\" stroke-width=\"1.00\" stroke-linecap=\"butt\" stroke-linejoin=\"miter\">\n",
       "\t<path stroke='black'  d='M73.42,118.29 L83.92,118.29 M570.62,118.29 L560.12,118.29  '/>\t<g transform=\"translate(63.63,122.84)\" stroke=\"none\" fill=\"black\" font-family=\"Arial\" font-size=\"14.00\"  text-anchor=\"end\">\n",
       "\t\t<text><tspan font-family=\"Arial\" > 0.07</tspan></text>\n",
       "\t</g>\n",
       "</g>\n",
       "<g fill=\"none\" color=\"black\" stroke=\"currentColor\" stroke-width=\"1.00\" stroke-linecap=\"butt\" stroke-linejoin=\"miter\">\n",
       "\t<path stroke='black'  d='M73.42,79.69 L83.92,79.69 M570.62,79.69 L560.12,79.69  '/>\t<g transform=\"translate(63.63,84.24)\" stroke=\"none\" fill=\"black\" font-family=\"Arial\" font-size=\"14.00\"  text-anchor=\"end\">\n",
       "\t\t<text><tspan font-family=\"Arial\" > 0.08</tspan></text>\n",
       "\t</g>\n",
       "</g>\n",
       "<g fill=\"none\" color=\"black\" stroke=\"currentColor\" stroke-width=\"1.00\" stroke-linecap=\"butt\" stroke-linejoin=\"miter\">\n",
       "\t<path stroke='black'  d='M73.42,41.10 L83.92,41.10 M570.62,41.10 L560.12,41.10  '/>\t<g transform=\"translate(63.63,45.65)\" stroke=\"none\" fill=\"black\" font-family=\"Arial\" font-size=\"14.00\"  text-anchor=\"end\">\n",
       "\t\t<text><tspan font-family=\"Arial\" > 0.09</tspan></text>\n",
       "\t</g>\n",
       "</g>\n",
       "<g fill=\"none\" color=\"black\" stroke=\"currentColor\" stroke-width=\"1.00\" stroke-linecap=\"butt\" stroke-linejoin=\"miter\">\n",
       "\t<path stroke='black'  d='M73.42,403.36 L73.42,392.86 M73.42,30.45 L73.42,40.95  '/>\t<g transform=\"translate(73.42,428.91)\" stroke=\"none\" fill=\"black\" font-family=\"Arial\" font-size=\"14.00\"  text-anchor=\"middle\">\n",
       "\t\t<text><tspan font-family=\"Arial\" > 0</tspan></text>\n",
       "\t</g>\n",
       "</g>\n",
       "<g fill=\"none\" color=\"black\" stroke=\"currentColor\" stroke-width=\"1.00\" stroke-linecap=\"butt\" stroke-linejoin=\"miter\">\n",
       "\t<path stroke='black'  d='M156.29,403.36 L156.29,392.86 M156.29,30.45 L156.29,40.95  '/>\t<g transform=\"translate(156.29,428.91)\" stroke=\"none\" fill=\"black\" font-family=\"Arial\" font-size=\"14.00\"  text-anchor=\"middle\">\n",
       "\t\t<text><tspan font-family=\"Arial\" > 5</tspan></text>\n",
       "\t</g>\n",
       "</g>\n",
       "<g fill=\"none\" color=\"black\" stroke=\"currentColor\" stroke-width=\"1.00\" stroke-linecap=\"butt\" stroke-linejoin=\"miter\">\n",
       "\t<path stroke='black'  d='M239.15,403.36 L239.15,392.86 M239.15,30.45 L239.15,40.95  '/>\t<g transform=\"translate(239.15,428.91)\" stroke=\"none\" fill=\"black\" font-family=\"Arial\" font-size=\"14.00\"  text-anchor=\"middle\">\n",
       "\t\t<text><tspan font-family=\"Arial\" > 10</tspan></text>\n",
       "\t</g>\n",
       "</g>\n",
       "<g fill=\"none\" color=\"black\" stroke=\"currentColor\" stroke-width=\"1.00\" stroke-linecap=\"butt\" stroke-linejoin=\"miter\">\n",
       "\t<path stroke='black'  d='M322.02,403.36 L322.02,392.86 M322.02,30.45 L322.02,40.95  '/>\t<g transform=\"translate(322.02,428.91)\" stroke=\"none\" fill=\"black\" font-family=\"Arial\" font-size=\"14.00\"  text-anchor=\"middle\">\n",
       "\t\t<text><tspan font-family=\"Arial\" > 15</tspan></text>\n",
       "\t</g>\n",
       "</g>\n",
       "<g fill=\"none\" color=\"black\" stroke=\"currentColor\" stroke-width=\"1.00\" stroke-linecap=\"butt\" stroke-linejoin=\"miter\">\n",
       "\t<path stroke='black'  d='M404.89,403.36 L404.89,392.86 M404.89,30.45 L404.89,40.95  '/>\t<g transform=\"translate(404.89,428.91)\" stroke=\"none\" fill=\"black\" font-family=\"Arial\" font-size=\"14.00\"  text-anchor=\"middle\">\n",
       "\t\t<text><tspan font-family=\"Arial\" > 20</tspan></text>\n",
       "\t</g>\n",
       "</g>\n",
       "<g fill=\"none\" color=\"black\" stroke=\"currentColor\" stroke-width=\"1.00\" stroke-linecap=\"butt\" stroke-linejoin=\"miter\">\n",
       "\t<path stroke='black'  d='M487.75,403.36 L487.75,392.86 M487.75,30.45 L487.75,40.95  '/>\t<g transform=\"translate(487.75,428.91)\" stroke=\"none\" fill=\"black\" font-family=\"Arial\" font-size=\"14.00\"  text-anchor=\"middle\">\n",
       "\t\t<text><tspan font-family=\"Arial\" > 25</tspan></text>\n",
       "\t</g>\n",
       "</g>\n",
       "<g fill=\"none\" color=\"black\" stroke=\"currentColor\" stroke-width=\"1.00\" stroke-linecap=\"butt\" stroke-linejoin=\"miter\">\n",
       "\t<path stroke='black'  d='M570.62,403.36 L570.62,392.86 M570.62,30.45 L570.62,40.95  '/>\t<g transform=\"translate(570.62,428.91)\" stroke=\"none\" fill=\"black\" font-family=\"Arial\" font-size=\"14.00\"  text-anchor=\"middle\">\n",
       "\t\t<text><tspan font-family=\"Arial\" > 30</tspan></text>\n",
       "\t</g>\n",
       "</g>\n",
       "<g fill=\"none\" color=\"black\" stroke=\"currentColor\" stroke-width=\"1.00\" stroke-linecap=\"butt\" stroke-linejoin=\"miter\">\n",
       "</g>\n",
       "<g fill=\"none\" color=\"gray\" stroke=\"currentColor\" stroke-width=\"1.00\" stroke-linecap=\"butt\" stroke-linejoin=\"miter\">\n",
       "\t<path stroke='black' stroke-dasharray='2,4'  d='M73.42,388.44 L570.62,388.44  '/></g>\n",
       "<g fill=\"none\" color=\"gray\" stroke=\"currentColor\" stroke-width=\"1.00\" stroke-linecap=\"butt\" stroke-linejoin=\"miter\">\n",
       "\t<path stroke='black' stroke-dasharray='2,4'  d='M73.42,403.36 L73.42,30.45  '/></g>\n",
       "<g fill=\"none\" color=\"gray\" stroke=\"black\" stroke-width=\"2.00\" stroke-linecap=\"butt\" stroke-linejoin=\"miter\">\n",
       "</g>\n",
       "<g fill=\"none\" color=\"black\" stroke=\"currentColor\" stroke-width=\"2.00\" stroke-linecap=\"butt\" stroke-linejoin=\"miter\">\n",
       "</g>\n",
       "<g fill=\"none\" color=\"black\" stroke=\"black\" stroke-width=\"1.00\" stroke-linecap=\"butt\" stroke-linejoin=\"miter\">\n",
       "</g>\n",
       "<g fill=\"none\" color=\"black\" stroke=\"currentColor\" stroke-width=\"1.00\" stroke-linecap=\"butt\" stroke-linejoin=\"miter\">\n",
       "\t<path stroke='black'  d='M73.42,30.45 L73.42,403.36 L570.62,403.36 L570.62,30.45 L73.42,30.45 Z  '/></g>\n",
       "<g fill=\"none\" color=\"black\" stroke=\"currentColor\" stroke-width=\"1.00\" stroke-linecap=\"butt\" stroke-linejoin=\"miter\">\n",
       "</g>\n",
       "</g>\n",
       "</svg>\n",
       "\n"
      ],
      "text/plain": [
       "/tmp/maxplot.svg"
      ]
     },
     "metadata": {},
     "output_type": "display_data"
    },
    {
     "data": {
      "text/latex": [
       "\\[\\tag{${\\it \\%o}_{6}$}\\left[ \\mbox{ /tmp/maxout241.gnuplot } , \\mbox{ /tmp/maxplot.svg } \\right] \\]"
      ],
      "text/plain": [
       "(%o6)             [/tmp/maxout241.gnuplot, /tmp/maxplot.svg]"
      ],
      "text/x-maxima": [
       "[\"/tmp/maxout241.gnuplot\",\"/tmp/maxplot.svg\"]"
      ]
     },
     "execution_count": 6,
     "metadata": {},
     "output_type": "execute_result"
    }
   ],
   "source": [
    "plot2d([[discrete, renoprob(30, 1, 1.0, 3, 1.0, 1.0)],\n",
    "    [discrete, renoprob(60, 2, 1.0, 3, 1.0, 1.0)],\n",
    "    [discrete, renoprob(90, 3, 1.0, 3, 1.0, 1.0)],\n",
    "    [discrete, renoprob(120, 4, 1.0, 3, 1.0, 1.0)]],\n",
    "    [legend, \"N=1\", \"N=2\", \"N=3\", \"N=4\"],\n",
    "    [xlabel, \"x\"]);"
   ]
  },
  {
   "cell_type": "markdown",
   "id": "a75a5979-c644-4918-a28d-9a538cb361d7",
   "metadata": {},
   "source": [
    "Check that it is normalized and extract fixation probability."
   ]
  },
  {
   "cell_type": "code",
   "execution_count": 7,
   "id": "959718b3-8b95-46bc-a8fc-25734f623d91",
   "metadata": {
    "execution": {
     "iopub.execute_input": "2021-06-29T20:36:08Z",
     "iopub.status.busy": "2021-06-29T20:36:08Z",
     "iopub.status.idle": "2021-06-29T20:36:08Z",
     "shell.execute_reply": "2021-06-29T20:36:08Z"
    },
    "tags": []
   },
   "outputs": [
    {
     "data": {
      "text/latex": [
       "\\[\\tag{${\\it \\%o}_{7}$}\\left(\\frac{{\\it kd}\\,e^{\\left({\\it kd}-{\\it kb}\\right)\\,t}-{\\it kd}}{{\\it kd}\\,e^{\\left({\\it kd}-{\\it kb}\\right)\\,t}-{\\it kb}}\\right)^{n_{0}}\\]"
      ],
      "text/plain": [
       "                                 (kd - kb) t\n",
       "                            kd %e            - kd n0\n",
       "(%o7)                      (---------------------)\n",
       "                                 (kd - kb) t\n",
       "                            kd %e            - kb"
      ],
      "text/x-maxima": [
       "((kd*%e^((kd-kb)*t)-kd)/(kd*%e^((kd-kb)*t)-kb))^n0"
      ]
     },
     "execution_count": 7,
     "metadata": {},
     "output_type": "execute_result"
    },
    {
     "data": {
      "text/latex": [
       "\\[\\tag{${\\it \\%o}_{8}$}\\left(-\\frac{\\left(s-2\\,D\\,N\\right)\\,\\left(e^{s\\,\\tau}-1\\right)}{\\left(s+2\\,D\\,N\\right)\\,e^{s\\,\\tau}+s-2\\,D\\,N}\\right)^{N\\,x_{0}}\\]"
      ],
      "text/plain": [
       "                                         s tau\n",
       "                          (s - 2 D N) (%e      - 1)    N x0\n",
       "(%o8)               (- -------------------------------)\n",
       "                                     s tau\n",
       "                       (s + 2 D N) %e      + s - 2 D N"
      ],
      "text/x-maxima": [
       "(-((s-2*D*N)*(%e^(s*tau)-1))/((s+2*D*N)*%e^(s*tau)+s-2*D*N))^(N*x0)"
      ]
     },
     "execution_count": 7,
     "metadata": {},
     "output_type": "execute_result"
    },
    {
     "data": {
      "text/latex": [
       "\\[\\tag{${\\it \\%o}_{9}$}1\\]"
      ],
      "text/plain": [
       "(%o9)                                  1"
      ],
      "text/x-maxima": [
       "1"
      ]
     },
     "execution_count": 7,
     "metadata": {},
     "output_type": "execute_result"
    }
   ],
   "source": [
    "genfunc(0, t, n0, kb, kd);\n",
    "factor(genfunc(0, N * tau, N * x0, D + s/(2*N), D - s/(2*N)));\n",
    "genfunc(1, t, n0, kb, kd);"
   ]
  },
  {
   "cell_type": "markdown",
   "id": "226a2144-ae9a-4ab5-89ab-def922bf29ef",
   "metadata": {
    "incorrectly_encoded_metadata": "tags=[] toc-hr-collapsed=true",
    "tags": []
   },
   "source": [
    "# Functions to compute moments"
   ]
  },
  {
   "cell_type": "code",
   "execution_count": 8,
   "id": "89b72044-672f-494f-a107-47f52003a6b8",
   "metadata": {
    "execution": {
     "iopub.execute_input": "2021-06-29T20:36:11Z",
     "iopub.status.busy": "2021-06-29T20:36:11Z",
     "iopub.status.idle": "2021-06-29T20:36:11Z",
     "shell.execute_reply": "2021-06-29T20:36:11Z"
    },
    "tags": []
   },
   "outputs": [],
   "source": [
    "numop(n, gf) := \n",
    "    if n=0 then gf\n",
    "        else numop(n-1, z * diff(gf, z))$\n",
    "mom(m, t, n0, kb, kd) := \n",
    "    factor(subst(1, z, numop(m, genfunc(z, t, n0, kb, kd))))$\n",
    "momren(m, t, n0, kb, kd) := \n",
    "                factor(psubst([t = N * tau, \n",
    "                        n0 = N * x0,\n",
    "                        kb = D + s/(2*N), \n",
    "                        kd = D - s/(2*N)], \n",
    "                mom(m, t, n0, kb, kd) / N^m))$\n",
    "cumu(m, t, n0, kb, kd) := \n",
    "    factor(subst(1, z, numop(m, \n",
    "            log(genfunc(z, t, n0, kb, kd)))))$\n",
    "cumuren(m, zt, n0, kb, kd) := \n",
    "                factor(psubst([t = N * tau, \n",
    "                        n0 = N * x0,\n",
    "                        kb = D + s/(2*N), \n",
    "                        kd = D - s/(2*N)], \n",
    "                cumu(m, t, n0, kb, kd) / N^m))$"
   ]
  },
  {
   "cell_type": "markdown",
   "id": "5506218d-74ac-4f96-a668-3c662545e795",
   "metadata": {
    "incorrectly_encoded_metadata": "tags=[] toc-hr-collapsed=true",
    "tags": []
   },
   "source": [
    "# Compute cumulants"
   ]
  },
  {
   "cell_type": "code",
   "execution_count": 10,
   "id": "b8054205-638a-448e-9d63-803f48e419d1",
   "metadata": {
    "execution": {
     "iopub.execute_input": "2021-06-29T20:36:20Z",
     "iopub.status.busy": "2021-06-29T20:36:20Z",
     "iopub.status.idle": "2021-06-29T20:36:20Z",
     "shell.execute_reply": "2021-06-29T20:36:20Z"
    },
    "tags": []
   },
   "outputs": [
    {
     "data": {
      "text/latex": [
       "\\[\\tag{${\\it \\%o}_{19}$}n_{0}\\,e^{{\\it kb}\\,t-{\\it kd}\\,t}\\]"
      ],
      "text/plain": [
       "                                    kb t - kd t\n",
       "(%o19)                         n0 %e"
      ],
      "text/x-maxima": [
       "n0*%e^(kb*t-kd*t)"
      ]
     },
     "execution_count": 10,
     "metadata": {},
     "output_type": "execute_result"
    },
    {
     "data": {
      "text/latex": [
       "\\[\\tag{${\\it \\%o}_{20}$}\\frac{\\left({\\it kd}+{\\it kb}\\right)\\,n_{0}\\,\\left(e^{{\\it kd}\\,t}-e^{{\\it kb}\\,t}\\right)\\,e^{{\\it kb}\\,t-2\\,{\\it kd}\\,t}}{{\\it kd}-{\\it kb}}\\]"
      ],
      "text/plain": [
       "                                kd t     kb t    kb t - 2 kd t\n",
       "                (kd + kb) n0 (%e     - %e    ) %e\n",
       "(%o20)          ----------------------------------------------\n",
       "                                   kd - kb"
      ],
      "text/x-maxima": [
       "((kd+kb)*n0*(%e^(kd*t)-%e^(kb*t))*%e^(kb*t-2*kd*t))/(kd-kb)"
      ]
     },
     "execution_count": 10,
     "metadata": {},
     "output_type": "execute_result"
    },
    {
     "data": {
      "text/latex": [
       "\\[\\tag{${\\it \\%o}_{21}$}\\frac{n_{0}\\,\\left(e^{{\\it kd}\\,t}-e^{{\\it kb}\\,t}\\right)\\,\\left({\\it kd}^2\\,e^{{\\it kd}\\,t}+4\\,{\\it kb}\\,{\\it kd}\\,e^{{\\it kd}\\,t}+{\\it kb}^2\\,e^{{\\it kd}\\,t}-2\\,{\\it kd}^2\\,e^{{\\it kb}\\,t}-2\\,{\\it kb}\\,{\\it kd}\\,e^{{\\it kb}\\,t}-2\\,{\\it kb}^2\\,e^{{\\it kb}\\,t}\\right)\\,e^{{\\it kb}\\,t-3\\,{\\it kd}\\,t}}{\\left({\\it kd}-{\\it kb}\\right)^2}\\]"
      ],
      "text/plain": [
       "              kd t     kb t     2   kd t             kd t     2   kd t\n",
       "(%o21) (n0 (%e     - %e    ) (kd  %e     + 4 kb kd %e     + kb  %e\n",
       "          2   kb t             kb t       2   kb t    kb t - 3 kd t           2\n",
       "    - 2 kd  %e     - 2 kb kd %e     - 2 kb  %e    ) %e             )/(kd - kb)"
      ],
      "text/x-maxima": [
       "(n0*(%e^(kd*t)-%e^(kb*t))\n",
       "   *(kd^2*%e^(kd*t)+4*kb*kd*%e^(kd*t)+kb^2*%e^(kd*t)-2*kd^2*%e^(kb*t)\n",
       "                   -2*kb*kd*%e^(kb*t)-2*kb^2*%e^(kb*t))*%e^(kb*t-3*kd*t))\n",
       " /(kd-kb)^2"
      ]
     },
     "execution_count": 10,
     "metadata": {},
     "output_type": "execute_result"
    },
    {
     "data": {
      "text/latex": [
       "\\[\\tag{${\\it \\%o}_{22}$}\\frac{\\left({\\it kd}+{\\it kb}\\right)\\,n_{0}\\,\\left(e^{{\\it kd}\\,t}-e^{{\\it kb}\\,t}\\right)\\,e^{{\\it kb}\\,t-4\\,{\\it kd}\\,t}\\,\\left(-6\\,{\\it kd}^2\\,e^{{\\it kd}\\,t+{\\it kb}\\,t}-12\\,{\\it kb}\\,{\\it kd}\\,e^{{\\it kd}\\,t+{\\it kb}\\,t}-6\\,{\\it kb}^2\\,e^{{\\it kd}\\,t+{\\it kb}\\,t}+{\\it kd}^2\\,e^{2\\,{\\it kd}\\,t}+10\\,{\\it kb}\\,{\\it kd}\\,e^{2\\,{\\it kd}\\,t}+{\\it kb}^2\\,e^{2\\,{\\it kd}\\,t}+6\\,{\\it kd}^2\\,e^{2\\,{\\it kb}\\,t}+6\\,{\\it kb}^2\\,e^{2\\,{\\it kb}\\,t}\\right)}{\\left({\\it kd}-{\\it kb}\\right)^3}\\]"
      ],
      "text/plain": [
       "                        kd t     kb t    kb t - 4 kd t\n",
       "(%o22) ((kd + kb) n0 (%e     - %e    ) %e\n",
       "         2   kd t + kb t               kd t + kb t       2   kd t + kb t\n",
       " ((- 6 kd  %e           ) - 12 kb kd %e            - 6 kb  %e\n",
       "     2   2 kd t              2 kd t     2   2 kd t       2   2 kb t\n",
       " + kd  %e       + 10 kb kd %e       + kb  %e       + 6 kd  %e\n",
       "       2   2 kb t            3\n",
       " + 6 kb  %e      ))/(kd - kb)"
      ],
      "text/x-maxima": [
       "((kd+kb)*n0*(%e^(kd*t)-%e^(kb*t))*%e^(kb*t-4*kd*t)\n",
       "        *((-6*kd^2*%e^(kd*t+kb*t))-12*kb*kd*%e^(kd*t+kb*t)\n",
       "                                  -6*kb^2*%e^(kd*t+kb*t)+kd^2*%e^(2*kd*t)\n",
       "                                  +10*kb*kd*%e^(2*kd*t)+kb^2*%e^(2*kd*t)\n",
       "                                  +6*kd^2*%e^(2*kb*t)+6*kb^2*%e^(2*kb*t)))\n",
       " /(kd-kb)^3"
      ]
     },
     "execution_count": 10,
     "metadata": {},
     "output_type": "execute_result"
    }
   ],
   "source": [
    "cumu(1, t, n0, kb, kd);\n",
    "cumu(2, t, n0, kb, kd);\n",
    "cumu(3, t, n0, kb, kd);\n",
    "cumu(4, t, n0, kb, kd);"
   ]
  },
  {
   "cell_type": "markdown",
   "id": "02beb317-a788-4a42-9d86-08e4ff8c459d",
   "metadata": {},
   "source": [
    "Reparameterize cumulants and collect powers of $N$."
   ]
  },
  {
   "cell_type": "code",
   "execution_count": 11,
   "id": "42d26a0b-5d98-4e44-979d-534b96488443",
   "metadata": {
    "execution": {
     "iopub.execute_input": "2021-06-29T20:36:26Z",
     "iopub.status.busy": "2021-06-29T20:36:26Z",
     "iopub.status.idle": "2021-06-29T20:36:26Z",
     "shell.execute_reply": "2021-06-29T20:36:26Z"
    },
    "tags": []
   },
   "outputs": [
    {
     "data": {
      "text/latex": [
       "\\[\\tag{${\\it \\%o}_{23}$}e^{s\\,\\tau}\\,x_{0}\\]"
      ],
      "text/plain": [
       "                                    s tau\n",
       "(%o23)                            %e      x0"
      ],
      "text/x-maxima": [
       "%e^(s*tau)*x0"
      ]
     },
     "execution_count": 11,
     "metadata": {},
     "output_type": "execute_result"
    },
    {
     "data": {
      "text/latex": [
       "\\[\\tag{${\\it \\%o}_{24}$}\\frac{2\\,D\\,\\left(e^{s\\,\\tau}-1\\right)\\,e^{s\\,\\tau}\\,x_{0}}{s}\\]"
      ],
      "text/plain": [
       "                                s tau        s tau\n",
       "                         2 D (%e      - 1) %e      x0\n",
       "(%o24)                   ----------------------------\n",
       "                                      s"
      ],
      "text/x-maxima": [
       "(2*D*(%e^(s*tau)-1)*%e^(s*tau)*x0)/s"
      ]
     },
     "execution_count": 11,
     "metadata": {},
     "output_type": "execute_result"
    }
   ],
   "source": [
    "cumuren(1, t, n0, kb, kd);\n",
    "cumuren(2, t, n0, kb, kd);"
   ]
  },
  {
   "cell_type": "code",
   "execution_count": 12,
   "id": "3e673399-884a-4c73-b854-9e3948944c08",
   "metadata": {
    "execution": {
     "iopub.execute_input": "2021-06-29T20:36:28Z",
     "iopub.status.busy": "2021-06-29T20:36:28Z",
     "iopub.status.idle": "2021-06-29T20:36:28Z",
     "shell.execute_reply": "2021-06-29T20:36:28Z"
    },
    "tags": []
   },
   "outputs": [
    {
     "data": {
      "text/latex": [
       "\\[\\tag{${\\it \\%o}_{25}$}\\frac{\\left(e^{s\\,\\tau}-1\\right)\\,e^{s\\,\\tau}\\,\\left(e^{s\\,\\tau}+1\\right)\\,x_{0}}{2\\,N^2}+\\frac{6\\,D^2\\,\\left(e^{s\\,\\tau}-1\\right)^2\\,e^{s\\,\\tau}\\,x_{0}}{s^2}\\]"
      ],
      "text/plain": [
       "          s tau        s tau    s tau              2    s tau     2   s tau\n",
       "       (%e      - 1) %e      (%e      + 1) x0   6 D  (%e      - 1)  %e      x0\n",
       "(%o25) -------------------------------------- + ------------------------------\n",
       "                           2                                   2\n",
       "                        2 N                                   s"
      ],
      "text/x-maxima": [
       "((%e^(s*tau)-1)*%e^(s*tau)*(%e^(s*tau)+1)*x0)/(2*N^2)\n",
       " +(6*D^2*(%e^(s*tau)-1)^2*%e^(s*tau)*x0)/s^2"
      ]
     },
     "execution_count": 12,
     "metadata": {},
     "output_type": "execute_result"
    },
    {
     "data": {
      "text/latex": [
       "\\[\\tag{${\\it \\%o}_{26}$}\\frac{2\\,D\\,\\left(e^{s\\,\\tau}-1\\right)\\,e^{s\\,\\tau}\\,\\left(3\\,e^{2\\,s\\,\\tau}-2\\right)\\,x_{0}}{N^2\\,s}+\\frac{24\\,D^3\\,\\left(e^{s\\,\\tau}-1\\right)^3\\,e^{s\\,\\tau}\\,x_{0}}{s^3}\\]"
      ],
      "text/plain": [
       "              s tau        s tau      2 s tau\n",
       "       2 D (%e      - 1) %e      (3 %e        - 2) x0\n",
       "(%o26) ----------------------------------------------\n",
       "                             2\n",
       "                            N  s\n",
       "                                                    3    s tau     3   s tau\n",
       "                                                24 D  (%e      - 1)  %e      x0\n",
       "                                              + -------------------------------\n",
       "                                                               3\n",
       "                                                              s"
      ],
      "text/x-maxima": [
       "(2*D*(%e^(s*tau)-1)*%e^(s*tau)*(3*%e^(2*s*tau)-2)*x0)/(N^2*s)\n",
       " +(24*D^3*(%e^(s*tau)-1)^3*%e^(s*tau)*x0)/s^3"
      ]
     },
     "execution_count": 12,
     "metadata": {},
     "output_type": "execute_result"
    }
   ],
   "source": [
    "block([mo],\n",
    "    mo : expand(cumuren(3, t, n0, kb, kd)),\n",
    "    factor(coeff (mo, N, 0)) +\n",
    "    factor(coeff (mo, N, -2)) / N^2);\n",
    "block([mo],\n",
    "    mo : expand(cumuren(4, t, n0, kb, kd)),\n",
    "    factor(coeff (mo, N, 0)) +\n",
    "    factor(coeff (mo, N, -2)) / N^2);"
   ]
  },
  {
   "cell_type": "code",
   "execution_count": 13,
   "id": "d8d70349-43b3-4ead-b39a-2bd47e971ace",
   "metadata": {
    "execution": {
     "iopub.execute_input": "2021-06-29T20:30:54Z",
     "iopub.status.busy": "2021-06-29T20:30:53Z",
     "iopub.status.idle": "2021-06-29T20:30:54Z",
     "shell.execute_reply": "2021-06-29T20:30:54Z"
    }
   },
   "outputs": [
    {
     "data": {
      "image/svg+xml": [
       "<?xml version=\"1.0\" encoding=\"utf-8\"  standalone=\"no\"?>\n",
       "<svg \n",
       " width=\"600\" height=\"480\"\n",
       " viewBox=\"0 0 600 480\"\n",
       " xmlns=\"http://www.w3.org/2000/svg\"\n",
       " xmlns:xlink=\"http://www.w3.org/1999/xlink\"\n",
       ">\n",
       "\n",
       "<title>Gnuplot</title>\n",
       "<desc>Produced by GNUPLOT 5.4 patchlevel 2 </desc>\n",
       "\n",
       "<g id=\"gnuplot_canvas\">\n",
       "\n",
       "<rect x=\"0\" y=\"0\" width=\"600\" height=\"480\" fill=\"none\"/>\n",
       "<defs>\n",
       "\n",
       "\t<circle id='gpDot' r='0.5' stroke-width='0.5' stroke='currentColor'/>\n",
       "\t<path id='gpPt0' stroke-width='0.190' stroke='currentColor' d='M-1,0 h2 M0,-1 v2'/>\n",
       "\t<path id='gpPt1' stroke-width='0.190' stroke='currentColor' d='M-1,-1 L1,1 M1,-1 L-1,1'/>\n",
       "\t<path id='gpPt2' stroke-width='0.190' stroke='currentColor' d='M-1,0 L1,0 M0,-1 L0,1 M-1,-1 L1,1 M-1,1 L1,-1'/>\n",
       "\t<rect id='gpPt3' stroke-width='0.190' stroke='currentColor' x='-1' y='-1' width='2' height='2'/>\n",
       "\t<rect id='gpPt4' stroke-width='0.190' stroke='currentColor' fill='currentColor' x='-1' y='-1' width='2' height='2'/>\n",
       "\t<circle id='gpPt5' stroke-width='0.190' stroke='currentColor' cx='0' cy='0' r='1'/>\n",
       "\t<use xlink:href='#gpPt5' id='gpPt6' fill='currentColor' stroke='none'/>\n",
       "\t<path id='gpPt7' stroke-width='0.190' stroke='currentColor' d='M0,-1.33 L-1.33,0.67 L1.33,0.67 z'/>\n",
       "\t<use xlink:href='#gpPt7' id='gpPt8' fill='currentColor' stroke='none'/>\n",
       "\t<use xlink:href='#gpPt7' id='gpPt9' stroke='currentColor' transform='rotate(180)'/>\n",
       "\t<use xlink:href='#gpPt9' id='gpPt10' fill='currentColor' stroke='none'/>\n",
       "\t<use xlink:href='#gpPt3' id='gpPt11' stroke='currentColor' transform='rotate(45)'/>\n",
       "\t<use xlink:href='#gpPt11' id='gpPt12' fill='currentColor' stroke='none'/>\n",
       "\t<path id='gpPt13' stroke-width='0.190' stroke='currentColor' d='M0,1.330 L1.265,0.411 L0.782,-1.067 L-0.782,-1.076 L-1.265,0.411 z'/>\n",
       "\t<use xlink:href='#gpPt13' id='gpPt14' fill='currentColor' stroke='none'/>\n",
       "\t<filter id='textbox' filterUnits='objectBoundingBox' x='0' y='0' height='1' width='1'>\n",
       "\t  <feFlood flood-color='white' flood-opacity='1' result='bgnd'/>\n",
       "\t  <feComposite in='SourceGraphic' in2='bgnd' operator='atop'/>\n",
       "\t</filter>\n",
       "\t<filter id='greybox' filterUnits='objectBoundingBox' x='0' y='0' height='1' width='1'>\n",
       "\t  <feFlood flood-color='lightgrey' flood-opacity='1' result='grey'/>\n",
       "\t  <feComposite in='SourceGraphic' in2='grey' operator='atop'/>\n",
       "\t</filter>\n",
       "</defs>\n",
       "<g fill=\"none\" color=\"white\" stroke=\"currentColor\" stroke-width=\"1.00\" stroke-linecap=\"butt\" stroke-linejoin=\"miter\">\n",
       "</g>\n",
       "<g fill=\"none\" color=\"gray\" stroke=\"currentColor\" stroke-width=\"1.00\" stroke-linecap=\"butt\" stroke-linejoin=\"miter\">\n",
       "\t<path stroke='black' stroke-dasharray='2,4'  d='M46.14,394.99 L568.53,394.99  '/></g>\n",
       "<g fill=\"none\" color=\"gray\" stroke=\"currentColor\" stroke-width=\"1.00\" stroke-linecap=\"butt\" stroke-linejoin=\"miter\">\n",
       "\t<path stroke='black' stroke-dasharray='2,4'  d='M46.14,412.80 L46.14,21.01  '/></g>\n",
       "<g fill=\"none\" color=\"black\" stroke=\"currentColor\" stroke-width=\"1.00\" stroke-linecap=\"butt\" stroke-linejoin=\"miter\">\n",
       "\t<path stroke='black'  d='M46.14,21.01 L46.14,412.80 L568.53,412.80 L568.53,21.01 L46.14,21.01 Z  '/></g>\n",
       "<g fill=\"none\" color=\"black\" stroke=\"currentColor\" stroke-width=\"1.00\" stroke-linecap=\"butt\" stroke-linejoin=\"miter\">\n",
       "\t<g transform=\"translate(307.33,469.85)\" stroke=\"none\" fill=\"black\" font-family=\"Arial\" font-size=\"14.00\"  text-anchor=\"middle\">\n",
       "\t\t<text>tau</text>\n",
       "\t</g>\n",
       "</g>\n",
       "<g fill=\"none\" color=\"black\" stroke=\"currentColor\" stroke-width=\"1.00\" stroke-linecap=\"butt\" stroke-linejoin=\"miter\">\n",
       "</g>\n",
       "\t<g id=\"gnuplot_plot_1\" ><title>gnuplot_plot_1</title>\n",
       "<g fill=\"none\" color=\"black\" stroke=\"currentColor\" stroke-width=\"1.00\" stroke-linecap=\"butt\" stroke-linejoin=\"miter\">\n",
       "\t<path stroke='rgb(  0,   0, 255)'  d='M46.14,394.99 L48.39,394.81 L50.64,394.63 L52.90,394.45 L55.15,394.26 L57.40,394.07 L59.65,393.87 L61.90,393.68\n",
       "\t\tL64.15,393.48 L66.41,393.27 L68.66,393.06 L70.91,392.85 L73.16,392.64 L75.41,392.42 L77.66,392.20 L79.92,391.97\n",
       "\t\tL82.17,391.74 L84.42,391.51 L86.67,391.27 L88.92,391.03 L91.17,390.78 L93.43,390.54 L95.68,390.28 L97.93,390.03\n",
       "\t\tL100.18,389.76 L102.43,389.50 L104.68,389.23 L106.94,388.95 L109.19,388.67 L111.44,388.39 L113.69,388.10 L115.94,387.81\n",
       "\t\tL118.19,387.51 L120.45,387.21 L122.70,386.90 L124.95,386.59 L127.20,386.28 L129.45,385.95 L131.70,385.63 L133.96,385.30\n",
       "\t\tL136.21,384.96 L138.46,384.62 L140.71,384.27 L142.96,383.91 L145.21,383.56 L147.47,383.19 L149.72,382.82 L151.97,382.45\n",
       "\t\tL154.22,382.06 L156.47,381.68 L158.72,381.28 L160.98,380.88 L163.23,380.48 L165.48,380.07 L167.73,379.65 L169.98,379.22\n",
       "\t\tL172.23,378.79 L174.49,378.35 L176.74,377.91 L178.99,377.46 L181.24,377.00 L183.49,376.53 L185.74,376.06 L188.00,375.58\n",
       "\t\tL190.25,375.10 L192.50,374.60 L194.75,374.10 L197.00,373.59 L199.25,373.08 L201.51,372.55 L203.76,372.02 L206.01,371.48\n",
       "\t\tL208.26,370.93 L210.51,370.37 L212.76,369.81 L215.02,369.24 L217.27,368.65 L219.52,368.06 L221.77,367.47 L224.02,366.86\n",
       "\t\tL226.27,366.24 L228.53,365.61 L230.78,364.98 L233.03,364.34 L235.28,363.68 L237.53,363.02 L239.78,362.34 L242.04,361.66\n",
       "\t\tL244.29,360.97 L246.54,360.26 L248.79,359.55 L251.04,358.83 L253.29,358.09 L255.55,357.35 L257.80,356.59 L260.05,355.82\n",
       "\t\tL262.30,355.04 L264.55,354.25 L266.80,353.45 L269.06,352.64 L271.31,351.82 L273.56,350.98 L275.81,350.13 L278.06,349.27\n",
       "\t\tL280.31,348.40 L282.57,347.51 L284.82,346.61 L287.07,345.70 L289.32,344.78 L291.57,343.84 L293.82,342.89 L296.08,341.93\n",
       "\t\tL298.33,340.95 L300.58,339.95 L302.83,338.95 L305.08,337.93 L307.34,336.89 L309.59,335.84 L311.84,334.78 L314.09,333.70\n",
       "\t\tL316.34,332.60 L318.59,331.49 L320.85,330.36 L323.10,329.22 L325.35,328.06 L327.60,326.89 L329.85,325.69 L332.10,324.48\n",
       "\t\tL334.36,323.26 L336.61,322.02 L338.86,320.75 L341.11,319.48 L343.36,318.18 L345.61,316.87 L347.87,315.53 L350.12,314.18\n",
       "\t\tL352.37,312.81 L354.62,311.42 L356.87,310.01 L359.12,308.58 L361.38,307.13 L363.63,305.66 L365.88,304.17 L368.13,302.66\n",
       "\t\tL370.38,301.13 L372.63,299.58 L374.89,298.00 L377.14,296.40 L379.39,294.78 L381.64,293.14 L383.89,291.48 L386.14,289.79\n",
       "\t\tL388.40,288.08 L390.65,286.34 L392.90,284.59 L395.15,282.80 L397.40,280.99 L399.65,279.16 L401.91,277.30 L404.16,275.42\n",
       "\t\tL406.41,273.51 L408.66,271.57 L410.91,269.61 L413.16,267.62 L415.42,265.60 L417.67,263.55 L419.92,261.48 L422.17,259.38\n",
       "\t\tL424.42,257.25 L426.67,255.09 L428.93,252.90 L431.18,250.68 L433.43,248.43 L435.68,246.14 L437.93,243.83 L440.18,241.49\n",
       "\t\tL442.44,239.11 L444.69,236.70 L446.94,234.26 L449.19,231.78 L451.44,229.27 L453.69,226.73 L455.95,224.15 L458.20,221.53\n",
       "\t\tL460.45,218.88 L462.70,216.20 L464.95,213.47 L467.20,210.71 L469.46,207.92 L471.71,205.08 L473.96,202.21 L476.21,199.29\n",
       "\t\tL478.46,196.34 L480.71,193.35 L482.97,190.31 L485.22,187.24 L487.47,184.12 L489.72,180.96 L491.97,177.76 L494.22,174.51\n",
       "\t\tL496.48,171.22 L498.73,167.89 L500.98,164.51 L503.23,161.08 L505.48,157.61 L507.73,154.09 L509.99,150.52 L512.24,146.91\n",
       "\t\tL514.49,143.24 L516.74,139.53 L518.99,135.77 L521.24,131.95 L523.50,128.08 L525.75,124.17 L528.00,120.19 L530.25,116.17\n",
       "\t\tL532.50,112.09 L534.75,107.96 L537.01,103.77 L539.26,99.52 L541.51,95.21 L543.76,90.85 L546.01,86.43 L548.26,81.95\n",
       "\t\tL550.52,77.41 L552.77,72.81 L555.02,68.15 L557.27,63.42 L559.52,58.63 L561.77,53.78 L564.03,48.86 L566.28,43.87\n",
       "\t\tL568.53,38.82  '/></g>\n",
       "\t</g>\n",
       "<g fill=\"none\" color=\"black\" stroke=\"currentColor\" stroke-width=\"1.00\" stroke-linecap=\"butt\" stroke-linejoin=\"miter\">\n",
       "\t<path stroke='black'  d='M46.14,394.99 L56.64,394.99 M568.53,394.99 L558.03,394.99  '/>\t<g transform=\"translate(36.35,399.54)\" stroke=\"none\" fill=\"black\" font-family=\"Arial\" font-size=\"14.00\"  text-anchor=\"end\">\n",
       "\t\t<text><tspan font-family=\"Arial\" > 0</tspan></text>\n",
       "\t</g>\n",
       "</g>\n",
       "<g fill=\"none\" color=\"black\" stroke=\"currentColor\" stroke-width=\"1.00\" stroke-linecap=\"butt\" stroke-linejoin=\"miter\">\n",
       "\t<path stroke='black'  d='M46.14,353.97 L56.64,353.97 M568.53,353.97 L558.03,353.97  '/>\t<g transform=\"translate(36.35,358.52)\" stroke=\"none\" fill=\"black\" font-family=\"Arial\" font-size=\"14.00\"  text-anchor=\"end\">\n",
       "\t\t<text><tspan font-family=\"Arial\" > 1</tspan></text>\n",
       "\t</g>\n",
       "</g>\n",
       "<g fill=\"none\" color=\"black\" stroke=\"currentColor\" stroke-width=\"1.00\" stroke-linecap=\"butt\" stroke-linejoin=\"miter\">\n",
       "\t<path stroke='black'  d='M46.14,312.96 L56.64,312.96 M568.53,312.96 L558.03,312.96  '/>\t<g transform=\"translate(36.35,317.51)\" stroke=\"none\" fill=\"black\" font-family=\"Arial\" font-size=\"14.00\"  text-anchor=\"end\">\n",
       "\t\t<text><tspan font-family=\"Arial\" > 2</tspan></text>\n",
       "\t</g>\n",
       "</g>\n",
       "<g fill=\"none\" color=\"black\" stroke=\"currentColor\" stroke-width=\"1.00\" stroke-linecap=\"butt\" stroke-linejoin=\"miter\">\n",
       "\t<path stroke='black'  d='M46.14,271.94 L56.64,271.94 M568.53,271.94 L558.03,271.94  '/>\t<g transform=\"translate(36.35,276.49)\" stroke=\"none\" fill=\"black\" font-family=\"Arial\" font-size=\"14.00\"  text-anchor=\"end\">\n",
       "\t\t<text><tspan font-family=\"Arial\" > 3</tspan></text>\n",
       "\t</g>\n",
       "</g>\n",
       "<g fill=\"none\" color=\"black\" stroke=\"currentColor\" stroke-width=\"1.00\" stroke-linecap=\"butt\" stroke-linejoin=\"miter\">\n",
       "\t<path stroke='black'  d='M46.14,230.93 L56.64,230.93 M568.53,230.93 L558.03,230.93  '/>\t<g transform=\"translate(36.35,235.48)\" stroke=\"none\" fill=\"black\" font-family=\"Arial\" font-size=\"14.00\"  text-anchor=\"end\">\n",
       "\t\t<text><tspan font-family=\"Arial\" > 4</tspan></text>\n",
       "\t</g>\n",
       "</g>\n",
       "<g fill=\"none\" color=\"black\" stroke=\"currentColor\" stroke-width=\"1.00\" stroke-linecap=\"butt\" stroke-linejoin=\"miter\">\n",
       "\t<path stroke='black'  d='M46.14,189.91 L56.64,189.91 M568.53,189.91 L558.03,189.91  '/>\t<g transform=\"translate(36.35,194.46)\" stroke=\"none\" fill=\"black\" font-family=\"Arial\" font-size=\"14.00\"  text-anchor=\"end\">\n",
       "\t\t<text><tspan font-family=\"Arial\" > 5</tspan></text>\n",
       "\t</g>\n",
       "</g>\n",
       "<g fill=\"none\" color=\"black\" stroke=\"currentColor\" stroke-width=\"1.00\" stroke-linecap=\"butt\" stroke-linejoin=\"miter\">\n",
       "\t<path stroke='black'  d='M46.14,148.89 L56.64,148.89 M568.53,148.89 L558.03,148.89  '/>\t<g transform=\"translate(36.35,153.44)\" stroke=\"none\" fill=\"black\" font-family=\"Arial\" font-size=\"14.00\"  text-anchor=\"end\">\n",
       "\t\t<text><tspan font-family=\"Arial\" > 6</tspan></text>\n",
       "\t</g>\n",
       "</g>\n",
       "<g fill=\"none\" color=\"black\" stroke=\"currentColor\" stroke-width=\"1.00\" stroke-linecap=\"butt\" stroke-linejoin=\"miter\">\n",
       "\t<path stroke='black'  d='M46.14,107.88 L56.64,107.88 M568.53,107.88 L558.03,107.88  '/>\t<g transform=\"translate(36.35,112.43)\" stroke=\"none\" fill=\"black\" font-family=\"Arial\" font-size=\"14.00\"  text-anchor=\"end\">\n",
       "\t\t<text><tspan font-family=\"Arial\" > 7</tspan></text>\n",
       "\t</g>\n",
       "</g>\n",
       "<g fill=\"none\" color=\"black\" stroke=\"currentColor\" stroke-width=\"1.00\" stroke-linecap=\"butt\" stroke-linejoin=\"miter\">\n",
       "\t<path stroke='black'  d='M46.14,66.86 L56.64,66.86 M568.53,66.86 L558.03,66.86  '/>\t<g transform=\"translate(36.35,71.41)\" stroke=\"none\" fill=\"black\" font-family=\"Arial\" font-size=\"14.00\"  text-anchor=\"end\">\n",
       "\t\t<text><tspan font-family=\"Arial\" > 8</tspan></text>\n",
       "\t</g>\n",
       "</g>\n",
       "<g fill=\"none\" color=\"black\" stroke=\"currentColor\" stroke-width=\"1.00\" stroke-linecap=\"butt\" stroke-linejoin=\"miter\">\n",
       "\t<path stroke='black'  d='M46.14,25.84 L56.64,25.84 M568.53,25.84 L558.03,25.84  '/>\t<g transform=\"translate(36.35,30.39)\" stroke=\"none\" fill=\"black\" font-family=\"Arial\" font-size=\"14.00\"  text-anchor=\"end\">\n",
       "\t\t<text><tspan font-family=\"Arial\" > 9</tspan></text>\n",
       "\t</g>\n",
       "</g>\n",
       "<g fill=\"none\" color=\"black\" stroke=\"currentColor\" stroke-width=\"1.00\" stroke-linecap=\"butt\" stroke-linejoin=\"miter\">\n",
       "\t<path stroke='black'  d='M46.14,412.80 L46.14,402.30 M46.14,21.01 L46.14,31.51  '/>\t<g transform=\"translate(46.14,438.35)\" stroke=\"none\" fill=\"black\" font-family=\"Arial\" font-size=\"14.00\"  text-anchor=\"middle\">\n",
       "\t\t<text><tspan font-family=\"Arial\" > 0</tspan></text>\n",
       "\t</g>\n",
       "</g>\n",
       "<g fill=\"none\" color=\"black\" stroke=\"currentColor\" stroke-width=\"1.00\" stroke-linecap=\"butt\" stroke-linejoin=\"miter\">\n",
       "\t<path stroke='black'  d='M150.62,412.80 L150.62,402.30 M150.62,21.01 L150.62,31.51  '/>\t<g transform=\"translate(150.62,438.35)\" stroke=\"none\" fill=\"black\" font-family=\"Arial\" font-size=\"14.00\"  text-anchor=\"middle\">\n",
       "\t\t<text><tspan font-family=\"Arial\" > 0.2</tspan></text>\n",
       "\t</g>\n",
       "</g>\n",
       "<g fill=\"none\" color=\"black\" stroke=\"currentColor\" stroke-width=\"1.00\" stroke-linecap=\"butt\" stroke-linejoin=\"miter\">\n",
       "\t<path stroke='black'  d='M255.10,412.80 L255.10,402.30 M255.10,21.01 L255.10,31.51  '/>\t<g transform=\"translate(255.10,438.35)\" stroke=\"none\" fill=\"black\" font-family=\"Arial\" font-size=\"14.00\"  text-anchor=\"middle\">\n",
       "\t\t<text><tspan font-family=\"Arial\" > 0.4</tspan></text>\n",
       "\t</g>\n",
       "</g>\n",
       "<g fill=\"none\" color=\"black\" stroke=\"currentColor\" stroke-width=\"1.00\" stroke-linecap=\"butt\" stroke-linejoin=\"miter\">\n",
       "\t<path stroke='black'  d='M359.57,412.80 L359.57,402.30 M359.57,21.01 L359.57,31.51  '/>\t<g transform=\"translate(359.57,438.35)\" stroke=\"none\" fill=\"black\" font-family=\"Arial\" font-size=\"14.00\"  text-anchor=\"middle\">\n",
       "\t\t<text><tspan font-family=\"Arial\" > 0.6</tspan></text>\n",
       "\t</g>\n",
       "</g>\n",
       "<g fill=\"none\" color=\"black\" stroke=\"currentColor\" stroke-width=\"1.00\" stroke-linecap=\"butt\" stroke-linejoin=\"miter\">\n",
       "\t<path stroke='black'  d='M464.05,412.80 L464.05,402.30 M464.05,21.01 L464.05,31.51  '/>\t<g transform=\"translate(464.05,438.35)\" stroke=\"none\" fill=\"black\" font-family=\"Arial\" font-size=\"14.00\"  text-anchor=\"middle\">\n",
       "\t\t<text><tspan font-family=\"Arial\" > 0.8</tspan></text>\n",
       "\t</g>\n",
       "</g>\n",
       "<g fill=\"none\" color=\"black\" stroke=\"currentColor\" stroke-width=\"1.00\" stroke-linecap=\"butt\" stroke-linejoin=\"miter\">\n",
       "\t<path stroke='black'  d='M568.53,412.80 L568.53,402.30 M568.53,21.01 L568.53,31.51  '/>\t<g transform=\"translate(568.53,438.35)\" stroke=\"none\" fill=\"black\" font-family=\"Arial\" font-size=\"14.00\"  text-anchor=\"middle\">\n",
       "\t\t<text><tspan font-family=\"Arial\" > 1</tspan></text>\n",
       "\t</g>\n",
       "</g>\n",
       "<g fill=\"none\" color=\"black\" stroke=\"currentColor\" stroke-width=\"1.00\" stroke-linecap=\"butt\" stroke-linejoin=\"miter\">\n",
       "</g>\n",
       "<g fill=\"none\" color=\"gray\" stroke=\"currentColor\" stroke-width=\"1.00\" stroke-linecap=\"butt\" stroke-linejoin=\"miter\">\n",
       "\t<path stroke='black' stroke-dasharray='2,4'  d='M46.14,394.99 L568.53,394.99  '/></g>\n",
       "<g fill=\"none\" color=\"gray\" stroke=\"currentColor\" stroke-width=\"1.00\" stroke-linecap=\"butt\" stroke-linejoin=\"miter\">\n",
       "\t<path stroke='black' stroke-dasharray='2,4'  d='M46.14,412.80 L46.14,21.01  '/></g>\n",
       "<g fill=\"none\" color=\"gray\" stroke=\"black\" stroke-width=\"2.00\" stroke-linecap=\"butt\" stroke-linejoin=\"miter\">\n",
       "</g>\n",
       "<g fill=\"none\" color=\"black\" stroke=\"currentColor\" stroke-width=\"2.00\" stroke-linecap=\"butt\" stroke-linejoin=\"miter\">\n",
       "</g>\n",
       "<g fill=\"none\" color=\"black\" stroke=\"black\" stroke-width=\"1.00\" stroke-linecap=\"butt\" stroke-linejoin=\"miter\">\n",
       "</g>\n",
       "<g fill=\"none\" color=\"black\" stroke=\"currentColor\" stroke-width=\"1.00\" stroke-linecap=\"butt\" stroke-linejoin=\"miter\">\n",
       "\t<path stroke='black'  d='M46.14,21.01 L46.14,412.80 L568.53,412.80 L568.53,21.01 L46.14,21.01 Z  '/></g>\n",
       "<g fill=\"none\" color=\"black\" stroke=\"currentColor\" stroke-width=\"1.00\" stroke-linecap=\"butt\" stroke-linejoin=\"miter\">\n",
       "</g>\n",
       "</g>\n",
       "</svg>\n",
       "\n"
      ],
      "text/plain": [
       "/tmp/maxplot.svg"
      ]
     },
     "metadata": {},
     "output_type": "display_data"
    },
    {
     "data": {
      "text/latex": [
       "\\[\\tag{${\\it \\%o}_{27}$}\\left[ \\mbox{ /tmp/maxout201.gnuplot } , \\mbox{ /tmp/maxplot.svg } \\right] \\]"
      ],
      "text/plain": [
       "(%o27)            [/tmp/maxout201.gnuplot, /tmp/maxplot.svg]"
      ],
      "text/x-maxima": [
       "[\"/tmp/maxout201.gnuplot\",\"/tmp/maxplot.svg\"]"
      ]
     },
     "execution_count": 13,
     "metadata": {},
     "output_type": "execute_result"
    }
   ],
   "source": [
    "plot2d(\n",
    "    subst(1.0, s, \n",
    "        (%e^(s*tau)-1)*%e^(s*tau)*(%e^(s*tau)+1)/2),\n",
    "[tau, 0, 1]);"
   ]
  },
  {
   "cell_type": "markdown",
   "id": "58878bf2-624c-43bd-b61a-6c42375f19ae",
   "metadata": {
    "incorrectly_encoded_metadata": "tags=[] toc-hr-collapsed=true",
    "tags": []
   },
   "source": [
    "# Appendix"
   ]
  },
  {
   "cell_type": "markdown",
   "id": "a5a97bb0-0200-4419-96b4-1fc956dfb02b",
   "metadata": {
    "tags": []
   },
   "source": [
    "## Original maxima code"
   ]
  },
  {
   "cell_type": "markdown",
   "id": "1c457689-1008-49ac-b5bb-7f1db8149a13",
   "metadata": {},
   "source": [
    "```maxima\n",
    "/* [wxMaxima batch file version 1] [ DO NOT EDIT BY HAND! ]*/\n",
    "/* [ Created with wxMaxima version 18.02.0 ] */\n",
    "/* [wxMaxima: comment start ]\n",
    "Moment generating function.\n",
    "   [wxMaxima: comment end   ] */\n",
    "\n",
    "\n",
    "/* [wxMaxima: input   start ] */\n",
    "genfunc (x, t, n0, kb, kd) := \n",
    "    ((kd * %e^(- (kb - kd) * t) - kd + \n",
    "        (kd - kb * %e^(- (kb - kd) * t)) * x) / \n",
    "        (kd * %e^(- (kb - kd) * t) - kb + \n",
    "        (kb - kb * %e^(- (kb - kd) * t)) * x))^n0;\n",
    "/* [wxMaxima: input   end   ] */\n",
    "\n",
    "\n",
    "/* [wxMaxima: comment start ]\n",
    "Extract the probability distribution.\n",
    "   [wxMaxima: comment end   ] */\n",
    "\n",
    "\n",
    "/* [wxMaxima: input   start ] */\n",
    "probdist (m, t, n0, kb, kd) :=\n",
    "block([gf],\n",
    "    gf : genfunc(z, t, n0, kb, kd),\n",
    "    makelist([j, subst (0, z, diff(gf, z, j) / (j!))],\n",
    "        j, 0, m))$\n",
    "/* [wxMaxima: input   end   ] */\n",
    "\n",
    "\n",
    "/* [wxMaxima: comment start ]\n",
    "Reparameterize it according to diffusion approximation.\n",
    "   [wxMaxima: comment end   ] */\n",
    "\n",
    "\n",
    "/* [wxMaxima: input   start ] */\n",
    "factor(genfunc(z / N, N * tau, N * x0, D + s/(2*N), D - s/(2*N)));\n",
    "/* [wxMaxima: input   end   ] */\n",
    "\n",
    "\n",
    "/* [wxMaxima: input   start ] */\n",
    "renoprob (m, N, tau, x0, D, s) :=\n",
    "    map (lambda ([pa], [pa[1] / N, pa[2] * N]),\n",
    "    probdist (m, N * tau, N * x0, D + s/(2*N), D - s/(2*N)))$\n",
    "/* [wxMaxima: input   end   ] */\n",
    "\n",
    "\n",
    "/* [wxMaxima: comment start ]\n",
    "Plot with values tau = 1.0, x0 = 3.0, D = 1.0, s = 1.0\n",
    "   [wxMaxima: comment end   ] */\n",
    "\n",
    "\n",
    "/* [wxMaxima: input   start ] */\n",
    "wxplot2d([[discrete, renoprob(30, 1, 1.0, 3, 1.0, 1.0)],\n",
    "    [discrete, renoprob(60, 2, 1.0, 3, 1.0, 1.0)],\n",
    "    [discrete, renoprob(90, 3, 1.0, 3, 1.0, 1.0)],\n",
    "    [discrete, renoprob(120, 4, 1.0, 3, 1.0, 1.0)]],\n",
    "    [legend, \"N=1\", \"N=2\", \"N=3\", \"N=4\"],\n",
    "    [xlabel, \"x\"]);\n",
    "/* [wxMaxima: input   end   ] */\n",
    "\n",
    "\n",
    "/* [wxMaxima: comment start ]\n",
    "Check that it is normalized and extract\n",
    "fixation probability.\n",
    "   [wxMaxima: comment end   ] */\n",
    "\n",
    "\n",
    "/* [wxMaxima: input   start ] */\n",
    "genfunc(0, t, n0, kb, kd);\n",
    "factor(genfunc(0, N * tau, N * x0, D + s/(2*N), D - s/(2*N)));\n",
    "genfunc(1, t, n0, kb, kd);\n",
    "/* [wxMaxima: input   end   ] */\n",
    "\n",
    "\n",
    "/* [wxMaxima: comment start ]\n",
    "Functions to compute moments.\n",
    "   [wxMaxima: comment end   ] */\n",
    "\n",
    "\n",
    "/* [wxMaxima: input   start ] */\n",
    "numop(n, gf) := \n",
    "    if n=0 then gf\n",
    "        else numop(n-1, z * diff(gf, z))$\n",
    "mom(m, t, n0, kb, kd) := \n",
    "    factor(subst(1, z, numop(m, genfunc(z, t, n0, kb, kd))))$\n",
    "momren(m, t, n0, kb, kd) := \n",
    "                factor(psubst([t = N * tau, \n",
    "                        n0 = N * x0,\n",
    "                        kb = D + s/(2*N), \n",
    "                        kd = D - s/(2*N)], \n",
    "                mom(m, t, n0, kb, kd) / N^m))$\n",
    "cumu(m, t, n0, kb, kd) := \n",
    "    factor(subst(1, z, numop(m, \n",
    "            log(genfunc(z, t, n0, kb, kd)))))$\n",
    "cumuren(m, zt, n0, kb, kd) := \n",
    "                factor(psubst([t = N * tau, \n",
    "                        n0 = N * x0,\n",
    "                        kb = D + s/(2*N), \n",
    "                        kd = D - s/(2*N)], \n",
    "                cumu(m, t, n0, kb, kd) / N^m))$\n",
    "/* [wxMaxima: input   end   ] */\n",
    "\n",
    "\n",
    "/* [wxMaxima: comment start ]\n",
    "Have a look at the cumulants.\n",
    "   [wxMaxima: comment end   ] */\n",
    "\n",
    "\n",
    "/* [wxMaxima: input   start ] */\n",
    "cumu(1, t, n0, kb, kd);\n",
    "cumu(2, t, n0, kb, kd);\n",
    "cumu(3, t, n0, kb, kd);\n",
    "cumu(4, t, n0, kb, kd);\n",
    "/* [wxMaxima: input   end   ] */\n",
    "\n",
    "\n",
    "/* [wxMaxima: comment start ]\n",
    "Reparameterize the cumulants and collect \n",
    "powers of N.\n",
    "   [wxMaxima: comment end   ] */\n",
    "\n",
    "\n",
    "/* [wxMaxima: input   start ] */\n",
    "cumuren(1, t, n0, kb, kd);\n",
    "cumuren(2, t, n0, kb, kd);\n",
    "/* [wxMaxima: input   end   ] */\n",
    "\n",
    "\n",
    "/* [wxMaxima: input   start ] */\n",
    "block([mo],\n",
    "    mo : expand(cumuren(3, t, n0, kb, kd)),\n",
    "    factor(coeff (mo, N, 0)) +\n",
    "    factor(coeff (mo, N, -2)) / N^2);\n",
    "block([mo],\n",
    "    mo : expand(cumuren(4, t, n0, kb, kd)),\n",
    "    factor(coeff (mo, N, 0)) +\n",
    "    factor(coeff (mo, N, -2)) / N^2);\n",
    "/* [wxMaxima: input   end   ] */\n",
    "\n",
    "\n",
    "/* [wxMaxima: input   start ] */\n",
    "wxplot2d(\n",
    "    subst(1.0, s, \n",
    "        (%e^(s*tau)-1)*%e^(s*tau)*(%e^(s*tau)+1)/2),\n",
    "[tau, 0, 1]);\n",
    "/* [wxMaxima: input   end   ] */\n",
    "\n",
    "\"Created with wxMaxima 18.02.0\"$\n",
    "```"
   ]
  },
  {
   "cell_type": "markdown",
   "id": "0c5ddfc5",
   "metadata": {},
   "source": [
    "```maxima\n",
    "\n",
    "```"
   ]
  }
 ],
 "metadata": {
  "kernelspec": {
   "display_name": "Maxima",
   "language": "maxima",
   "name": "maxima"
  },
  "language_info": {
   "codemirror_mode": "maxima",
   "file_extension": ".mac",
   "mimetype": "text/x-maxima",
   "name": "maxima",
   "pygments_lexer": "maxima",
   "version": "5.45.1"
  },
  "toc-showcode": true,
  "toc-showmarkdowntxt": true
 },
 "nbformat": 4,
 "nbformat_minor": 5
}
