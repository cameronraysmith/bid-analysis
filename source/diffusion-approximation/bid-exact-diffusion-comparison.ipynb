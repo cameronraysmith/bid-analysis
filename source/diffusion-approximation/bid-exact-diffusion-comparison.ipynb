{
 "cells": [
  {
   "cell_type": "markdown",
   "id": "b820a5e6-028f-4082-bbda-1d65a692f822",
   "metadata": {},
   "source": [
    "<center><font size=\"+4\">Comparing the exact solution and diffusion approximation to the birth-immigration-death process</font></center>"
   ]
  },
  {
   "cell_type": "markdown",
   "id": "e15c5663-8e27-41c1-a512-1bf42e4b7c28",
   "metadata": {},
   "source": [
    "# Diffusion limit via generating function"
   ]
  },
  {
   "cell_type": "markdown",
   "id": "b1c268d7-6734-46b1-b4b1-64dae2db3b6d",
   "metadata": {},
   "source": [
    "Define the moment generating function."
   ]
  },
  {
   "cell_type": "code",
   "execution_count": 1,
   "id": "bb30ccce-0cf8-46c4-9239-f74c96274e0c",
   "metadata": {
    "execution": {
     "iopub.execute_input": "2021-08-12T00:28:30Z",
     "iopub.status.busy": "2021-08-12T00:28:30Z",
     "iopub.status.idle": "2021-08-12T00:28:30Z",
     "shell.execute_reply": "2021-08-12T00:28:30Z"
    }
   },
   "outputs": [
    {
     "data": {
      "text/latex": [
       "\\[\\tag{${\\it \\%o}_{1}$}{\\it genfunc}\\left(x , t , n_{0} , {\\it kb} , {\\it kd}\\right):=\\left(\\frac{{\\it kd}\\,e^{\\left(-\\left({\\it kb}-{\\it kd}\\right)\\right)\\,t}-{\\it kd}+\\left({\\it kd}-{\\it kb}\\,e^{\\left(-\\left({\\it kb}-{\\it kd}\\right)\\right)\\,t}\\right)\\,x}{{\\it kd}\\,e^{\\left(-\\left({\\it kb}-{\\it kd}\\right)\\right)\\,t}-{\\it kb}+\\left({\\it kb}-{\\it kb}\\,e^{\\left(-\\left({\\it kb}-{\\it kd}\\right)\\right)\\,t}\\right)\\,x}\\right)^{n_{0}}\\]"
      ],
      "text/plain": [
       "(%o1) genfunc(x, t, n0, kb, kd) := \n",
       "                        (- (kb - kd)) t                   (- (kb - kd)) t\n",
       "                   kd %e                - kd + (kd - kb %e               ) x n0\n",
       "                  (---------------------------------------------------------)\n",
       "                        (- (kb - kd)) t                   (- (kb - kd)) t\n",
       "                   kd %e                - kb + (kb - kb %e               ) x"
      ],
      "text/x-maxima": [
       "genfunc(x,t,n0,kb,kd):=\n",
       "        ((kd*%e^((-(kb-kd))*t)-kd+(kd-kb*%e^((-(kb-kd))*t))*x)\n",
       "         /(kd*%e^((-(kb-kd))*t)-kb+(kb-kb*%e^((-(kb-kd))*t))*x))^n0"
      ]
     },
     "execution_count": 1,
     "metadata": {},
     "output_type": "execute_result"
    }
   ],
   "source": [
    "genfunc (x, t, n0, kb, kd) := \n",
    "    ((kd * %e^(- (kb - kd) * t) - kd + \n",
    "        (kd - kb * %e^(- (kb - kd) * t)) * x) / \n",
    "        (kd * %e^(- (kb - kd) * t) - kb + \n",
    "        (kb - kb * %e^(- (kb - kd) * t)) * x))^n0;"
   ]
  },
  {
   "cell_type": "markdown",
   "id": "f3f0b303-bea6-4171-bb97-c05cf81ec6f4",
   "metadata": {
    "execution": {
     "iopub.execute_input": "2021-08-12T02:05:35Z",
     "iopub.status.busy": "2021-08-12T02:05:35Z",
     "iopub.status.idle": "2021-08-12T02:05:35Z",
     "shell.execute_reply": "2021-08-12T02:05:35Z"
    }
   },
   "source": [
    "Reparameterize it according to the diffusion approximation."
   ]
  },
  {
   "cell_type": "code",
   "execution_count": 22,
   "id": "78b0a963-d238-40f5-ada4-53db57522f40",
   "metadata": {
    "execution": {
     "iopub.execute_input": "2021-08-12T02:05:45Z",
     "iopub.status.busy": "2021-08-12T02:05:45Z",
     "iopub.status.idle": "2021-08-12T02:05:45Z",
     "shell.execute_reply": "2021-08-12T02:05:45Z"
    }
   },
   "outputs": [
    {
     "data": {
      "text/latex": [
       "\\[\\tag{${\\it \\%o}_{68}$}\\left(-\\frac{\\left(\\left(s-2\\,D\\,N\\right)\\,e^{s\\,\\tau}-s+2\\,D\\,N\\right)\\,e^{\\vartheta}+\\left(2\\,D\\,N-s\\right)\\,e^{s\\,\\tau}-s-2\\,D\\,N}{\\left(\\left(s+2\\,D\\,N\\right)\\,e^{s\\,\\tau}+s-2\\,D\\,N\\right)\\,e^{\\vartheta}+\\left(-s-2\\,D\\,N\\right)\\,e^{s\\,\\tau}+s+2\\,D\\,N}\\right)^{N\\,x_{0}}\\]"
      ],
      "text/plain": [
       "                              s tau                theta                 s tau\n",
       "(%o68) expt(- (((s - 2 D N) %e      - s + 2 D N) %e      + (2 D N - s) %e\n",
       "                              s tau                theta\n",
       " - s - 2 D N)/(((s + 2 D N) %e      + s - 2 D N) %e\n",
       "                     s tau\n",
       " + ((- s) - 2 D N) %e      + s + 2 D N), N x0)"
      ],
      "text/x-maxima": [
       "(-(((s-2*D*N)*%e^(s*tau)-s+2*D*N)*%e^theta+(2*D*N-s)*%e^(s*tau)-s-2*D*N)\n",
       " /(((s+2*D*N)*%e^(s*tau)+s-2*D*N)*%e^theta+((-s)-2*D*N)*%e^(s*tau)+s+2*D*N))\n",
       " ^(N*x0)"
      ]
     },
     "execution_count": 22,
     "metadata": {},
     "output_type": "execute_result"
    }
   ],
   "source": [
    "factor(genfunc(%e^(-theta), tau*N, N * x0, D + s/(2*N), D - s/(2*N)));"
   ]
  },
  {
   "cell_type": "markdown",
   "id": "83667c1f-bf4f-433c-bf82-71521484bb0f",
   "metadata": {},
   "source": [
    "Introduce epsilon = 1/N so as to make system size expansion."
   ]
  },
  {
   "cell_type": "code",
   "execution_count": 23,
   "id": "ceced421-a6ba-4c34-9184-ad8ca98635e2",
   "metadata": {
    "execution": {
     "iopub.execute_input": "2021-08-12T02:06:06Z",
     "iopub.status.busy": "2021-08-12T02:06:06Z",
     "iopub.status.idle": "2021-08-12T02:06:06Z",
     "shell.execute_reply": "2021-08-12T02:06:06Z"
    }
   },
   "outputs": [
    {
     "data": {
      "text/latex": [
       "\\[\\tag{${\\it \\%o}_{69}$}\\frac{\\left(-\\left(\\frac{\\varepsilon\\,s}{2}+D\\right)\\,e^ {- s\\,\\tau }-\\frac{\\varepsilon\\,s}{2}+D\\right)\\,e^ {- \\varepsilon\\,\\vartheta }+\\left(D-\\frac{\\varepsilon\\,s}{2}\\right)\\,e^ {- s\\,\\tau }+\\frac{\\varepsilon\\,s}{2}-D}{\\left(-\\left(\\frac{\\varepsilon\\,s}{2}+D\\right)\\,e^ {- s\\,\\tau }+\\frac{\\varepsilon\\,s}{2}+D\\right)\\,e^ {- \\varepsilon\\,\\vartheta }+\\left(D-\\frac{\\varepsilon\\,s}{2}\\right)\\,e^ {- s\\,\\tau }-\\frac{\\varepsilon\\,s}{2}-D}\\]"
      ],
      "text/plain": [
       "             epsilon s        - s tau    epsilon s        - epsilon theta\n",
       "(%o69) (((- (--------- + D) %e       ) - --------- + D) %e\n",
       "                 2                           2\n",
       "        epsilon s    - s tau   epsilon s\n",
       " + (D - ---------) %e        + --------- - D)\n",
       "            2                      2\n",
       "       epsilon s        - s tau    epsilon s        - epsilon theta\n",
       "/(((- (--------- + D) %e       ) + --------- + D) %e\n",
       "           2                           2\n",
       "        epsilon s    - s tau   epsilon s\n",
       " + (D - ---------) %e        - --------- - D)\n",
       "            2                      2"
      ],
      "text/x-maxima": [
       "(((-((epsilon*s)/2+D)*%e^-(s*tau))-(epsilon*s)/2+D)*%e^-(epsilon*theta)\n",
       " +(D-(epsilon*s)/2)*%e^-(s*tau)+(epsilon*s)/2-D)\n",
       " /(((-((epsilon*s)/2+D)*%e^-(s*tau))+(epsilon*s)/2+D)*%e^-(epsilon*theta)\n",
       "  +(D-(epsilon*s)/2)*%e^-(s*tau)-(epsilon*s)/2-D)"
      ]
     },
     "execution_count": 23,
     "metadata": {},
     "output_type": "execute_result"
    }
   ],
   "source": [
    "geneps : genfunc(%e^(-theta * epsilon), tau / epsilon, 1, \n",
    "    D + s * epsilon/2, D - s* epsilon /2);"
   ]
  },
  {
   "cell_type": "markdown",
   "id": "d09c04c2-8587-4bbe-a04e-b85563f6ee2f",
   "metadata": {},
   "source": [
    "Expand the cumulant generating function."
   ]
  },
  {
   "cell_type": "code",
   "execution_count": 26,
   "id": "d005785c-5650-4216-a0f5-7d665f134252",
   "metadata": {
    "execution": {
     "iopub.execute_input": "2021-08-12T02:06:36Z",
     "iopub.status.busy": "2021-08-12T02:06:36Z",
     "iopub.status.idle": "2021-08-12T02:06:36Z",
     "shell.execute_reply": "2021-08-12T02:06:36Z"
    },
    "tags": []
   },
   "outputs": [
    {
     "data": {
      "text/latex": [
       "\\[\\tag{${\\it \\%o}_{72}$}-\\frac{s\\,e^{s\\,\\tau}\\,\\vartheta\\,x_{0}}{D\\,e^{s\\,\\tau}\\,\\vartheta-D\\,\\vartheta+s}-\\frac{\\varepsilon^2\\,\\left(s^2\\,\\left(D\\,e^{s\\,\\tau}\\,\\vartheta^4-D\\,e^{2\\,s\\,\\tau}\\,\\vartheta^4\\right)+s^3\\,\\left(e^{3\\,s\\,\\tau}\\,\\vartheta^3-e^{s\\,\\tau}\\,\\vartheta^3\\right)\\right)\\,x_{0}}{12\\,D^3\\,e^{3\\,s\\,\\tau}\\,\\vartheta^3-36\\,D^3\\,e^{2\\,s\\,\\tau}\\,\\vartheta^3+36\\,D^3\\,e^{s\\,\\tau}\\,\\vartheta^3-12\\,D^3\\,\\vartheta^3+s\\,\\left(36\\,D^2\\,e^{2\\,s\\,\\tau}\\,\\vartheta^2-72\\,D^2\\,e^{s\\,\\tau}\\,\\vartheta^2+36\\,D^2\\,\\vartheta^2\\right)+s^2\\,\\left(36\\,D\\,e^{s\\,\\tau}\\,\\vartheta-36\\,D\\,\\vartheta\\right)+12\\,s^3}\\]"
      ],
      "text/plain": [
       "                   s tau\n",
       "               s %e      theta x0\n",
       "(%o72) (- -----------------------------)\n",
       "              s tau\n",
       "          D %e      theta - D theta + s\n",
       "           2   2      s tau      4       2 s tau      4\n",
       " - (epsilon  (s  (D %e      theta  - D %e        theta )\n",
       "    3    3 s tau      3     s tau      3\n",
       " + s  (%e        theta  - %e      theta )) x0)\n",
       "      3   3 s tau      3       3   2 s tau      3       3   s tau      3\n",
       "/(12 D  %e        theta  - 36 D  %e        theta  + 36 D  %e      theta\n",
       "       3      3          2   2 s tau      2       2   s tau      2\n",
       " - 12 D  theta  + s (36 D  %e        theta  - 72 D  %e      theta\n",
       "       2      2     2         s tau                           3\n",
       " + 36 D  theta ) + s  (36 D %e      theta - 36 D theta) + 12 s )"
      ],
      "text/x-maxima": [
       "(-(s*%e^(s*tau)*theta*x0)/(D*%e^(s*tau)*theta-D*theta+s))\n",
       " -(epsilon^2*(s^2*(D*%e^(s*tau)*theta^4-D*%e^(2*s*tau)*theta^4)\n",
       "             +s^3*(%e^(3*s*tau)*theta^3-%e^(s*tau)*theta^3))*x0)\n",
       "  /(12*D^3*%e^(3*s*tau)*theta^3-36*D^3*%e^(2*s*tau)*theta^3\n",
       "                               +36*D^3*%e^(s*tau)*theta^3-12*D^3*theta^3\n",
       "                               +s*(36*D^2*%e^(2*s*tau)*theta^2\n",
       "                                  -72*D^2*%e^(s*tau)*theta^2+36*D^2*theta^2)\n",
       "                               +s^2*(36*D*%e^(s*tau)*theta-36*D*theta)+12*s^3)"
      ]
     },
     "execution_count": 26,
     "metadata": {},
     "output_type": "execute_result"
    }
   ],
   "source": [
    "(x0/epsilon)*taylor(log(geneps), epsilon, 0, 3);"
   ]
  },
  {
   "cell_type": "markdown",
   "id": "e1ba2066-bbc5-4139-b1bc-b2300b188bbd",
   "metadata": {},
   "source": [
    "# Compute cumulants for exact and diffusion of the BD process"
   ]
  },
  {
   "cell_type": "code",
   "execution_count": 2,
   "id": "7cf2b7e5-107c-4ffa-9c10-41175579f136",
   "metadata": {
    "execution": {
     "iopub.execute_input": "2021-08-12T00:28:45Z",
     "iopub.status.busy": "2021-08-12T00:28:45Z",
     "iopub.status.idle": "2021-08-12T00:28:45Z",
     "shell.execute_reply": "2021-08-12T00:28:45Z"
    }
   },
   "outputs": [],
   "source": [
    "numop(n, gf) := \n",
    "    if n=0 then gf\n",
    "        else numop(n-1, z * diff(gf, z))$\n",
    "cumu(m, t, n0, kb, kd) := \n",
    "    factor(subst(1, z, numop(m, \n",
    "            log(genfunc(z, t, n0, kb, kd)))))$"
   ]
  },
  {
   "cell_type": "code",
   "execution_count": 8,
   "id": "e4b4043f-4dc7-4ca0-b5b9-21ea172b71cb",
   "metadata": {
    "execution": {
     "iopub.execute_input": "2021-08-12T00:36:49Z",
     "iopub.status.busy": "2021-08-12T00:36:49Z",
     "iopub.status.idle": "2021-08-12T00:36:49Z",
     "shell.execute_reply": "2021-08-12T00:36:49Z"
    }
   },
   "outputs": [
    {
     "data": {
      "text/latex": [
       "\\[\\tag{${\\it \\%o}_{22}$}0\\]"
      ],
      "text/plain": [
       "(%o22)                                 0"
      ],
      "text/x-maxima": [
       "0"
      ]
     },
     "execution_count": 8,
     "metadata": {},
     "output_type": "execute_result"
    }
   ],
   "source": [
    "cumu(0, t, n0, kb, kd);"
   ]
  },
  {
   "cell_type": "code",
   "execution_count": 20,
   "id": "024c7358-0568-43d2-8eeb-63922c028b44",
   "metadata": {
    "execution": {
     "iopub.execute_input": "2021-08-12T01:48:59Z",
     "iopub.status.busy": "2021-08-12T01:48:59Z",
     "iopub.status.idle": "2021-08-12T01:48:59Z",
     "shell.execute_reply": "2021-08-12T01:48:59Z"
    },
    "tags": []
   },
   "outputs": [
    {
     "data": {
      "text/latex": [
       "\\[\\tag{${\\it \\%o}_{64}$}n_{0}\\,e^{{\\it kb}\\,t-{\\it kd}\\,t}\\]"
      ],
      "text/plain": [
       "                                    kb t - kd t\n",
       "(%o64)                         n0 %e"
      ],
      "text/x-maxima": [
       "n0*%e^(kb*t-kd*t)"
      ]
     },
     "execution_count": 20,
     "metadata": {},
     "output_type": "execute_result"
    },
    {
     "data": {
      "text/latex": [
       "\\[\\tag{${\\it \\%o}_{65}$}\\frac{\\left({\\it kd}+{\\it kb}\\right)\\,n_{0}\\,\\left(e^{{\\it kd}\\,t}-e^{{\\it kb}\\,t}\\right)\\,e^{{\\it kb}\\,t-2\\,{\\it kd}\\,t}}{{\\it kd}-{\\it kb}}\\]"
      ],
      "text/plain": [
       "                                kd t     kb t    kb t - 2 kd t\n",
       "                (kd + kb) n0 (%e     - %e    ) %e\n",
       "(%o65)          ----------------------------------------------\n",
       "                                   kd - kb"
      ],
      "text/x-maxima": [
       "((kd+kb)*n0*(%e^(kd*t)-%e^(kb*t))*%e^(kb*t-2*kd*t))/(kd-kb)"
      ]
     },
     "execution_count": 20,
     "metadata": {},
     "output_type": "execute_result"
    },
    {
     "data": {
      "text/latex": [
       "\\[\\tag{${\\it \\%o}_{66}$}\\frac{n_{0}\\,\\left(e^{{\\it kd}\\,t}-e^{{\\it kb}\\,t}\\right)\\,\\left({\\it kd}^2\\,e^{{\\it kd}\\,t}+4\\,{\\it kb}\\,{\\it kd}\\,e^{{\\it kd}\\,t}+{\\it kb}^2\\,e^{{\\it kd}\\,t}-2\\,{\\it kd}^2\\,e^{{\\it kb}\\,t}-2\\,{\\it kb}\\,{\\it kd}\\,e^{{\\it kb}\\,t}-2\\,{\\it kb}^2\\,e^{{\\it kb}\\,t}\\right)\\,e^{{\\it kb}\\,t-3\\,{\\it kd}\\,t}}{\\left({\\it kd}-{\\it kb}\\right)^2}\\]"
      ],
      "text/plain": [
       "              kd t     kb t     2   kd t             kd t     2   kd t\n",
       "(%o66) (n0 (%e     - %e    ) (kd  %e     + 4 kb kd %e     + kb  %e\n",
       "          2   kb t             kb t       2   kb t    kb t - 3 kd t           2\n",
       "    - 2 kd  %e     - 2 kb kd %e     - 2 kb  %e    ) %e             )/(kd - kb)"
      ],
      "text/x-maxima": [
       "(n0*(%e^(kd*t)-%e^(kb*t))\n",
       "   *(kd^2*%e^(kd*t)+4*kb*kd*%e^(kd*t)+kb^2*%e^(kd*t)-2*kd^2*%e^(kb*t)\n",
       "                   -2*kb*kd*%e^(kb*t)-2*kb^2*%e^(kb*t))*%e^(kb*t-3*kd*t))\n",
       " /(kd-kb)^2"
      ]
     },
     "execution_count": 20,
     "metadata": {},
     "output_type": "execute_result"
    },
    {
     "data": {
      "text/latex": [
       "\\[\\tag{${\\it \\%o}_{67}$}\\frac{\\left({\\it kd}+{\\it kb}\\right)\\,n_{0}\\,\\left(e^{{\\it kd}\\,t}-e^{{\\it kb}\\,t}\\right)\\,e^{{\\it kb}\\,t-4\\,{\\it kd}\\,t}\\,\\left(-6\\,{\\it kd}^2\\,e^{{\\it kd}\\,t+{\\it kb}\\,t}-12\\,{\\it kb}\\,{\\it kd}\\,e^{{\\it kd}\\,t+{\\it kb}\\,t}-6\\,{\\it kb}^2\\,e^{{\\it kd}\\,t+{\\it kb}\\,t}+{\\it kd}^2\\,e^{2\\,{\\it kd}\\,t}+10\\,{\\it kb}\\,{\\it kd}\\,e^{2\\,{\\it kd}\\,t}+{\\it kb}^2\\,e^{2\\,{\\it kd}\\,t}+6\\,{\\it kd}^2\\,e^{2\\,{\\it kb}\\,t}+6\\,{\\it kb}^2\\,e^{2\\,{\\it kb}\\,t}\\right)}{\\left({\\it kd}-{\\it kb}\\right)^3}\\]"
      ],
      "text/plain": [
       "                        kd t     kb t    kb t - 4 kd t\n",
       "(%o67) ((kd + kb) n0 (%e     - %e    ) %e\n",
       "         2   kd t + kb t               kd t + kb t       2   kd t + kb t\n",
       " ((- 6 kd  %e           ) - 12 kb kd %e            - 6 kb  %e\n",
       "     2   2 kd t              2 kd t     2   2 kd t       2   2 kb t\n",
       " + kd  %e       + 10 kb kd %e       + kb  %e       + 6 kd  %e\n",
       "       2   2 kb t            3\n",
       " + 6 kb  %e      ))/(kd - kb)"
      ],
      "text/x-maxima": [
       "((kd+kb)*n0*(%e^(kd*t)-%e^(kb*t))*%e^(kb*t-4*kd*t)\n",
       "        *((-6*kd^2*%e^(kd*t+kb*t))-12*kb*kd*%e^(kd*t+kb*t)\n",
       "                                  -6*kb^2*%e^(kd*t+kb*t)+kd^2*%e^(2*kd*t)\n",
       "                                  +10*kb*kd*%e^(2*kd*t)+kb^2*%e^(2*kd*t)\n",
       "                                  +6*kd^2*%e^(2*kb*t)+6*kb^2*%e^(2*kb*t)))\n",
       " /(kd-kb)^3"
      ]
     },
     "execution_count": 20,
     "metadata": {},
     "output_type": "execute_result"
    }
   ],
   "source": [
    "cumu(1, t, n0, kb, kd);\n",
    "cumu(2, t, n0, kb, kd);\n",
    "cumu(3, t, n0, kb, kd);\n",
    "cumu(4, t, n0, kb, kd);"
   ]
  },
  {
   "cell_type": "code",
   "execution_count": 16,
   "id": "be0febb0-2674-48c4-8ac0-f740dd49e9da",
   "metadata": {
    "execution": {
     "iopub.execute_input": "2021-08-12T00:52:07Z",
     "iopub.status.busy": "2021-08-12T00:52:07Z",
     "iopub.status.idle": "2021-08-12T00:52:07Z",
     "shell.execute_reply": "2021-08-12T00:52:07Z"
    },
    "tags": []
   },
   "outputs": [
    {
     "data": {
      "text/latex": [
       "\\[\\tag{${\\it \\%o}_{48}$}e^{s\\,t}\\,x_{0}\\]"
      ],
      "text/plain": [
       "                                     s t\n",
       "(%o48)                             %e    x0"
      ],
      "text/x-maxima": [
       "%e^(s*t)*x0"
      ]
     },
     "execution_count": 16,
     "metadata": {},
     "output_type": "execute_result"
    },
    {
     "data": {
      "text/latex": [
       "\\[\\tag{${\\it \\%o}_{49}$}\\frac{\\left(2\\,D\\,e^{2\\,s\\,t}-2\\,D\\,e^{s\\,t}\\right)\\,x_{0}}{s}\\]"
      ],
      "text/plain": [
       "                                2 s t         s t\n",
       "                         (2 D %e      - 2 D %e   ) x0\n",
       "(%o49)                   ----------------------------\n",
       "                                      s"
      ],
      "text/x-maxima": [
       "((2*D*%e^(2*s*t)-2*D*%e^(s*t))*x0)/s"
      ]
     },
     "execution_count": 16,
     "metadata": {},
     "output_type": "execute_result"
    },
    {
     "data": {
      "text/latex": [
       "\\[\\tag{${\\it \\%o}_{50}$}\\frac{\\left(6\\,D^2\\,e^{3\\,s\\,t}-12\\,D^2\\,e^{2\\,s\\,t}+6\\,D^2\\,e^{s\\,t}\\right)\\,x_{0}}{s^2}+\\frac{\\varepsilon^2\\,\\left(e^{3\\,s\\,t}-e^{s\\,t}\\right)\\,x_{0}}{2}\\]"
      ],
      "text/plain": [
       "           2   3 s t       2   2 s t      2   s t\n",
       "       (6 D  %e      - 12 D  %e      + 6 D  %e   ) x0\n",
       "(%o50) ----------------------------------------------\n",
       "                              2\n",
       "                             s\n",
       "                                                         2    3 s t     s t\n",
       "                                                  epsilon  (%e      - %e   ) x0\n",
       "                                                + -----------------------------\n",
       "                                                                2"
      ],
      "text/x-maxima": [
       "((6*D^2*%e^(3*s*t)-12*D^2*%e^(2*s*t)+6*D^2*%e^(s*t))*x0)/s^2\n",
       " +(epsilon^2*(%e^(3*s*t)-%e^(s*t))*x0)/2"
      ]
     },
     "execution_count": 16,
     "metadata": {},
     "output_type": "execute_result"
    },
    {
     "data": {
      "text/latex": [
       "\\[\\tag{${\\it \\%o}_{51}$}\\frac{\\left(24\\,D^3\\,e^{4\\,s\\,t}-72\\,D^3\\,e^{3\\,s\\,t}+72\\,D^3\\,e^{2\\,s\\,t}-24\\,D^3\\,e^{s\\,t}\\right)\\,x_{0}}{s^3}+\\frac{\\varepsilon^2\\,\\left(6\\,D\\,e^{4\\,s\\,t}-6\\,D\\,e^{3\\,s\\,t}-4\\,D\\,e^{2\\,s\\,t}+4\\,D\\,e^{s\\,t}\\right)\\,x_{0}}{s}\\]"
      ],
      "text/plain": [
       "            3   4 s t       3   3 s t       3   2 s t       3   s t\n",
       "       (24 D  %e      - 72 D  %e      + 72 D  %e      - 24 D  %e   ) x0\n",
       "(%o51) ----------------------------------------------------------------\n",
       "                                       3\n",
       "                                      s\n",
       "                     2        4 s t         3 s t         2 s t         s t\n",
       "              epsilon  (6 D %e      - 6 D %e      - 4 D %e      + 4 D %e   ) x0\n",
       "            + -----------------------------------------------------------------\n",
       "                                              s"
      ],
      "text/x-maxima": [
       "((24*D^3*%e^(4*s*t)-72*D^3*%e^(3*s*t)+72*D^3*%e^(2*s*t)-24*D^3*%e^(s*t))*x0)\n",
       " /s^3\n",
       " +(epsilon^2*(6*D*%e^(4*s*t)-6*D*%e^(3*s*t)-4*D*%e^(2*s*t)+4*D*%e^(s*t))*x0)/s"
      ]
     },
     "execution_count": 16,
     "metadata": {},
     "output_type": "execute_result"
    }
   ],
   "source": [
    "difcum1 : taylor(epsilon * cumu(1, t / epsilon, x0 / epsilon, \n",
    "        D + s * epsilon / 2, D - s * epsilon / 2), epsilon, 0, 2);\n",
    "difcum2 : taylor(epsilon^2 * cumu(2, t / epsilon, x0 / epsilon, \n",
    "        D + s * epsilon / 2, D - s * epsilon / 2), epsilon, 0, 2);\n",
    "difcum3 : taylor(epsilon^3 * cumu(3, t / epsilon, x0 / epsilon, \n",
    "        D + s * epsilon / 2, D - s * epsilon / 2), epsilon, 0, 2);\n",
    "difcum4 : taylor(epsilon^4 * cumu(4, t / epsilon, x0 / epsilon, \n",
    "        D + s * epsilon / 2, D - s * epsilon / 2), epsilon, 0, 2);"
   ]
  },
  {
   "cell_type": "code",
   "execution_count": 14,
   "id": "305154ac-fa72-4d14-9f9b-23aec95dddcf",
   "metadata": {
    "execution": {
     "iopub.execute_input": "2021-08-12T00:51:13Z",
     "iopub.status.busy": "2021-08-12T00:51:12Z",
     "iopub.status.idle": "2021-08-12T00:51:13Z",
     "shell.execute_reply": "2021-08-12T00:51:13Z"
    },
    "tags": []
   },
   "outputs": [
    {
     "data": {
      "text/latex": [
       "\\[\\tag{${\\it \\%o}_{40}$}e^{s\\,t}\\,x_{0}\\]"
      ],
      "text/plain": [
       "                                     s t\n",
       "(%o40)                             %e    x0"
      ],
      "text/x-maxima": [
       "%e^(s*t)*x0"
      ]
     },
     "execution_count": 14,
     "metadata": {},
     "output_type": "execute_result"
    },
    {
     "data": {
      "text/latex": [
       "\\[\\tag{${\\it \\%o}_{41}$}\\frac{2\\,D\\,\\left(e^{s\\,t}-1\\right)\\,e^{s\\,t}\\,x_{0}}{s}\\]"
      ],
      "text/plain": [
       "                                  s t        s t\n",
       "                           2 D (%e    - 1) %e    x0\n",
       "(%o41)                     ------------------------\n",
       "                                      s"
      ],
      "text/x-maxima": [
       "(2*D*(%e^(s*t)-1)*%e^(s*t)*x0)/s"
      ]
     },
     "execution_count": 14,
     "metadata": {},
     "output_type": "execute_result"
    },
    {
     "data": {
      "text/latex": [
       "\\[\\tag{${\\it \\%o}_{42}$}\\frac{6\\,D^2\\,\\left(e^{s\\,t}-1\\right)^2\\,e^{s\\,t}\\,x_{0}}{s^2}\\]"
      ],
      "text/plain": [
       "                             2    s t     2   s t\n",
       "                          6 D  (%e    - 1)  %e    x0\n",
       "(%o42)                    --------------------------\n",
       "                                       2\n",
       "                                      s"
      ],
      "text/x-maxima": [
       "(6*D^2*(%e^(s*t)-1)^2*%e^(s*t)*x0)/s^2"
      ]
     },
     "execution_count": 14,
     "metadata": {},
     "output_type": "execute_result"
    },
    {
     "data": {
      "text/latex": [
       "\\[\\tag{${\\it \\%o}_{43}$}\\frac{24\\,D^3\\,\\left(e^{s\\,t}-1\\right)^3\\,e^{s\\,t}\\,x_{0}}{s^3}\\]"
      ],
      "text/plain": [
       "                              3    s t     3   s t\n",
       "                          24 D  (%e    - 1)  %e    x0\n",
       "(%o43)                    ---------------------------\n",
       "                                       3\n",
       "                                      s"
      ],
      "text/x-maxima": [
       "(24*D^3*(%e^(s*t)-1)^3*%e^(s*t)*x0)/s^3"
      ]
     },
     "execution_count": 14,
     "metadata": {},
     "output_type": "execute_result"
    }
   ],
   "source": [
    "difcum1first : factor(taylor(epsilon * cumu(1, t / epsilon, x0 / epsilon, \n",
    "        D + s * epsilon / 2, D - s * epsilon / 2), epsilon, 0, 1));\n",
    "difcum2first : factor(taylor(epsilon^2 * cumu(2, t / epsilon, x0 / epsilon, \n",
    "        D + s * epsilon / 2, D - s * epsilon / 2), epsilon, 0, 1));\n",
    "difcum3first : factor(taylor(epsilon^3 * cumu(3, t / epsilon, x0 / epsilon, \n",
    "        D + s * epsilon / 2, D - s * epsilon / 2), epsilon, 0, 1));\n",
    "difcum4first : factor(taylor(epsilon^4 * cumu(4, t / epsilon, x0 / epsilon, \n",
    "        D + s * epsilon / 2, D - s * epsilon / 2), epsilon, 0, 1));"
   ]
  },
  {
   "cell_type": "code",
   "execution_count": 11,
   "id": "daeb1e48-a723-4780-8146-dc40c2745b1c",
   "metadata": {
    "execution": {
     "iopub.execute_input": "2021-08-12T00:49:21Z",
     "iopub.status.busy": "2021-08-12T00:49:21Z",
     "iopub.status.idle": "2021-08-12T00:49:21Z",
     "shell.execute_reply": "2021-08-12T00:49:21Z"
    },
    "tags": []
   },
   "outputs": [
    {
     "data": {
      "text/latex": [
       "\\[\\tag{${\\it \\%o}_{31}$}e^{s\\,t}\\,x_{0}\\]"
      ],
      "text/plain": [
       "                                     s t\n",
       "(%o31)                             %e    x0"
      ],
      "text/x-maxima": [
       "%e^(s*t)*x0"
      ]
     },
     "execution_count": 11,
     "metadata": {},
     "output_type": "execute_result"
    },
    {
     "data": {
      "text/latex": [
       "\\[\\tag{${\\it \\%o}_{32}$}\\frac{2\\,D\\,\\left(e^{s\\,t}-1\\right)\\,e^{s\\,t}\\,x_{0}}{s}\\]"
      ],
      "text/plain": [
       "                                  s t        s t\n",
       "                           2 D (%e    - 1) %e    x0\n",
       "(%o32)                     ------------------------\n",
       "                                      s"
      ],
      "text/x-maxima": [
       "(2*D*(%e^(s*t)-1)*%e^(s*t)*x0)/s"
      ]
     },
     "execution_count": 11,
     "metadata": {},
     "output_type": "execute_result"
    },
    {
     "data": {
      "text/latex": [
       "\\[\\tag{${\\it \\%o}_{33}$}\\frac{\\left(e^{s\\,t}-1\\right)\\,e^{s\\,t}\\,\\left(12\\,D^2\\,e^{s\\,t}-12\\,D^2\\right)\\,x_{0}}{2\\,s^2}\\]"
      ],
      "text/plain": [
       "                     s t        s t      2   s t       2\n",
       "                  (%e    - 1) %e    (12 D  %e    - 12 D ) x0\n",
       "(%o33)            ------------------------------------------\n",
       "                                        2\n",
       "                                     2 s"
      ],
      "text/x-maxima": [
       "((%e^(s*t)-1)*%e^(s*t)*(12*D^2*%e^(s*t)-12*D^2)*x0)/(2*s^2)"
      ]
     },
     "execution_count": 11,
     "metadata": {},
     "output_type": "execute_result"
    },
    {
     "data": {
      "text/latex": [
       "\\[\\tag{${\\it \\%o}_{34}$}\\frac{2\\,D\\,\\left(e^{s\\,t}-1\\right)\\,e^{s\\,t}\\,\\left(12\\,D^2\\,e^{2\\,s\\,t}-24\\,D^2\\,e^{s\\,t}+12\\,D^2\\right)\\,x_{0}}{s^3}\\]"
      ],
      "text/plain": [
       "               s t        s t      2   2 s t       2   s t       2\n",
       "        2 D (%e    - 1) %e    (12 D  %e      - 24 D  %e    + 12 D ) x0\n",
       "(%o34)  --------------------------------------------------------------\n",
       "                                       3\n",
       "                                      s"
      ],
      "text/x-maxima": [
       "(2*D*(%e^(s*t)-1)*%e^(s*t)*(12*D^2*%e^(2*s*t)-24*D^2*%e^(s*t)+12*D^2)*x0)/s^3"
      ]
     },
     "execution_count": 11,
     "metadata": {},
     "output_type": "execute_result"
    }
   ],
   "source": [
    "difcum1 : subst(0, epsilon, epsilon * cumu(1, t / epsilon, x0 / epsilon, \n",
    "        D + s * epsilon / 2, D - s * epsilon / 2));\n",
    "difcum2 : subst(0, epsilon, epsilon^2 * cumu(2, t / epsilon, x0 / epsilon, \n",
    "        D + s * epsilon / 2, D - s * epsilon / 2));\n",
    "difcum3 : subst(0, epsilon, epsilon^3 * cumu(3, t / epsilon, x0 / epsilon, \n",
    "        D + s * epsilon / 2, D - s * epsilon / 2));\n",
    "difcum4 : subst(0, epsilon, epsilon^4 * cumu(4, t / epsilon, x0 / epsilon, \n",
    "        D + s * epsilon / 2, D - s * epsilon / 2));"
   ]
  },
  {
   "cell_type": "code",
   "execution_count": 7,
   "id": "f8d154e7-d472-4fee-8142-d738c8b9ff2f",
   "metadata": {
    "execution": {
     "iopub.execute_input": "2021-08-12T00:30:05Z",
     "iopub.status.busy": "2021-08-12T00:30:05Z",
     "iopub.status.idle": "2021-08-12T00:30:05Z",
     "shell.execute_reply": "2021-08-12T00:30:05Z"
    }
   },
   "outputs": [
    {
     "data": {
      "text/latex": [
       "\\[\\tag{${\\it \\%o}_{20}$}0\\]"
      ],
      "text/plain": [
       "(%o20)                                 0"
      ],
      "text/x-maxima": [
       "0"
      ]
     },
     "execution_count": 7,
     "metadata": {},
     "output_type": "execute_result"
    },
    {
     "data": {
      "text/latex": [
       "\\[\\tag{${\\it \\%o}_{21}$}0\\]"
      ],
      "text/plain": [
       "(%o21)                                 0"
      ],
      "text/x-maxima": [
       "0"
      ]
     },
     "execution_count": 7,
     "metadata": {},
     "output_type": "execute_result"
    }
   ],
   "source": [
    "factor(2 * difcum3 * difcum1 - 3 * difcum2^2);\n",
    "factor(difcum4 * difcum1^2 - 3 * difcum2^3 );"
   ]
  }
 ],
 "metadata": {
  "kernelspec": {
   "display_name": "Maxima",
   "language": "maxima",
   "name": "maxima"
  },
  "language_info": {
   "codemirror_mode": "maxima",
   "file_extension": ".mac",
   "mimetype": "text/x-maxima",
   "name": "maxima",
   "pygments_lexer": "maxima",
   "version": "5.45.1"
  }
 },
 "nbformat": 4,
 "nbformat_minor": 5
}
