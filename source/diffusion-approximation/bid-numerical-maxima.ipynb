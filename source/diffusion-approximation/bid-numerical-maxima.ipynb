{
 "cells": [
  {
   "cell_type": "markdown",
   "id": "b820a5e6-028f-4082-bbda-1d65a692f822",
   "metadata": {},
   "source": [
    "# Numerical approximation of the birth-immigration-death process\n",
    "\n",
    "<!-- <center><font size=\"+4\">Comparing the exact solution and diffusion approximation to the birth-immigration-death process</font></center> -->"
   ]
  },
  {
   "cell_type": "markdown",
   "id": "92823f99-950c-4b38-8d4f-957667ccd0a1",
   "metadata": {},
   "source": [
    "## Birth-death"
   ]
  },
  {
   "cell_type": "markdown",
   "id": "19840ed2-2914-4319-8726-81759c59f9af",
   "metadata": {},
   "source": [
    "### Exact solution"
   ]
  },
  {
   "cell_type": "code",
   "execution_count": 1,
   "id": "2108dd75-80d2-4339-bc90-2940f7dc7376",
   "metadata": {
    "execution": {
     "iopub.execute_input": "2022-03-18T18:25:36Z",
     "iopub.status.busy": "2022-03-18T18:25:36Z",
     "iopub.status.idle": "2022-03-18T18:25:36Z",
     "shell.execute_reply": "2022-03-18T18:25:36Z"
    },
    "tags": []
   },
   "outputs": [
    {
     "data": {
      "text/latex": [
       "\\[\\tag{${\\it \\%o}_{0}$}{\\it apiece}\\left(\\tau , \\sigma\\right):=\\frac{-\\left(\\sigma-1\\right)\\,\\left(e^{\\tau}-1\\right)}{\\sigma\\,e^{\\tau}+e^{\\tau}+\\sigma-1}\\]"
      ],
      "text/plain": [
       "                                                       tau\n",
       "                                      - (sigma - 1) (%e    - 1)\n",
       "(%o0)        apiece(tau, sigma) := -------------------------------\n",
       "                                           tau     tau\n",
       "                                   sigma %e    + %e    + sigma - 1"
      ],
      "text/x-maxima": [
       "apiece(tau,sigma):=(-(sigma-1)*(%e^tau-1))/(sigma*%e^tau+%e^tau+sigma-1)"
      ]
     },
     "execution_count": 1,
     "metadata": {},
     "output_type": "execute_result"
    },
    {
     "data": {
      "text/latex": [
       "\\[\\tag{${\\it \\%o}_{1}$}{\\it bpiece}\\left(\\tau , \\sigma\\right):=\\frac{4\\,\\sigma^2\\,e^{\\tau}}{\\left(\\sigma\\,e^{\\tau}+e^{\\tau}+\\sigma-1\\right)^2}\\]"
      ],
      "text/plain": [
       "                                                  2   tau\n",
       "                                           4 sigma  %e\n",
       "(%o1)      bpiece(tau, sigma) := ----------------------------------\n",
       "                                          tau     tau             2\n",
       "                                 (sigma %e    + %e    + sigma - 1)"
      ],
      "text/x-maxima": [
       "bpiece(tau,sigma):=(4*sigma^2*%e^tau)/(sigma*%e^tau+%e^tau+sigma-1)^2"
      ]
     },
     "execution_count": 1,
     "metadata": {},
     "output_type": "execute_result"
    },
    {
     "data": {
      "text/latex": [
       "\\[\\tag{${\\it \\%o}_{2}$}{\\it cpiece}\\left(\\tau , \\sigma\\right):=\\frac{\\left(\\sigma+1\\right)\\,\\left(e^{\\tau}-1\\right)}{\\sigma\\,e^{\\tau}+e^{\\tau}+\\sigma-1}\\]"
      ],
      "text/plain": [
       "                                                      tau\n",
       "                                       (sigma + 1) (%e    - 1)\n",
       "(%o2)        cpiece(tau, sigma) := -------------------------------\n",
       "                                           tau     tau\n",
       "                                   sigma %e    + %e    + sigma - 1"
      ],
      "text/x-maxima": [
       "cpiece(tau,sigma):=((sigma+1)*(%e^tau-1))/(sigma*%e^tau+%e^tau+sigma-1)"
      ]
     },
     "execution_count": 1,
     "metadata": {},
     "output_type": "execute_result"
    }
   ],
   "source": [
    "apiece(tau, sigma) := -((sigma-1)*(%e^tau-1)) / \n",
    "    (sigma*%e^tau+%e^tau+sigma-1);\n",
    "bpiece(tau, sigma) := (4*sigma^2*%e^tau) / \n",
    "    (sigma*%e^tau+%e^tau+sigma-1)^2;\n",
    "cpiece(tau, sigma) := ((sigma+1)*(%e^tau-1)) /   \n",
    "    (sigma*%e^tau+%e^tau+sigma-1);"
   ]
  },
  {
   "cell_type": "code",
   "execution_count": 2,
   "id": "50d12517-c396-43fd-972d-0c5c9eca2dc6",
   "metadata": {
    "execution": {
     "iopub.execute_input": "2022-03-18T18:25:36Z",
     "iopub.status.busy": "2022-03-18T18:25:36Z",
     "iopub.status.idle": "2022-03-18T18:25:36Z",
     "shell.execute_reply": "2022-03-18T18:25:36Z"
    },
    "tags": []
   },
   "outputs": [],
   "source": [
    "probdistarr(tau, sigma, dist, nmax) := block(\n",
    "    [a, b, c, d, k],\n",
    "    a : apiece(tau,sigma),\n",
    "    b : bpiece(tau,sigma),\n",
    "    c : cpiece(tau, sigma),\n",
    "    \n",
    "    /* Generate the spike at n = 0. */\n",
    "    dist[0] : a,\n",
    "    /* Generate the rest of the distribution. */\n",
    "    for k : 1 thru nmax do dist[k] : b * c^(k-1))$"
   ]
  },
  {
   "cell_type": "code",
   "execution_count": 3,
   "id": "344f16c1-d299-4bea-bb92-2cafc21bca16",
   "metadata": {
    "execution": {
     "iopub.execute_input": "2022-03-18T18:25:36Z",
     "iopub.status.busy": "2022-03-18T18:25:36Z",
     "iopub.status.idle": "2022-03-18T18:25:36Z",
     "shell.execute_reply": "2022-03-18T18:25:36Z"
    },
    "tags": []
   },
   "outputs": [],
   "source": [
    "convolve(a, b, c, nmax) := block(\n",
    "    [m, k],\n",
    "    for m : 0 thru nmax do(\n",
    "        c[m] : 0,\n",
    "        for k : 0 thru m do\n",
    "            c[m] : c[m] + a[k] * b[m - k]))$"
   ]
  },
  {
   "cell_type": "code",
   "execution_count": 4,
   "id": "481b40eb-f90f-4e2d-bca0-9755538a4137",
   "metadata": {
    "execution": {
     "iopub.execute_input": "2022-03-18T18:25:36Z",
     "iopub.status.busy": "2022-03-18T18:25:36Z",
     "iopub.status.idle": "2022-03-18T18:25:36Z",
     "shell.execute_reply": "2022-03-18T18:25:36Z"
    },
    "tags": []
   },
   "outputs": [],
   "source": [
    "convolpow(a, m, b, nmax) := block(\n",
    "    [tmparr, /* Temporary working array. */\n",
    "    doubler /* Store consecutive doublings of a. */ ,\n",
    "    n /* Counter for for loops. */ ],\n",
    "    tmparr : make_array(flonum, nmax + 1),\n",
    "    doubler : make_array(flonum, nmax + 1),\n",
    "        \n",
    "    /* Initialize the output array suitably. */\n",
    "    if mod(m, 2) = 1 then(\n",
    "        /* Set b = a when m is odd. */ \n",
    "        for n : 0 thru nmax do b[n] : a[n],\n",
    "        m : m - 1)\n",
    "        /* Set b to identity element when m is even. */\n",
    "        else(\n",
    "            b[0] : 1.0,\n",
    "            for n : 1 thru nmax do b[n] : 0),\n",
    "    m : m/2,\n",
    "    \n",
    "    /* Initialize the doubler. */\n",
    "    for n : 0 thru nmax do doubler[n] : a[n],\n",
    "    \n",
    "    /*  Compute the result. */\n",
    "    while m > 0 do(\n",
    "        /* print(\"entering loop m= \", m), */\n",
    "        /* Double the doubler. */\n",
    "        for n : 0 thru nmax do tmparr[n] : doubler[n],\n",
    "        convolve(tmparr, tmparr, doubler, nmax),\n",
    "        /* When m is odd we multiply the doubler into b. */\n",
    "        if mod(m, 2) = 1 then(\n",
    "            for n : 0 thru nmax do tmparr[n] : b[n],\n",
    "            convolve(tmparr, doubler, b, nmax),\n",
    "            m : m - 1),\n",
    "        m : m/2))$"
   ]
  },
  {
   "cell_type": "code",
   "execution_count": 5,
   "id": "979458e0-7bfd-4b77-8fc0-baa04ddd5364",
   "metadata": {
    "execution": {
     "iopub.execute_input": "2022-03-18T18:25:36Z",
     "iopub.status.busy": "2022-03-18T18:25:36Z",
     "iopub.status.idle": "2022-03-18T18:25:36Z",
     "shell.execute_reply": "2022-03-18T18:25:36Z"
    },
    "tags": []
   },
   "outputs": [],
   "source": [
    "exact_dist(tau, sigma, n0, nmax) := block(\n",
    "    [dist0, distn],\n",
    "    dist0 : make_array(flonum, nmax + 1),\n",
    "    distn : make_array(flonum, nmax + 1),\n",
    "    \n",
    "    probdistarr(tau, sigma, dist0, nmax),\n",
    "    convolpow(dist0, n0, distn, nmax),\n",
    "    listarray(distn))$"
   ]
  },
  {
   "cell_type": "markdown",
   "id": "b253244f-3bc4-473d-b692-30f5e70c0c37",
   "metadata": {},
   "source": [
    "### Diffusion approximation"
   ]
  },
  {
   "cell_type": "code",
   "execution_count": 6,
   "id": "5d7dff54-b3e7-4202-ba66-239166265346",
   "metadata": {
    "execution": {
     "iopub.execute_input": "2022-03-18T18:25:36Z",
     "iopub.status.busy": "2022-03-18T18:25:36Z",
     "iopub.status.idle": "2022-03-18T18:25:36Z",
     "shell.execute_reply": "2022-03-18T18:25:36Z"
    },
    "tags": []
   },
   "outputs": [
    {
     "data": {
      "text/latex": [
       "\\[\\tag{${\\it \\%o}_{7}$}{\\it diff\\_dist}\\left(\\xi , \\tau , \\xi_{0}\\right):=\\frac{e^{\\frac{\\tau}{2}}\\,\\sqrt{\\xi_{0}}\\,e^{\\frac{-\\left(e^{\\tau}\\,\\xi_{0}+\\xi\\right)}{e^{\\tau}-1}}\\,{\\it bessel\\_i}\\left(1 , \\frac{2\\,e^{\\frac{\\tau}{2}}\\,\\sqrt{\\xi\\,\\xi_{0}}}{e^{\\tau}-1}\\right)}{\\left(e^{\\tau}-1\\right)\\,\\sqrt{\\xi}}\\]"
      ],
      "text/plain": [
       "(%o7) diff_dist(xi, tau, xi0) := \n",
       "                              tau\n",
       "                         - (%e    xi0 + xi)\n",
       "                         ------------------\n",
       "                               tau                          tau/2\n",
       "      tau/2                  %e    - 1                  2 %e      sqrt(xi xi0)\n",
       "   (%e      sqrt(xi0)) %e                   bessel_i(1, ----------------------)\n",
       "                                                                tau\n",
       "                                                              %e    - 1\n",
       "   ----------------------------------------------------------------------------\n",
       "                                  tau\n",
       "                               (%e    - 1) sqrt(xi)"
      ],
      "text/x-maxima": [
       "diff_dist(xi,tau,xi0):=\n",
       "          ((%e^(tau/2)*sqrt(xi0))*%e^((-(%e^tau*xi0+xi))/(%e^tau-1))\n",
       "                                 *bessel_i(1,\n",
       "                                           (2*%e^(tau/2)*sqrt(xi*xi0))\n",
       "                                            /(%e^tau-1)))\n",
       "          /((%e^tau-1)*sqrt(xi))"
      ]
     },
     "execution_count": 6,
     "metadata": {},
     "output_type": "execute_result"
    }
   ],
   "source": [
    "diff_dist (xi, tau, xi0) :=\n",
    "    (%e^(tau/2)*sqrt(xi0))/((%e^tau-1)*sqrt(xi)) *\n",
    "    %e^(-(%e^tau*xi0+xi)/(%e^tau-1)) *\n",
    "    bessel_i(1, 2*%e^(tau/2)*sqrt(xi*xi0)/(%e^tau-1));"
   ]
  },
  {
   "cell_type": "markdown",
   "id": "86b0f85f-27b6-4d40-be2d-3fbc401a4004",
   "metadata": {},
   "source": [
    "### Comparing exact and diffusion"
   ]
  },
  {
   "cell_type": "code",
   "execution_count": 7,
   "id": "aad87bae-86be-4b70-a96a-7045723f7837",
   "metadata": {
    "execution": {
     "iopub.execute_input": "2022-03-18T18:25:36Z",
     "iopub.status.busy": "2022-03-18T18:25:36Z",
     "iopub.status.idle": "2022-03-18T18:25:36Z",
     "shell.execute_reply": "2022-03-18T18:25:36Z"
    },
    "tags": []
   },
   "outputs": [],
   "source": [
    "rescaled_exact(N, tau, s, x0, xmax) := block(\n",
    "    [dist0, distn, nmax],\n",
    "    nmax : N * xmax,\n",
    "    dist0 : make_array(flonum, nmax + 1),\n",
    "    distn : make_array(flonum, nmax + 1),\n",
    "    \n",
    "    probdistarr(tau, s/N, dist0, nmax),\n",
    "    convolpow(dist0, N*x0, distn, nmax),\n",
    "    makelist([n/N, N*distn[n]], n, 0, nmax))$"
   ]
  },
  {
   "cell_type": "code",
   "execution_count": 8,
   "id": "ccb7c452-d462-41b3-8e58-eee04c1a0d27",
   "metadata": {
    "execution": {
     "iopub.execute_input": "2022-03-18T18:25:44Z",
     "iopub.status.busy": "2022-03-18T18:25:36Z",
     "iopub.status.idle": "2022-03-18T18:25:44Z",
     "shell.execute_reply": "2022-03-18T18:25:44Z"
    },
    "tags": []
   },
   "outputs": [
    {
     "data": {
      "application/pdf": "[encoded data removed]",
      "text/plain": [
       "fig/rescaled-exact.pdf"
      ]
     },
     "metadata": {},
     "output_type": "display_data"
    },
    {
     "data": {
      "text/latex": [
       "\\[\\tag{${\\it \\%o}_{9}$}\\left[ \\mbox{ /tmp/maxout99.gnuplot } , \\mbox{ fig/rescaled-exact.pdf } \\right] \\]"
      ],
      "text/plain": [
       "(%o9)           [/tmp/maxout99.gnuplot, fig/rescaled-exact.pdf]"
      ],
      "text/x-maxima": [
       "[\"/tmp/maxout99.gnuplot\",\"fig/rescaled-exact.pdf\"]"
      ]
     },
     "execution_count": 8,
     "metadata": {},
     "output_type": "execute_result"
    }
   ],
   "source": [
    "plot2d([[discrete, rescaled_exact(1, 1.0, 0.33, 5, 50)],\n",
    "    [discrete, rescaled_exact(2, 1.0, 0.33, 5, 50)],\n",
    "    [discrete, rescaled_exact(3, 1.0, 0.33, 5, 50)],\n",
    "    [discrete, rescaled_exact(4, 1.0, 0.33, 5, 50)],\n",
    "    0.66 * diff_dist(0.66*x, 1.0, 0.66*5.0)], [x, 4, 15], [y, 0.04, 0.0535],\n",
    "    [legend, \"N=1\", \"N=2\", \"N=3\", \"N=4\", \"diffusion\"],\n",
    "    [title, \"𝜏 = 1.0, s = 0.33, x₀ = 5\"],\n",
    "    [color, \"#1F654C\", \"#226F54\", \"#559972\", \"#6EAE81\", \"#87C38F\", \"#BEDAA5\"],\n",
    "    [pdf_file, \"fig/rescaled-exact.pdf\"],\n",
    "    [gnuplot_preamble, \"set key center bottom\"],\n",
    "    [gnuplot_pdf_term_command, \"set term pdfcairo lw 3 size 17.2 cm, 12.9 cm font 'Latin Modern Roman,23'\"]);"
   ]
  },
  {
   "cell_type": "code",
   "execution_count": 61,
   "id": "2f9762ac-fd1f-4ce9-a105-cd17454b162a",
   "metadata": {
    "execution": {
     "iopub.execute_input": "2022-03-18T19:26:21Z",
     "iopub.status.busy": "2022-03-18T19:26:14Z",
     "iopub.status.idle": "2022-03-18T19:26:21Z",
     "shell.execute_reply": "2022-03-18T19:26:21Z"
    },
    "tags": []
   },
   "outputs": [
    {
     "data": {
      "text/latex": [
       "\\[\\tag{${\\it \\%o}_{95}$}0.0808\\]"
      ],
      "text/plain": [
       "(%o95)                              0.0808"
      ],
      "text/x-maxima": [
       "0.0808"
      ]
     },
     "execution_count": 61,
     "metadata": {},
     "output_type": "execute_result"
    },
    {
     "data": {
      "text/latex": [
       "\\[\\tag{${\\it \\%o}_{96}$}0.808\\]"
      ],
      "text/plain": [
       "(%o96)                               0.808"
      ],
      "text/x-maxima": [
       "0.808"
      ]
     },
     "execution_count": 61,
     "metadata": {},
     "output_type": "execute_result"
    },
    {
     "name": "stdout",
     "output_type": "stream",
     "text": [
      "plot2d: expression evaluates to non-numeric value somewhere in plotting range.\n"
     ]
    },
    {
     "data": {
      "application/pdf": "[encoded data removed]",
      "text/plain": [
       "fig/rescaled-exact-max.pdf"
      ]
     },
     "metadata": {},
     "output_type": "display_data"
    },
    {
     "data": {
      "text/latex": [
       "\\[\\tag{${\\it \\%o}_{97}$}\\left[ \\mbox{ /tmp/maxout99.gnuplot } , \\mbox{ fig/rescaled-exact-max.pdf } \\right] \\]"
      ],
      "text/plain": [
       "(%o97)        [/tmp/maxout99.gnuplot, fig/rescaled-exact-max.pdf]"
      ],
      "text/x-maxima": [
       "[\"/tmp/maxout99.gnuplot\",\"fig/rescaled-exact-max.pdf\"]"
      ]
     },
     "execution_count": 61,
     "metadata": {},
     "output_type": "execute_result"
    },
    {
     "data": {
      "text/latex": [
       "\\[\\tag{${\\it \\%o}_{98}$}\\mathbf{done}\\]"
      ],
      "text/plain": [
       "(%o98)                               done"
      ],
      "text/x-maxima": [
       "done"
      ]
     },
     "execution_count": 61,
     "metadata": {},
     "output_type": "execute_result"
    }
   ],
   "source": [
    "tau: 0.0808;\n",
    "s: 0.808;\n",
    "\n",
    "/* rescaled_exact(N, tau, s, x0, xmax) */ \n",
    "plot2d([[discrete, rescaled_exact(1, tau, s, 5, 50)],\n",
    "    [discrete, rescaled_exact(5, tau, s, 5, 50)],\n",
    "    [discrete, rescaled_exact(10, tau, s, 5, 50)],\n",
    "    2*s * diff_dist(2*s*x, 1.0, 2*s*5.0)], \n",
    "    [x, 0, 30],\n",
    "    [xlabel, \"x\"],\n",
    "    [ylabel, \"P(x)\"],\n",
    "    [legend, \"N=1\", \"  5\", \"  10\", \"diffusion\"],\n",
    "    /*[title, \"𝜏 = 1.0, 𝜎 = 0.33, x₀ = 5\"],*/\n",
    "    [color, \"#1F654C\", \"#226F54\", \"#559972\", \"#6EAE81\", \"#87C38F\", \"#BEDAA5\"],\n",
    "    [pdf_file, \"fig/rescaled-exact-max.pdf\"],\n",
    "    [gnuplot_preamble, \"set key right top\"],\n",
    "    [gnuplot_pdf_term_command, \"set term pdfcairo lw 3 size 17.2 cm, 12.9 cm font 'Latin Modern Roman,27'\"]);\n",
    "    \n",
    "kill(tau, s);"
   ]
  },
  {
   "cell_type": "markdown",
   "id": "99611673-8ffc-4fe0-a27a-6f829578a56b",
   "metadata": {},
   "source": [
    "## Fix first two moments and vary sigma"
   ]
  },
  {
   "cell_type": "markdown",
   "id": "b1804a68-1cc2-42f8-a105-7917367b07e5",
   "metadata": {},
   "source": [
    "Numerically calculate the cumulants."
   ]
  },
  {
   "cell_type": "code",
   "execution_count": 9,
   "id": "656a09ae-87ee-472c-a94c-8ed6b2bd5774",
   "metadata": {
    "execution": {
     "iopub.execute_input": "2022-03-18T18:25:44Z",
     "iopub.status.busy": "2022-03-18T18:25:44Z",
     "iopub.status.idle": "2022-03-18T18:25:44Z",
     "shell.execute_reply": "2022-03-18T18:25:44Z"
    },
    "tags": []
   },
   "outputs": [],
   "source": [
    "cumus(dist) := block([len, m1, m2, m3],\n",
    "    len : length(dist) - 1,\n",
    "    m1 : sum(j * dist[j + 1], j, 0, len),\n",
    "    m2 : sum(j^2 * dist[j + 1], j, 0, len),\n",
    "    m3 : sum(j^3 * dist[j + 1], j, 0, len),\n",
    "    [m1, m2 - m1^2, m3 - 3*m1*m2 + 2*m1^3])$"
   ]
  },
  {
   "cell_type": "markdown",
   "id": "bdfe2c93-432e-4b35-8d18-eec8fdf2d7d9",
   "metadata": {},
   "source": [
    "Analytically calculate cumulants of the BD process."
   ]
  },
  {
   "cell_type": "code",
   "execution_count": 10,
   "id": "2c27b2e4-ca1c-46c4-91f9-cdb13d86a4f4",
   "metadata": {
    "execution": {
     "iopub.execute_input": "2022-03-18T18:25:44Z",
     "iopub.status.busy": "2022-03-18T18:25:44Z",
     "iopub.status.idle": "2022-03-18T18:25:44Z",
     "shell.execute_reply": "2022-03-18T18:25:44Z"
    },
    "tags": []
   },
   "outputs": [],
   "source": [
    "kaps(tau, n0, sigma) := [\n",
    "    n0 * %e^(tau),\n",
    "    (n0 / sigma) * (%e^(2*tau) - %e^(tau)),\n",
    "    (n0 / (2 * sigma^2)) * (%e^(2*tau) - %e^(tau)) *\n",
    "        (3*(%e^(tau) - 1) + (%e^(tau) + 1) * sigma^2)]$"
   ]
  },
  {
   "cell_type": "markdown",
   "id": "1ef780ae-bccb-47c4-822a-d44c6e29300b",
   "metadata": {},
   "source": [
    "Given values tau1 and n01, determine tau and n0 such that the BD distribution with parameters (tau, n0, sigma) has the same values of the first two moments as the BD distribution wiwth parameters (tau1, n01, 1)."
   ]
  },
  {
   "cell_type": "code",
   "execution_count": 11,
   "id": "4c1cda2b-75db-4339-bce8-717151309092",
   "metadata": {
    "execution": {
     "iopub.execute_input": "2022-03-18T18:25:44Z",
     "iopub.status.busy": "2022-03-18T18:25:44Z",
     "iopub.status.idle": "2022-03-18T18:25:44Z",
     "shell.execute_reply": "2022-03-18T18:25:44Z"
    },
    "tags": []
   },
   "outputs": [
    {
     "data": {
      "text/latex": [
       "\\[\\tag{${\\it \\%o}_{12}$}\\left[ \\tau=\\log \\left(\\sigma\\,e^{\\tau_{1}}-\\sigma+1\\right) \\right] \\]"
      ],
      "text/plain": [
       "                                        tau1\n",
       "(%o12)               [tau = log(sigma %e     - sigma + 1)]"
      ],
      "text/x-maxima": [
       "[tau = log(sigma*%e^tau1-sigma+1)]"
      ]
     },
     "execution_count": 11,
     "metadata": {},
     "output_type": "execute_result"
    }
   ],
   "source": [
    "solve((%e^tau-1)/sigma =%e^tau1-1, tau);"
   ]
  },
  {
   "cell_type": "code",
   "execution_count": 12,
   "id": "829e1f51-4d09-4d19-9c77-cc961fdd7e17",
   "metadata": {
    "execution": {
     "iopub.execute_input": "2022-03-18T18:25:44Z",
     "iopub.status.busy": "2022-03-18T18:25:44Z",
     "iopub.status.idle": "2022-03-18T18:25:44Z",
     "shell.execute_reply": "2022-03-18T18:25:44Z"
    },
    "tags": []
   },
   "outputs": [
    {
     "data": {
      "text/latex": [
       "\\[\\tag{${\\it \\%o}_{13}$}\\frac{n_{1}\\,e^{\\tau_{1}}}{\\sigma\\,e^{\\tau_{1}}-\\sigma+1}\\]"
      ],
      "text/plain": [
       "                                        tau1\n",
       "                                  n01 %e\n",
       "(%o13)                     ------------------------\n",
       "                                   tau1\n",
       "                           sigma %e     - sigma + 1"
      ],
      "text/x-maxima": [
       "(n01*%e^tau1)/(sigma*%e^tau1-sigma+1)"
      ]
     },
     "execution_count": 12,
     "metadata": {},
     "output_type": "execute_result"
    }
   ],
   "source": [
    "psubst([tau=log(sigma*%e^tau1-sigma+1)], n01 * %e^(tau1 - tau));"
   ]
  },
  {
   "cell_type": "code",
   "execution_count": 13,
   "id": "c3d06249-9724-486a-a3cb-a6c4982d55e4",
   "metadata": {
    "execution": {
     "iopub.execute_input": "2022-03-18T18:25:44Z",
     "iopub.status.busy": "2022-03-18T18:25:44Z",
     "iopub.status.idle": "2022-03-18T18:25:44Z",
     "shell.execute_reply": "2022-03-18T18:25:44Z"
    },
    "tags": []
   },
   "outputs": [],
   "source": [
    "momequiv (tau1, n01, sigma) :=\n",
    "\t    [log(sigma*%e^tau1-sigma+1), \n",
    "\t    (n01*%e^tau1)/(sigma*%e^tau1-sigma+1)]$"
   ]
  },
  {
   "cell_type": "markdown",
   "id": "442460ae-dc90-4e1a-b3eb-a6759d940cc8",
   "metadata": {},
   "source": [
    "Comparison for n01 = 12."
   ]
  },
  {
   "cell_type": "code",
   "execution_count": 14,
   "id": "87770ba3-3423-4d90-b3d4-9306610898d3",
   "metadata": {
    "execution": {
     "iopub.execute_input": "2022-03-18T18:25:44Z",
     "iopub.status.busy": "2022-03-18T18:25:44Z",
     "iopub.status.idle": "2022-03-18T18:25:44Z",
     "shell.execute_reply": "2022-03-18T18:25:44Z"
    },
    "tags": []
   },
   "outputs": [
    {
     "data": {
      "text/latex": [
       "\\[\\tag{${\\it \\%o}_{15}$}\\left[ 0.02081601914619123 , 12.98884134314821 \\right] \\]"
      ],
      "text/plain": [
       "(%o15)             [0.02081601914619123, 12.98884134314821]"
      ],
      "text/x-maxima": [
       "[0.02081601914619123,12.98884134314821]"
      ]
     },
     "execution_count": 14,
     "metadata": {},
     "output_type": "execute_result"
    },
    {
     "data": {
      "text/latex": [
       "\\[\\tag{${\\it \\%o}_{16}$}\\left[ 0.08078403386384084 , 12.23282137331797 \\right] \\]"
      ],
      "text/plain": [
       "(%o16)             [0.08078403386384084, 12.23282137331797]"
      ],
      "text/x-maxima": [
       "[0.08078403386384084,12.23282137331797]"
      ]
     },
     "execution_count": 14,
     "metadata": {},
     "output_type": "execute_result"
    }
   ],
   "source": [
    "momequiv(0.1, 12, 0.2);\n",
    "momequiv(0.1, 12, 0.8);"
   ]
  },
  {
   "cell_type": "code",
   "execution_count": 15,
   "id": "8f9f0d58-4df8-4e13-a54b-736dafde2e4e",
   "metadata": {
    "execution": {
     "iopub.execute_input": "2022-03-18T18:25:44Z",
     "iopub.status.busy": "2022-03-18T18:25:44Z",
     "iopub.status.idle": "2022-03-18T18:25:44Z",
     "shell.execute_reply": "2022-03-18T18:25:44Z"
    },
    "tags": []
   },
   "outputs": [
    {
     "data": {
      "text/latex": [
       "\\[\\tag{${\\it \\%o}_{17}$}\\left[ 13.27323175945365 , 1.394872487412134 , 0.5017851379449797 \\right] \\]"
      ],
      "text/plain": [
       "(%o17)    [13.27323175945365, 1.394872487412134, 0.5017851379449797]"
      ],
      "text/x-maxima": [
       "[13.27323175945365,1.394872487412134,0.5017851379449797]"
      ]
     },
     "execution_count": 15,
     "metadata": {},
     "output_type": "execute_result"
    },
    {
     "data": {
      "text/latex": [
       "\\[\\tag{${\\it \\%o}_{18}$}\\left[ 13.00984852888103 , 1.368539208109951 , 1.356838814088694 \\right] \\]"
      ],
      "text/plain": [
       "(%o18)     [13.00984852888103, 1.368539208109951, 1.356838814088694]"
      ],
      "text/x-maxima": [
       "[13.00984852888103,1.368539208109951,1.356838814088694]"
      ]
     },
     "execution_count": 15,
     "metadata": {},
     "output_type": "execute_result"
    }
   ],
   "source": [
    "kaps(0.0208, 13, 0.2);\n",
    "kaps(0.0808, 12, 0.8);"
   ]
  },
  {
   "cell_type": "code",
   "execution_count": 16,
   "id": "bbd70872-3c08-4ea0-a017-c7116031e450",
   "metadata": {
    "execution": {
     "iopub.execute_input": "2022-03-18T18:25:45Z",
     "iopub.status.busy": "2022-03-18T18:25:44Z",
     "iopub.status.idle": "2022-03-18T18:25:45Z",
     "shell.execute_reply": "2022-03-18T18:25:45Z"
    },
    "tags": []
   },
   "outputs": [
    {
     "data": {
      "application/pdf": "[encoded data removed]",
      "text/plain": [
       "fig/n01-12.pdf"
      ]
     },
     "metadata": {},
     "output_type": "display_data"
    },
    {
     "data": {
      "text/latex": [
       "\\[\\tag{${\\it \\%o}_{19}$}\\left[ \\mbox{ /tmp/maxout99.gnuplot } , \\mbox{ fig/n01-12.pdf } \\right] \\]"
      ],
      "text/plain": [
       "(%o19)              [/tmp/maxout99.gnuplot, fig/n01-12.pdf]"
      ],
      "text/x-maxima": [
       "[\"/tmp/maxout99.gnuplot\",\"fig/n01-12.pdf\"]"
      ]
     },
     "execution_count": 16,
     "metadata": {},
     "output_type": "execute_result"
    }
   ],
   "source": [
    "plot2d([[discrete, exact_dist(0.0208, 0.2, 13, 30)], \n",
    "    [discrete, exact_dist(0.0808, 0.8, 12, 30)]],\n",
    "    [legend, \"tau = 0.2\", \"tau = 0.8\"],\n",
    "    [pdf_file, \"fig/n01-12.pdf\"],\n",
    "    [gnuplot_preamble, \"set key right\"],\n",
    "    [gnuplot_pdf_term_command, \"set term pdfcairo lw 3 size 17.2 cm, 12.9 cm font 'Latin Modern Roman,20'\"]);"
   ]
  },
  {
   "cell_type": "code",
   "execution_count": 17,
   "id": "3fa48dee-8626-4182-ad3d-a64572d96b6d",
   "metadata": {
    "execution": {
     "iopub.execute_input": "2022-03-18T18:25:45Z",
     "iopub.status.busy": "2022-03-18T18:25:45Z",
     "iopub.status.idle": "2022-03-18T18:25:45Z",
     "shell.execute_reply": "2022-03-18T18:25:45Z"
    },
    "tags": []
   },
   "outputs": [
    {
     "data": {
      "text/latex": [
       "\\[\\tag{${\\it \\%o}_{20}$}\\left[ 13.27323175945372 , 1.394872487409998 , 0.5017851379498097 \\right] \\]"
      ],
      "text/plain": [
       "(%o20)    [13.27323175945372, 1.394872487409998, 0.5017851379498097]"
      ],
      "text/x-maxima": [
       "[13.27323175945372,1.394872487409998,0.5017851379498097]"
      ]
     },
     "execution_count": 17,
     "metadata": {},
     "output_type": "execute_result"
    },
    {
     "data": {
      "text/latex": [
       "\\[\\tag{${\\it \\%o}_{21}$}\\left[ 13.00984852887727 , 1.368539208090539 , 1.356838813116156 \\right] \\]"
      ],
      "text/plain": [
       "(%o21)     [13.00984852887727, 1.368539208090539, 1.356838813116156]"
      ],
      "text/x-maxima": [
       "[13.00984852887727,1.368539208090539,1.356838813116156]"
      ]
     },
     "execution_count": 17,
     "metadata": {},
     "output_type": "execute_result"
    }
   ],
   "source": [
    "cumus(exact_dist(0.0208, 0.2, 13, 30));\n",
    "cumus(exact_dist(0.0808, 0.8, 12, 30));"
   ]
  },
  {
   "cell_type": "markdown",
   "id": "f888614d-a282-450b-baca-4da1279f3cea",
   "metadata": {},
   "source": [
    "Comparison for n01 = 24"
   ]
  },
  {
   "cell_type": "code",
   "execution_count": 18,
   "id": "180b2394-0b48-47ca-97a9-f7fc0246a058",
   "metadata": {
    "execution": {
     "iopub.execute_input": "2022-03-18T18:25:45Z",
     "iopub.status.busy": "2022-03-18T18:25:45Z",
     "iopub.status.idle": "2022-03-18T18:25:45Z",
     "shell.execute_reply": "2022-03-18T18:25:45Z"
    },
    "tags": []
   },
   "outputs": [
    {
     "data": {
      "text/latex": [
       "\\[\\tag{${\\it \\%o}_{22}$}\\left[ 0.02081601914619123 , 25.97768268629641 \\right] \\]"
      ],
      "text/plain": [
       "(%o22)             [0.02081601914619123, 25.97768268629641]"
      ],
      "text/x-maxima": [
       "[0.02081601914619123,25.97768268629641]"
      ]
     },
     "execution_count": 18,
     "metadata": {},
     "output_type": "execute_result"
    },
    {
     "data": {
      "text/latex": [
       "\\[\\tag{${\\it \\%o}_{23}$}\\left[ 0.08078403386384084 , 24.46564274663594 \\right] \\]"
      ],
      "text/plain": [
       "(%o23)             [0.08078403386384084, 24.46564274663594]"
      ],
      "text/x-maxima": [
       "[0.08078403386384084,24.46564274663594]"
      ]
     },
     "execution_count": 18,
     "metadata": {},
     "output_type": "execute_result"
    }
   ],
   "source": [
    "momequiv(0.1, 24, 0.2);\n",
    "momequiv(0.1, 24, 0.8);"
   ]
  },
  {
   "cell_type": "code",
   "execution_count": 19,
   "id": "23fda96d-492e-476a-a8d5-bcf95507280c",
   "metadata": {
    "execution": {
     "iopub.execute_input": "2022-03-18T18:25:45Z",
     "iopub.status.busy": "2022-03-18T18:25:45Z",
     "iopub.status.idle": "2022-03-18T18:25:45Z",
     "shell.execute_reply": "2022-03-18T18:25:45Z"
    },
    "tags": []
   },
   "outputs": [
    {
     "data": {
      "text/latex": [
       "\\[\\tag{${\\it \\%o}_{24}$}\\left[ 26.5464635189073 , 2.789744974824269 , 1.003570275889959 \\right] \\]"
      ],
      "text/plain": [
       "(%o24)     [26.5464635189073, 2.789744974824269, 1.003570275889959]"
      ],
      "text/x-maxima": [
       "[26.5464635189073,2.789744974824269,1.003570275889959]"
      ]
     },
     "execution_count": 19,
     "metadata": {},
     "output_type": "execute_result"
    },
    {
     "data": {
      "text/latex": [
       "\\[\\tag{${\\it \\%o}_{25}$}\\left[ 26.01969705776206 , 2.737078416219902 , 2.713677628177388 \\right] \\]"
      ],
      "text/plain": [
       "(%o25)     [26.01969705776206, 2.737078416219902, 2.713677628177388]"
      ],
      "text/x-maxima": [
       "[26.01969705776206,2.737078416219902,2.713677628177388]"
      ]
     },
     "execution_count": 19,
     "metadata": {},
     "output_type": "execute_result"
    }
   ],
   "source": [
    "kaps(0.0208, 26, 0.2);\n",
    "kaps(0.0808, 24, 0.8);"
   ]
  },
  {
   "cell_type": "code",
   "execution_count": 20,
   "id": "037e01eb-68e6-49ea-9f08-c6bcbb8ced07",
   "metadata": {
    "execution": {
     "iopub.execute_input": "2022-03-18T18:25:45Z",
     "iopub.status.busy": "2022-03-18T18:25:45Z",
     "iopub.status.idle": "2022-03-18T18:25:45Z",
     "shell.execute_reply": "2022-03-18T18:25:45Z"
    },
    "tags": []
   },
   "outputs": [
    {
     "data": {
      "text/latex": [
       "\\[\\tag{${\\it \\%o}_{26}$}\\left[ 26.5464634577302 , 2.789745703590143 , 1.003538327582646 \\right] \\]"
      ],
      "text/plain": [
       "(%o26)     [26.5464634577302, 2.789745703590143, 1.003538327582646]"
      ],
      "text/x-maxima": [
       "[26.5464634577302,2.789745703590143,1.003538327582646]"
      ]
     },
     "execution_count": 20,
     "metadata": {},
     "output_type": "execute_result"
    },
    {
     "data": {
      "text/latex": [
       "\\[\\tag{${\\it \\%o}_{27}$}\\left[ 26.01969669919773 , 2.737082285673864 , 2.713496631244197 \\right] \\]"
      ],
      "text/plain": [
       "(%o27)     [26.01969669919773, 2.737082285673864, 2.713496631244197]"
      ],
      "text/x-maxima": [
       "[26.01969669919773,2.737082285673864,2.713496631244197]"
      ]
     },
     "execution_count": 20,
     "metadata": {},
     "output_type": "execute_result"
    }
   ],
   "source": [
    "cumus(exact_dist(0.0208, 0.2, 26, 40));\n",
    "cumus(exact_dist(0.0808, 0.8, 24, 40));"
   ]
  },
  {
   "cell_type": "code",
   "execution_count": 21,
   "id": "8fe7ff79-248d-4541-a82b-c977d7177aee",
   "metadata": {
    "execution": {
     "iopub.execute_input": "2022-03-18T18:25:46Z",
     "iopub.status.busy": "2022-03-18T18:25:45Z",
     "iopub.status.idle": "2022-03-18T18:25:46Z",
     "shell.execute_reply": "2022-03-18T18:25:46Z"
    },
    "tags": []
   },
   "outputs": [
    {
     "data": {
      "application/pdf": "[encoded data removed]",
      "text/plain": [
       "fig/n01-24.pdf"
      ]
     },
     "metadata": {},
     "output_type": "display_data"
    },
    {
     "data": {
      "text/latex": [
       "\\[\\tag{${\\it \\%o}_{28}$}\\left[ \\mbox{ /tmp/maxout99.gnuplot } , \\mbox{ fig/n01-24.pdf } \\right] \\]"
      ],
      "text/plain": [
       "(%o28)              [/tmp/maxout99.gnuplot, fig/n01-24.pdf]"
      ],
      "text/x-maxima": [
       "[\"/tmp/maxout99.gnuplot\",\"fig/n01-24.pdf\"]"
      ]
     },
     "execution_count": 21,
     "metadata": {},
     "output_type": "execute_result"
    }
   ],
   "source": [
    "plot2d([[discrete, exact_dist(0.0208, 0.2, 26, 40)], \n",
    "    [discrete, exact_dist(0.0808, 0.8, 24, 40)]],\n",
    "    [legend, \"tau = 0.2\", \"tau = 0.8\"],\n",
    "    [pdf_file, \"fig/n01-24.pdf\"],\n",
    "    [gnuplot_preamble, \"set key right\"],\n",
    "    [gnuplot_pdf_term_command, \"set term pdfcairo lw 3 size 17.2 cm, 12.9 cm font 'Latin Modern Roman,20'\"]);"
   ]
  },
  {
   "cell_type": "markdown",
   "id": "9b959b08-4985-473d-8f37-e7e4623021c5",
   "metadata": {},
   "source": [
    "Comparison for n01 = 48"
   ]
  },
  {
   "cell_type": "code",
   "execution_count": 22,
   "id": "8422e088-7e86-4822-bfd5-6975fccb0c02",
   "metadata": {
    "execution": {
     "iopub.execute_input": "2022-03-18T18:25:46Z",
     "iopub.status.busy": "2022-03-18T18:25:46Z",
     "iopub.status.idle": "2022-03-18T18:25:46Z",
     "shell.execute_reply": "2022-03-18T18:25:46Z"
    },
    "tags": []
   },
   "outputs": [
    {
     "data": {
      "text/latex": [
       "\\[\\tag{${\\it \\%o}_{29}$}\\left[ 0.02081601914619123 , 53.03776881785518 \\right] \\]"
      ],
      "text/plain": [
       "(%o29)             [0.02081601914619123, 53.03776881785518]"
      ],
      "text/x-maxima": [
       "[0.02081601914619123,53.03776881785518]"
      ]
     },
     "execution_count": 22,
     "metadata": {},
     "output_type": "execute_result"
    },
    {
     "data": {
      "text/latex": [
       "\\[\\tag{${\\it \\%o}_{30}$}\\left[ 0.08078403386384084 , 49.9506872743817 \\right] \\]"
      ],
      "text/plain": [
       "(%o30)              [0.08078403386384084, 49.9506872743817]"
      ],
      "text/x-maxima": [
       "[0.08078403386384084,49.9506872743817]"
      ]
     },
     "execution_count": 22,
     "metadata": {},
     "output_type": "execute_result"
    }
   ],
   "source": [
    "momequiv(0.1, 49, 0.2);\n",
    "momequiv(0.1, 49, 0.8);"
   ]
  },
  {
   "cell_type": "code",
   "execution_count": 23,
   "id": "cd5f3bd7-c3ed-485e-b7ad-73766ab5d50c",
   "metadata": {
    "execution": {
     "iopub.execute_input": "2022-03-18T18:25:46Z",
     "iopub.status.busy": "2022-03-18T18:25:46Z",
     "iopub.status.idle": "2022-03-18T18:25:46Z",
     "shell.execute_reply": "2022-03-18T18:25:46Z"
    },
    "tags": []
   },
   "outputs": [
    {
     "data": {
      "text/latex": [
       "\\[\\tag{${\\it \\%o}_{31}$}\\left[ 54.11394486546487 , 5.686787833295624 , 2.045739408544917 \\right] \\]"
      ],
      "text/plain": [
       "(%o31)     [54.11394486546487, 5.686787833295624, 2.045739408544917]"
      ],
      "text/x-maxima": [
       "[54.11394486546487,5.686787833295624,2.045739408544917]"
      ]
     },
     "execution_count": 23,
     "metadata": {},
     "output_type": "execute_result"
    },
    {
     "data": {
      "text/latex": [
       "\\[\\tag{${\\it \\%o}_{32}$}\\left[ 54.20770220367096 , 5.70224670045813 , 5.653495058702892 \\right] \\]"
      ],
      "text/plain": [
       "(%o32)     [54.20770220367096, 5.70224670045813, 5.653495058702892]"
      ],
      "text/x-maxima": [
       "[54.20770220367096,5.70224670045813,5.653495058702892]"
      ]
     },
     "execution_count": 23,
     "metadata": {},
     "output_type": "execute_result"
    }
   ],
   "source": [
    "kaps(0.0208, 53, 0.2);\n",
    "kaps(0.0808, 50, 0.8);"
   ]
  },
  {
   "cell_type": "code",
   "execution_count": 24,
   "id": "7b503aa1-e159-40db-8393-bed318b34718",
   "metadata": {
    "execution": {
     "iopub.execute_input": "2022-03-18T18:25:46Z",
     "iopub.status.busy": "2022-03-18T18:25:46Z",
     "iopub.status.idle": "2022-03-18T18:25:46Z",
     "shell.execute_reply": "2022-03-18T18:25:46Z"
    },
    "tags": []
   },
   "outputs": [
    {
     "data": {
      "text/latex": [
       "\\[\\tag{${\\it \\%o}_{33}$}\\left[ 54.11394486546723 , 5.686787833164999 , 2.045739415683784 \\right] \\]"
      ],
      "text/plain": [
       "(%o33)     [54.11394486546723, 5.686787833164999, 2.045739415683784]"
      ],
      "text/x-maxima": [
       "[54.11394486546723,5.686787833164999,2.045739415683784]"
      ]
     },
     "execution_count": 24,
     "metadata": {},
     "output_type": "execute_result"
    },
    {
     "data": {
      "text/latex": [
       "\\[\\tag{${\\it \\%o}_{34}$}\\left[ 54.20770220365917 , 5.702246700775959 , 5.65349503303878 \\right] \\]"
      ],
      "text/plain": [
       "(%o34)     [54.20770220365917, 5.702246700775959, 5.65349503303878]"
      ],
      "text/x-maxima": [
       "[54.20770220365917,5.702246700775959,5.65349503303878]"
      ]
     },
     "execution_count": 24,
     "metadata": {},
     "output_type": "execute_result"
    }
   ],
   "source": [
    "cumus(exact_dist(0.0208, 0.2, 53, 80));\n",
    "cumus(exact_dist(0.0808, 0.8, 50, 80));"
   ]
  },
  {
   "cell_type": "code",
   "execution_count": 25,
   "id": "32b11db4-0084-420e-b326-90b0333fc54e",
   "metadata": {
    "execution": {
     "iopub.execute_input": "2022-03-18T18:25:47Z",
     "iopub.status.busy": "2022-03-18T18:25:46Z",
     "iopub.status.idle": "2022-03-18T18:25:47Z",
     "shell.execute_reply": "2022-03-18T18:25:47Z"
    },
    "tags": []
   },
   "outputs": [
    {
     "data": {
      "application/pdf": "[encoded data removed]",
      "text/plain": [
       "fig/n01-48.pdf"
      ]
     },
     "metadata": {},
     "output_type": "display_data"
    },
    {
     "data": {
      "text/latex": [
       "\\[\\tag{${\\it \\%o}_{35}$}\\left[ \\mbox{ /tmp/maxout99.gnuplot } , \\mbox{ fig/n01-48.pdf } \\right] \\]"
      ],
      "text/plain": [
       "(%o35)              [/tmp/maxout99.gnuplot, fig/n01-48.pdf]"
      ],
      "text/x-maxima": [
       "[\"/tmp/maxout99.gnuplot\",\"fig/n01-48.pdf\"]"
      ]
     },
     "execution_count": 25,
     "metadata": {},
     "output_type": "execute_result"
    }
   ],
   "source": [
    "plot2d([[discrete, exact_dist(0.0208, 0.2, 53, 80)], \n",
    "    [discrete, exact_dist(0.0808, 0.8, 50, 80)]],\n",
    "    [legend, \"tau = 0.2\", \"tau = 0.8\"],\n",
    "    [pdf_file, \"fig/n01-48.pdf\"],\n",
    "    [gnuplot_preamble, \"set key right\"],\n",
    "    [gnuplot_pdf_term_command, \"set term pdfcairo lw 3 size 17.2 cm, 12.9 cm font 'Latin Modern Roman,20'\"]);"
   ]
  },
  {
   "cell_type": "code",
   "execution_count": 26,
   "id": "c6f4524b-fd03-4723-9fb7-0402221516e2",
   "metadata": {
    "execution": {
     "iopub.execute_input": "2022-03-18T18:25:47Z",
     "iopub.status.busy": "2022-03-18T18:25:47Z",
     "iopub.status.idle": "2022-03-18T18:25:47Z",
     "shell.execute_reply": "2022-03-18T18:25:47Z"
    }
   },
   "outputs": [
    {
     "data": {
      "text/latex": [
       "\\[\\tag{${\\it \\%o}_{36}$}\\mbox{ /usr/share/maxima/5.45.1/share/contrib/implicit\\_plot.lisp }\\]"
      ],
      "text/plain": [
       "(%o36)     /usr/share/maxima/5.45.1/share/contrib/implicit_plot.lisp"
      ],
      "text/x-maxima": [
       "\"/usr/share/maxima/5.45.1/share/contrib/implicit_plot.lisp\""
      ]
     },
     "execution_count": 26,
     "metadata": {},
     "output_type": "execute_result"
    }
   ],
   "source": [
    "load(implicit_plot);"
   ]
  },
  {
   "cell_type": "code",
   "execution_count": 27,
   "id": "8efb9be1-fc37-4803-85dd-4abe2115156f",
   "metadata": {
    "execution": {
     "iopub.execute_input": "2022-03-18T18:25:47Z",
     "iopub.status.busy": "2022-03-18T18:25:47Z",
     "iopub.status.idle": "2022-03-18T18:25:47Z",
     "shell.execute_reply": "2022-03-18T18:25:47Z"
    }
   },
   "outputs": [
    {
     "name": "stdout",
     "output_type": "stream",
     "text": [
      "implicit_plot is now obsolete. Using plot2d instead:\n",
      "plot2d ([(sigma^2*coth(tau/2))/3 = 0.25,(sigma^2*coth(tau/2))/3 = 0.5,(sigma^2\\\n",
      "*coth(tau/2))/3 = 1.0,(sigma^2*coth(tau/2))/3 = 2.0,(sigma^2*coth(tau/2))/3 = \\\n",
      "4.0,(sigma^2*coth(tau/2))/3 = 8.0] = 0, [sigma,0.0,1], [tau,0.01,0.5], [legend\\\n",
      ",false])\n",
      "plot2d: nothing to plot for errexp1.\n",
      " -- an error. To debug this try: debugmode(true);\n"
     ]
    },
    {
     "ename": "MAXIMA-ERROR",
     "evalue": "plot2d: nothing to plot for ~M.~%",
     "output_type": "error",
     "traceback": []
    }
   ],
   "source": [
    "implicit_plot([(sigma^2/3) * coth(tau/2) = 0.25,\n",
    "    (sigma^2/3) * coth(tau/2) = 0.5, \n",
    "    (sigma^2/3) * coth(tau/2) = 1.0,\n",
    "    (sigma^2/3) * coth(tau/2) = 2.0,\n",
    "    (sigma^2/3) * coth(tau/2) = 4.0,\n",
    "    (sigma^2/3) * coth(tau/2) = 8.0], [sigma, 0.0, 1], [tau, 0.01, 0.5],\n",
    "    [legend, false]\n",
    ");\n",
    "\n",
    "\n",
    "[(sigma^2/3) * coth(tau/2) = 0.25,\n",
    "    (sigma^2/3) * coth(tau/2) = 0.5, \n",
    "    (sigma^2/3) * coth(tau/2) = 1.0,\n",
    "    (sigma^2/3) * coth(tau/2) = 2.0,\n",
    "    (sigma^2/3) * coth(tau/2) = 4.0,\n",
    "    (sigma^2/3) * coth(tau/2) = 8.0], [sigma, 0.0, 1], [tau, 0.01, 0.5],\n",
    "    [legend, false]"
   ]
  },
  {
   "cell_type": "markdown",
   "id": "df7fb54f-2378-4b80-a47f-f85be362f38b",
   "metadata": {},
   "source": [
    "```\n",
    "exact_dist(tau, sigma, n0, nmax)\n",
    "```"
   ]
  },
  {
   "cell_type": "code",
   "execution_count": 39,
   "id": "d49c965e-add9-4dc5-a235-27406fa790b0",
   "metadata": {
    "execution": {
     "iopub.execute_input": "2022-03-18T18:45:45Z",
     "iopub.status.busy": "2022-03-18T18:45:44Z",
     "iopub.status.idle": "2022-03-18T18:45:45Z",
     "shell.execute_reply": "2022-03-18T18:45:45Z"
    },
    "tags": []
   },
   "outputs": [
    {
     "data": {
      "application/pdf": "[encoded data removed]",
      "text/plain": [
       "fig/contour-dists.pdf"
      ]
     },
     "metadata": {},
     "output_type": "display_data"
    },
    {
     "data": {
      "text/latex": [
       "\\[\\tag{${\\it \\%o}_{49}$}\\left[ \\mbox{ /tmp/maxout99.gnuplot } , \\mbox{ fig/contour-dists.pdf } \\right] \\]"
      ],
      "text/plain": [
       "(%o49)          [/tmp/maxout99.gnuplot, fig/contour-dists.pdf]"
      ],
      "text/x-maxima": [
       "[\"/tmp/maxout99.gnuplot\",\"fig/contour-dists.pdf\"]"
      ]
     },
     "execution_count": 39,
     "metadata": {},
     "output_type": "execute_result"
    }
   ],
   "source": [
    "plot2d([[discrete, exact_dist(0.0208, 0.2, 24, 60)], \n",
    "    [discrete, exact_dist(0.0808, 0.8, 24, 60)],\n",
    "    [discrete, exact_dist(0.208, 0.2, 24, 60)],\n",
    "    [discrete, exact_dist(0.208, 0.8, 24, 60)]],\n",
    "    [color, \"#1F654C\", \"#226F54\", \"#559972\", \"#6EAE81\", \"#87C38F\", \"#BEDAA5\"],\n",
    "    [legend, \"A\", \"B\", \"C\", \"D\"],\n",
    "    [xlabel, \"n\"],\n",
    "    [ylabel, \"P(n)\"],\n",
    "    [pdf_file, \"fig/contour-dists.pdf\"],\n",
    "    [gnuplot_preamble, \"set key right\"],\n",
    "    [gnuplot_pdf_term_command, \"set term pdfcairo lw 3 size 17.2 cm, 12.9 cm font 'Latin Modern Roman,27'\"]);"
   ]
  },
  {
   "cell_type": "code",
   "execution_count": 42,
   "id": "9c9c387f-6b22-411d-b087-14ea78b694a6",
   "metadata": {
    "execution": {
     "iopub.execute_input": "2022-03-18T18:59:38Z",
     "iopub.status.busy": "2022-03-18T18:59:37Z",
     "iopub.status.idle": "2022-03-18T18:59:38Z",
     "shell.execute_reply": "2022-03-18T18:59:38Z"
    },
    "tags": []
   },
   "outputs": [
    {
     "data": {
      "application/pdf": "[encoded data removed]",
      "text/plain": [
       "fig/contour-plot-01.pdf"
      ]
     },
     "metadata": {},
     "output_type": "display_data"
    },
    {
     "data": {
      "text/latex": [
       "\\[\\tag{${\\it \\%o}_{52}$}\\left[ \\mbox{ /tmp/maxout99.gnuplot } , \\mbox{ fig/contour-plot-01.pdf } \\right] \\]"
      ],
      "text/plain": [
       "(%o52)         [/tmp/maxout99.gnuplot, fig/contour-plot-01.pdf]"
      ],
      "text/x-maxima": [
       "[\"/tmp/maxout99.gnuplot\",\"fig/contour-plot-01.pdf\"]"
      ]
     },
     "execution_count": 42,
     "metadata": {},
     "output_type": "execute_result"
    }
   ],
   "source": [
    "plot2d ([(sigma^2/3) * coth(tau/2) = 0.25,\n",
    "         (sigma^2/3) * coth(tau/2) = 0.5, \n",
    "         (sigma^2/3) * coth(tau/2) = 1.0,\n",
    "         (sigma^2/3) * coth(tau/2) = 2.0,\n",
    "         (sigma^2/3) * coth(tau/2) = 4.0,\n",
    "         (sigma^2/3) * coth(tau/2) = 8.0],\n",
    "        [sigma, 0.0, 1], \n",
    "        [tau, 0.01, 0.5],\n",
    "        [color, \"#1F654C\", \"#226F54\", \"#559972\", \"#6EAE81\", \"#87C38F\", \"#BEDAA5\"],\n",
    "        [legend, false],\n",
    "        [xlabel, \"𝜎\"],\n",
    "        [ylabel, \"𝜏\"],\n",
    "        [pdf_file, \"fig/contour-plot-01.pdf\"],\n",
    "        [gnuplot_preamble, \"\n",
    "set label '0.25' at 0.27, 0.4 front tc rgb '#1F654C'\n",
    "set label '0.5' at 0.44, 0.37 front tc rgb '#226F54'\n",
    "set label '1.0' at 0.57, 0.3 front tc rgb '#559972'\n",
    "set label '2.0' at 0.69, 0.21 front tc rgb '#6EAE81'\n",
    "set label '4.0' at 0.8, 0.14 front tc rgb '#87C38F'\n",
    "set label '8.0' at 0.87, 0.09 front tc rgb '#BEDAA5'\n",
    "set object circle at 0.2, 0.02 size 0.005 front fillstyle solid 1.0 fc rgb '#5B5B5B'\n",
    "set label 'A' at 0.21, 0.03 front tc rgb '#5B5B5B'\n",
    "set object circle at 0.8, 0.08 size 0.005 fillstyle solid 1.0 fc rgb '#5B5B5B'\n",
    "set label 'B' at 0.81, 0.08 front tc rgb '#5B5B5B'\n",
    "set object circle at 0.2, 0.2 size 0.005 fillstyle solid 1.0 fc rgb '#5B5B5B'\n",
    "set label 'C' at 0.21, 0.2 front tc rgb '#5B5B5B'\n",
    "set object circle at 0.8, 0.2 size 0.005 fillstyle solid 1.0 fc rgb '#5B5B5B'\n",
    "set label 'D' at 0.81, 0.2 front tc rgb '#5B5B5B'\"],\n",
    "        [gnuplot_pdf_term_command, \"set term pdfcairo enhanced lw 3.5 size 17.2 cm, 12.9 cm font 'Latin Modern Roman,27'\"]);"
   ]
  },
  {
   "cell_type": "markdown",
   "id": "3237661e-d787-42fa-9497-dcf2ade0fb3e",
   "metadata": {},
   "source": [
    "## BID"
   ]
  },
  {
   "cell_type": "markdown",
   "id": "32179d7c-81e7-4c99-b962-7027e624bcd9",
   "metadata": {},
   "source": [
    "Generate the distribution for the BD process with n_0 = 1 from the geometric series.  The answer goes into the array dist which runs from 0 to nmax."
   ]
  },
  {
   "cell_type": "code",
   "execution_count": 29,
   "id": "9e6c6e4a-85f8-4620-b21f-52d0a80ad4e5",
   "metadata": {
    "execution": {
     "iopub.execute_input": "2022-03-18T18:25:48Z",
     "iopub.status.busy": "2022-03-18T18:25:48Z",
     "iopub.status.idle": "2022-03-18T18:25:48Z",
     "shell.execute_reply": "2022-03-18T18:25:48Z"
    },
    "tags": []
   },
   "outputs": [],
   "source": [
    "BDdist(tau, sigma, dist, nmax) := block(\n",
    "    [a, b, c, k],\n",
    "    a : -((sigma-1)*(%e^tau-1)) / \n",
    "    (sigma*%e^tau+%e^tau+sigma-1),\n",
    "    b : (4*sigma^2*%e^tau) / \n",
    "    (sigma*%e^tau+%e^tau+sigma-1)^2,\n",
    "    c : ((sigma+1)*(%e^tau-1)) /   \n",
    "    (sigma*%e^tau+%e^tau+sigma-1),\n",
    "    \n",
    "    /* Generate the spike at n = 0. */\n",
    "    dist[0] : a,\n",
    "    /* Generate the rest of the distribution. */\n",
    "    for k : 1 thru nmax do dist[k] : b * c^(k-1))$"
   ]
  },
  {
   "cell_type": "markdown",
   "id": "cda67933-f998-464a-9026-c8360ccc9054",
   "metadata": {},
   "source": [
    "Given three arrays a, b, c which run form 0 to nmax, conolve a with b, writing the result into c. "
   ]
  },
  {
   "cell_type": "code",
   "execution_count": 30,
   "id": "94478d96-954b-4212-9c98-ed9f3c659ac1",
   "metadata": {
    "execution": {
     "iopub.execute_input": "2022-03-18T18:25:48Z",
     "iopub.status.busy": "2022-03-18T18:25:48Z",
     "iopub.status.idle": "2022-03-18T18:25:48Z",
     "shell.execute_reply": "2022-03-18T18:25:48Z"
    },
    "tags": []
   },
   "outputs": [],
   "source": [
    "convolve(a, b, c, nmax) := block(\n",
    "    [m, k],\n",
    "\n",
    "    for m : 0 thru nmax do(\n",
    "        c[m] : 0,\n",
    "        for k : 0 thru m do\n",
    "            c[m] : c[m] + a[k] * b[m - k]))$"
   ]
  },
  {
   "cell_type": "markdown",
   "id": "a846884d-3102-411c-8a11-5524f4e8087f",
   "metadata": {},
   "source": [
    "Compute the repeated convolution of an array a with itself m times, writing the result into an array b.  Both arrays are assumed to run from 0 to nmax."
   ]
  },
  {
   "cell_type": "code",
   "execution_count": 31,
   "id": "141dc8c4-f744-4aa1-a02b-94044ba0ae78",
   "metadata": {
    "execution": {
     "iopub.execute_input": "2022-03-18T18:25:48Z",
     "iopub.status.busy": "2022-03-18T18:25:48Z",
     "iopub.status.idle": "2022-03-18T18:25:48Z",
     "shell.execute_reply": "2022-03-18T18:25:48Z"
    },
    "tags": []
   },
   "outputs": [],
   "source": [
    "convolpow(a, m, b, nmax) := block(\n",
    "    [tmparr, /* Temporary working array. */\n",
    "    doubler /* Store consecutive doublings of a. */ ,\n",
    "    n /* Counter for for loops. */ ],\n",
    "    tmparr : make_array(flonum, nmax + 1),\n",
    "    doubler : make_array(flonum, nmax + 1),\n",
    "        \n",
    "    /* Initialize the output array suitably. */\n",
    "    if mod(m, 2) = 1 then(\n",
    "        /* Set b = a when m is odd. */ \n",
    "        for n : 0 thru nmax do b[n] : a[n],\n",
    "        m : m - 1)\n",
    "        /* Set b to identity element when m is even. */\n",
    "        else(\n",
    "            b[0] : 1.0,\n",
    "            for n : 1 thru nmax do b[n] : 0),\n",
    "    m : m/2,\n",
    "    \n",
    "    /* Initialize the doubler. */\n",
    "    for n : 0 thru nmax do doubler[n] : a[n],\n",
    "    \n",
    "    /*  Compute the result. */\n",
    "    while m > 0 do(\n",
    "        /* print(\"entering loop m= \", m), */\n",
    "        /* Double the doubler. */\n",
    "        for n : 0 thru nmax do tmparr[n] : doubler[n],\n",
    "        convolve(tmparr, tmparr, doubler, nmax),\n",
    "        /* When m is odd we multiply the doubler into b. */\n",
    "        if mod(m, 2) = 1 then(\n",
    "            for n : 0 thru nmax do tmparr[n] : b[n],\n",
    "            convolve(tmparr, doubler, b, nmax),\n",
    "            m : m - 1),\n",
    "        m : m/2))$"
   ]
  },
  {
   "cell_type": "markdown",
   "id": "2bff55d2-d52f-4a29-9287-09f54398db69",
   "metadata": {},
   "source": [
    "Special case of the BID process with n_0 zero but m nonzero."
   ]
  },
  {
   "cell_type": "code",
   "execution_count": 32,
   "id": "065a77ae-5e5b-4193-982c-1b0529493f0e",
   "metadata": {
    "execution": {
     "iopub.execute_input": "2022-03-18T18:25:48Z",
     "iopub.status.busy": "2022-03-18T18:25:48Z",
     "iopub.status.idle": "2022-03-18T18:25:48Z",
     "shell.execute_reply": "2022-03-18T18:25:48Z"
    },
    "tags": []
   },
   "outputs": [],
   "source": [
    "Idist(tau, sigma, m, dist, nmax) := block(\n",
    "    [a, b, c, p, n],\n",
    "\n",
    "    a : (1 + sigma - (1 - sigma) * %e^(-tau)) / \n",
    "         (2 * sigma * %e^(-tau)),\n",
    "    b : (1 + sigma) * (1 - %e^(-tau)) /\n",
    "         (1 + sigma - (1 - sigma) * %e^(-tau)),\n",
    "    c : 2 * m * sigma / (1 + sigma),\n",
    "\n",
    "    p : a^(-c),\n",
    "    for n : 0 thru nmax do(\n",
    "        dist[n] : p,\n",
    "        p : p * b * (c + n) / (1 + n)))$"
   ]
  },
  {
   "cell_type": "code",
   "execution_count": null,
   "id": "78af79bd-6028-43fa-8637-11d722dae22a",
   "metadata": {},
   "outputs": [],
   "source": []
  }
 ],
 "metadata": {
  "kernelspec": {
   "display_name": "Maxima",
   "language": "maxima",
   "name": "maxima"
  },
  "language_info": {
   "codemirror_mode": "maxima",
   "file_extension": ".mac",
   "mimetype": "text/x-maxima",
   "name": "maxima",
   "pygments_lexer": "maxima",
   "version": "5.45.1"
  }
 },
 "nbformat": 4,
 "nbformat_minor": 5
}
