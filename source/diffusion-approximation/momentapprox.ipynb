{
 "cells": [
  {
   "cell_type": "markdown",
   "id": "324bb292-1b8f-4de4-bf51-954abc67690f",
   "metadata": {},
   "source": [
    "# Moment-based approximation to the BID process"
   ]
  },
  {
   "cell_type": "markdown",
   "id": "a9cb84a4-2e75-45e3-9b1e-e4a321c8d2a3",
   "metadata": {},
   "source": [
    "This is the exact generating function solution to the birth-immigration-death process.\n",
    "\n",
    "```maxima\n",
    "genfunc (x, t, n0, kb, kd) := \n",
    "    ((kd * %e^(- (kb - kd) * t) - kd + \n",
    "        (kd - kb * %e^(- (kb - kd) * t)) * x) / \n",
    "        (kd * %e^(- (kb - kd) * t) - kb + \n",
    "        (kb - kb * %e^(- (kb - kd) * t)) * x))^n0;\n",
    "```\n",
    "\n",
    "```maxima tags=[]\n",
    "probdist (m, t, n0, kb, kd) :=\n",
    "block([gf],\n",
    "    gf : genfunc(z, t, n0, kb, kd),\n",
    "    makelist([j, subst (0, z, diff(gf, z, j) / (j!))],\n",
    "        j, 0, m))$\n",
    "```\n",
    "\n",
    "The trial distribution.\n",
    "\n",
    "```maxima\n",
    "trialdist : (c0 + c1*x + c2*x^2 + c3*x^3) * %e^(-k*x);\n",
    "```\n",
    "\n",
    "The moments of the trial distribution.\n",
    "\n",
    "```maxima\n",
    "m0 : -subst(0, x, integrate(trialdist, x));\n",
    "m1 : -subst(0, x, integrate(x * trialdist, x));\n",
    "m2 : -subst(0, x, integrate(x^2 * trialdist, x));\n",
    "m3 : -subst(0, x, integrate(x^3 * trialdist, x));\n",
    "m4 : -subst(0, x, integrate(x^4 * trialdist, x));\n",
    "```\n",
    "\n",
    "```maxima tags=[]\n",
    "simeqs: solve([m1 = v1, m2 = v2, m3 = v3, m4 = v4], [c0, c1, c2, c3])$\n",
    "```\n",
    "\n",
    "```maxima tags=[]\n",
    "simeqs[1][1];\n",
    "simeqs[1][2];\n",
    "simeqs[1][3];\n",
    "simeqs[1][4];\n",
    "```\n",
    "\n",
    "As an example, consider the parameters n0 = 3, t = 1, kb = 1.1, kd = 0.9\n",
    "\n",
    "```maxima tags=[]\n",
    "exdist : probdist(30, 1, 3, 1.1, 0.9)$\n",
    "```\n",
    "\n",
    "```maxima tags=[]\n",
    "exdist[1];\n",
    "exdist[2];\n",
    "exdist[3];\n",
    "```\n",
    "\n",
    "Compute the moments for the exact distribution.\n",
    "\n",
    "```maxima\n",
    "numop(n, gf) := \n",
    "    if n=0 then gf\n",
    "        else numop(n-1, z * diff(gf, z))$\n",
    "mom(m, t, n0, kb, kd) := \n",
    "    factor(subst(1, z, numop(m, genfunc(z, t, n0, kb, kd))))$\n",
    "```\n",
    "\n",
    "```maxima\n",
    "psubst([kb = 1.1, kd = 0.9], mom(1, 1, 3, kb, kd));\n",
    "psubst([kb = 1.1, kd = 0.9], mom(2, 1, 3, kb, kd));\n",
    "psubst([kb = 1.1, kd = 0.9], mom(3, 1, 3, kb, kd));\n",
    "psubst([kb = 1.1, kd = 0.9], mom(4, 1, 3, kb, kd));\n",
    "```\n",
    "\n",
    "```maxima\n",
    "sum(exdist[k][2], k, 1, 31);\n",
    "sum((k - 1) * exdist[k][2], k, 1, 31);\n",
    "sum((k - 1)^2 * exdist[k][2], k, 1, 31);\n",
    "sum((k - 1)^3 * exdist[k][2], k, 1, 31);\n",
    "sum((k - 1)^4 * exdist[k][2], k, 1, 31);\n",
    "```"
   ]
  },
  {
   "cell_type": "markdown",
   "id": "a6b62ab6-5274-4746-bf1a-d548c42bfb78",
   "metadata": {
    "tags": []
   },
   "source": [
    "Solve for the parameters.  We frist solve for the c's because those equations are linear."
   ]
  },
  {
   "cell_type": "markdown",
   "id": "04af6ead",
   "metadata": {},
   "source": [
    "```maxima tags=[]\n",
    "csol : solve([m1 = 3.664, m2 = 21.54, m3 = 166.22, m4 = 1578.7], [c0, c1, c2, c3])$\n",
    "```\n",
    "\n",
    "```maxima tags=[]\n",
    "csol[1][1];\n",
    "csol[1][2];\n",
    "csol[1][3];\n",
    "csol[1][4];\n",
    "```\n",
    "\n",
    "We then solve a polynomial equation for k.\n",
    "\n",
    "```maxima tags=[]\n",
    "normer : factor(psubst(csol, m0) - 1);\n",
    "allroots(normer);\n",
    "```\n",
    "\n",
    "```maxima tags=[]\n",
    "ccsol : cons(k = 0.3313, subst(0.3313 , k, csol[1]));\n",
    "```"
   ]
  },
  {
   "cell_type": "markdown",
   "id": "3d04131d-c4c3-4560-8d8b-c4492225b814",
   "metadata": {},
   "source": [
    "\n",
    "\n",
    "Check the answer."
   ]
  },
  {
   "cell_type": "markdown",
   "id": "8f6b388a",
   "metadata": {},
   "source": [
    "```maxima\n",
    "psubst(ccsol, [m0, m1, m2, m3, m4]);\n",
    "```\n",
    "\n",
    "Substitute the numerical values into the trial distrbution.\n",
    "\n",
    "```maxima\n",
    "approxdist : psubst(ccsol, trialdist);\n",
    "```\n",
    "\n",
    "Plot against the exact solution.\n",
    "\n",
    "```maxima tags=[]\n",
    "set_plot_option([svg_file, \"maxplot-moment-gen.svg\"])$\n",
    "```\n",
    "\n",
    "```maxima tags=[]\n",
    "plot2d([approxdist, [discrete, exdist]], [x, 1, 16],\n",
    "[legend, \"approx\", \"exact\"], [style, lines, points]);\n",
    "```"
   ]
  }
 ],
 "metadata": {
  "jupytext": {
   "formats": "ipynb,md"
  },
  "kernelspec": {
   "display_name": "Maxima",
   "language": "maxima",
   "name": "maxima"
  },
  "language_info": {
   "codemirror_mode": "maxima",
   "file_extension": ".mac",
   "mimetype": "text/x-maxima",
   "name": "maxima",
   "pygments_lexer": "maxima",
   "version": "5.45.1"
  },
  "toc-autonumbering": true
 },
 "nbformat": 4,
 "nbformat_minor": 5
}
