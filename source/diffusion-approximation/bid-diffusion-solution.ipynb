{
 "cells": [
  {
   "cell_type": "markdown",
   "id": "b820a5e6-028f-4082-bbda-1d65a692f822",
   "metadata": {},
   "source": [
    "<center><font size=\"+4\">Solving the diffusion approximation to the birth-immigration-death process</font></center>"
   ]
  },
  {
   "cell_type": "markdown",
   "id": "e15c5663-8e27-41c1-a512-1bf42e4b7c28",
   "metadata": {},
   "source": [
    "# Forward Laplace transform"
   ]
  },
  {
   "cell_type": "code",
   "execution_count": 2,
   "id": "94272d2a-31e3-456a-868b-f75d782ca03a",
   "metadata": {
    "execution": {
     "iopub.execute_input": "2021-08-15T17:26:52Z",
     "iopub.status.busy": "2021-08-15T17:26:52Z",
     "iopub.status.idle": "2021-08-15T17:26:52Z",
     "shell.execute_reply": "2021-08-15T17:26:52Z"
    },
    "tags": []
   },
   "outputs": [
    {
     "data": {
      "text/latex": [
       "\\[\\tag{${\\it \\%o}_{2}$}{\\it diffusioneqn}\\left(\\rho , D , s , M\\right):={\\it diff}\\left(\\rho , \\tau\\right)-D\\,{\\it diff}\\left(x\\,\\rho , x , 2\\right)+s\\,{\\it diff}\\left(x\\,\\rho , x , 1\\right)+M\\,{\\it diff}\\left(\\rho , x\\right)\\]"
      ],
      "text/plain": [
       "(%o2) diffusioneqn(rho, D, s, M) := diff(rho, tau) - D diff(x rho, x, 2)\n",
       "                                         + s diff(x rho, x, 1) + M diff(rho, x)"
      ],
      "text/x-maxima": [
       "diffusioneqn(rho,D,s,M):=diff(rho,tau)-D*diff(x*rho,x,2)+s*diff(x*rho,x,1)\n",
       "             +M*diff(rho,x)"
      ]
     },
     "execution_count": 2,
     "metadata": {},
     "output_type": "execute_result"
    }
   ],
   "source": [
    "diffusioneqn (rho, D, s, M) := \n",
    "    diff (rho, tau) -\n",
    "    D * diff (x * rho, x, 2) +\n",
    "    s * diff (x * rho, x, 1) +\n",
    "    M * diff (rho, x);"
   ]
  },
  {
   "cell_type": "code",
   "execution_count": 3,
   "id": "41238674-c657-46e2-9999-3b82342847ca",
   "metadata": {
    "execution": {
     "iopub.execute_input": "2021-08-15T17:26:58Z",
     "iopub.status.busy": "2021-08-15T17:26:58Z",
     "iopub.status.idle": "2021-08-15T17:26:58Z",
     "shell.execute_reply": "2021-08-15T17:26:58Z"
    }
   },
   "outputs": [
    {
     "data": {
      "text/latex": [
       "\\[\\tag{${\\it \\%o}_{3}$}{\\it cgfeqn}\\left({\\it gam} , D , s , M\\right):={\\it diff}\\left({\\it gam} , \\tau\\right)+\\left(D\\,\\vartheta^2-s\\,\\vartheta\\right)\\,{\\it diff}\\left({\\it gam} , \\vartheta\\right)+\\left(-M\\right)\\,\\vartheta\\]"
      ],
      "text/plain": [
       "(%o3) cgfeqn(gam, D, s, M) := diff(gam, tau)\n",
       "                                    2\n",
       "                          + (D theta  - s theta) diff(gam, theta) + (- M) theta"
      ],
      "text/x-maxima": [
       "cgfeqn(gam,D,s,M):=diff(gam,tau)+(D*theta^2-s*theta)*diff(gam,theta)\n",
       "       +(-M)*theta"
      ]
     },
     "execution_count": 3,
     "metadata": {},
     "output_type": "execute_result"
    }
   ],
   "source": [
    "cgfeqn (gam, D, s, M) := \n",
    "    diff (gam, tau) +\n",
    "    (D * theta^2 - s* theta) * diff (gam, theta) -\n",
    "    M * theta;"
   ]
  },
  {
   "cell_type": "markdown",
   "id": "df27b486-1699-4b06-a7be-9dce96c84997",
   "metadata": {},
   "source": [
    "# Characteristic equation"
   ]
  },
  {
   "cell_type": "markdown",
   "id": "89ff8f95-826b-4af6-be5e-f4b1a5466c13",
   "metadata": {},
   "source": [
    "Compute the integral for the implicit solution."
   ]
  },
  {
   "cell_type": "code",
   "execution_count": 4,
   "id": "d92edab9-69d5-4acc-9541-5d04b2e942dc",
   "metadata": {
    "execution": {
     "iopub.execute_input": "2021-08-15T17:33:38Z",
     "iopub.status.busy": "2021-08-15T17:33:38Z",
     "iopub.status.idle": "2021-08-15T17:33:38Z",
     "shell.execute_reply": "2021-08-15T17:33:38Z"
    }
   },
   "outputs": [
    {
     "data": {
      "text/latex": [
       "\\[\\tag{${\\it \\%o}_{4}$}\\frac{\\log \\left(\\frac{D\\,{\\it thp}-s}{{\\it thp}}\\right)}{s}\\]"
      ],
      "text/plain": [
       "                                    D thp - s\n",
       "                                log(---------)\n",
       "                                       thp\n",
       "(%o4)                           --------------\n",
       "                                      s"
      ],
      "text/x-maxima": [
       "log((D*thp-s)/thp)/s"
      ]
     },
     "execution_count": 4,
     "metadata": {},
     "output_type": "execute_result"
    }
   ],
   "source": [
    "logcontract(integrate(1/(D * thp^2 - s * thp), thp));"
   ]
  },
  {
   "cell_type": "markdown",
   "id": "7dbb70b1-934a-4110-b8d2-212222a1b5e0",
   "metadata": {},
   "source": [
    "Solve the implicit equation."
   ]
  },
  {
   "cell_type": "code",
   "execution_count": 5,
   "id": "9d0d1589-a072-4349-9c7b-a49cc3b9bf8f",
   "metadata": {
    "execution": {
     "iopub.execute_input": "2021-08-15T17:34:09Z",
     "iopub.status.busy": "2021-08-15T17:34:09Z",
     "iopub.status.idle": "2021-08-15T17:34:09Z",
     "shell.execute_reply": "2021-08-15T17:34:09Z"
    }
   },
   "outputs": [
    {
     "data": {
      "text/latex": [
       "\\[\\tag{${\\it \\%o}_{5}$}\\vartheta=-\\frac{s\\,\\vartheta_{0}}{\\left(D\\,\\vartheta_{0}-s\\right)\\,e^{s\\,u}-D\\,\\vartheta_{0}}\\]"
      ],
      "text/plain": [
       "                                        s theta0\n",
       "(%o5)              theta = - -------------------------------\n",
       "                                              s u\n",
       "                             (D theta0 - s) %e    - D theta0"
      ],
      "text/x-maxima": [
       "theta = -(s*theta0)/((D*theta0-s)*%e^(s*u)-D*theta0)"
      ]
     },
     "execution_count": 5,
     "metadata": {},
     "output_type": "execute_result"
    },
    {
     "data": {
      "text/latex": [
       "\\[\\tag{${\\it \\%o}_{6}$}\\vartheta_{0}=\\frac{s\\,\\vartheta\\,e^{s\\,u}}{D\\,\\vartheta\\,e^{s\\,u}-D\\,\\vartheta+s}\\]"
      ],
      "text/plain": [
       "                                               s u\n",
       "                                     s theta %e\n",
       "(%o6)                theta0 = ---------------------------\n",
       "                                        s u\n",
       "                              D theta %e    - D theta + s"
      ],
      "text/x-maxima": [
       "theta0 = (s*theta*%e^(s*u))/(D*theta*%e^(s*u)-D*theta+s)"
      ]
     },
     "execution_count": 5,
     "metadata": {},
     "output_type": "execute_result"
    }
   ],
   "source": [
    "thetasol : solve ([((D* theta - s) * theta0) / ((D* theta0 - s) * theta) =\n",
    "    %e^(s*u)], [theta])[1];\n",
    "theta0sol : solve ([((D* theta - s) * theta0) / ((D* theta0 - s) * theta) =\n",
    "    %e^(s*u)], [theta0])[1];"
   ]
  },
  {
   "cell_type": "markdown",
   "id": "f03d08a3-f0ca-4ff2-8b36-8ebec863da6f",
   "metadata": {},
   "source": [
    "Check the solution."
   ]
  },
  {
   "cell_type": "code",
   "execution_count": 6,
   "id": "7c80bf2f-1c18-4bf7-bf31-c75a637e1693",
   "metadata": {
    "execution": {
     "iopub.execute_input": "2021-08-15T17:35:11Z",
     "iopub.status.busy": "2021-08-15T17:35:11Z",
     "iopub.status.idle": "2021-08-15T17:35:11Z",
     "shell.execute_reply": "2021-08-15T17:35:11Z"
    }
   },
   "outputs": [
    {
     "data": {
      "text/latex": [
       "\\[\\tag{${\\it \\%o}_{7}$}\\vartheta=\\vartheta_{0}\\]"
      ],
      "text/plain": [
       "(%o7)                           theta = theta0"
      ],
      "text/x-maxima": [
       "theta = theta0"
      ]
     },
     "execution_count": 6,
     "metadata": {},
     "output_type": "execute_result"
    }
   ],
   "source": [
    "subst(0, u,  thetasol);"
   ]
  },
  {
   "cell_type": "code",
   "execution_count": 8,
   "id": "04ee9a2a-228b-43e9-bff7-8f64bcf682b6",
   "metadata": {
    "execution": {
     "iopub.execute_input": "2021-08-15T17:35:25Z",
     "iopub.status.busy": "2021-08-15T17:35:25Z",
     "iopub.status.idle": "2021-08-15T17:35:25Z",
     "shell.execute_reply": "2021-08-15T17:35:25Z"
    },
    "tags": []
   },
   "outputs": [
    {
     "data": {
      "text/latex": [
       "\\[\\tag{${\\it \\%o}_{9}$}{\\it chareqn}\\left(\\vartheta\\right):={\\it diff}\\left(\\vartheta , u\\right)-D\\,\\vartheta^2+s\\,\\vartheta\\]"
      ],
      "text/plain": [
       "                                                       2\n",
       "(%o9)        chareqn(theta) := diff(theta, u) - D theta  + s theta"
      ],
      "text/x-maxima": [
       "chareqn(theta):=diff(theta,u)-D*theta^2+s*theta"
      ]
     },
     "execution_count": 8,
     "metadata": {},
     "output_type": "execute_result"
    }
   ],
   "source": [
    "chareqn(theta) := diff(theta, u) - D * theta^2 + s * theta;"
   ]
  },
  {
   "cell_type": "code",
   "execution_count": 9,
   "id": "bba06860-3a68-404e-b5e7-f5666a4f8276",
   "metadata": {
    "execution": {
     "iopub.execute_input": "2021-08-15T17:35:28Z",
     "iopub.status.busy": "2021-08-15T17:35:28Z",
     "iopub.status.idle": "2021-08-15T17:35:28Z",
     "shell.execute_reply": "2021-08-15T17:35:28Z"
    }
   },
   "outputs": [
    {
     "data": {
      "text/latex": [
       "\\[\\tag{${\\it \\%o}_{10}$}0\\]"
      ],
      "text/plain": [
       "(%o10)                                 0"
      ],
      "text/x-maxima": [
       "0"
      ]
     },
     "execution_count": 9,
     "metadata": {},
     "output_type": "execute_result"
    }
   ],
   "source": [
    "factor(chareqn(part(thetasol, 2)));"
   ]
  },
  {
   "cell_type": "markdown",
   "id": "aa5a1178-68db-4123-a851-ba0c6c086231",
   "metadata": {},
   "source": [
    "# Homogeneous solution"
   ]
  },
  {
   "cell_type": "markdown",
   "id": "b0d55572-084d-4d62-af14-e1d46d625c62",
   "metadata": {},
   "source": [
    "Re-expressing $u$ in terms of $\\tau$ and including the initial condition $P(x,0) = \\delta(x-x_0) \\Rightarrow \\Gamma_{\\mathrm{hom}}(\\theta, 0)=x_0 \\, \\theta$, where $\\Rightarrow$ indicates taking the logarithm of the Laplace transform, yields"
   ]
  },
  {
   "cell_type": "code",
   "execution_count": 10,
   "id": "f671651b-b490-4139-af6f-abf67169b395",
   "metadata": {
    "execution": {
     "iopub.execute_input": "2021-08-15T17:39:38Z",
     "iopub.status.busy": "2021-08-15T17:39:38Z",
     "iopub.status.idle": "2021-08-15T17:39:38Z",
     "shell.execute_reply": "2021-08-15T17:39:38Z"
    }
   },
   "outputs": [
    {
     "data": {
      "text/latex": [
       "\\[\\tag{${\\it \\%o}_{11}$}\\frac{s\\,e^{s\\,\\tau}\\,\\vartheta\\,x_{0}}{D\\,\\left(e^{s\\,\\tau}-1\\right)\\,\\vartheta+s}\\]"
      ],
      "text/plain": [
       "                                  s tau\n",
       "                              s %e      theta x0\n",
       "(%o11)                     -------------------------\n",
       "                                s tau\n",
       "                           D (%e      - 1) theta + s"
      ],
      "text/x-maxima": [
       "(s*%e^(s*tau)*theta*x0)/(D*(%e^(s*tau)-1)*theta+s)"
      ]
     },
     "execution_count": 10,
     "metadata": {},
     "output_type": "execute_result"
    }
   ],
   "source": [
    "gamhom : x0 * s * theta * %e^(s*tau) / \n",
    "    (D * (%e^(s*tau) - 1) * theta + s);"
   ]
  },
  {
   "cell_type": "code",
   "execution_count": 11,
   "id": "a7fb69a1-202a-4f62-bad3-84755255279e",
   "metadata": {
    "execution": {
     "iopub.execute_input": "2021-08-15T17:39:44Z",
     "iopub.status.busy": "2021-08-15T17:39:44Z",
     "iopub.status.idle": "2021-08-15T17:39:44Z",
     "shell.execute_reply": "2021-08-15T17:39:44Z"
    }
   },
   "outputs": [
    {
     "data": {
      "text/latex": [
       "\\[\\tag{${\\it \\%o}_{12}$}0\\]"
      ],
      "text/plain": [
       "(%o12)                                 0"
      ],
      "text/x-maxima": [
       "0"
      ]
     },
     "execution_count": 11,
     "metadata": {},
     "output_type": "execute_result"
    }
   ],
   "source": [
    "factor(gamhom - x0 * subst(tau, u, part(theta0sol, 2)));"
   ]
  },
  {
   "cell_type": "markdown",
   "id": "d33e7bc9-4d51-4f9b-afcd-1422e320c2cb",
   "metadata": {},
   "source": [
    "Noting $M=0$ in the homogeneous case"
   ]
  },
  {
   "cell_type": "code",
   "execution_count": 12,
   "id": "4c6a314e-abf6-4706-9ab3-365ef8980c46",
   "metadata": {
    "execution": {
     "iopub.execute_input": "2021-08-15T17:39:54Z",
     "iopub.status.busy": "2021-08-15T17:39:54Z",
     "iopub.status.idle": "2021-08-15T17:39:54Z",
     "shell.execute_reply": "2021-08-15T17:39:54Z"
    }
   },
   "outputs": [
    {
     "data": {
      "text/latex": [
       "\\[\\tag{${\\it \\%o}_{13}$}0\\]"
      ],
      "text/plain": [
       "(%o13)                                 0"
      ],
      "text/x-maxima": [
       "0"
      ]
     },
     "execution_count": 12,
     "metadata": {},
     "output_type": "execute_result"
    }
   ],
   "source": [
    "factor(cgfeqn (gamhom, D, s, 0));"
   ]
  },
  {
   "cell_type": "markdown",
   "id": "67e14a9b-5289-4db0-b20e-efb4bc212099",
   "metadata": {},
   "source": [
    "# Inhomogeneous solutions"
   ]
  },
  {
   "cell_type": "markdown",
   "id": "f43c8141-fba4-49ef-99c7-7299924fc7d9",
   "metadata": {},
   "source": [
    "Find the characteristic which passes through a given point (theta_f, tau_f)."
   ]
  },
  {
   "cell_type": "code",
   "execution_count": 13,
   "id": "978c89a1-5666-4b00-a11b-59eddfe6dd81",
   "metadata": {
    "execution": {
     "iopub.execute_input": "2021-08-15T17:46:43Z",
     "iopub.status.busy": "2021-08-15T17:46:43Z",
     "iopub.status.idle": "2021-08-15T17:46:43Z",
     "shell.execute_reply": "2021-08-15T17:46:43Z"
    }
   },
   "outputs": [
    {
     "data": {
      "text/latex": [
       "\\[\\tag{${\\it \\%o}_{14}$}\\vartheta_{0}=\\frac{s\\,{\\it thetaf}\\,e^{s\\,{\\it uf}}}{D\\,{\\it thetaf}\\,e^{s\\,{\\it uf}}-D\\,{\\it thetaf}+s}\\]"
      ],
      "text/plain": [
       "                                               s uf\n",
       "                                    s thetaf %e\n",
       "(%o14)              theta0 = ------------------------------\n",
       "                                        s uf\n",
       "                             D thetaf %e     - D thetaf + s"
      ],
      "text/x-maxima": [
       "theta0 = (s*thetaf*%e^(s*uf))/(D*thetaf*%e^(s*uf)-D*thetaf+s)"
      ]
     },
     "execution_count": 13,
     "metadata": {},
     "output_type": "execute_result"
    }
   ],
   "source": [
    "th0sol : solve([thetaf = \n",
    "        subst(uf, u, part(thetasol, 2))], [theta0])[1];"
   ]
  },
  {
   "cell_type": "code",
   "execution_count": 14,
   "id": "35607b11-0949-44c2-96c6-c0ae8dbb1d16",
   "metadata": {
    "execution": {
     "iopub.execute_input": "2021-08-15T17:46:55Z",
     "iopub.status.busy": "2021-08-15T17:46:55Z",
     "iopub.status.idle": "2021-08-15T17:46:55Z",
     "shell.execute_reply": "2021-08-15T17:46:55Z"
    }
   },
   "outputs": [
    {
     "data": {
      "text/latex": [
       "\\[\\tag{${\\it \\%o}_{15}$}\\vartheta=\\frac{s\\,{\\it thetaf}\\,e^{s\\,{\\it uf}}}{D\\,{\\it thetaf}\\,e^{s\\,{\\it uf}}-D\\,{\\it thetaf}\\,e^{s\\,u}+s\\,e^{s\\,u}}\\]"
      ],
      "text/plain": [
       "                                              s uf\n",
       "                                   s thetaf %e\n",
       "(%o15)        theta = ------------------------------------------\n",
       "                                 s uf              s u       s u\n",
       "                      D thetaf %e     - D thetaf %e    + s %e"
      ],
      "text/x-maxima": [
       "theta = (s*thetaf*%e^(s*uf))/(D*thetaf*%e^(s*uf)-D*thetaf*%e^(s*u)+s*%e^(s*u))"
      ]
     },
     "execution_count": 14,
     "metadata": {},
     "output_type": "execute_result"
    }
   ],
   "source": [
    "thfsol : factor(psubst(th0sol, thetasol));"
   ]
  },
  {
   "cell_type": "code",
   "execution_count": 15,
   "id": "ef98c7ef-2be4-4869-b84a-32989a4894ab",
   "metadata": {
    "execution": {
     "iopub.execute_input": "2021-08-15T17:47:01Z",
     "iopub.status.busy": "2021-08-15T17:47:01Z",
     "iopub.status.idle": "2021-08-15T17:47:01Z",
     "shell.execute_reply": "2021-08-15T17:47:01Z"
    }
   },
   "outputs": [
    {
     "data": {
      "text/latex": [
       "\\[\\tag{${\\it \\%o}_{16}$}\\vartheta={\\it thetaf}\\]"
      ],
      "text/plain": [
       "(%o16)                          theta = thetaf"
      ],
      "text/x-maxima": [
       "theta = thetaf"
      ]
     },
     "execution_count": 15,
     "metadata": {},
     "output_type": "execute_result"
    }
   ],
   "source": [
    "subst(uf, u, thfsol);"
   ]
  },
  {
   "cell_type": "markdown",
   "id": "c4f7b6fe-5b13-4cdb-8402-4c47df116aeb",
   "metadata": {},
   "source": [
    "Integrate along that characteristic."
   ]
  },
  {
   "cell_type": "code",
   "execution_count": 16,
   "id": "aa6034ee-ff06-4b12-908e-8cb413524fdb",
   "metadata": {
    "execution": {
     "iopub.execute_input": "2021-08-15T17:47:19Z",
     "iopub.status.busy": "2021-08-15T17:47:19Z",
     "iopub.status.idle": "2021-08-15T17:47:19Z",
     "shell.execute_reply": "2021-08-15T17:47:19Z"
    }
   },
   "outputs": [
    {
     "data": {
      "text/latex": [
       "\\[\\tag{${\\it \\%o}_{17}$}s\\,{\\it thetaf}\\,e^{s\\,{\\it uf}}\\,\\left(\\frac{u\\,e^ {- s\\,{\\it uf} }}{D\\,{\\it thetaf}}-\\frac{e^ {- s\\,{\\it uf} }\\,\\log \\left(\\left(D\\,{\\it thetaf}-s\\right)\\,e^{s\\,u}-D\\,{\\it thetaf}\\,e^{s\\,{\\it uf}}\\right)}{D\\,s\\,{\\it thetaf}}\\right)\\]"
      ],
      "text/plain": [
       "                            - s uf\n",
       "                  s uf  u %e\n",
       "(%o17) s thetaf %e     (----------\n",
       "                         D thetaf\n",
       "                            - s uf                      s u              s uf\n",
       "                          %e       log((D thetaf - s) %e    - D thetaf %e    )\n",
       "                        - ----------------------------------------------------)\n",
       "                                               D s thetaf"
      ],
      "text/x-maxima": [
       "s*thetaf*%e^(s*uf)\n",
       " *((u*%e^-(s*uf))/(D*thetaf)-(%e^-(s*uf)\n",
       "                             *log((D*thetaf-s)*%e^(s*u)-D*thetaf*%e^(s*uf)))\n",
       "                             /(D*s*thetaf))"
      ]
     },
     "execution_count": 16,
     "metadata": {},
     "output_type": "execute_result"
    }
   ],
   "source": [
    "ginhint : integrate((thetaf*s*%e^(uf*s))/\n",
    "    (s*%e^(s*u)-D*thetaf*%e^(s*u)+D*thetaf*%e^(uf*s)), u);"
   ]
  },
  {
   "cell_type": "code",
   "execution_count": 17,
   "id": "82150920-cdf5-4af2-85b0-3eabf123a2a6",
   "metadata": {
    "execution": {
     "iopub.execute_input": "2021-08-15T17:47:25Z",
     "iopub.status.busy": "2021-08-15T17:47:25Z",
     "iopub.status.idle": "2021-08-15T17:47:25Z",
     "shell.execute_reply": "2021-08-15T17:47:25Z"
    }
   },
   "outputs": [
    {
     "data": {
      "text/latex": [
       "\\[\\tag{${\\it \\%o}_{18}$}\\frac{\\log \\left(\\frac{D\\,{\\it thetaf}\\,e^{s\\,{\\it uf}}-D\\,{\\it thetaf}+s}{s}\\right)}{D}\\]"
      ],
      "text/plain": [
       "                                     s uf\n",
       "                          D thetaf %e     - D thetaf + s\n",
       "                      log(------------------------------)\n",
       "                                        s\n",
       "(%o18)                -----------------------------------\n",
       "                                       D"
      ],
      "text/x-maxima": [
       "log((D*thetaf*%e^(s*uf)-D*thetaf+s)/s)/D"
      ]
     },
     "execution_count": 17,
     "metadata": {},
     "output_type": "execute_result"
    }
   ],
   "source": [
    "logcontract(ev(factor(subst(uf, u, ginhint) - subst(0, u, ginhint)), \n",
    "        logexpand=super));"
   ]
  },
  {
   "cell_type": "code",
   "execution_count": 18,
   "id": "cc97dd9b-d298-471b-bd19-611d15a431ff",
   "metadata": {
    "execution": {
     "iopub.execute_input": "2021-08-15T17:47:29Z",
     "iopub.status.busy": "2021-08-15T17:47:29Z",
     "iopub.status.idle": "2021-08-15T17:47:29Z",
     "shell.execute_reply": "2021-08-15T17:47:29Z"
    }
   },
   "outputs": [
    {
     "data": {
      "text/latex": [
       "\\[\\tag{${\\it \\%o}_{19}$}\\frac{\\log \\left(\\frac{D\\,{\\it thetaf}\\,e^{s\\,{\\it uf}}-D\\,{\\it thetaf}+s}{s}\\right)}{D}\\]"
      ],
      "text/plain": [
       "                                     s uf\n",
       "                          D thetaf %e     - D thetaf + s\n",
       "                      log(------------------------------)\n",
       "                                        s\n",
       "(%o19)                -----------------------------------\n",
       "                                       D"
      ],
      "text/x-maxima": [
       "log((D*thetaf*%e^(s*uf)-D*thetaf+s)/s)/D"
      ]
     },
     "execution_count": 18,
     "metadata": {},
     "output_type": "execute_result"
    }
   ],
   "source": [
    "logcontract(ev(factor(subst(uf, u, ginhint) - subst(0, u, ginhint)), \n",
    "        logexpand=super));"
   ]
  },
  {
   "cell_type": "markdown",
   "id": "cea937a6-240e-4cd8-892d-941ac104171b",
   "metadata": {},
   "source": [
    "Adding back the factor of $M$ provides the solution to the inhomogeneous CGF."
   ]
  },
  {
   "cell_type": "code",
   "execution_count": 19,
   "id": "e4055b01-d8e0-45e7-b0aa-b9d4bf6eb45b",
   "metadata": {
    "execution": {
     "iopub.execute_input": "2021-08-15T18:13:22Z",
     "iopub.status.busy": "2021-08-15T18:13:22Z",
     "iopub.status.idle": "2021-08-15T18:13:22Z",
     "shell.execute_reply": "2021-08-15T18:13:22Z"
    }
   },
   "outputs": [
    {
     "data": {
      "text/latex": [
       "\\[\\tag{${\\it \\%o}_{20}$}\\frac{M\\,\\log \\left(\\frac{D\\,\\left(e^ {- s\\,\\tau }-1\\right)\\,\\vartheta}{s}+1\\right)}{D}\\]"
      ],
      "text/plain": [
       "                                 - s tau\n",
       "                            D (%e        - 1) theta\n",
       "                      M log(----------------------- + 1)\n",
       "                                       s\n",
       "(%o20)                ----------------------------------\n",
       "                                      D"
      ],
      "text/x-maxima": [
       "(M*log((D*(%e^-(s*tau)-1)*theta)/s+1))/D"
      ]
     },
     "execution_count": 19,
     "metadata": {},
     "output_type": "execute_result"
    }
   ],
   "source": [
    "gaminh : (M/D) * log( (D/s) * (%e^(-s * tau) - 1) * theta + 1);"
   ]
  },
  {
   "cell_type": "markdown",
   "id": "0ac6e834-8fb0-472b-95cf-4742daf88cf6",
   "metadata": {},
   "source": [
    "# Inverse Laplace transform"
   ]
  },
  {
   "cell_type": "markdown",
   "id": "6ee0a3e9-645d-40fa-97fe-0c10eba75477",
   "metadata": {},
   "source": [
    "## Homogeneous solution"
   ]
  },
  {
   "cell_type": "markdown",
   "id": "dc9e462d-a63e-4f44-90d6-7d6fdcace870",
   "metadata": {},
   "source": [
    "We proceed by constructing a change of variable to place the inverse Laplace transform integral into a form enabling the identification of a Bessel function solution. Combining the form of the Laplace transform with the form of `gamhom` we have"
   ]
  },
  {
   "cell_type": "code",
   "execution_count": 20,
   "id": "ae04d055-ef3e-4261-b106-3f6b463f90a6",
   "metadata": {
    "execution": {
     "iopub.execute_input": "2021-08-15T18:16:01Z",
     "iopub.status.busy": "2021-08-15T18:16:01Z",
     "iopub.status.idle": "2021-08-15T18:16:01Z",
     "shell.execute_reply": "2021-08-15T18:16:01Z"
    }
   },
   "outputs": [
    {
     "data": {
      "text/latex": [
       "\\[\\tag{${\\it \\%o}_{21}$}\\vartheta\\,x-\\frac{a\\,\\vartheta}{b\\,\\vartheta+1}\\]"
      ],
      "text/plain": [
       "                                         a theta\n",
       "(%o21)                       theta x - -----------\n",
       "                                       b theta + 1"
      ],
      "text/x-maxima": [
       "theta*x-(a*theta)/(b*theta+1)"
      ]
     },
     "execution_count": 20,
     "metadata": {},
     "output_type": "execute_result"
    }
   ],
   "source": [
    "schemintgr : x * theta  - a * theta / (b * theta + 1);"
   ]
  },
  {
   "cell_type": "markdown",
   "id": "be5a1636-383c-494a-8e83-a3a11aed1b62",
   "metadata": {},
   "source": [
    "The following change of variable $\\theta \\rightarrow \\theta'$ will render `shemintgr` a function of $\\theta' + \\frac{1}{\\theta'}$ as expected for a Bessel function"
   ]
  },
  {
   "cell_type": "code",
   "execution_count": 53,
   "id": "eb8f3ff1-c380-4441-a76a-cd2c10df8438",
   "metadata": {
    "execution": {
     "iopub.execute_input": "2021-08-15T20:11:19Z",
     "iopub.status.busy": "2021-08-15T20:11:19Z",
     "iopub.status.idle": "2021-08-15T20:11:19Z",
     "shell.execute_reply": "2021-08-15T20:11:19Z"
    },
    "tags": []
   },
   "outputs": [
    {
     "data": {
      "text/latex": [
       "\\[\\tag{${\\it \\%o}_{59}$}c\\,{\\it thp}-\\frac{1}{b}\\]"
      ],
      "text/plain": [
       "                                           1\n",
       "(%o59)                             c thp - -\n",
       "                                           b"
      ],
      "text/x-maxima": [
       "c*thp-1/b"
      ]
     },
     "execution_count": 53,
     "metadata": {},
     "output_type": "execute_result"
    }
   ],
   "source": [
    "thetaChV: c * thp - 1/b;"
   ]
  },
  {
   "cell_type": "code",
   "execution_count": 54,
   "id": "f9f40a79-b888-4e1c-bed7-d8636c0cfbae",
   "metadata": {
    "execution": {
     "iopub.execute_input": "2021-08-15T20:11:27Z",
     "iopub.status.busy": "2021-08-15T20:11:27Z",
     "iopub.status.idle": "2021-08-15T20:11:27Z",
     "shell.execute_reply": "2021-08-15T20:11:27Z"
    },
    "tags": []
   },
   "outputs": [
    {
     "data": {
      "text/latex": [
       "\\[\\tag{${\\it \\%o}_{60}$}c\\,{\\it thp}\\,x-\\frac{x}{b}+\\frac{a}{b^2\\,c\\,{\\it thp}}-\\frac{a}{b}\\]"
      ],
      "text/plain": [
       "                                    x      a       a\n",
       "(%o60)                    c thp x - - + -------- - -\n",
       "                                    b    2         b\n",
       "                                        b  c thp"
      ],
      "text/x-maxima": [
       "c*thp*x-x/b+a/(b^2*c*thp)-a/b"
      ]
     },
     "execution_count": 54,
     "metadata": {},
     "output_type": "execute_result"
    }
   ],
   "source": [
    "schemintgrthp: expand(subst(thetaChV, theta, schemintgr));"
   ]
  },
  {
   "cell_type": "markdown",
   "id": "352cf9bf-46a7-4ed0-8200-402d4d94d0d4",
   "metadata": {},
   "source": [
    "Since we are looking for a form that includes a single factor of $\\theta' + \\frac{1}{\\theta'}$ we look for $c x = \\frac{a}{b^2 c}$"
   ]
  },
  {
   "cell_type": "code",
   "execution_count": 62,
   "id": "037626dc-d661-4b0b-962c-0b8a60621d63",
   "metadata": {
    "execution": {
     "iopub.execute_input": "2021-08-15T20:23:52Z",
     "iopub.status.busy": "2021-08-15T20:23:52Z",
     "iopub.status.idle": "2021-08-15T20:23:52Z",
     "shell.execute_reply": "2021-08-15T20:23:52Z"
    },
    "tags": []
   },
   "outputs": [
    {
     "data": {
      "text/latex": [
       "\\[\\tag{${\\it \\%o}_{77}$}\\frac{\\sqrt{a}\\,{\\it thp}}{b\\,\\sqrt{x}}-\\frac{1}{b}\\]"
      ],
      "text/plain": [
       "                                sqrt(a) thp   1\n",
       "(%o77)                          ----------- - -\n",
       "                                 b sqrt(x)    b"
      ],
      "text/x-maxima": [
       "(sqrt(a)*thp)/(b*sqrt(x))-1/b"
      ]
     },
     "execution_count": 62,
     "metadata": {},
     "output_type": "execute_result"
    },
    {
     "data": {
      "text/latex": [
       "\\[\\tag{${\\it \\%o}_{78}$}-\\frac{x}{b}+\\frac{\\sqrt{a}\\,{\\it thp}\\,\\sqrt{x}}{b}+\\frac{\\sqrt{a}\\,\\sqrt{x}}{b\\,{\\it thp}}-\\frac{a}{b}\\]"
      ],
      "text/plain": [
       "                  x    sqrt(a) thp sqrt(x)   sqrt(a) sqrt(x)   a\n",
       "(%o78)         (- -) + ------------------- + --------------- - -\n",
       "                  b             b                 b thp        b"
      ],
      "text/x-maxima": [
       "(-x/b)+(sqrt(a)*thp*sqrt(x))/b+(sqrt(a)*sqrt(x))/(b*thp)-a/b"
      ]
     },
     "execution_count": 62,
     "metadata": {},
     "output_type": "execute_result"
    }
   ],
   "source": [
    "cbessel: a^(1/2)*x^(-1/2)/b$\n",
    "thetaChVab: subst(cbessel, c, thetaChV);\n",
    "schemintgrelimc: expand(subst(thetaChVab, theta, schemintgr));"
   ]
  },
  {
   "cell_type": "markdown",
   "id": "3d13fd01-b9a9-4446-baf8-4d838e4e2785",
   "metadata": {},
   "source": [
    "To provide $\\theta$ in terms of $\\theta'$ we substitute the values of $a$ and $b$ given by the homogeneous solution `gamhom`. First we note that if we define $a = x_0  e^{s \\tau}$ and $b = \\frac{D}{s} (e^{s \\tau} -1)$"
   ]
  },
  {
   "cell_type": "code",
   "execution_count": 45,
   "id": "d6e7f67c-4f99-4976-bb8b-fc44baff3c1f",
   "metadata": {
    "execution": {
     "iopub.execute_input": "2021-08-15T19:57:04Z",
     "iopub.status.busy": "2021-08-15T19:57:04Z",
     "iopub.status.idle": "2021-08-15T19:57:04Z",
     "shell.execute_reply": "2021-08-15T19:57:04Z"
    },
    "tags": []
   },
   "outputs": [
    {
     "data": {
      "text/latex": [
       "\\[\\tag{${\\it \\%o}_{50}$}e^{s\\,\\tau}\\,x_{0}\\]"
      ],
      "text/plain": [
       "                                    s tau\n",
       "(%o50)                            %e      x0"
      ],
      "text/x-maxima": [
       "%e^(s*tau)*x0"
      ]
     },
     "execution_count": 45,
     "metadata": {},
     "output_type": "execute_result"
    },
    {
     "data": {
      "text/latex": [
       "\\[\\tag{${\\it \\%o}_{51}$}\\frac{D\\,\\left(e^{s\\,\\tau}-1\\right)}{s}\\]"
      ],
      "text/plain": [
       "                                     s tau\n",
       "                                D (%e      - 1)\n",
       "(%o51)                          ---------------\n",
       "                                       s"
      ],
      "text/x-maxima": [
       "(D*(%e^(s*tau)-1))/s"
      ]
     },
     "execution_count": 45,
     "metadata": {},
     "output_type": "execute_result"
    }
   ],
   "source": [
    "avalue: x0 * %e^(s*tau);\n",
    "bvalue: (D/s) * (%e^(s*tau)- 1);"
   ]
  },
  {
   "cell_type": "markdown",
   "id": "2534a620-e85c-4cbc-8898-6ac124baa690",
   "metadata": {
    "execution": {
     "iopub.execute_input": "2021-08-15T20:25:23Z",
     "iopub.status.busy": "2021-08-15T20:25:23Z",
     "iopub.status.idle": "2021-08-15T20:25:23Z",
     "shell.execute_reply": "2021-08-15T20:25:23Z"
    }
   },
   "source": [
    "that `gamhom` $ = \\frac {a \\theta}{b \\theta +1}$"
   ]
  },
  {
   "cell_type": "code",
   "execution_count": 46,
   "id": "96ca5a81-9706-420e-942f-0a774a5e2900",
   "metadata": {
    "execution": {
     "iopub.execute_input": "2021-08-15T19:57:05Z",
     "iopub.status.busy": "2021-08-15T19:57:05Z",
     "iopub.status.idle": "2021-08-15T19:57:05Z",
     "shell.execute_reply": "2021-08-15T19:57:05Z"
    },
    "tags": []
   },
   "outputs": [
    {
     "data": {
      "text/latex": [
       "\\[\\tag{${\\it \\%o}_{52}$}0\\]"
      ],
      "text/plain": [
       "(%o52)                                 0"
      ],
      "text/x-maxima": [
       "0"
      ]
     },
     "execution_count": 46,
     "metadata": {},
     "output_type": "execute_result"
    }
   ],
   "source": [
    "factor(gamhom - avalue*theta/(bvalue*theta +1));"
   ]
  },
  {
   "cell_type": "markdown",
   "id": "f944a279-9ec4-4b75-8c30-1f4154db168f",
   "metadata": {},
   "source": [
    "Now we substitute values of $a$ and $b$ into the terms of `schemintgrelimc`\n"
   ]
  },
  {
   "cell_type": "code",
   "execution_count": 59,
   "id": "285e21ba-256b-49cd-930d-e8e56fef8adf",
   "metadata": {
    "execution": {
     "iopub.execute_input": "2021-08-15T20:13:47Z",
     "iopub.status.busy": "2021-08-15T20:13:47Z",
     "iopub.status.idle": "2021-08-15T20:13:47Z",
     "shell.execute_reply": "2021-08-15T20:13:47Z"
    },
    "tags": []
   },
   "outputs": [
    {
     "data": {
      "text/latex": [
       "\\[\\tag{${\\it \\%o}_{68}$}\\frac{s\\,\\left(e^{\\frac{s\\,\\tau}{2}}\\,{\\it thp}\\,\\sqrt{x_{0}}-\\sqrt{x}\\right)}{D\\,\\left(e^{s\\,\\tau}-1\\right)\\,\\sqrt{x}}\\]"
      ],
      "text/plain": [
       "                           s tau\n",
       "                           -----\n",
       "                             2\n",
       "                      s (%e      thp sqrt(x0) - sqrt(x))\n",
       "(%o68)                ----------------------------------\n",
       "                                s tau\n",
       "                           D (%e      - 1) sqrt(x)"
      ],
      "text/x-maxima": [
       "(s*(%e^((s*tau)/2)*thp*sqrt(x0)-sqrt(x)))/(D*(%e^(s*tau)-1)*sqrt(x))"
      ]
     },
     "execution_count": 59,
     "metadata": {},
     "output_type": "execute_result"
    }
   ],
   "source": [
    "factor(psubst([a = avalue, \n",
    "               b = bvalue],\n",
    "               thetaChVab));"
   ]
  },
  {
   "cell_type": "code",
   "execution_count": 50,
   "id": "9e8fc036-f0f3-4b28-a980-15a12132a5e7",
   "metadata": {
    "execution": {
     "iopub.execute_input": "2021-08-15T20:07:52Z",
     "iopub.status.busy": "2021-08-15T20:07:52Z",
     "iopub.status.idle": "2021-08-15T20:07:52Z",
     "shell.execute_reply": "2021-08-15T20:07:52Z"
    },
    "tags": []
   },
   "outputs": [
    {
     "data": {
      "text/latex": [
       "\\[\\tag{${\\it \\%o}_{56}$}-\\frac{s\\,\\left(e^{s\\,\\tau}\\,x_{0}+x\\right)}{D\\,\\left(e^{s\\,\\tau}-1\\right)}\\]"
      ],
      "text/plain": [
       "                                    s tau\n",
       "                               s (%e      x0 + x)\n",
       "(%o56)                       - ------------------\n",
       "                                     s tau\n",
       "                                D (%e      - 1)"
      ],
      "text/x-maxima": [
       "-(s*(%e^(s*tau)*x0+x))/(D*(%e^(s*tau)-1))"
      ]
     },
     "execution_count": 50,
     "metadata": {},
     "output_type": "execute_result"
    }
   ],
   "source": [
    "factor(psubst([a = avalue, \n",
    "               b = bvalue],\n",
    "               -a/b - x/b));"
   ]
  },
  {
   "cell_type": "code",
   "execution_count": 51,
   "id": "51dd5a10-8fd7-4d2e-9cea-95c8f1028257",
   "metadata": {
    "execution": {
     "iopub.execute_input": "2021-08-15T20:08:11Z",
     "iopub.status.busy": "2021-08-15T20:08:11Z",
     "iopub.status.idle": "2021-08-15T20:08:11Z",
     "shell.execute_reply": "2021-08-15T20:08:11Z"
    },
    "tags": []
   },
   "outputs": [
    {
     "data": {
      "text/latex": [
       "\\[\\tag{${\\it \\%o}_{57}$}\\frac{s\\,e^{\\frac{s\\,\\tau}{2}}\\,\\sqrt{x\\,x_{0}}}{D\\,\\left(e^{s\\,\\tau}-1\\right)}\\]"
      ],
      "text/plain": [
       "                                 s tau\n",
       "                                 -----\n",
       "                                   2\n",
       "                             s %e      sqrt(x x0)\n",
       "(%o57)                       --------------------\n",
       "                                    s tau\n",
       "                               D (%e      - 1)"
      ],
      "text/x-maxima": [
       "(s*%e^((s*tau)/2)*sqrt(x*x0))/(D*(%e^(s*tau)-1))"
      ]
     },
     "execution_count": 51,
     "metadata": {},
     "output_type": "execute_result"
    }
   ],
   "source": [
    "factor(psubst([a = avalue, \n",
    "               b = bvalue],\n",
    "               sqrt(a*x)/b));"
   ]
  },
  {
   "cell_type": "markdown",
   "id": "20a3ae30-69e1-4146-8d1f-79eee8709da4",
   "metadata": {},
   "source": [
    "## Inhomogeneous solution"
   ]
  },
  {
   "cell_type": "code",
   "execution_count": 26,
   "id": "20f9002f-2a35-4619-b102-7070a59c7097",
   "metadata": {
    "execution": {
     "iopub.execute_input": "2021-08-15T18:18:29Z",
     "iopub.status.busy": "2021-08-15T18:18:29Z",
     "iopub.status.idle": "2021-08-15T18:18:29Z",
     "shell.execute_reply": "2021-08-15T18:18:29Z"
    }
   },
   "outputs": [
    {
     "data": {
      "text/latex": [
       "\\[\\tag{${\\it \\%o}_{27}$}\\vartheta=\\frac{{\\it thetap}}{x}-\\frac{s}{D\\,\\left(e^{s\\,\\tau}-1\\right)}\\]"
      ],
      "text/plain": [
       "                               thetap          s\n",
       "(%o27)                 theta = ------ - ---------------\n",
       "                                 x           s tau\n",
       "                                        D (%e      - 1)"
      ],
      "text/x-maxima": [
       "theta = thetap/x-s/(D*(%e^(s*tau)-1))"
      ]
     },
     "execution_count": 26,
     "metadata": {},
     "output_type": "execute_result"
    }
   ],
   "source": [
    "invinhvarchange : theta = \n",
    "    thetap/x - s / (D * (%e^(s * tau) - 1));"
   ]
  },
  {
   "cell_type": "code",
   "execution_count": 27,
   "id": "1d3bf1c8-01aa-4ec2-a761-9b7615197c37",
   "metadata": {
    "execution": {
     "iopub.execute_input": "2021-08-15T18:18:34Z",
     "iopub.status.busy": "2021-08-15T18:18:34Z",
     "iopub.status.idle": "2021-08-15T18:18:34Z",
     "shell.execute_reply": "2021-08-15T18:18:34Z"
    }
   },
   "outputs": [
    {
     "data": {
      "text/latex": [
       "\\[\\tag{${\\it \\%o}_{28}$}\\frac{D\\,\\left(e^{s\\,\\tau}-1\\right)\\,{\\it thetap}}{s\\,x}\\]"
      ],
      "text/plain": [
       "                                 s tau\n",
       "                            D (%e      - 1) thetap\n",
       "(%o28)                      ----------------------\n",
       "                                     s x"
      ],
      "text/x-maxima": [
       "(D*(%e^(s*tau)-1)*thetap)/(s*x)"
      ]
     },
     "execution_count": 27,
     "metadata": {},
     "output_type": "execute_result"
    }
   ],
   "source": [
    "factor(psubst(invinhvarchange, \n",
    "  (D/s) * (%e^(s * tau) - 1) * theta + 1));"
   ]
  },
  {
   "cell_type": "code",
   "execution_count": 28,
   "id": "e5d6f448-6696-4ceb-a505-3705c6c4b465",
   "metadata": {
    "execution": {
     "iopub.execute_input": "2021-08-15T18:18:41Z",
     "iopub.status.busy": "2021-08-15T18:18:41Z",
     "iopub.status.idle": "2021-08-15T18:18:41Z",
     "shell.execute_reply": "2021-08-15T18:18:41Z"
    }
   },
   "outputs": [
    {
     "data": {
      "text/latex": [
       "\\[\\tag{${\\it \\%o}_{29}$}\\frac{x^{\\frac{M}{D}-1}\\,e^ {- \\frac{s\\,x}{D\\,\\left(e^{s\\,\\tau}-1\\right)} }}{\\left(e^{s\\,\\tau}-1\\right)^{\\frac{M}{D}}}\\]"
      ],
      "text/plain": [
       "                                            s x\n",
       "                                    - ---------------\n",
       "                                           s tau\n",
       "                          M/D - 1     D (%e      - 1)\n",
       "                         x        %e\n",
       "(%o29)                   ----------------------------\n",
       "                                  s tau     M/D\n",
       "                               (%e      - 1)"
      ],
      "text/x-maxima": [
       "(x^(M/D-1)*%e^-((s*x)/(D*(%e^(s*tau)-1))))/(%e^(s*tau)-1)^(M/D)"
      ]
     },
     "execution_count": 28,
     "metadata": {},
     "output_type": "execute_result"
    }
   ],
   "source": [
    "inhdifsol : x^(M/D - 1) * \n",
    "    %e^(-s*x/(D * (%e^(s * tau) - 1))) /\n",
    "    ((%e^(s * tau) - 1)^(M/D));"
   ]
  },
  {
   "cell_type": "code",
   "execution_count": 29,
   "id": "9a0e2811-f403-483d-b76b-801e6debd29e",
   "metadata": {
    "execution": {
     "iopub.execute_input": "2021-08-15T18:18:46Z",
     "iopub.status.busy": "2021-08-15T18:18:46Z",
     "iopub.status.idle": "2021-08-15T18:18:46Z",
     "shell.execute_reply": "2021-08-15T18:18:46Z"
    }
   },
   "outputs": [
    {
     "data": {
      "text/latex": [
       "\\[\\tag{${\\it \\%o}_{30}$}0\\]"
      ],
      "text/plain": [
       "(%o30)                                 0"
      ],
      "text/x-maxima": [
       "0"
      ]
     },
     "execution_count": 29,
     "metadata": {},
     "output_type": "execute_result"
    }
   ],
   "source": [
    "factor(diffusioneqn (inhdifsol, D, s, M));"
   ]
  }
 ],
 "metadata": {
  "kernelspec": {
   "display_name": "Maxima",
   "language": "maxima",
   "name": "maxima"
  },
  "language_info": {
   "codemirror_mode": "maxima",
   "file_extension": ".mac",
   "mimetype": "text/x-maxima",
   "name": "maxima",
   "pygments_lexer": "maxima",
   "version": "5.45.1"
  }
 },
 "nbformat": 4,
 "nbformat_minor": 5
}
