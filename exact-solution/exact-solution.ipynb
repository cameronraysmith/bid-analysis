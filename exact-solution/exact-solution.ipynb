{
 "cells": [
  {
   "cell_type": "markdown",
   "id": "c512c48e-e284-4436-8afb-ec6d1aa18cc4",
   "metadata": {},
   "source": [
    "# Exact solulution to the BID process"
   ]
  },
  {
   "cell_type": "markdown",
   "id": "228656a3-c5cd-4e7e-a3bc-3bcfdfda6dc4",
   "metadata": {},
   "source": [
    "## Solution of the BID process using the method of characteristics"
   ]
  },
  {
   "cell_type": "markdown",
   "id": "f2637faf-c0af-4dc6-8260-0ede6d2bee1f",
   "metadata": {},
   "source": [
    "Homogeneous PDE statisfied by the CGF."
   ]
  },
  {
   "cell_type": "code",
   "execution_count": 1,
   "id": "0c329ef3-ed4f-4df2-aeca-152e3801d68b",
   "metadata": {
    "execution": {
     "iopub.execute_input": "2021-08-24T21:24:22Z",
     "iopub.status.busy": "2021-08-24T21:24:22Z",
     "iopub.status.idle": "2021-08-24T21:24:22Z",
     "shell.execute_reply": "2021-08-24T21:24:22Z"
    }
   },
   "outputs": [
    {
     "data": {
      "text/latex": [
       "\\[\\tag{${\\it \\%o}_{1}$}{\\it homcgfeqn}\\left(W\\right):={\\it diff}\\left(W , t\\right)-\\frac{1+\\sigma}{2\\,\\sigma}\\,\\left(z^2-z\\right)\\,{\\it diff}\\left(W , z\\right)+\\left(-\\frac{1-\\sigma}{2\\,\\sigma}\\right)\\,\\left(1-z\\right)\\,{\\it diff}\\left(W , z\\right)\\]"
      ],
      "text/plain": [
       "                                    1 + sigma    2\n",
       "(%o1) homcgfeqn(W) := diff(W, t) - (---------) (z  - z) diff(W, z)\n",
       "                                     2 sigma\n",
       "                                                  1 - sigma\n",
       "                                             + (- ---------) (1 - z) diff(W, z)\n",
       "                                                   2 sigma"
      ],
      "text/x-maxima": [
       "homcgfeqn(W):=diff(W,t)-((1+sigma)/(2*sigma))*(z^2-z)*diff(W,z)\n",
       "          +(-(1-sigma)/(2*sigma))*(1-z)*diff(W,z)"
      ]
     },
     "execution_count": 1,
     "metadata": {},
     "output_type": "execute_result"
    }
   ],
   "source": [
    "homcgfeqn (W) := diff(W, t) - \n",
    "    ((1 + sigma) / (2 * sigma)) * (z^2 - z) * diff(W, z) -\n",
    "    ((1 - sigma) / (2 * sigma)) * (1 - z) * diff(W, z);"
   ]
  },
  {
   "cell_type": "markdown",
   "id": "eae4d95b-348c-47f7-aee3-7893935ea255",
   "metadata": {},
   "source": [
    "ODE for characteristics of the generating function."
   ]
  },
  {
   "cell_type": "code",
   "execution_count": 2,
   "id": "7b440d59-a1be-4a10-afa7-1a85be245077",
   "metadata": {
    "execution": {
     "iopub.execute_input": "2021-08-24T21:24:40Z",
     "iopub.status.busy": "2021-08-24T21:24:40Z",
     "iopub.status.idle": "2021-08-24T21:24:40Z",
     "shell.execute_reply": "2021-08-24T21:24:40Z"
    }
   },
   "outputs": [
    {
     "data": {
      "text/latex": [
       "\\[\\tag{${\\it \\%o}_{2}$}{\\it chareqn}\\left(z\\right):={\\it diff}\\left(z , t\\right)+\\frac{1+\\sigma}{2\\,\\sigma}\\,\\left(z^2-z\\right)+\\frac{1-\\sigma}{2\\,\\sigma}\\,\\left(1-z\\right)\\]"
      ],
      "text/plain": [
       "                                  1 + sigma    2         1 - sigma\n",
       "(%o2) chareqn(z) := diff(z, t) + (---------) (z  - z) + (---------) (1 - z)\n",
       "                                   2 sigma                2 sigma"
      ],
      "text/x-maxima": [
       "chareqn(z):=diff(z,t)+((1+sigma)/(2*sigma))*(z^2-z)\n",
       "        +((1-sigma)/(2*sigma))*(1-z)"
      ]
     },
     "execution_count": 2,
     "metadata": {},
     "output_type": "execute_result"
    }
   ],
   "source": [
    "chareqn(z) := diff(z, t) + ((1 + sigma) / (2 * sigma)) * (z^2 - z) +\n",
    "    ((1 - sigma) / (2 * sigma)) * (1 - z);"
   ]
  },
  {
   "cell_type": "markdown",
   "id": "55ffd3ab-f876-4c4b-b121-454204fb5d92",
   "metadata": {},
   "source": [
    "Expand the integrand for solving the characteristic equation as partial fractions."
   ]
  },
  {
   "cell_type": "code",
   "execution_count": 3,
   "id": "8d918ff6-588e-4f2b-923f-9d89265be54f",
   "metadata": {
    "execution": {
     "iopub.execute_input": "2021-08-24T21:24:47Z",
     "iopub.status.busy": "2021-08-24T21:24:47Z",
     "iopub.status.idle": "2021-08-24T21:24:47Z",
     "shell.execute_reply": "2021-08-24T21:24:47Z"
    }
   },
   "outputs": [
    {
     "data": {
      "text/latex": [
       "\\[\\tag{${\\it \\%o}_{3}$}\\frac{\\sigma+1}{\\left(\\sigma+1\\right)\\,z+\\sigma-1}-\\frac{1}{z-1}\\]"
      ],
      "text/plain": [
       "                               sigma + 1             1\n",
       "(%o3)                  ------------------------- - -----\n",
       "                       (sigma + 1) z + sigma - 1   z - 1"
      ],
      "text/x-maxima": [
       "(sigma+1)/((sigma+1)*z+sigma-1)-1/(z-1)"
      ]
     },
     "execution_count": 3,
     "metadata": {},
     "output_type": "execute_result"
    }
   ],
   "source": [
    "partfrac (-1 / (((1 + sigma) / (2 * sigma)) * (z^2 - z) +\n",
    "    ((1 - sigma) / (2 * sigma)) * (1 - z)), z);"
   ]
  },
  {
   "cell_type": "markdown",
   "id": "44b46852-48d8-4752-86e9-5d33bcc7c75e",
   "metadata": {},
   "source": [
    "From the implicit solution of the characteristic equation, obtain z and z0 explicitly."
   ]
  },
  {
   "cell_type": "code",
   "execution_count": 4,
   "id": "12699e17-4939-4bfd-8cf8-32626da51f4b",
   "metadata": {
    "execution": {
     "iopub.execute_input": "2021-08-24T21:24:58Z",
     "iopub.status.busy": "2021-08-24T21:24:58Z",
     "iopub.status.idle": "2021-08-24T21:24:58Z",
     "shell.execute_reply": "2021-08-24T21:24:58Z"
    }
   },
   "outputs": [
    {
     "data": {
      "text/latex": [
       "\\[\\tag{${\\it \\%o}_{4}$}\\frac{\\left(\\left(\\sigma+1\\right)\\,e^{t}+\\sigma-1\\right)\\,z_{0}+\\left(\\sigma-1\\right)\\,e^{t}-\\sigma+1}{\\left(\\left(\\sigma+1\\right)\\,e^{t}-\\sigma-1\\right)\\,z_{0}+\\left(\\sigma-1\\right)\\,e^{t}+\\sigma+1}\\]"
      ],
      "text/plain": [
       "                       t                                 t\n",
       "        ((sigma + 1) %e  + sigma - 1) z0 + (sigma - 1) %e  - sigma + 1\n",
       "(%o4)   --------------------------------------------------------------\n",
       "                       t                                 t\n",
       "        ((sigma + 1) %e  - sigma - 1) z0 + (sigma - 1) %e  + sigma + 1"
      ],
      "text/x-maxima": [
       "(((sigma+1)*%e^t+sigma-1)*z0+(sigma-1)*%e^t-sigma+1)\n",
       " /(((sigma+1)*%e^t-sigma-1)*z0+(sigma-1)*%e^t+sigma+1)"
      ]
     },
     "execution_count": 4,
     "metadata": {},
     "output_type": "execute_result"
    },
    {
     "data": {
      "text/latex": [
       "\\[\\tag{${\\it \\%o}_{5}$}-\\frac{\\left(\\left(\\sigma-1\\right)\\,e^{t}+\\sigma+1\\right)\\,z+\\left(1-\\sigma\\right)\\,e^{t}+\\sigma-1}{\\left(\\left(\\sigma+1\\right)\\,e^{t}-\\sigma-1\\right)\\,z+\\left(-\\sigma-1\\right)\\,e^{t}-\\sigma+1}\\]"
      ],
      "text/plain": [
       "                         t                                t\n",
       "          ((sigma - 1) %e  + sigma + 1) z + (1 - sigma) %e  + sigma - 1\n",
       "(%o5) - -----------------------------------------------------------------\n",
       "                       t                                    t\n",
       "        ((sigma + 1) %e  - sigma - 1) z + ((- sigma) - 1) %e  - sigma + 1"
      ],
      "text/x-maxima": [
       "-(((sigma-1)*%e^t+sigma+1)*z+(1-sigma)*%e^t+sigma-1)\n",
       " /(((sigma+1)*%e^t-sigma-1)*z+((-sigma)-1)*%e^t-sigma+1)"
      ]
     },
     "execution_count": 4,
     "metadata": {},
     "output_type": "execute_result"
    }
   ],
   "source": [
    "zsol : part(solve ([(z - (1 - sigma) / (1 + sigma)) / (z - 1) =\n",
    "    %e^t * (z0 - (1 - sigma) / (1 + sigma)) / (z0 - 1)], [z]), 1, 2);\n",
    "z0sol : part(solve ([(z - (1 - sigma) / (1 + sigma)) / (z - 1) =\n",
    "    %e^t * (z0 - (1 - sigma) / (1 + sigma)) / (z0 - 1)], [z0]), 1, 2);"
   ]
  },
  {
   "cell_type": "markdown",
   "id": "56b49210-99fb-48b8-a239-7bf89f7f67bf",
   "metadata": {},
   "source": [
    "Double check that the explicit solution indeed satisfied the ODE."
   ]
  },
  {
   "cell_type": "code",
   "execution_count": 5,
   "id": "04ce708d-9814-4cb4-9806-2332c0971fbe",
   "metadata": {
    "execution": {
     "iopub.execute_input": "2021-08-24T21:25:13Z",
     "iopub.status.busy": "2021-08-24T21:25:13Z",
     "iopub.status.idle": "2021-08-24T21:25:13Z",
     "shell.execute_reply": "2021-08-24T21:25:13Z"
    }
   },
   "outputs": [
    {
     "data": {
      "text/latex": [
       "\\[\\tag{${\\it \\%o}_{6}$}0\\]"
      ],
      "text/plain": [
       "(%o6)                                  0"
      ],
      "text/x-maxima": [
       "0"
      ]
     },
     "execution_count": 5,
     "metadata": {},
     "output_type": "execute_result"
    }
   ],
   "source": [
    "factor(chareqn(zsol));"
   ]
  },
  {
   "cell_type": "markdown",
   "id": "a9cfde7e-94e8-47f1-a8ae-987d8e6fb686",
   "metadata": {},
   "source": [
    "Reorder the solution for z for the publication."
   ]
  },
  {
   "cell_type": "code",
   "execution_count": 6,
   "id": "157fb5dc-d894-4e2f-b11c-36b940d63e6e",
   "metadata": {
    "execution": {
     "iopub.execute_input": "2021-08-24T21:25:21Z",
     "iopub.status.busy": "2021-08-24T21:25:21Z",
     "iopub.status.idle": "2021-08-24T21:25:21Z",
     "shell.execute_reply": "2021-08-24T21:25:21Z"
    }
   },
   "outputs": [
    {
     "data": {
      "text/latex": [
       "\\[\\tag{${\\it \\%o}_{7}$}\\left(\\sigma\\,e^{t}+e^{t}+\\sigma-1\\right)\\,z_{0}\\]"
      ],
      "text/plain": [
       "                                t     t\n",
       "(%o7)                  (sigma %e  + %e  + sigma - 1) z0"
      ],
      "text/x-maxima": [
       "(sigma*%e^t+%e^t+sigma-1)*z0"
      ]
     },
     "execution_count": 6,
     "metadata": {},
     "output_type": "execute_result"
    },
    {
     "data": {
      "text/latex": [
       "\\[\\tag{${\\it \\%o}_{8}$}\\left(\\sigma-1\\right)\\,\\left(e^{t}-1\\right)\\]"
      ],
      "text/plain": [
       "                                            t\n",
       "(%o8)                        (sigma - 1) (%e  - 1)"
      ],
      "text/x-maxima": [
       "(sigma-1)*(%e^t-1)"
      ]
     },
     "execution_count": 6,
     "metadata": {},
     "output_type": "execute_result"
    },
    {
     "data": {
      "text/latex": [
       "\\[\\tag{${\\it \\%o}_{9}$}\\left(\\sigma+1\\right)\\,\\left(e^{t}-1\\right)\\,z_{0}\\]"
      ],
      "text/plain": [
       "                                          t\n",
       "(%o9)                      (sigma + 1) (%e  - 1) z0"
      ],
      "text/x-maxima": [
       "(sigma+1)*(%e^t-1)*z0"
      ]
     },
     "execution_count": 6,
     "metadata": {},
     "output_type": "execute_result"
    },
    {
     "data": {
      "text/latex": [
       "\\[\\tag{${\\it \\%o}_{10}$}\\sigma\\,e^{t}-e^{t}+\\sigma+1\\]"
      ],
      "text/plain": [
       "                                  t     t\n",
       "(%o10)                    sigma %e  - %e  + sigma + 1"
      ],
      "text/x-maxima": [
       "sigma*%e^t-%e^t+sigma+1"
      ]
     },
     "execution_count": 6,
     "metadata": {},
     "output_type": "execute_result"
    }
   ],
   "source": [
    "factor(coeff(expand(num(zsol)), z0, 1)) * z0;\n",
    "factor(coeff(expand(num(zsol)), z0, 0));\n",
    "factor(coeff(expand(denom(zsol)), z0, 1)) *z0;\n",
    "factor(coeff(expand(denom(zsol)), z0, 0));"
   ]
  },
  {
   "cell_type": "code",
   "execution_count": 7,
   "id": "ec1751cd-23e6-4db2-bbce-635955b7c929",
   "metadata": {
    "execution": {
     "iopub.execute_input": "2021-08-24T21:25:31Z",
     "iopub.status.busy": "2021-08-24T21:25:31Z",
     "iopub.status.idle": "2021-08-24T21:25:31Z",
     "shell.execute_reply": "2021-08-24T21:25:31Z"
    }
   },
   "outputs": [
    {
     "data": {
      "text/latex": [
       "\\[\\tag{${\\it \\%o}_{11}$}\\frac{\\left(\\left(1-\\sigma\\right)\\,e^ {- t }-\\sigma-1\\right)\\,z_{0}+\\left(1-\\sigma\\right)\\,\\left(1-e^ {- t }\\right)}{\\left(-\\sigma-1\\right)\\,\\left(1-e^ {- t }\\right)\\,z_{0}+\\left(-\\sigma-1\\right)\\,e^ {- t }-\\sigma+1}\\]"
      ],
      "text/plain": [
       "                         - t                                      - t\n",
       "          ((1 - sigma) %e    - sigma - 1) z0 + (1 - sigma) (1 - %e   )\n",
       "(%o11) ------------------------------------------------------------------\n",
       "                              - t                         - t\n",
       "       ((- sigma) - 1) (1 - %e   ) z0 + ((- sigma) - 1) %e    - sigma + 1"
      ],
      "text/x-maxima": [
       "(((1-sigma)*%e^-t-sigma-1)*z0+(1-sigma)*(1-%e^-t))\n",
       " /(((-sigma)-1)*(1-%e^-t)*z0+((-sigma)-1)*%e^-t-sigma+1)"
      ]
     },
     "execution_count": 7,
     "metadata": {},
     "output_type": "execute_result"
    }
   ],
   "source": [
    "newzsol :\n",
    "((-(sigma + 1) + (1 - sigma) * %e^(-t)) * z0 +\n",
    "    (1 - sigma) * (1 - %e^(-t))) /\n",
    "(-(sigma + 1) * (1 - %e^(-t)) * z0 +\n",
    "    1 - sigma - (1 + sigma) * %e^(-t));"
   ]
  },
  {
   "cell_type": "code",
   "execution_count": 8,
   "id": "8d204949-e42f-4587-b672-71993cf504ae",
   "metadata": {
    "execution": {
     "iopub.execute_input": "2021-08-24T21:25:45Z",
     "iopub.status.busy": "2021-08-24T21:25:45Z",
     "iopub.status.idle": "2021-08-24T21:25:45Z",
     "shell.execute_reply": "2021-08-24T21:25:45Z"
    }
   },
   "outputs": [
    {
     "data": {
      "text/latex": [
       "\\[\\tag{${\\it \\%o}_{12}$}0\\]"
      ],
      "text/plain": [
       "(%o12)                                 0"
      ],
      "text/x-maxima": [
       "0"
      ]
     },
     "execution_count": 8,
     "metadata": {},
     "output_type": "execute_result"
    }
   ],
   "source": [
    "factor(zsol - newzsol);"
   ]
  },
  {
   "cell_type": "markdown",
   "id": "48af121f-9e18-467d-8925-f6bce28e1b8f",
   "metadata": {},
   "source": [
    "Likewise, reorder the solution for z for typesetting."
   ]
  },
  {
   "cell_type": "code",
   "execution_count": 9,
   "id": "d7ebb17d-9e11-4c64-aeff-885443816627",
   "metadata": {
    "execution": {
     "iopub.execute_input": "2021-08-24T21:27:02Z",
     "iopub.status.busy": "2021-08-24T21:27:02Z",
     "iopub.status.idle": "2021-08-24T21:27:02Z",
     "shell.execute_reply": "2021-08-24T21:27:02Z"
    }
   },
   "outputs": [
    {
     "data": {
      "text/latex": [
       "\\[\\tag{${\\it \\%o}_{13}$}\\frac{\\left(\\left(-\\sigma-1\\right)\\,e^ {- t }-\\sigma+1\\right)\\,z+\\left(\\sigma-1\\right)\\,\\left(1-e^ {- t }\\right)}{\\left(\\sigma+1\\right)\\,\\left(1-e^ {- t }\\right)\\,z+\\left(1-\\sigma\\right)\\,e^ {- t }-\\sigma-1}\\]"
      ],
      "text/plain": [
       "                           - t                                     - t\n",
       "        (((- sigma) - 1) %e    - sigma + 1) z + (sigma - 1) (1 - %e   )\n",
       "(%o13)  ---------------------------------------------------------------\n",
       "                              - t                    - t\n",
       "           (sigma + 1) (1 - %e   ) z + (1 - sigma) %e    - sigma - 1"
      ],
      "text/x-maxima": [
       "((((-sigma)-1)*%e^-t-sigma+1)*z+(sigma-1)*(1-%e^-t))\n",
       " /((sigma+1)*(1-%e^-t)*z+(1-sigma)*%e^-t-sigma-1)"
      ]
     },
     "execution_count": 9,
     "metadata": {},
     "output_type": "execute_result"
    }
   ],
   "source": [
    "newz0sol : (((sigma - 1) * (1 - %e^(-t))\n",
    "   + (1 - sigma - (1 + sigma) * %e^(-t)) * z) / \n",
    "    ((-1 - sigma + (1 - sigma) * %e^(-t)) + \n",
    "        (1 + sigma) * (1 - %e^(-t)) * z));"
   ]
  },
  {
   "cell_type": "code",
   "execution_count": 10,
   "id": "07788c1e-b48e-4cf4-ad70-708a677c23fb",
   "metadata": {
    "execution": {
     "iopub.execute_input": "2021-08-24T21:27:19Z",
     "iopub.status.busy": "2021-08-24T21:27:19Z",
     "iopub.status.idle": "2021-08-24T21:27:19Z",
     "shell.execute_reply": "2021-08-24T21:27:19Z"
    }
   },
   "outputs": [
    {
     "data": {
      "text/latex": [
       "\\[\\tag{${\\it \\%o}_{14}$}0\\]"
      ],
      "text/plain": [
       "(%o14)                                 0"
      ],
      "text/x-maxima": [
       "0"
      ]
     },
     "execution_count": 10,
     "metadata": {},
     "output_type": "execute_result"
    }
   ],
   "source": [
    "factor(z0sol - newz0sol);"
   ]
  },
  {
   "cell_type": "markdown",
   "id": "7a646d09-6b75-4ce7-be4a-dee9f3b01ea8",
   "metadata": {
    "execution": {
     "iopub.execute_input": "2021-08-25T00:35:11Z",
     "iopub.status.busy": "2021-08-25T00:35:11Z",
     "iopub.status.idle": "2021-08-25T00:35:11Z",
     "shell.execute_reply": "2021-08-25T00:35:11Z"
    }
   },
   "source": [
    "Check that the solution satsfies the PDE."
   ]
  },
  {
   "cell_type": "code",
   "execution_count": 11,
   "id": "b18fe8c8-4a0d-48d4-9b43-b0571a0e075c",
   "metadata": {
    "execution": {
     "iopub.execute_input": "2021-08-24T21:27:24Z",
     "iopub.status.busy": "2021-08-24T21:27:24Z",
     "iopub.status.idle": "2021-08-24T21:27:24Z",
     "shell.execute_reply": "2021-08-24T21:27:24Z"
    }
   },
   "outputs": [
    {
     "data": {
      "text/latex": [
       "\\[\\tag{${\\it \\%o}_{15}$}0\\]"
      ],
      "text/plain": [
       "(%o15)                                 0"
      ],
      "text/x-maxima": [
       "0"
      ]
     },
     "execution_count": 11,
     "metadata": {},
     "output_type": "execute_result"
    }
   ],
   "source": [
    "factor(homcgfeqn(z0sol));"
   ]
  },
  {
   "cell_type": "markdown",
   "id": "3b03d394-08be-4549-8006-9fd1b170dda9",
   "metadata": {},
   "source": [
    "## Recovering the distribution"
   ]
  },
  {
   "cell_type": "markdown",
   "id": "6f4526b6-6b29-4cd6-9f10-97d77c9e346d",
   "metadata": {},
   "source": [
    "Re-express the generating function in a form that makes it easy to expand as a geometric series."
   ]
  },
  {
   "cell_type": "code",
   "execution_count": 12,
   "id": "cf1f51d7-ff50-4234-8187-39a59f955c4d",
   "metadata": {
    "execution": {
     "iopub.execute_input": "2021-08-24T21:27:32Z",
     "iopub.status.busy": "2021-08-24T21:27:32Z",
     "iopub.status.idle": "2021-08-24T21:27:32Z",
     "shell.execute_reply": "2021-08-24T21:27:32Z"
    }
   },
   "outputs": [
    {
     "data": {
      "text/latex": [
       "\\[\\tag{${\\it \\%o}_{16}$}-\\frac{\\left(\\sigma-1\\right)\\,\\left(e^{t}-1\\right)}{\\sigma\\,e^{t}+e^{t}+\\sigma-1}\\]"
      ],
      "text/plain": [
       "                                             t\n",
       "                              (sigma - 1) (%e  - 1)\n",
       "(%o16)                   - ---------------------------\n",
       "                                   t     t\n",
       "                           sigma %e  + %e  + sigma - 1"
      ],
      "text/x-maxima": [
       "-((sigma-1)*(%e^t-1))/(sigma*%e^t+%e^t+sigma-1)"
      ]
     },
     "execution_count": 12,
     "metadata": {},
     "output_type": "execute_result"
    },
    {
     "data": {
      "text/latex": [
       "\\[\\tag{${\\it \\%o}_{17}$}\\frac{4\\,\\sigma^2\\,e^{t}}{\\left(\\sigma\\,e^{t}+e^{t}+\\sigma-1\\right)^2}\\]"
      ],
      "text/plain": [
       "                                        2   t\n",
       "                                 4 sigma  %e\n",
       "(%o17)                  ------------------------------\n",
       "                                 t     t             2\n",
       "                        (sigma %e  + %e  + sigma - 1)"
      ],
      "text/x-maxima": [
       "(4*sigma^2*%e^t)/(sigma*%e^t+%e^t+sigma-1)^2"
      ]
     },
     "execution_count": 12,
     "metadata": {},
     "output_type": "execute_result"
    },
    {
     "data": {
      "text/latex": [
       "\\[\\tag{${\\it \\%o}_{18}$}\\frac{\\left(\\sigma+1\\right)\\,\\left(e^{t}-1\\right)}{\\sigma\\,e^{t}+e^{t}+\\sigma-1}\\]"
      ],
      "text/plain": [
       "                                            t\n",
       "                             (sigma + 1) (%e  - 1)\n",
       "(%o18)                    ---------------------------\n",
       "                                  t     t\n",
       "                          sigma %e  + %e  + sigma - 1"
      ],
      "text/x-maxima": [
       "((sigma+1)*(%e^t-1))/(sigma*%e^t+%e^t+sigma-1)"
      ]
     },
     "execution_count": 12,
     "metadata": {},
     "output_type": "execute_result"
    }
   ],
   "source": [
    "apiece : factor(coeff(expand(num(z0sol)), z, 0) /\n",
    "    coeff(expand(denom(z0sol)), z, 0));\n",
    "bpiece : factor((coeff(expand(num(z0sol)), z, 1) * \n",
    "    coeff(expand(denom(z0sol)), z, 0) -\n",
    "    coeff(expand(num(z0sol)), z, 0) * \n",
    "    coeff(expand(denom(z0sol)), z, 1)) / \n",
    "    coeff(expand(denom(z0sol)), z, 0)^2);\n",
    "cpiece : factor(-coeff(expand(denom(z0sol)), z, 1) /\n",
    "    coeff(expand(denom(z0sol)), z, 0));"
   ]
  },
  {
   "cell_type": "code",
   "execution_count": 13,
   "id": "4941ef7e-ede9-49b8-b8e3-060f23f72df2",
   "metadata": {
    "execution": {
     "iopub.execute_input": "2021-08-24T21:27:39Z",
     "iopub.status.busy": "2021-08-24T21:27:39Z",
     "iopub.status.idle": "2021-08-24T21:27:39Z",
     "shell.execute_reply": "2021-08-24T21:27:39Z"
    }
   },
   "outputs": [
    {
     "data": {
      "text/latex": [
       "\\[\\tag{${\\it \\%o}_{19}$}0\\]"
      ],
      "text/plain": [
       "(%o19)                                 0"
      ],
      "text/x-maxima": [
       "0"
      ]
     },
     "execution_count": 13,
     "metadata": {},
     "output_type": "execute_result"
    }
   ],
   "source": [
    "factor(apiece + bpiece * z / (1 - cpiece * z)- z0sol);"
   ]
  },
  {
   "cell_type": "markdown",
   "id": "6f64e90d-dd31-4228-aae0-60c2bc697089",
   "metadata": {},
   "source": [
    "Re-express the generating function in a form that makes it easy to expand as a binomial series."
   ]
  },
  {
   "cell_type": "code",
   "execution_count": 14,
   "id": "7d93d088-49be-4c32-b7da-dedd4f4a5cca",
   "metadata": {
    "execution": {
     "iopub.execute_input": "2021-08-24T21:27:46Z",
     "iopub.status.busy": "2021-08-24T21:27:46Z",
     "iopub.status.idle": "2021-08-24T21:27:46Z",
     "shell.execute_reply": "2021-08-24T21:27:46Z"
    }
   },
   "outputs": [
    {
     "data": {
      "text/latex": [
       "\\[\\tag{${\\it \\%o}_{20}$}\\left[ 0.55835092287577 , 0.07175632242491108 , 0.8375263843136551 \\right] \\]"
      ],
      "text/plain": [
       "(%o20)    [0.55835092287577, 0.07175632242491108, 0.8375263843136551]"
      ],
      "text/x-maxima": [
       "[0.55835092287577,0.07175632242491108,0.8375263843136551]"
      ]
     },
     "execution_count": 14,
     "metadata": {},
     "output_type": "execute_result"
    }
   ],
   "source": [
    "psubst([t = 1.0, sigma = 0.2], [apiece, bpiece, cpiece]);"
   ]
  },
  {
   "cell_type": "code",
   "execution_count": 15,
   "id": "2a423c44-1650-4d56-ac0b-a9ddb8fdb526",
   "metadata": {
    "execution": {
     "iopub.execute_input": "2021-08-24T21:27:52Z",
     "iopub.status.busy": "2021-08-24T21:27:52Z",
     "iopub.status.idle": "2021-08-24T21:27:52Z",
     "shell.execute_reply": "2021-08-24T21:27:52Z"
    }
   },
   "outputs": [
    {
     "data": {
      "text/latex": [
       "\\[\\tag{${\\it \\%o}_{21}$}-\\frac{\\sigma\\,e^{t}-e^{t}+\\sigma+1}{\\left(\\sigma-1\\right)\\,\\left(e^{t}-1\\right)}\\]"
      ],
      "text/plain": [
       "                                   t     t\n",
       "                           sigma %e  - %e  + sigma + 1\n",
       "(%o21)                   - ---------------------------\n",
       "                                             t\n",
       "                              (sigma - 1) (%e  - 1)"
      ],
      "text/x-maxima": [
       "-(sigma*%e^t-%e^t+sigma+1)/((sigma-1)*(%e^t-1))"
      ]
     },
     "execution_count": 15,
     "metadata": {},
     "output_type": "execute_result"
    },
    {
     "data": {
      "text/latex": [
       "\\[\\tag{${\\it \\%o}_{22}$}\\frac{\\left(\\sigma+1\\right)\\,\\left(e^{t}-1\\right)}{\\sigma\\,e^{t}+e^{t}+\\sigma-1}\\]"
      ],
      "text/plain": [
       "                                            t\n",
       "                             (sigma + 1) (%e  - 1)\n",
       "(%o22)                    ---------------------------\n",
       "                                  t     t\n",
       "                          sigma %e  + %e  + sigma - 1"
      ],
      "text/x-maxima": [
       "((sigma+1)*(%e^t-1))/(sigma*%e^t+%e^t+sigma-1)"
      ]
     },
     "execution_count": 15,
     "metadata": {},
     "output_type": "execute_result"
    },
    {
     "data": {
      "text/latex": [
       "\\[\\tag{${\\it \\%o}_{23}$}-\\frac{\\left(\\sigma-1\\right)\\,\\left(e^{t}-1\\right)}{\\sigma\\,e^{t}+e^{t}+\\sigma-1}\\]"
      ],
      "text/plain": [
       "                                             t\n",
       "                              (sigma - 1) (%e  - 1)\n",
       "(%o23)                   - ---------------------------\n",
       "                                   t     t\n",
       "                           sigma %e  + %e  + sigma - 1"
      ],
      "text/x-maxima": [
       "-((sigma-1)*(%e^t-1))/(sigma*%e^t+%e^t+sigma-1)"
      ]
     },
     "execution_count": 15,
     "metadata": {},
     "output_type": "execute_result"
    }
   ],
   "source": [
    "appi : factor(coeff(expand(num(z0sol)), z, 1) /\n",
    "    coeff(expand(num(z0sol)), z, 0));\n",
    "bppi : factor(-coeff(expand(denom(z0sol)), z, 1) /\n",
    "    coeff(expand(denom(z0sol)), z, 0));\n",
    "cppi : factor(coeff(expand(num(z0sol)), z, 0) /\n",
    "    coeff(expand(denom(z0sol)), z, 0));"
   ]
  },
  {
   "cell_type": "code",
   "execution_count": 16,
   "id": "e4e4a747-e6d8-4cbd-b2ea-bfa88fa5c516",
   "metadata": {
    "execution": {
     "iopub.execute_input": "2021-08-24T21:27:58Z",
     "iopub.status.busy": "2021-08-24T21:27:58Z",
     "iopub.status.idle": "2021-08-24T21:27:58Z",
     "shell.execute_reply": "2021-08-24T21:27:58Z"
    }
   },
   "outputs": [
    {
     "data": {
      "text/latex": [
       "\\[\\tag{${\\it \\%o}_{24}$}0\\]"
      ],
      "text/plain": [
       "(%o24)                                 0"
      ],
      "text/x-maxima": [
       "0"
      ]
     },
     "execution_count": 16,
     "metadata": {},
     "output_type": "execute_result"
    }
   ],
   "source": [
    "factor(cppi * (1 + appi * z) / (1 - bppi * z) - z0sol);"
   ]
  },
  {
   "cell_type": "markdown",
   "id": "47291067-eaee-487c-960b-2b08ba171560",
   "metadata": {},
   "source": [
    "Compute example numerical values of the Taylor series expansion of $z_0$"
   ]
  },
  {
   "cell_type": "code",
   "execution_count": 18,
   "id": "3a7b4f56-78b5-496e-8acd-cfe6eaaa1e9f",
   "metadata": {
    "execution": {
     "iopub.execute_input": "2021-08-24T21:28:11Z",
     "iopub.status.busy": "2021-08-24T21:28:11Z",
     "iopub.status.idle": "2021-08-24T21:28:11Z",
     "shell.execute_reply": "2021-08-24T21:28:11Z"
    },
    "tags": []
   },
   "outputs": [
    {
     "data": {
      "text/latex": [
       "\\[\\tag{${\\it \\%o}_{26}$}0.02957009088969551\\,z^6+0.0353064589289661\\,z^5+0.04215563782853162\\,z^4+0.05033350425500663\\,z^3+0.06009781327218061\\,z^2+0.07175632242491108\\,z+0.5583509228757703\\]"
      ],
      "text/plain": [
       "                            6                       5                        4\n",
       "(%o26) 0.02957009088969551 z  + 0.0353064589289661 z  + 0.04215563782853162 z\n",
       "                        3                        2\n",
       " + 0.05033350425500663 z  + 0.06009781327218061 z  + 0.07175632242491108 z\n",
       " + 0.5583509228757703"
      ],
      "text/x-maxima": [
       "0.02957009088969551*z^6+0.0353064589289661*z^5+0.04215563782853162*z^4\n",
       "                       +0.05033350425500663*z^3+0.06009781327218061*z^2\n",
       "                       +0.07175632242491108*z+0.5583509228757703"
      ]
     },
     "execution_count": 18,
     "metadata": {},
     "output_type": "execute_result"
    }
   ],
   "source": [
    "psubst([sigma = 0.2, t = 1.0], taylor(newz0sol, z, 0, 6));"
   ]
  }
 ],
 "metadata": {
  "kernelspec": {
   "display_name": "Maxima",
   "language": "maxima",
   "name": "maxima"
  },
  "language_info": {
   "codemirror_mode": "maxima",
   "file_extension": ".mac",
   "mimetype": "text/x-maxima",
   "name": "maxima",
   "pygments_lexer": "maxima",
   "version": "5.45.1"
  }
 },
 "nbformat": 4,
 "nbformat_minor": 5
}
